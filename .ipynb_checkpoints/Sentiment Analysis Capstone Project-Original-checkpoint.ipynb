{
 "cells": [
  {
   "cell_type": "code",
   "execution_count": 1,
   "id": "9235e562",
   "metadata": {},
   "outputs": [],
   "source": [
    "import pandas as pd\n",
    "import numpy as np\n",
    "import matplotlib.pyplot as plt\n",
    "import seaborn as sns\n",
    "import os\n",
    "import spacy"
   ]
  },
  {
   "cell_type": "code",
   "execution_count": 2,
   "id": "2a4156ea",
   "metadata": {},
   "outputs": [],
   "source": [
    "train_file = 'Artificial-Intelligence-Capstone-Project-Datasets-master/Ecommerce/train_data.csv'\n",
    "test_file = 'Artificial-Intelligence-Capstone-Project-Datasets-master/Ecommerce/test_data.csv'"
   ]
  },
  {
   "cell_type": "code",
   "execution_count": 3,
   "id": "ae3c518a",
   "metadata": {},
   "outputs": [],
   "source": [
    "train_df = pd.read_csv(train_file)\n",
    "test_df = pd.read_csv(test_file)"
   ]
  },
  {
   "cell_type": "markdown",
   "id": "646ad94e",
   "metadata": {},
   "source": [
    "## Basic Exploratory Data Analysis"
   ]
  },
  {
   "cell_type": "code",
   "execution_count": 4,
   "id": "54e48cbc",
   "metadata": {},
   "outputs": [
    {
     "data": {
      "text/html": [
       "<div>\n",
       "<style scoped>\n",
       "    .dataframe tbody tr th:only-of-type {\n",
       "        vertical-align: middle;\n",
       "    }\n",
       "\n",
       "    .dataframe tbody tr th {\n",
       "        vertical-align: top;\n",
       "    }\n",
       "\n",
       "    .dataframe thead th {\n",
       "        text-align: right;\n",
       "    }\n",
       "</style>\n",
       "<table border=\"1\" class=\"dataframe\">\n",
       "  <thead>\n",
       "    <tr style=\"text-align: right;\">\n",
       "      <th></th>\n",
       "      <th>name</th>\n",
       "      <th>brand</th>\n",
       "      <th>categories</th>\n",
       "      <th>primaryCategories</th>\n",
       "      <th>reviews.date</th>\n",
       "      <th>reviews.text</th>\n",
       "      <th>reviews.title</th>\n",
       "      <th>sentiment</th>\n",
       "    </tr>\n",
       "  </thead>\n",
       "  <tbody>\n",
       "    <tr>\n",
       "      <th>0</th>\n",
       "      <td>All-New Fire HD 8 Tablet, 8\" HD Display, Wi-Fi...</td>\n",
       "      <td>Amazon</td>\n",
       "      <td>Electronics,iPad &amp; Tablets,All Tablets,Fire Ta...</td>\n",
       "      <td>Electronics</td>\n",
       "      <td>2016-12-26T00:00:00.000Z</td>\n",
       "      <td>Purchased on Black FridayPros - Great Price (e...</td>\n",
       "      <td>Powerful tablet</td>\n",
       "      <td>Positive</td>\n",
       "    </tr>\n",
       "    <tr>\n",
       "      <th>1</th>\n",
       "      <td>Amazon - Echo Plus w/ Built-In Hub - Silver</td>\n",
       "      <td>Amazon</td>\n",
       "      <td>Amazon Echo,Smart Home,Networking,Home &amp; Tools...</td>\n",
       "      <td>Electronics,Hardware</td>\n",
       "      <td>2018-01-17T00:00:00.000Z</td>\n",
       "      <td>I purchased two Amazon in Echo Plus and two do...</td>\n",
       "      <td>Amazon Echo Plus AWESOME</td>\n",
       "      <td>Positive</td>\n",
       "    </tr>\n",
       "    <tr>\n",
       "      <th>2</th>\n",
       "      <td>Amazon Echo Show Alexa-enabled Bluetooth Speak...</td>\n",
       "      <td>Amazon</td>\n",
       "      <td>Amazon Echo,Virtual Assistant Speakers,Electro...</td>\n",
       "      <td>Electronics,Hardware</td>\n",
       "      <td>2017-12-20T00:00:00.000Z</td>\n",
       "      <td>Just an average Alexa option. Does show a few ...</td>\n",
       "      <td>Average</td>\n",
       "      <td>Neutral</td>\n",
       "    </tr>\n",
       "    <tr>\n",
       "      <th>3</th>\n",
       "      <td>Fire HD 10 Tablet, 10.1 HD Display, Wi-Fi, 16 ...</td>\n",
       "      <td>Amazon</td>\n",
       "      <td>eBook Readers,Fire Tablets,Electronics Feature...</td>\n",
       "      <td>Office Supplies,Electronics</td>\n",
       "      <td>2017-08-04T00:00:00.000Z</td>\n",
       "      <td>very good product. Exactly what I wanted, and ...</td>\n",
       "      <td>Greattttttt</td>\n",
       "      <td>Positive</td>\n",
       "    </tr>\n",
       "    <tr>\n",
       "      <th>4</th>\n",
       "      <td>Brand New Amazon Kindle Fire 16gb 7\" Ips Displ...</td>\n",
       "      <td>Amazon</td>\n",
       "      <td>Computers/Tablets &amp; Networking,Tablets &amp; eBook...</td>\n",
       "      <td>Electronics</td>\n",
       "      <td>2017-01-23T00:00:00.000Z</td>\n",
       "      <td>This is the 3rd one I've purchased. I've bough...</td>\n",
       "      <td>Very durable!</td>\n",
       "      <td>Positive</td>\n",
       "    </tr>\n",
       "  </tbody>\n",
       "</table>\n",
       "</div>"
      ],
      "text/plain": [
       "                                                name   brand  \\\n",
       "0  All-New Fire HD 8 Tablet, 8\" HD Display, Wi-Fi...  Amazon   \n",
       "1        Amazon - Echo Plus w/ Built-In Hub - Silver  Amazon   \n",
       "2  Amazon Echo Show Alexa-enabled Bluetooth Speak...  Amazon   \n",
       "3  Fire HD 10 Tablet, 10.1 HD Display, Wi-Fi, 16 ...  Amazon   \n",
       "4  Brand New Amazon Kindle Fire 16gb 7\" Ips Displ...  Amazon   \n",
       "\n",
       "                                          categories  \\\n",
       "0  Electronics,iPad & Tablets,All Tablets,Fire Ta...   \n",
       "1  Amazon Echo,Smart Home,Networking,Home & Tools...   \n",
       "2  Amazon Echo,Virtual Assistant Speakers,Electro...   \n",
       "3  eBook Readers,Fire Tablets,Electronics Feature...   \n",
       "4  Computers/Tablets & Networking,Tablets & eBook...   \n",
       "\n",
       "             primaryCategories              reviews.date  \\\n",
       "0                  Electronics  2016-12-26T00:00:00.000Z   \n",
       "1         Electronics,Hardware  2018-01-17T00:00:00.000Z   \n",
       "2         Electronics,Hardware  2017-12-20T00:00:00.000Z   \n",
       "3  Office Supplies,Electronics  2017-08-04T00:00:00.000Z   \n",
       "4                  Electronics  2017-01-23T00:00:00.000Z   \n",
       "\n",
       "                                        reviews.text  \\\n",
       "0  Purchased on Black FridayPros - Great Price (e...   \n",
       "1  I purchased two Amazon in Echo Plus and two do...   \n",
       "2  Just an average Alexa option. Does show a few ...   \n",
       "3  very good product. Exactly what I wanted, and ...   \n",
       "4  This is the 3rd one I've purchased. I've bough...   \n",
       "\n",
       "              reviews.title sentiment  \n",
       "0           Powerful tablet  Positive  \n",
       "1  Amazon Echo Plus AWESOME  Positive  \n",
       "2                   Average   Neutral  \n",
       "3               Greattttttt  Positive  \n",
       "4             Very durable!  Positive  "
      ]
     },
     "execution_count": 4,
     "metadata": {},
     "output_type": "execute_result"
    }
   ],
   "source": [
    "train_df.head()"
   ]
  },
  {
   "cell_type": "code",
   "execution_count": 5,
   "id": "0eb96dca",
   "metadata": {},
   "outputs": [
    {
     "data": {
      "text/html": [
       "<div>\n",
       "<style scoped>\n",
       "    .dataframe tbody tr th:only-of-type {\n",
       "        vertical-align: middle;\n",
       "    }\n",
       "\n",
       "    .dataframe tbody tr th {\n",
       "        vertical-align: top;\n",
       "    }\n",
       "\n",
       "    .dataframe thead th {\n",
       "        text-align: right;\n",
       "    }\n",
       "</style>\n",
       "<table border=\"1\" class=\"dataframe\">\n",
       "  <thead>\n",
       "    <tr style=\"text-align: right;\">\n",
       "      <th></th>\n",
       "      <th>name</th>\n",
       "      <th>brand</th>\n",
       "      <th>categories</th>\n",
       "      <th>primaryCategories</th>\n",
       "      <th>reviews.date</th>\n",
       "      <th>reviews.text</th>\n",
       "      <th>reviews.title</th>\n",
       "    </tr>\n",
       "  </thead>\n",
       "  <tbody>\n",
       "    <tr>\n",
       "      <th>0</th>\n",
       "      <td>Fire Tablet, 7 Display, Wi-Fi, 16 GB - Include...</td>\n",
       "      <td>Amazon</td>\n",
       "      <td>Fire Tablets,Computers/Tablets &amp; Networking,Ta...</td>\n",
       "      <td>Electronics</td>\n",
       "      <td>2016-05-23T00:00:00.000Z</td>\n",
       "      <td>Amazon kindle fire has a lot of free app and c...</td>\n",
       "      <td>very handy device</td>\n",
       "    </tr>\n",
       "    <tr>\n",
       "      <th>1</th>\n",
       "      <td>Amazon Echo Show Alexa-enabled Bluetooth Speak...</td>\n",
       "      <td>Amazon</td>\n",
       "      <td>Computers,Amazon Echo,Virtual Assistant Speake...</td>\n",
       "      <td>Electronics,Hardware</td>\n",
       "      <td>2018-01-02T00:00:00.000Z</td>\n",
       "      <td>The Echo Show is a great addition to the Amazo...</td>\n",
       "      <td>Another winner from Amazon</td>\n",
       "    </tr>\n",
       "    <tr>\n",
       "      <th>2</th>\n",
       "      <td>All-New Fire HD 8 Tablet, 8\" HD Display, Wi-Fi...</td>\n",
       "      <td>Amazon</td>\n",
       "      <td>Electronics,iPad &amp; Tablets,All Tablets,Fire Ta...</td>\n",
       "      <td>Electronics</td>\n",
       "      <td>2017-01-02T00:00:00.000Z</td>\n",
       "      <td>Great value from Best Buy. Bought at Christmas...</td>\n",
       "      <td>simple to use and reliable so far</td>\n",
       "    </tr>\n",
       "    <tr>\n",
       "      <th>3</th>\n",
       "      <td>Brand New Amazon Kindle Fire 16gb 7\" Ips Displ...</td>\n",
       "      <td>Amazon</td>\n",
       "      <td>Computers/Tablets &amp; Networking,Tablets &amp; eBook...</td>\n",
       "      <td>Electronics</td>\n",
       "      <td>2017-03-25T00:00:00.000Z</td>\n",
       "      <td>I use mine for email, Facebook ,games and to g...</td>\n",
       "      <td>Love it!!!</td>\n",
       "    </tr>\n",
       "    <tr>\n",
       "      <th>4</th>\n",
       "      <td>Amazon Echo Show Alexa-enabled Bluetooth Speak...</td>\n",
       "      <td>Amazon</td>\n",
       "      <td>Computers,Amazon Echo,Virtual Assistant Speake...</td>\n",
       "      <td>Electronics,Hardware</td>\n",
       "      <td>2017-11-15T00:00:00.000Z</td>\n",
       "      <td>This is a fantastic item &amp; the person I bought...</td>\n",
       "      <td>Fantastic!</td>\n",
       "    </tr>\n",
       "  </tbody>\n",
       "</table>\n",
       "</div>"
      ],
      "text/plain": [
       "                                                name   brand  \\\n",
       "0  Fire Tablet, 7 Display, Wi-Fi, 16 GB - Include...  Amazon   \n",
       "1  Amazon Echo Show Alexa-enabled Bluetooth Speak...  Amazon   \n",
       "2  All-New Fire HD 8 Tablet, 8\" HD Display, Wi-Fi...  Amazon   \n",
       "3  Brand New Amazon Kindle Fire 16gb 7\" Ips Displ...  Amazon   \n",
       "4  Amazon Echo Show Alexa-enabled Bluetooth Speak...  Amazon   \n",
       "\n",
       "                                          categories     primaryCategories  \\\n",
       "0  Fire Tablets,Computers/Tablets & Networking,Ta...           Electronics   \n",
       "1  Computers,Amazon Echo,Virtual Assistant Speake...  Electronics,Hardware   \n",
       "2  Electronics,iPad & Tablets,All Tablets,Fire Ta...           Electronics   \n",
       "3  Computers/Tablets & Networking,Tablets & eBook...           Electronics   \n",
       "4  Computers,Amazon Echo,Virtual Assistant Speake...  Electronics,Hardware   \n",
       "\n",
       "               reviews.date  \\\n",
       "0  2016-05-23T00:00:00.000Z   \n",
       "1  2018-01-02T00:00:00.000Z   \n",
       "2  2017-01-02T00:00:00.000Z   \n",
       "3  2017-03-25T00:00:00.000Z   \n",
       "4  2017-11-15T00:00:00.000Z   \n",
       "\n",
       "                                        reviews.text  \\\n",
       "0  Amazon kindle fire has a lot of free app and c...   \n",
       "1  The Echo Show is a great addition to the Amazo...   \n",
       "2  Great value from Best Buy. Bought at Christmas...   \n",
       "3  I use mine for email, Facebook ,games and to g...   \n",
       "4  This is a fantastic item & the person I bought...   \n",
       "\n",
       "                       reviews.title  \n",
       "0                  very handy device  \n",
       "1         Another winner from Amazon  \n",
       "2  simple to use and reliable so far  \n",
       "3                         Love it!!!  \n",
       "4                         Fantastic!  "
      ]
     },
     "execution_count": 5,
     "metadata": {},
     "output_type": "execute_result"
    }
   ],
   "source": [
    "test_df.head()"
   ]
  },
  {
   "cell_type": "code",
   "execution_count": 7,
   "id": "c3afba82",
   "metadata": {},
   "outputs": [
    {
     "name": "stdout",
     "output_type": "stream",
     "text": [
      "(4000, 8) (1000, 7)\n"
     ]
    }
   ],
   "source": [
    "print(train_df.shape, test_df.shape)\n",
    "#The train data has an an extra column when compared to the test data.\n",
    "#This column must be the targetvariable column"
   ]
  },
  {
   "cell_type": "code",
   "execution_count": 14,
   "id": "ff7e8946",
   "metadata": {},
   "outputs": [
    {
     "name": "stdout",
     "output_type": "stream",
     "text": [
      "The target labels are in the sentiment column.\n"
     ]
    }
   ],
   "source": [
    "print(\"The target labels are in the {} column.\".format([col for col in train_df.columns if col not in test_df.columns][0]))"
   ]
  },
  {
   "cell_type": "code",
   "execution_count": 15,
   "id": "a7bc17f1",
   "metadata": {},
   "outputs": [
    {
     "name": "stdout",
     "output_type": "stream",
     "text": [
      "<class 'pandas.core.frame.DataFrame'>\n",
      "RangeIndex: 4000 entries, 0 to 3999\n",
      "Data columns (total 8 columns):\n",
      " #   Column             Non-Null Count  Dtype \n",
      "---  ------             --------------  ----- \n",
      " 0   name               4000 non-null   object\n",
      " 1   brand              4000 non-null   object\n",
      " 2   categories         4000 non-null   object\n",
      " 3   primaryCategories  4000 non-null   object\n",
      " 4   reviews.date       4000 non-null   object\n",
      " 5   reviews.text       4000 non-null   object\n",
      " 6   reviews.title      3990 non-null   object\n",
      " 7   sentiment          4000 non-null   object\n",
      "dtypes: object(8)\n",
      "memory usage: 250.1+ KB\n"
     ]
    }
   ],
   "source": [
    "train_df.info()"
   ]
  },
  {
   "cell_type": "code",
   "execution_count": 16,
   "id": "de174234",
   "metadata": {},
   "outputs": [
    {
     "name": "stdout",
     "output_type": "stream",
     "text": [
      "<class 'pandas.core.frame.DataFrame'>\n",
      "RangeIndex: 1000 entries, 0 to 999\n",
      "Data columns (total 7 columns):\n",
      " #   Column             Non-Null Count  Dtype \n",
      "---  ------             --------------  ----- \n",
      " 0   name               1000 non-null   object\n",
      " 1   brand              1000 non-null   object\n",
      " 2   categories         1000 non-null   object\n",
      " 3   primaryCategories  1000 non-null   object\n",
      " 4   reviews.date       1000 non-null   object\n",
      " 5   reviews.text       1000 non-null   object\n",
      " 6   reviews.title      997 non-null    object\n",
      "dtypes: object(7)\n",
      "memory usage: 54.8+ KB\n"
     ]
    }
   ],
   "source": [
    "test_df.info()"
   ]
  },
  {
   "cell_type": "markdown",
   "id": "b4561f95",
   "metadata": {},
   "source": [
    "With the exception of the reviews.title column, there are no missing data in the dataset. More importantly, there are no missing data in the 'reviews.text' column (from which we will extract our training features), or the sentiment column, which contains the target values."
   ]
  },
  {
   "cell_type": "markdown",
   "id": "683dcf8b",
   "metadata": {},
   "source": [
    "### Analysis of the target variable"
   ]
  },
  {
   "cell_type": "code",
   "execution_count": 17,
   "id": "a41d1dd8",
   "metadata": {},
   "outputs": [
    {
     "data": {
      "text/plain": [
       "Positive    0.93725\n",
       "Neutral     0.03950\n",
       "Negative    0.02325\n",
       "Name: sentiment, dtype: float64"
      ]
     },
     "execution_count": 17,
     "metadata": {},
     "output_type": "execute_result"
    }
   ],
   "source": [
    "train_df.sentiment.value_counts(normalize=True)\n",
    "#93.725% of the training examples belong to the 'Positive' class\n",
    "#3.95% of the training examples belong to the 'Neutral' class\n",
    "#2.325% of the training examples belong to the 'Negative' class."
   ]
  },
  {
   "cell_type": "code",
   "execution_count": 18,
   "id": "d7904546",
   "metadata": {},
   "outputs": [
    {
     "data": {
      "image/png": "[encoded data removed]",
      "text/plain": [
       "<Figure size 432x288 with 1 Axes>"
      ]
     },
     "metadata": {
      "needs_background": "light"
     },
     "output_type": "display_data"
    }
   ],
   "source": [
    "sns.countplot(data=train_df, x='sentiment')\n",
    "plt.title('Graph showing the relative distribution of the target values')\n",
    "plt.show()\n",
    "\n"
   ]
  },
  {
   "cell_type": "markdown",
   "id": "198e3920",
   "metadata": {},
   "source": [
    "`It is quite easy to see that this problem is one with highly imbalanced classes.`"
   ]
  },
  {
   "cell_type": "markdown",
   "id": "1a7f5903",
   "metadata": {},
   "source": [
    "**Examples of positive, negative, and neutral sentiments**"
   ]
  },
  {
   "cell_type": "code",
   "execution_count": 20,
   "id": "8f60778e",
   "metadata": {},
   "outputs": [],
   "source": [
    "positive_sents = train_df.sentiment == 'Positive'\n",
    "negative_sents = train_df.sentiment == 'Negative'\n",
    "neutral_sents = train_df.sentiment == 'Neutral'\n"
   ]
  },
  {
   "cell_type": "code",
   "execution_count": 21,
   "id": "50eba9d7",
   "metadata": {},
   "outputs": [
    {
     "data": {
      "text/plain": [
       "0     True\n",
       "1     True\n",
       "2    False\n",
       "3     True\n",
       "4     True\n",
       "Name: sentiment, dtype: bool"
      ]
     },
     "execution_count": 21,
     "metadata": {},
     "output_type": "execute_result"
    }
   ],
   "source": [
    "positive_sents.head()\n",
    "#The series below has True values in positions where the sentiment in the dataset is positive"
   ]
  },
  {
   "cell_type": "code",
   "execution_count": 22,
   "id": "a01f3b8f",
   "metadata": {},
   "outputs": [
    {
     "name": "stdout",
     "output_type": "stream",
     "text": [
      "Purchased on Black FridayPros - Great Price (even off sale)Very powerful and fast with quad core processors Amazing soundWell builtCons -Amazon ads, Amazon need this to subsidize the tablet and will remove the adds if you pay them $15.Inability to access other apps except the ones from Amazon. There is a way which I was able to accomplish to add the Google Play storeNet this is a great tablet for the money \n",
      "\n",
      "I purchased two Amazon in Echo Plus and two dots plus four fire sticks and the hub Philips hue for lamp for the family at Christmas 2017. I‚Äôm so happy with these purchases and learning so much with Alexa. You can start your daily routine with Alexa and program it to whatever you would like to include news weather music horoscope ALSO you can start your day off with a compliment and I think is very important. Alexa gave me the BEST CHILI RECIPE I MEAN THE BEST it‚Äôs called Chili I. I want my husband to use Alexa to stay organized for business dates and reminders. This is the way to go \n",
      "\n"
     ]
    }
   ],
   "source": [
    "first_2_pos_reviews = train_df['reviews.text'][positive_sents].head(2).values\n",
    "for review in first_2_pos_reviews:\n",
    "    print(review, '\\n')\n",
    "#Printed below are the first two examples of positive reviews in the dataset."
   ]
  },
  {
   "cell_type": "code",
   "execution_count": 25,
   "id": "760f06fd",
   "metadata": {},
   "outputs": [
    {
     "name": "stdout",
     "output_type": "stream",
     "text": [
      "was cheap, can not run chrome stuff, returned to store. \n",
      "\n",
      "Worthless, except as a regular echo and a poor excuse for video chat. I love my echo devices, bathroom, pool, kitchen, other places where I may need hands free, voice activated music and info. My wife bought me the 'newest, hottest' thing. I was skeptical but then thought I would use it to help on a project. Me \"Alexa find videos on f450 drone\" Alexa \"YouTube is not available\". Amazon won't directly sell chrome products, youtube won't play on echo show. Further testing shows the video call is more limited than iPhone or Android apps for video. So the most useful thing now is the same voice functions that my echos and dots perform. Unless I want to make all of my video calls and check the weather from a device I can move no more than 3 feet from an outlet. \n",
      "\n"
     ]
    }
   ],
   "source": [
    "first_2_neg_reviews = train_df['reviews.text'][negative_sents].head(2).values\n",
    "for review in first_2_neg_reviews:\n",
    "    print(review, '\\n')\n",
    "    \n",
    "#Printed below are the first two examples of negative reviews in the dataset."
   ]
  },
  {
   "cell_type": "code",
   "execution_count": 27,
   "id": "d5d81022",
   "metadata": {},
   "outputs": [
    {
     "name": "stdout",
     "output_type": "stream",
     "text": [
      "Just an average Alexa option. Does show a few things on screen but still limited. \n",
      "\n",
      "My 7-year old daughter saved up to by this. Her brother bought the 8GB about a year earlier, so new she needed more space. The OS is a bit clunky, and less intuitive then on higher priced tablets, but tough to beat the price. Speed isn't great for web or certain gaming apps, but fine for books. Parental controls are helpful, but take time to figure out and require more steps than seem necessary to change. Overall, OK first tablet for kids, considering the price. For adults, fine for e-books and VERY basic apps. Otherwise, best to pay up for better quality and OS efficiency. \n",
      "\n"
     ]
    }
   ],
   "source": [
    "first_2_neutral_reviews = train_df['reviews.text'][neutral_sents].head(2).values\n",
    "for review in first_2_neutral_reviews:\n",
    "    print(review, '\\n')\n",
    "    \n",
    "#Printed below are the first two examples of negative reviews in the dataset."
   ]
  },
  {
   "cell_type": "markdown",
   "id": "05179b19",
   "metadata": {},
   "source": [
    "### Text Cleaning and  Feature Extraction using TfidfVectorizer"
   ]
  },
  {
   "cell_type": "code",
   "execution_count": 28,
   "id": "a9da86a4",
   "metadata": {},
   "outputs": [],
   "source": [
    "import nltk\n",
    "from sklearn.feature_extraction.text import TfidfVectorizer\n",
    "from nltk.corpus import stopwords\n",
    "#from nltk.stem import WordNetLemmatizer\n",
    "from sklearn.model_selection import train_test_split\n",
    "from sklearn.preprocessing import LabelEncoder, LabelBinarizer"
   ]
  },
  {
   "cell_type": "markdown",
   "id": "d79c5d16",
   "metadata": {},
   "source": [
    "### Label encoding of the target labels"
   ]
  },
  {
   "cell_type": "code",
   "execution_count": 29,
   "id": "656e2d77",
   "metadata": {},
   "outputs": [
    {
     "data": {
      "text/plain": [
       "0       Positive\n",
       "1       Positive\n",
       "2        Neutral\n",
       "3       Positive\n",
       "4       Positive\n",
       "          ...   \n",
       "3995    Positive\n",
       "3996    Positive\n",
       "3997    Positive\n",
       "3998    Positive\n",
       "3999    Positive\n",
       "Name: sentiment, Length: 4000, dtype: object"
      ]
     },
     "execution_count": 29,
     "metadata": {},
     "output_type": "execute_result"
    }
   ],
   "source": [
    "sentiments = train_df.sentiment\n",
    "sentiments"
   ]
  },
  {
   "cell_type": "code",
   "execution_count": 30,
   "id": "bc873328",
   "metadata": {},
   "outputs": [],
   "source": [
    "le = LabelEncoder()\n",
    "encoded_labels = le.fit_transform(sentiments)"
   ]
  },
  {
   "cell_type": "code",
   "execution_count": 31,
   "id": "0ceb792e",
   "metadata": {},
   "outputs": [
    {
     "data": {
      "text/plain": [
       "array(['Negative', 'Neutral', 'Positive'], dtype=object)"
      ]
     },
     "execution_count": 31,
     "metadata": {},
     "output_type": "execute_result"
    }
   ],
   "source": [
    "le.classes_\n",
    "#These are the values transformed by the LabelEncoder object"
   ]
  },
  {
   "cell_type": "code",
   "execution_count": 32,
   "id": "06468c8b",
   "metadata": {},
   "outputs": [
    {
     "data": {
      "text/plain": [
       "array([0, 1, 2])"
      ]
     },
     "execution_count": 32,
     "metadata": {},
     "output_type": "execute_result"
    }
   ],
   "source": [
    "new_labels = np.unique(encoded_labels)\n",
    "new_labels\n",
    "#The new labels are either 0, 1 or 2 instead of negative, neutral and positive"
   ]
  },
  {
   "cell_type": "code",
   "execution_count": 33,
   "id": "3b030617",
   "metadata": {},
   "outputs": [
    {
     "data": {
      "text/plain": [
       "array(['Negative', 'Neutral', 'Positive'], dtype=object)"
      ]
     },
     "execution_count": 33,
     "metadata": {},
     "output_type": "execute_result"
    }
   ],
   "source": [
    "le.inverse_transform(new_labels)\n",
    "#The .inverse_transform() function confirms the mappings\n",
    "    #0: negative, 1: neutral, 2: positive"
   ]
  },
  {
   "cell_type": "markdown",
   "id": "bfbde50b",
   "metadata": {},
   "source": [
    "### Text Cleaning and Feature Extraction"
   ]
  },
  {
   "cell_type": "code",
   "execution_count": 35,
   "id": "4fe2e098",
   "metadata": {},
   "outputs": [],
   "source": [
    "s_words = stopwords.words('english')\n",
    "#lemmatizer = WordNetLemmatizer()"
   ]
  },
  {
   "cell_type": "code",
   "execution_count": 36,
   "id": "ad2e64ec",
   "metadata": {},
   "outputs": [],
   "source": [
    "reviews = train_df['reviews.text']"
   ]
  },
  {
   "cell_type": "code",
   "execution_count": 37,
   "id": "35a0e677",
   "metadata": {},
   "outputs": [
    {
     "data": {
      "text/plain": [
       "0       Purchased on Black FridayPros - Great Price (e...\n",
       "1       I purchased two Amazon in Echo Plus and two do...\n",
       "2       Just an average Alexa option. Does show a few ...\n",
       "3       very good product. Exactly what I wanted, and ...\n",
       "4       This is the 3rd one I've purchased. I've bough...\n",
       "                              ...                        \n",
       "3995    It‚Äôs fun for the family to play with, but it...\n",
       "3996    I love the Kindle, it is a great product. It r...\n",
       "3997    I was looking for a blutooth speaker to use wi...\n",
       "3998    This is the second Amazon Fire 7 tablet I have...\n",
       "3999    very satisfied with tablet, very fast and effi...\n",
       "Name: reviews.text, Length: 4000, dtype: object"
      ]
     },
     "execution_count": 37,
     "metadata": {},
     "output_type": "execute_result"
    }
   ],
   "source": [
    "reviews"
   ]
  },
  {
   "cell_type": "code",
   "execution_count": 25,
   "id": "c3f2714a",
   "metadata": {},
   "outputs": [],
   "source": [
    "def text_cleaner(doc):\n",
    "    doc = doc.lower()\n",
    "    tokens = nltk.word_tokenize(doc)\n",
    "    tokens = [lemmatizer.lemmatize(word, pos='v') for word in tokens if word not in s_words and word.isalpha()]\n",
    "    tokens = [lemmatizer.lemmatize(word, pos='a') for word in tokens]\n",
    "    doc = ' '.join(tokens)\n",
    "    \n",
    "    return doc"
   ]
  },
  {
   "cell_type": "code",
   "execution_count": null,
   "id": "ce454a59",
   "metadata": {},
   "outputs": [],
   "source": [
    "def "
   ]
  },
  {
   "cell_type": "code",
   "execution_count": 26,
   "id": "a5036d8b",
   "metadata": {},
   "outputs": [
    {
     "data": {
      "text/plain": [
       "'Purchased on Black FridayPros - Great Price (even off sale)Very powerful and fast with quad core processors Amazing soundWell builtCons -Amazon ads, Amazon need this to subsidize the tablet and will remove the adds if you pay them $15.Inability to access other apps except the ones from Amazon. There is a way which I was able to accomplish to add the Google Play storeNet this is a great tablet for the money'"
      ]
     },
     "execution_count": 26,
     "metadata": {},
     "output_type": "execute_result"
    }
   ],
   "source": [
    "doc1 = reviews.iloc[0]\n",
    "doc1"
   ]
  },
  {
   "cell_type": "code",
   "execution_count": 27,
   "id": "2fd1345a",
   "metadata": {},
   "outputs": [
    {
     "data": {
      "text/plain": [
       "'purchase black fridaypros great price even sale powerful fast quad core processors amaze soundwell builtcons ads amazon need subsidize tablet remove add pay access apps except ones amazon way able accomplish add google play storenet great tablet money'"
      ]
     },
     "execution_count": 27,
     "metadata": {},
     "output_type": "execute_result"
    }
   ],
   "source": [
    "text_cleaner(doc1)\n",
    "#This is a test of our text cleaner function"
   ]
  },
  {
   "cell_type": "code",
   "execution_count": 28,
   "id": "75537714",
   "metadata": {},
   "outputs": [],
   "source": [
    "cleaned_reviews = reviews.apply(text_cleaner)"
   ]
  },
  {
   "cell_type": "code",
   "execution_count": 29,
   "id": "df79fd3e",
   "metadata": {},
   "outputs": [
    {
     "data": {
      "text/plain": [
       "0    purchase black fridaypros great price even sal...\n",
       "1    purchase two amazon echo plus two dot plus fou...\n",
       "2    average alexa option show things screen still ...\n",
       "3                 good product exactly want good price\n",
       "4    one purchase buy one nieces case compare one h...\n",
       "Name: reviews.text, dtype: object"
      ]
     },
     "execution_count": 29,
     "metadata": {},
     "output_type": "execute_result"
    }
   ],
   "source": [
    "cleaned_reviews.head()"
   ]
  },
  {
   "cell_type": "code",
   "execution_count": 30,
   "id": "6705dd9d",
   "metadata": {},
   "outputs": [],
   "source": [
    "X_train, X_test, y_train, y_test = train_test_split(cleaned_reviews, encoded_labels, test_size=0.15,\n",
    "                                                   stratify=encoded_labels, random_state=100)"
   ]
  },
  {
   "cell_type": "code",
   "execution_count": 31,
   "id": "7beb143f",
   "metadata": {},
   "outputs": [
    {
     "data": {
      "text/plain": [
       "3625    make home smart home know know make smart choi...\n",
       "1648    buy family everyone love definitely recommend ...\n",
       "2278             control smart home sthings also echo dot\n",
       "997     great way begin make home smart home easy set ...\n",
       "3830    alex device fantastic would recommend anyone e...\n",
       "Name: reviews.text, dtype: object"
      ]
     },
     "execution_count": 31,
     "metadata": {},
     "output_type": "execute_result"
    }
   ],
   "source": [
    "X_train.head()"
   ]
  },
  {
   "cell_type": "code",
   "execution_count": 32,
   "id": "93134237",
   "metadata": {},
   "outputs": [
    {
     "name": "stdout",
     "output_type": "stream",
     "text": [
      "(3400,) (3400,) (600,) (600,)\n"
     ]
    }
   ],
   "source": [
    "print(X_train.shape, y_train.shape, X_test.shape, y_test.shape)"
   ]
  },
  {
   "cell_type": "code",
   "execution_count": 33,
   "id": "d10d7af8",
   "metadata": {},
   "outputs": [],
   "source": [
    "vectorizer = TfidfVectorizer()"
   ]
  },
  {
   "cell_type": "code",
   "execution_count": 34,
   "id": "337754f9",
   "metadata": {},
   "outputs": [],
   "source": [
    "X_train_matrix = vectorizer.fit_transform(X_train)"
   ]
  },
  {
   "cell_type": "code",
   "execution_count": 35,
   "id": "fca27722",
   "metadata": {},
   "outputs": [
    {
     "data": {
      "text/plain": [
       "(3400, 3281)"
      ]
     },
     "execution_count": 35,
     "metadata": {},
     "output_type": "execute_result"
    }
   ],
   "source": [
    "X_train_matrix.shape"
   ]
  },
  {
   "cell_type": "code",
   "execution_count": 36,
   "id": "04a87ba2",
   "metadata": {},
   "outputs": [],
   "source": [
    "X_test_matrix = vectorizer.transform(X_test)"
   ]
  },
  {
   "cell_type": "code",
   "execution_count": 37,
   "id": "1e913997",
   "metadata": {},
   "outputs": [
    {
     "data": {
      "text/plain": [
       "(600, 3281)"
      ]
     },
     "execution_count": 37,
     "metadata": {},
     "output_type": "execute_result"
    }
   ],
   "source": [
    "X_test_matrix.shape"
   ]
  },
  {
   "cell_type": "markdown",
   "id": "825d6e68",
   "metadata": {},
   "source": [
    "**Model Building Using Naive Bayes Classifier**"
   ]
  },
  {
   "cell_type": "code",
   "execution_count": 38,
   "id": "abedb87a",
   "metadata": {},
   "outputs": [],
   "source": [
    "from sklearn.naive_bayes import MultinomialNB\n",
    "from sklearn.metrics import confusion_matrix, accuracy_score, precision_score, recall_score, f1_score, roc_curve, auc"
   ]
  },
  {
   "cell_type": "code",
   "execution_count": 39,
   "id": "23eb3f8a",
   "metadata": {},
   "outputs": [],
   "source": [
    "def print_scores(true, predicted):\n",
    "    \n",
    "    \"\"\"\n",
    "    This function will be used to print the recall, precision and f1 scores assocaited with each classifier's \n",
    "    performance on the training and test sets.\n",
    "    \"\"\"\n",
    "    rs = recall_score(true, predicted, labels=[0, 1, 2], \n",
    "                           average=None, zero_division=0 )\n",
    "    ps = precision_score(true, predicted, labels=[0, 1, 2], \n",
    "                           average=None, zero_division=0)\n",
    "    fs = f1_score(true, predicted, labels=[0, 1, 2], \n",
    "                           average=None, zero_division=0)\n",
    "    overall_f1 = f1_score(true, predicted, average = 'macro', zero_division=0)\n",
    "    \n",
    "    \n",
    "    print('recall score:',rs) \n",
    "    print('precision score:', ps)\n",
    "    print('f1 score', fs)\n",
    "    print('average f1 score:', overall_f1)\n",
    "      \n"
   ]
  },
  {
   "cell_type": "code",
   "execution_count": 40,
   "id": "b7509130",
   "metadata": {},
   "outputs": [],
   "source": [
    "mnbclf = MultinomialNB()"
   ]
  },
  {
   "cell_type": "code",
   "execution_count": 41,
   "id": "857ca416",
   "metadata": {},
   "outputs": [
    {
     "data": {
      "text/plain": [
       "MultinomialNB()"
      ]
     },
     "execution_count": 41,
     "metadata": {},
     "output_type": "execute_result"
    }
   ],
   "source": [
    "mnbclf.fit(X_train_matrix, y_train)"
   ]
  },
  {
   "cell_type": "code",
   "execution_count": 42,
   "id": "d983bedf",
   "metadata": {},
   "outputs": [],
   "source": [
    "mnbtrain_predictions = mnbclf.predict(X_train_matrix)\n",
    "mnbtest_predictions = mnbclf.predict(X_test_matrix)"
   ]
  },
  {
   "cell_type": "code",
   "execution_count": 43,
   "id": "8e5e524a",
   "metadata": {},
   "outputs": [
    {
     "data": {
      "text/plain": [
       "array([[   0,    0,   79],\n",
       "       [   0,    0,  134],\n",
       "       [   0,    0, 3187]], dtype=int64)"
      ]
     },
     "execution_count": 43,
     "metadata": {},
     "output_type": "execute_result"
    }
   ],
   "source": [
    "confusion_matrix(y_train, mnbtrain_predictions)\n",
    "#As a result of the biasness of the datset towards class 2\n",
    "    #All examples are predicted as belonging to class 2 (As being a positive review)\n",
    "    #This model is severely underitting as it is not even doing a go job on the training set."
   ]
  },
  {
   "cell_type": "code",
   "execution_count": 44,
   "id": "6925d2c2",
   "metadata": {},
   "outputs": [
    {
     "name": "stdout",
     "output_type": "stream",
     "text": [
      "recall score: [0. 0. 1.]\n",
      "precision score: [0.         0.         0.93735294]\n",
      "f1 score [0.         0.         0.96766358]\n",
      "average f1 score: 0.3225545265927838\n"
     ]
    }
   ],
   "source": [
    "print_scores(y_train, mnbtrain_predictions)\n",
    "#The classifier has recalled all examples belonging to class 2.\n",
    "#It has however failed to identify a singles instance of the class 0 or class 1.\n",
    "#Since the recall score for class 0 and class 1 are both 0, The f1 score is 0 for both classes.\n",
    "#Even thought the recall score for class 2 is 1, f1 score is 0.968 since the precision score\n",
    "    #is less than 1, as some values predicted to be 2 are not actually 2."
   ]
  },
  {
   "cell_type": "markdown",
   "id": "dd9620ea",
   "metadata": {},
   "source": [
    "### Analysis of the ROC curves for the various classes using the Multinomial Naive Bayes Classifier"
   ]
  },
  {
   "cell_type": "code",
   "execution_count": 45,
   "id": "82123c93",
   "metadata": {},
   "outputs": [
    {
     "data": {
      "text/plain": [
       "array([[1.01276590e-03, 2.01130732e-03, 9.96975927e-01],\n",
       "       [8.57319869e-05, 4.20029675e-04, 9.99494238e-01],\n",
       "       [4.31703002e-03, 2.37271546e-02, 9.71955815e-01],\n",
       "       [9.78546723e-04, 1.32438025e-03, 9.97697073e-01],\n",
       "       [1.50501886e-04, 4.74929868e-04, 9.99374568e-01]])"
      ]
     },
     "execution_count": 45,
     "metadata": {},
     "output_type": "execute_result"
    }
   ],
   "source": [
    "mnb_test_probs = mnbclf.predict_proba(X_test_matrix)\n",
    "mnb_test_probs[:5]"
   ]
  },
  {
   "cell_type": "code",
   "execution_count": 46,
   "id": "0c808296",
   "metadata": {},
   "outputs": [
    {
     "data": {
      "text/plain": [
       "array([[0, 0, 1],\n",
       "       [0, 0, 1],\n",
       "       [0, 0, 1],\n",
       "       [0, 0, 1]])"
      ]
     },
     "execution_count": 46,
     "metadata": {},
     "output_type": "execute_result"
    }
   ],
   "source": [
    "binarizer = LabelBinarizer()\n",
    "y_test_binary = binarizer.fit_transform(y_test)\n",
    "y_test_binary[:4]"
   ]
  },
  {
   "cell_type": "code",
   "execution_count": 47,
   "id": "e98b0abf",
   "metadata": {},
   "outputs": [],
   "source": [
    "fpr = dict()\n",
    "tpr = dict()\n",
    "thresholds = dict()\n",
    "for i in range(3):\n",
    "    fpr[i], tpr[i], thresholds[i] = roc_curve(y_test_binary[:, i], mnb_test_probs[:, i])"
   ]
  },
  {
   "cell_type": "code",
   "execution_count": 48,
   "id": "a7b16cee",
   "metadata": {},
   "outputs": [
    {
     "data": {
      "text/plain": [
       "array([0.        , 0.        , 0.        , 0.04166667, 0.04166667,\n",
       "       0.125     , 0.125     , 0.16666667, 0.16666667, 0.20833333,\n",
       "       0.20833333, 0.25      , 0.25      , 0.29166667, 0.29166667,\n",
       "       0.33333333, 0.33333333, 0.33333333, 0.33333333, 0.41666667,\n",
       "       0.41666667, 0.5       , 0.5       , 0.54166667, 0.54166667,\n",
       "       0.58333333, 0.58333333, 0.625     , 0.625     , 0.66666667,\n",
       "       0.66666667, 0.70833333, 0.70833333, 0.75      , 0.75      ,\n",
       "       0.75      , 0.75      , 0.75      , 0.75      , 0.79166667,\n",
       "       0.79166667, 0.83333333, 0.83333333, 0.83333333, 0.83333333,\n",
       "       0.875     , 0.875     , 0.91666667, 0.91666667, 0.91666667,\n",
       "       0.91666667, 1.        , 1.        , 1.        , 1.        ,\n",
       "       1.        , 1.        ])"
      ]
     },
     "execution_count": 48,
     "metadata": {},
     "output_type": "execute_result"
    }
   ],
   "source": [
    "tpr[1]"
   ]
  },
  {
   "cell_type": "code",
   "execution_count": 49,
   "id": "87629b11",
   "metadata": {},
   "outputs": [
    {
     "data": {
      "text/plain": [
       "<matplotlib.legend.Legend at 0x27294574af0>"
      ]
     },
     "execution_count": 49,
     "metadata": {},
     "output_type": "execute_result"
    },
    {
     "data": {
      "image/png": "[encoded data removed]",
      "text/plain": [
       "<Figure size 720x576 with 1 Axes>"
      ]
     },
     "metadata": {
      "needs_background": "light"
     },
     "output_type": "display_data"
    }
   ],
   "source": [
    "cols = ['red', 'blue', 'green']\n",
    "plt.figure(figsize=(10, 8))\n",
    "for i in range(3):\n",
    "    plt.plot(fpr[i], tpr[i], color = cols[i], \n",
    "            label = 'ROC curve for class {0}. AUC = {1}'.format(i, auc(fpr[i], tpr[i])))\n",
    "plt.plot([0, 1], [0, 1], 'r--')\n",
    "plt.xlabel('False Positive Rate')\n",
    "plt.ylabel('True Positive Rate')\n",
    "plt.title('ROC curves for a Multinomial Naive Bayes classifier for three one vs rest binary classification tasks')\n",
    "plt.legend(loc=4)"
   ]
  },
  {
   "cell_type": "markdown",
   "id": "f72ea4ec",
   "metadata": {},
   "source": [
    "#### Oversampling"
   ]
  },
  {
   "cell_type": "code",
   "execution_count": 50,
   "id": "8c453888",
   "metadata": {},
   "outputs": [],
   "source": [
    "from imblearn.over_sampling import SMOTE"
   ]
  },
  {
   "cell_type": "code",
   "execution_count": 51,
   "id": "02effdee",
   "metadata": {},
   "outputs": [],
   "source": [
    "resampler = SMOTE()"
   ]
  },
  {
   "cell_type": "code",
   "execution_count": 52,
   "id": "bb5861ec",
   "metadata": {},
   "outputs": [],
   "source": [
    "X_res, y_res = resampler.fit_resample(X_train_matrix, y_train)"
   ]
  },
  {
   "cell_type": "code",
   "execution_count": 53,
   "id": "225ffd5f",
   "metadata": {},
   "outputs": [
    {
     "name": "stdout",
     "output_type": "stream",
     "text": [
      "(9561, 3281) (9561,)\n"
     ]
    }
   ],
   "source": [
    "print(X_res.shape, y_res.shape)"
   ]
  },
  {
   "cell_type": "code",
   "execution_count": 54,
   "id": "2d02a539",
   "metadata": {},
   "outputs": [
    {
     "data": {
      "text/plain": [
       "(array([0, 1, 2]), array([3187, 3187, 3187], dtype=int64))"
      ]
     },
     "execution_count": 54,
     "metadata": {},
     "output_type": "execute_result"
    }
   ],
   "source": [
    "np.unique(y_res, return_counts=True)\n",
    "#y_res shows us that our target variable is no longer biased."
   ]
  },
  {
   "cell_type": "code",
   "execution_count": 55,
   "id": "b4bbd07d",
   "metadata": {},
   "outputs": [
    {
     "data": {
      "text/plain": [
       "(array([0, 1, 2]), array([  79,  134, 3187], dtype=int64))"
      ]
     },
     "execution_count": 55,
     "metadata": {},
     "output_type": "execute_result"
    }
   ],
   "source": [
    "np.unique(y_train, return_counts=True)\n",
    "#This was the initial distribution before resampling."
   ]
  },
  {
   "cell_type": "markdown",
   "id": "fcede5ce",
   "metadata": {},
   "source": [
    "**Training a Naive Bayes Classifier on the resampled data**"
   ]
  },
  {
   "cell_type": "code",
   "execution_count": 56,
   "id": "be421010",
   "metadata": {},
   "outputs": [],
   "source": [
    "mnbclf2 = MultinomialNB()"
   ]
  },
  {
   "cell_type": "code",
   "execution_count": 57,
   "id": "283fe2d7",
   "metadata": {},
   "outputs": [
    {
     "data": {
      "text/plain": [
       "MultinomialNB()"
      ]
     },
     "execution_count": 57,
     "metadata": {},
     "output_type": "execute_result"
    }
   ],
   "source": [
    "mnbclf2.fit(X_res, y_res)"
   ]
  },
  {
   "cell_type": "code",
   "execution_count": 58,
   "id": "77335423",
   "metadata": {},
   "outputs": [],
   "source": [
    "mnb_train_predictions2 = mnbclf2.predict(X_res)\n",
    "mnb_test_predictions2 = mnbclf2.predict(X_test_matrix)"
   ]
  },
  {
   "cell_type": "code",
   "execution_count": 59,
   "id": "44caf439",
   "metadata": {},
   "outputs": [
    {
     "data": {
      "text/plain": [
       "array([[3187,    0,    0],\n",
       "       [   0, 3159,   28],\n",
       "       [  71,  191, 2925]], dtype=int64)"
      ]
     },
     "execution_count": 59,
     "metadata": {},
     "output_type": "execute_result"
    }
   ],
   "source": [
    "confusion_matrix(y_res, mnb_train_predictions2, labels=[0, 1, 2])"
   ]
  },
  {
   "cell_type": "code",
   "execution_count": 60,
   "id": "b78390e7",
   "metadata": {},
   "outputs": [
    {
     "name": "stdout",
     "output_type": "stream",
     "text": [
      "recall score: [1.         0.99121431 0.91779103]\n",
      "precision score: [0.97820749 0.94298507 0.99051812]\n",
      "f1 score [0.98898371 0.96649839 0.95276873]\n",
      "average f1 score: 0.9694169439004359\n"
     ]
    }
   ],
   "source": [
    "print_scores(y_res, mnb_train_predictions2)"
   ]
  },
  {
   "cell_type": "markdown",
   "id": "0ff5e13b",
   "metadata": {},
   "source": [
    "From what we observe from our confusion matrix, recall score, precision score, and f1 score; oversampling the minority classes allows our classifier to construct a decision function that is capable of separating the three classes. \n",
    "\n",
    "Undersampling however, often leads to overfitting, so we must investigat the performance of the new classifier (trained on the oversampled dataset) on the test set"
   ]
  },
  {
   "cell_type": "code",
   "execution_count": 61,
   "id": "0129f44b",
   "metadata": {},
   "outputs": [
    {
     "data": {
      "text/plain": [
       "array([[  6,   1,   7],\n",
       "       [  1,  18,   5],\n",
       "       [ 19,  54, 489]], dtype=int64)"
      ]
     },
     "execution_count": 61,
     "metadata": {},
     "output_type": "execute_result"
    }
   ],
   "source": [
    "confusion_matrix(y_test, mnb_test_predictions2, labels=[0, 1, 2])"
   ]
  },
  {
   "cell_type": "code",
   "execution_count": 62,
   "id": "d9b3c823",
   "metadata": {},
   "outputs": [
    {
     "name": "stdout",
     "output_type": "stream",
     "text": [
      "recall score: [0.42857143 0.75       0.87010676]\n",
      "precision score: [0.23076923 0.24657534 0.9760479 ]\n",
      "f1 score [0.3        0.37113402 0.92003763]\n",
      "average f1 score: 0.5303905499898168\n"
     ]
    }
   ],
   "source": [
    "print_scores(y_test, mnb_test_predictions2)\n",
    "#The classifier performs better on unseen data than the classifier trained on the imbalanced dataset\n",
    "    #average f1 score of (0.47) compared to (0.32)\n",
    "#This classifier however performs way worse on the training set than it does onthe test set.\n",
    "#We must therefore try ti find another model that will be able to generalize better to previously unseen data."
   ]
  },
  {
   "cell_type": "markdown",
   "id": "a2047a57",
   "metadata": {},
   "source": [
    "Our observations indicate that the MultinomialNaiveBayes Classifier trained on a dataset with sythetic samples of the minority classes is capable of identifying those synthetic samples, but fails to generalize well to previously unseen data. SInce the Naive Bayes model is a probabilisti model and there are no hyperparameters for us to tune, we will perhaps  need to use an alternative method to oversampling to solve this problem. "
   ]
  },
  {
   "cell_type": "markdown",
   "id": "88af76ae",
   "metadata": {},
   "source": [
    "### Analysis of the ROC curves for the various classes using the Multinomial Naive Bayes Classifier"
   ]
  },
  {
   "cell_type": "code",
   "execution_count": 63,
   "id": "51924e72",
   "metadata": {},
   "outputs": [
    {
     "data": {
      "text/plain": [
       "array([[0.10496645, 0.02536548, 0.86966807],\n",
       "       [0.12799506, 0.33696514, 0.5350398 ],\n",
       "       [0.02137926, 0.84445282, 0.13416792],\n",
       "       [0.09255197, 0.01751205, 0.88993599],\n",
       "       [0.09403653, 0.09248474, 0.81347873]])"
      ]
     },
     "execution_count": 63,
     "metadata": {},
     "output_type": "execute_result"
    }
   ],
   "source": [
    "mnb_test_probs2 = mnbclf2.predict_proba(X_test_matrix)\n",
    "mnb_test_probs2[:5]"
   ]
  },
  {
   "cell_type": "code",
   "execution_count": 64,
   "id": "55e9931f",
   "metadata": {},
   "outputs": [],
   "source": [
    "fpr = dict()\n",
    "tpr = dict()\n",
    "thresholds = dict()\n",
    "for i in range(3):\n",
    "    fpr[i], tpr[i], thresholds[i] = roc_curve(y_test_binary[:, i], mnb_test_probs2[:, i])"
   ]
  },
  {
   "cell_type": "code",
   "execution_count": 65,
   "id": "c3a0aedc",
   "metadata": {},
   "outputs": [
    {
     "data": {
      "text/plain": [
       "<matplotlib.legend.Legend at 0x27294a9eac0>"
      ]
     },
     "execution_count": 65,
     "metadata": {},
     "output_type": "execute_result"
    },
    {
     "data": {
      "image/png": "[encoded data removed]",
      "text/plain": [
       "<Figure size 720x576 with 1 Axes>"
      ]
     },
     "metadata": {
      "needs_background": "light"
     },
     "output_type": "display_data"
    }
   ],
   "source": [
    "cols = ['red', 'blue', 'green']\n",
    "plt.figure(figsize=(10, 8))\n",
    "for i in range(3):\n",
    "    plt.plot(fpr[i], tpr[i], color = cols[i], \n",
    "            label = 'ROC curve for class {0}. AUC = {1}'.format(i, auc(fpr[i], tpr[i])))\n",
    "plt.plot([0, 1], [0, 1], 'r--')\n",
    "plt.xlabel('False Positive Rate')\n",
    "plt.ylabel('True Positive Rate')\n",
    "plt.title('ROC curves for a Multinomial Naive Bayes classifier for three one vs rest binary classification tasks')\n",
    "plt.legend(loc=4)"
   ]
  },
  {
   "cell_type": "markdown",
   "id": "497f80b9",
   "metadata": {},
   "source": [
    "### Tree Based Classifiers"
   ]
  },
  {
   "cell_type": "code",
   "execution_count": 66,
   "id": "c84fea45",
   "metadata": {},
   "outputs": [],
   "source": [
    "from sklearn.ensemble import RandomForestClassifier"
   ]
  },
  {
   "cell_type": "code",
   "execution_count": 67,
   "id": "bfafbd81",
   "metadata": {},
   "outputs": [],
   "source": [
    "rfclf = RandomForestClassifier(class_weight='balanced')"
   ]
  },
  {
   "cell_type": "code",
   "execution_count": 68,
   "id": "46c91d63",
   "metadata": {},
   "outputs": [
    {
     "data": {
      "text/plain": [
       "RandomForestClassifier(class_weight='balanced')"
      ]
     },
     "execution_count": 68,
     "metadata": {},
     "output_type": "execute_result"
    }
   ],
   "source": [
    "rfclf.fit(X_train_matrix, y_train)"
   ]
  },
  {
   "cell_type": "code",
   "execution_count": 69,
   "id": "5aeb6606",
   "metadata": {},
   "outputs": [],
   "source": [
    "rftrain_predictions = rfclf.predict(X_train_matrix)"
   ]
  },
  {
   "cell_type": "code",
   "execution_count": 70,
   "id": "1d806ba1",
   "metadata": {},
   "outputs": [
    {
     "data": {
      "text/plain": [
       "array([[  79,    0,    0],\n",
       "       [   0,  134,    0],\n",
       "       [   0,    0, 3187]], dtype=int64)"
      ]
     },
     "execution_count": 70,
     "metadata": {},
     "output_type": "execute_result"
    }
   ],
   "source": [
    "confusion_matrix(y_train, rftrain_predictions)\n",
    "#The random forest algorithm with class_weight parameter = 'balanced' is capable of perfectly\n",
    "#classifying the training data."
   ]
  },
  {
   "cell_type": "code",
   "execution_count": 71,
   "id": "27e33526",
   "metadata": {},
   "outputs": [
    {
     "name": "stdout",
     "output_type": "stream",
     "text": [
      "recall score: [1. 1. 1.]\n",
      "precision score: [1. 1. 1.]\n",
      "f1 score [1. 1. 1.]\n",
      "average f1 score: 1.0\n"
     ]
    }
   ],
   "source": [
    "print_scores(y_train, rftrain_predictions)\n",
    "#The rf classifier is perfect at predicting the labels of examples it has seen before."
   ]
  },
  {
   "cell_type": "code",
   "execution_count": 72,
   "id": "e83f1595",
   "metadata": {},
   "outputs": [],
   "source": [
    "rftest_predictions = rfclf.predict(X_test_matrix)"
   ]
  },
  {
   "cell_type": "code",
   "execution_count": 73,
   "id": "a930757e",
   "metadata": {},
   "outputs": [
    {
     "data": {
      "text/plain": [
       "array([[  5,   0,   9],\n",
       "       [  0,   5,  19],\n",
       "       [  0,   0, 562]], dtype=int64)"
      ]
     },
     "execution_count": 73,
     "metadata": {},
     "output_type": "execute_result"
    }
   ],
   "source": [
    "confusion_matrix(y_test, rftest_predictions)"
   ]
  },
  {
   "cell_type": "code",
   "execution_count": 74,
   "id": "d3e41fd1",
   "metadata": {},
   "outputs": [
    {
     "name": "stdout",
     "output_type": "stream",
     "text": [
      "recall score: [0.35714286 0.20833333 1.        ]\n",
      "precision score: [1.         1.         0.95254237]\n",
      "f1 score [0.52631579 0.34482759 0.97569444]\n",
      "average f1 score: 0.6156126067083417\n"
     ]
    }
   ],
   "source": [
    "print_scores(y_test, rftest_predictions)\n",
    "#The rf model generalizes better to unseen data, but still does a poor job identifying examples from the minority classes"
   ]
  },
  {
   "cell_type": "markdown",
   "id": "d9d465fa",
   "metadata": {},
   "source": [
    "### Analysis of the ROC curves for the various classes using the Multinomial Naive Bayes Classifier"
   ]
  },
  {
   "cell_type": "code",
   "execution_count": 75,
   "id": "4711ee6d",
   "metadata": {},
   "outputs": [
    {
     "data": {
      "text/plain": [
       "array([[0.  , 0.  , 1.  ],\n",
       "       [0.  , 0.1 , 0.9 ],\n",
       "       [0.02, 0.25, 0.73],\n",
       "       ...,\n",
       "       [0.03, 0.08, 0.89],\n",
       "       [0.  , 0.  , 1.  ],\n",
       "       [0.  , 0.02, 0.98]])"
      ]
     },
     "execution_count": 75,
     "metadata": {},
     "output_type": "execute_result"
    }
   ],
   "source": [
    "rf_test_probs = rfclf.predict_proba(X_test_matrix)\n",
    "rf_test_probs"
   ]
  },
  {
   "cell_type": "code",
   "execution_count": 76,
   "id": "47106fae",
   "metadata": {},
   "outputs": [],
   "source": [
    "fpr = dict()\n",
    "tpr = dict()\n",
    "thresholds = dict()\n",
    "for i in range(3):\n",
    "    fpr[i], tpr[i], thresholds[i] = roc_curve(y_test_binary[:, i], rf_test_probs[:, i])"
   ]
  },
  {
   "cell_type": "code",
   "execution_count": 77,
   "id": "a832790e",
   "metadata": {},
   "outputs": [
    {
     "data": {
      "text/plain": [
       "<matplotlib.legend.Legend at 0x27295e7d370>"
      ]
     },
     "execution_count": 77,
     "metadata": {},
     "output_type": "execute_result"
    },
    {
     "data": {
      "image/png": "[encoded data removed]",
      "text/plain": [
       "<Figure size 720x576 with 1 Axes>"
      ]
     },
     "metadata": {
      "needs_background": "light"
     },
     "output_type": "display_data"
    }
   ],
   "source": [
    "cols = ['red', 'blue', 'green']\n",
    "plt.figure(figsize=(10, 8))\n",
    "for i in range(3):\n",
    "    plt.plot(fpr[i], tpr[i], color = cols[i], \n",
    "            label = 'ROC curve for class {0}. AUC = {1}'.format(i, auc(fpr[i], tpr[i])))\n",
    "plt.plot([0, 1], [0, 1], 'r--')\n",
    "plt.xlabel('False Positive Rate')\n",
    "plt.ylabel('True Positive Rate')\n",
    "plt.title('ROC curves for a Multinomial Naive Bayes classifier for three one vs rest binary classification tasks')\n",
    "plt.legend(loc=4)"
   ]
  },
  {
   "cell_type": "code",
   "execution_count": 78,
   "id": "ac6794c3",
   "metadata": {},
   "outputs": [],
   "source": [
    "import xgboost as xgb\n",
    "from xgboost import XGBClassifier\n"
   ]
  },
  {
   "cell_type": "code",
   "execution_count": 79,
   "id": "7f51dbcd",
   "metadata": {},
   "outputs": [],
   "source": [
    "xgbclf = XGBClassifier(use_label_encoder=False)"
   ]
  },
  {
   "cell_type": "code",
   "execution_count": 80,
   "id": "5bb17833",
   "metadata": {},
   "outputs": [
    {
     "data": {
      "text/plain": [
       "XGBClassifier(base_score=None, booster=None, colsample_bylevel=None,\n",
       "              colsample_bynode=None, colsample_bytree=None,\n",
       "              enable_categorical=False, gamma=None, gpu_id=None,\n",
       "              importance_type=None, interaction_constraints=None,\n",
       "              learning_rate=None, max_delta_step=None, max_depth=None,\n",
       "              min_child_weight=None, missing=nan, monotone_constraints=None,\n",
       "              n_estimators=100, n_jobs=None, num_parallel_tree=None,\n",
       "              predictor=None, random_state=None, reg_alpha=None,\n",
       "              reg_lambda=None, scale_pos_weight=None, subsample=None,\n",
       "              tree_method=None, use_label_encoder=False,\n",
       "              validate_parameters=None, verbosity=None)"
      ]
     },
     "execution_count": 80,
     "metadata": {},
     "output_type": "execute_result"
    }
   ],
   "source": [
    "xgbclf"
   ]
  },
  {
   "cell_type": "code",
   "execution_count": 81,
   "id": "e378dde7",
   "metadata": {
    "scrolled": true
   },
   "outputs": [
    {
     "name": "stdout",
     "output_type": "stream",
     "text": [
      "[21:55:01] WARNING: C:/Users/Administrator/workspace/xgboost-win64_release_1.5.1/src/learner.cc:1115: Starting in XGBoost 1.3.0, the default evaluation metric used with the objective 'multi:softprob' was changed from 'merror' to 'mlogloss'. Explicitly set eval_metric if you'd like to restore the old behavior.\n"
     ]
    },
    {
     "data": {
      "text/plain": [
       "XGBClassifier(base_score=0.5, booster='gbtree', colsample_bylevel=1,\n",
       "              colsample_bynode=1, colsample_bytree=1, enable_categorical=False,\n",
       "              gamma=0, gpu_id=-1, importance_type=None,\n",
       "              interaction_constraints='', learning_rate=0.300000012,\n",
       "              max_delta_step=0, max_depth=6, min_child_weight=1, missing=nan,\n",
       "              monotone_constraints='()', n_estimators=100, n_jobs=8,\n",
       "              num_parallel_tree=1, objective='multi:softprob', predictor='auto',\n",
       "              random_state=0, reg_alpha=0, reg_lambda=1, scale_pos_weight=None,\n",
       "              subsample=1, tree_method='exact', use_label_encoder=False,\n",
       "              validate_parameters=1, verbosity=None)"
      ]
     },
     "execution_count": 81,
     "metadata": {},
     "output_type": "execute_result"
    }
   ],
   "source": [
    "xgbclf.fit(X_train_matrix, y_train,)"
   ]
  },
  {
   "cell_type": "code",
   "execution_count": 82,
   "id": "ebb3f1e1",
   "metadata": {},
   "outputs": [],
   "source": [
    "xgb_train_predicitons = xgbclf.predict(X_train_matrix)\n",
    "xgb_test_predicitons = xgbclf.predict(X_test_matrix)\n"
   ]
  },
  {
   "cell_type": "code",
   "execution_count": 83,
   "id": "ea1b28d5",
   "metadata": {},
   "outputs": [
    {
     "data": {
      "text/plain": [
       "array([[  79,    0,    0],\n",
       "       [   0,  119,   15],\n",
       "       [   0,    0, 3187]], dtype=int64)"
      ]
     },
     "execution_count": 83,
     "metadata": {},
     "output_type": "execute_result"
    }
   ],
   "source": [
    "confusion_matrix(y_train, xgb_train_predicitons)"
   ]
  },
  {
   "cell_type": "code",
   "execution_count": 84,
   "id": "5e286c13",
   "metadata": {},
   "outputs": [
    {
     "name": "stdout",
     "output_type": "stream",
     "text": [
      "recall score: [1.        0.8880597 1.       ]\n",
      "precision score: [1.         1.         0.99531543]\n",
      "f1 score [1.         0.94071146 0.99765221]\n",
      "average f1 score: 0.9794545590648948\n"
     ]
    }
   ],
   "source": [
    "print_scores(y_train, xgb_train_predicitons)"
   ]
  },
  {
   "cell_type": "code",
   "execution_count": 85,
   "id": "8260f196",
   "metadata": {},
   "outputs": [
    {
     "data": {
      "text/plain": [
       "array([[  5,   0,   9],\n",
       "       [  1,   7,  16],\n",
       "       [  0,   4, 558]], dtype=int64)"
      ]
     },
     "execution_count": 85,
     "metadata": {},
     "output_type": "execute_result"
    }
   ],
   "source": [
    "confusion_matrix(y_test, xgb_test_predicitons)"
   ]
  },
  {
   "cell_type": "code",
   "execution_count": 86,
   "id": "f4bf108f",
   "metadata": {},
   "outputs": [
    {
     "name": "stdout",
     "output_type": "stream",
     "text": [
      "recall score: [0.35714286 0.29166667 0.99288256]\n",
      "precision score: [0.83333333 0.63636364 0.95711835]\n",
      "f1 score [0.5        0.4        0.97467249]\n",
      "average f1 score: 0.6248908296943232\n"
     ]
    }
   ],
   "source": [
    "print_scores(y_test, xgb_test_predicitons)"
   ]
  },
  {
   "cell_type": "code",
   "execution_count": 87,
   "id": "5b5e18d4",
   "metadata": {},
   "outputs": [
    {
     "data": {
      "text/plain": [
       "array([[2.0159739e-04, 6.4146663e-03, 9.9338371e-01],\n",
       "       [1.8186033e-04, 2.3377268e-03, 9.9748045e-01],\n",
       "       [1.3177138e-03, 9.0822423e-01, 9.0458028e-02],\n",
       "       ...,\n",
       "       [3.6654924e-03, 1.2504829e-01, 8.7128621e-01],\n",
       "       [1.7116552e-05, 6.5284333e-04, 9.9933004e-01],\n",
       "       [4.3313357e-04, 1.1473378e-03, 9.9841952e-01]], dtype=float32)"
      ]
     },
     "execution_count": 87,
     "metadata": {},
     "output_type": "execute_result"
    }
   ],
   "source": [
    "xgb_test_probs = xgbclf.predict_proba(X_test_matrix)\n",
    "xgb_test_probs"
   ]
  },
  {
   "cell_type": "code",
   "execution_count": 88,
   "id": "404d90f1",
   "metadata": {},
   "outputs": [],
   "source": [
    "fpr = dict()\n",
    "tpr = dict()\n",
    "thresholds = dict()\n",
    "for i in range(3):\n",
    "    fpr[i], tpr[i], thresholds[i] = roc_curve(y_test_binary[:, i], xgb_test_probs[:, i])"
   ]
  },
  {
   "cell_type": "code",
   "execution_count": 89,
   "id": "df6dd67f",
   "metadata": {},
   "outputs": [
    {
     "data": {
      "text/plain": [
       "<matplotlib.legend.Legend at 0x2729600acd0>"
      ]
     },
     "execution_count": 89,
     "metadata": {},
     "output_type": "execute_result"
    },
    {
     "data": {
      "image/png": "[encoded data removed]",
      "text/plain": [
       "<Figure size 720x576 with 1 Axes>"
      ]
     },
     "metadata": {
      "needs_background": "light"
     },
     "output_type": "display_data"
    }
   ],
   "source": [
    "cols = ['red', 'blue', 'green']\n",
    "plt.figure(figsize=(10, 8))\n",
    "for i in range(3):\n",
    "    plt.plot(fpr[i], tpr[i], color = cols[i], \n",
    "            label = 'ROC curve for class {0}. AUC = {1}'.format(i, auc(fpr[i], tpr[i])))\n",
    "plt.plot([0, 1], [0, 1], 'r--')\n",
    "plt.xlabel('False Positive Rate')\n",
    "plt.ylabel('True Positive Rate')\n",
    "plt.title('ROC curves for a Multinomial Naive Bayes classifier for three one vs rest binary classification tasks')\n",
    "plt.legend(loc=4)"
   ]
  },
  {
   "cell_type": "code",
   "execution_count": 90,
   "id": "d95cdeb6",
   "metadata": {},
   "outputs": [],
   "source": [
    "xgb_res_clf = XGBClassifier(use_label_encoder=False ,random_state=100)"
   ]
  },
  {
   "cell_type": "code",
   "execution_count": 91,
   "id": "469f6bd3",
   "metadata": {},
   "outputs": [
    {
     "name": "stdout",
     "output_type": "stream",
     "text": [
      "[21:55:03] WARNING: C:/Users/Administrator/workspace/xgboost-win64_release_1.5.1/src/learner.cc:1115: Starting in XGBoost 1.3.0, the default evaluation metric used with the objective 'multi:softprob' was changed from 'merror' to 'mlogloss'. Explicitly set eval_metric if you'd like to restore the old behavior.\n"
     ]
    },
    {
     "data": {
      "text/plain": [
       "XGBClassifier(base_score=0.5, booster='gbtree', colsample_bylevel=1,\n",
       "              colsample_bynode=1, colsample_bytree=1, enable_categorical=False,\n",
       "              gamma=0, gpu_id=-1, importance_type=None,\n",
       "              interaction_constraints='', learning_rate=0.300000012,\n",
       "              max_delta_step=0, max_depth=6, min_child_weight=1, missing=nan,\n",
       "              monotone_constraints='()', n_estimators=100, n_jobs=8,\n",
       "              num_parallel_tree=1, objective='multi:softprob', predictor='auto',\n",
       "              random_state=100, reg_alpha=0, reg_lambda=1,\n",
       "              scale_pos_weight=None, subsample=1, tree_method='exact',\n",
       "              use_label_encoder=False, validate_parameters=1, verbosity=None)"
      ]
     },
     "execution_count": 91,
     "metadata": {},
     "output_type": "execute_result"
    }
   ],
   "source": [
    "xgb_res_clf.fit(X_res, y_res)"
   ]
  },
  {
   "cell_type": "code",
   "execution_count": 92,
   "id": "dc5e9a7c",
   "metadata": {},
   "outputs": [],
   "source": [
    "xgb_res_train_predicitons = xgb_res_clf.predict(X_res)\n",
    "xgb_res_test_predicitons = xgb_res_clf.predict(X_test_matrix)"
   ]
  },
  {
   "cell_type": "code",
   "execution_count": 93,
   "id": "a17eca14",
   "metadata": {},
   "outputs": [
    {
     "data": {
      "text/plain": [
       "array([[3185,    0,    2],\n",
       "       [   0, 3169,   18],\n",
       "       [   0,    0, 3187]], dtype=int64)"
      ]
     },
     "execution_count": 93,
     "metadata": {},
     "output_type": "execute_result"
    }
   ],
   "source": [
    "confusion_matrix(y_res, xgb_res_train_predicitons)"
   ]
  },
  {
   "cell_type": "code",
   "execution_count": 94,
   "id": "dfb82462",
   "metadata": {},
   "outputs": [
    {
     "name": "stdout",
     "output_type": "stream",
     "text": [
      "recall score: [0.99937245 0.99435206 1.        ]\n",
      "precision score: [1.         1.         0.99376364]\n",
      "f1 score [0.99968613 0.99716803 0.99687207]\n",
      "average f1 score: 0.9979087415252631\n"
     ]
    }
   ],
   "source": [
    "print_scores(y_res, xgb_res_train_predicitons)"
   ]
  },
  {
   "cell_type": "code",
   "execution_count": 95,
   "id": "5dfd58b2",
   "metadata": {},
   "outputs": [
    {
     "data": {
      "text/plain": [
       "array([[  6,   0,   8],\n",
       "       [  2,   8,  14],\n",
       "       [  0,   9, 553]], dtype=int64)"
      ]
     },
     "execution_count": 95,
     "metadata": {},
     "output_type": "execute_result"
    }
   ],
   "source": [
    "confusion_matrix(y_test, xgb_res_test_predicitons)"
   ]
  },
  {
   "cell_type": "code",
   "execution_count": 96,
   "id": "03a978bf",
   "metadata": {},
   "outputs": [
    {
     "name": "stdout",
     "output_type": "stream",
     "text": [
      "recall score: [0.42857143 0.33333333 0.98398577]\n",
      "precision score: [0.75       0.47058824 0.96173913]\n",
      "f1 score [0.54545455 0.3902439  0.97273527]\n",
      "average f1 score: 0.6361445720477833\n"
     ]
    }
   ],
   "source": [
    "print_scores(y_test, xgb_res_test_predicitons)"
   ]
  },
  {
   "cell_type": "markdown",
   "id": "c1c6124b",
   "metadata": {},
   "source": [
    "### Analysis of the ROC curves for the various classes using the XGBClassifier"
   ]
  },
  {
   "cell_type": "code",
   "execution_count": 97,
   "id": "32cb9d72",
   "metadata": {},
   "outputs": [
    {
     "data": {
      "text/plain": [
       "array([[1.69934719e-04, 7.51987752e-03, 9.92310166e-01],\n",
       "       [6.07735710e-04, 1.47476485e-02, 9.84644651e-01],\n",
       "       [4.34290711e-03, 7.15746462e-01, 2.79910594e-01],\n",
       "       ...,\n",
       "       [1.23847090e-02, 1.08108722e-01, 8.79506588e-01],\n",
       "       [7.06140127e-05, 3.43185756e-03, 9.96497571e-01],\n",
       "       [1.73965091e-04, 2.59222207e-03, 9.97233808e-01]], dtype=float32)"
      ]
     },
     "execution_count": 97,
     "metadata": {},
     "output_type": "execute_result"
    }
   ],
   "source": [
    "xgb_res_test_probs = xgb_res_clf.predict_proba(X_test_matrix)\n",
    "xgb_res_test_probs"
   ]
  },
  {
   "cell_type": "code",
   "execution_count": 98,
   "id": "2445970a",
   "metadata": {},
   "outputs": [],
   "source": [
    "fpr = dict()\n",
    "tpr = dict()\n",
    "thresholds = dict()\n",
    "for i in range(3):\n",
    "    fpr[i], tpr[i], thresholds[i] = roc_curve(y_test_binary[:, i], xgb_res_test_probs[:, i])"
   ]
  },
  {
   "cell_type": "code",
   "execution_count": 99,
   "id": "96da59c7",
   "metadata": {},
   "outputs": [
    {
     "data": {
      "text/plain": [
       "<matplotlib.legend.Legend at 0x27296084190>"
      ]
     },
     "execution_count": 99,
     "metadata": {},
     "output_type": "execute_result"
    },
    {
     "data": {
      "image/png": "[encoded data removed]",
      "text/plain": [
       "<Figure size 720x576 with 1 Axes>"
      ]
     },
     "metadata": {
      "needs_background": "light"
     },
     "output_type": "display_data"
    }
   ],
   "source": [
    "cols = ['red', 'blue', 'green']\n",
    "plt.figure(figsize=(10, 8))\n",
    "for i in range(3):\n",
    "    plt.plot(fpr[i], tpr[i], color = cols[i], \n",
    "            label = 'ROC curve for class {0}. AUC = {1}'.format(i, auc(fpr[i], tpr[i])))\n",
    "plt.plot([0, 1], [0, 1], 'r--')\n",
    "plt.xlabel('False Positive Rate')\n",
    "plt.ylabel('True Positive Rate')\n",
    "plt.title('ROC curves for a Multinomial Naive Bayes classifier for three one vs rest binary classification tasks')\n",
    "plt.legend(loc=4)"
   ]
  },
  {
   "cell_type": "markdown",
   "id": "039eb98e",
   "metadata": {},
   "source": [
    "SUpport Vector Machine"
   ]
  },
  {
   "cell_type": "code",
   "execution_count": 100,
   "id": "f5070563",
   "metadata": {},
   "outputs": [],
   "source": [
    "from sklearn.svm import SVC"
   ]
  },
  {
   "cell_type": "code",
   "execution_count": 101,
   "id": "34d487f6",
   "metadata": {},
   "outputs": [],
   "source": [
    "svcclf = SVC(random_state=100, class_weight='balanced', probability=True)"
   ]
  },
  {
   "cell_type": "code",
   "execution_count": 102,
   "id": "148e06cc",
   "metadata": {},
   "outputs": [
    {
     "data": {
      "text/plain": [
       "SVC(class_weight='balanced', probability=True, random_state=100)"
      ]
     },
     "execution_count": 102,
     "metadata": {},
     "output_type": "execute_result"
    }
   ],
   "source": [
    "svcclf.fit(X_train_matrix, y_train)"
   ]
  },
  {
   "cell_type": "code",
   "execution_count": 103,
   "id": "2029aca5",
   "metadata": {},
   "outputs": [],
   "source": [
    "svc_train_predicitons = svcclf.predict(X_train_matrix)\n",
    "svc_test_predicitons = svcclf.predict(X_test_matrix)\n"
   ]
  },
  {
   "cell_type": "code",
   "execution_count": 104,
   "id": "3cb3378d",
   "metadata": {},
   "outputs": [
    {
     "data": {
      "text/plain": [
       "array([[  79,    0,    0],\n",
       "       [   0,  134,    0],\n",
       "       [   0,    1, 3186]], dtype=int64)"
      ]
     },
     "execution_count": 104,
     "metadata": {},
     "output_type": "execute_result"
    }
   ],
   "source": [
    "confusion_matrix(y_train, svc_train_predicitons)"
   ]
  },
  {
   "cell_type": "code",
   "execution_count": 105,
   "id": "47675fbe",
   "metadata": {},
   "outputs": [
    {
     "name": "stdout",
     "output_type": "stream",
     "text": [
      "recall score: [1.         1.         0.99968623]\n",
      "precision score: [1.         0.99259259 1.        ]\n",
      "f1 score [1.         0.99628253 0.99984309]\n",
      "average f1 score: 0.9987085386362192\n"
     ]
    }
   ],
   "source": [
    "print_scores(y_train, svc_train_predicitons)"
   ]
  },
  {
   "cell_type": "code",
   "execution_count": 106,
   "id": "3f8b63ce",
   "metadata": {},
   "outputs": [
    {
     "data": {
      "text/plain": [
       "array([[  5,   0,   9],\n",
       "       [  0,   6,  18],\n",
       "       [  0,   1, 561]], dtype=int64)"
      ]
     },
     "execution_count": 106,
     "metadata": {},
     "output_type": "execute_result"
    }
   ],
   "source": [
    "confusion_matrix(y_test, svc_test_predicitons)"
   ]
  },
  {
   "cell_type": "code",
   "execution_count": 107,
   "id": "b8ac2e33",
   "metadata": {},
   "outputs": [
    {
     "name": "stdout",
     "output_type": "stream",
     "text": [
      "recall score: [0.35714286 0.25       0.99822064]\n",
      "precision score: [1.         0.85714286 0.95408163]\n",
      "f1 score [0.52631579 0.38709677 0.97565217]\n",
      "average f1 score: 0.629688245860092\n"
     ]
    }
   ],
   "source": [
    "print_scores(y_test, svc_test_predicitons)\n",
    "#The xgboost classifier outperforms both the NaiveBayes and the RandomForest classifier,\n",
    "    #even when trained on an imbalanced dataset."
   ]
  },
  {
   "cell_type": "markdown",
   "id": "878990a2",
   "metadata": {},
   "source": [
    "### Analysis of the ROC curves for the various classes using the XGBClassifier"
   ]
  },
  {
   "cell_type": "code",
   "execution_count": 108,
   "id": "ef2034cf",
   "metadata": {},
   "outputs": [],
   "source": [
    "svc_test_probs = svcclf.predict_proba(X_test_matrix)\n"
   ]
  },
  {
   "cell_type": "code",
   "execution_count": 109,
   "id": "0e589fbf",
   "metadata": {},
   "outputs": [],
   "source": [
    "fpr = dict()\n",
    "tpr = dict()\n",
    "thresholds = dict()\n",
    "for i in range(3):\n",
    "    fpr[i], tpr[i], thresholds[i] = roc_curve(y_test_binary[:, i], svc_test_probs[:, i])"
   ]
  },
  {
   "cell_type": "code",
   "execution_count": 110,
   "id": "30badce2",
   "metadata": {},
   "outputs": [
    {
     "data": {
      "text/plain": [
       "<matplotlib.legend.Legend at 0x27296121400>"
      ]
     },
     "execution_count": 110,
     "metadata": {},
     "output_type": "execute_result"
    },
    {
     "data": {
      "image/png": "[encoded data removed]",
      "text/plain": [
       "<Figure size 720x576 with 1 Axes>"
      ]
     },
     "metadata": {
      "needs_background": "light"
     },
     "output_type": "display_data"
    }
   ],
   "source": [
    "cols = ['red', 'blue', 'green']\n",
    "plt.figure(figsize=(10, 8))\n",
    "for i in range(3):\n",
    "    plt.plot(fpr[i], tpr[i], color = cols[i], \n",
    "            label = 'ROC curve for class {0}. AUC = {1}'.format(i, auc(fpr[i], tpr[i])))\n",
    "plt.plot([0, 1], [0, 1], 'r--')\n",
    "plt.xlabel('False Positive Rate')\n",
    "plt.ylabel('True Positive Rate')\n",
    "plt.title('ROC curves for a Multinomial Naive Bayes classifier for three one vs rest binary classification tasks')\n",
    "plt.legend(loc=4)"
   ]
  },
  {
   "cell_type": "markdown",
   "id": "0a607639",
   "metadata": {},
   "source": [
    " "
   ]
  },
  {
   "cell_type": "markdown",
   "id": "ca547bec",
   "metadata": {},
   "source": [
    "### Neural Networks"
   ]
  },
  {
   "cell_type": "code",
   "execution_count": 111,
   "id": "eb89c82b",
   "metadata": {},
   "outputs": [],
   "source": [
    "import tensorflow as tf\n",
    "from tensorflow.keras.layers import Dense, Dropout\n",
    "from tensorflow.keras.models import Sequential"
   ]
  },
  {
   "cell_type": "code",
   "execution_count": 112,
   "id": "5dcab831",
   "metadata": {},
   "outputs": [],
   "source": [
    "y_train_binary = binarizer.transform(y_train)"
   ]
  },
  {
   "cell_type": "code",
   "execution_count": 113,
   "id": "ca47fcf2",
   "metadata": {},
   "outputs": [
    {
     "name": "stdout",
     "output_type": "stream",
     "text": [
      "(3400, 3281) (3400, 3) (600, 3281) (600, 3)\n"
     ]
    }
   ],
   "source": [
    "print(X_train_matrix.shape, y_train_binary.shape, X_test_matrix.shape, y_test_binary.shape)"
   ]
  },
  {
   "cell_type": "code",
   "execution_count": 114,
   "id": "c4627a1c",
   "metadata": {},
   "outputs": [],
   "source": [
    "model = Sequential([\n",
    "    Dense(1000, input_dim=(X_train_matrix.shape[1]), activation='relu'),\n",
    "    Dense(100, activation='relu'),\n",
    "    Dense(25, activation='relu'),\n",
    "    Dense(3, activation='softmax')\n",
    "])"
   ]
  },
  {
   "cell_type": "code",
   "execution_count": 115,
   "id": "430a99d4",
   "metadata": {},
   "outputs": [
    {
     "name": "stdout",
     "output_type": "stream",
     "text": [
      "Model: \"sequential\"\n",
      "_________________________________________________________________\n",
      "Layer (type)                 Output Shape              Param #   \n",
      "=================================================================\n",
      "dense (Dense)                (None, 1000)              3282000   \n",
      "_________________________________________________________________\n",
      "dense_1 (Dense)              (None, 100)               100100    \n",
      "_________________________________________________________________\n",
      "dense_2 (Dense)              (None, 25)                2525      \n",
      "_________________________________________________________________\n",
      "dense_3 (Dense)              (None, 3)                 78        \n",
      "=================================================================\n",
      "Total params: 3,384,703\n",
      "Trainable params: 3,384,703\n",
      "Non-trainable params: 0\n",
      "_________________________________________________________________\n"
     ]
    }
   ],
   "source": [
    "model.summary()"
   ]
  },
  {
   "cell_type": "code",
   "execution_count": 116,
   "id": "d95a324a",
   "metadata": {},
   "outputs": [],
   "source": [
    "model.compile(optimizer='adam', loss='CategoricalCrossentropy', metrics=['accuracy'])"
   ]
  },
  {
   "cell_type": "code",
   "execution_count": 117,
   "id": "d01fd40d",
   "metadata": {},
   "outputs": [
    {
     "name": "stdout",
     "output_type": "stream",
     "text": [
      "Epoch 1/30\n",
      "54/54 [==============================] - 1s 13ms/step - loss: 0.3631 - accuracy: 0.9253\n",
      "Epoch 2/30\n",
      "54/54 [==============================] - 1s 13ms/step - loss: 0.1629 - accuracy: 0.9374\n",
      "Epoch 3/30\n",
      "54/54 [==============================] - 1s 13ms/step - loss: 0.1113 - accuracy: 0.9374\n",
      "Epoch 4/30\n",
      "54/54 [==============================] - 1s 13ms/step - loss: 0.0825 - accuracy: 0.9465\n",
      "Epoch 5/30\n",
      "54/54 [==============================] - 1s 13ms/step - loss: 0.0509 - accuracy: 0.9897\n",
      "Epoch 6/30\n",
      "54/54 [==============================] - 1s 13ms/step - loss: 0.0102 - accuracy: 0.9988\n",
      "Epoch 7/30\n",
      "54/54 [==============================] - 1s 13ms/step - loss: 0.0012 - accuracy: 1.0000\n",
      "Epoch 8/30\n",
      "54/54 [==============================] - 1s 12ms/step - loss: 3.8092e-04 - accuracy: 1.0000\n",
      "Epoch 9/30\n",
      "54/54 [==============================] - 1s 13ms/step - loss: 2.1448e-04 - accuracy: 1.0000\n",
      "Epoch 10/30\n",
      "54/54 [==============================] - 1s 12ms/step - loss: 1.4659e-04 - accuracy: 1.0000\n",
      "Epoch 11/30\n",
      "54/54 [==============================] - 1s 12ms/step - loss: 1.0767e-04 - accuracy: 1.0000\n",
      "Epoch 12/30\n",
      "54/54 [==============================] - 1s 12ms/step - loss: 8.2259e-05 - accuracy: 1.0000\n",
      "Epoch 13/30\n",
      "54/54 [==============================] - 1s 13ms/step - loss: 6.5839e-05 - accuracy: 1.0000\n",
      "Epoch 14/30\n",
      "54/54 [==============================] - 1s 13ms/step - loss: 5.3805e-05 - accuracy: 1.0000\n",
      "Epoch 15/30\n",
      "54/54 [==============================] - 1s 14ms/step - loss: 4.5074e-05 - accuracy: 1.0000\n",
      "Epoch 16/30\n",
      "54/54 [==============================] - 1s 13ms/step - loss: 3.8483e-05 - accuracy: 1.0000\n",
      "Epoch 17/30\n",
      "54/54 [==============================] - 1s 12ms/step - loss: 3.3138e-05 - accuracy: 1.0000\n",
      "Epoch 18/30\n",
      "54/54 [==============================] - 1s 12ms/step - loss: 2.8862e-05 - accuracy: 1.0000\n",
      "Epoch 19/30\n",
      "54/54 [==============================] - 1s 13ms/step - loss: 2.5386e-05 - accuracy: 1.0000\n",
      "Epoch 20/30\n",
      "54/54 [==============================] - 1s 13ms/step - loss: 2.2565e-05 - accuracy: 1.0000\n",
      "Epoch 21/30\n",
      "54/54 [==============================] - 1s 12ms/step - loss: 2.0144e-05 - accuracy: 1.0000\n",
      "Epoch 22/30\n",
      "54/54 [==============================] - 1s 13ms/step - loss: 1.8008e-05 - accuracy: 1.0000\n",
      "Epoch 23/30\n",
      "54/54 [==============================] - 1s 13ms/step - loss: 1.6268e-05 - accuracy: 1.0000\n",
      "Epoch 24/30\n",
      "54/54 [==============================] - 1s 13ms/step - loss: 1.4715e-05 - accuracy: 1.0000\n",
      "Epoch 25/30\n",
      "54/54 [==============================] - 1s 12ms/step - loss: 1.3365e-05 - accuracy: 1.0000\n",
      "Epoch 26/30\n",
      "54/54 [==============================] - 1s 12ms/step - loss: 1.2194e-05 - accuracy: 1.0000\n",
      "Epoch 27/30\n",
      "54/54 [==============================] - 1s 13ms/step - loss: 1.1160e-05 - accuracy: 1.0000\n",
      "Epoch 28/30\n",
      "54/54 [==============================] - 1s 13ms/step - loss: 1.0218e-05 - accuracy: 1.0000\n",
      "Epoch 29/30\n",
      "54/54 [==============================] - 1s 14ms/step - loss: 9.4114e-06 - accuracy: 1.0000\n",
      "Epoch 30/30\n",
      "54/54 [==============================] - 1s 14ms/step - loss: 8.7130e-06 - accuracy: 1.0000\n"
     ]
    },
    {
     "data": {
      "text/plain": [
       "<keras.callbacks.History at 0x2729e50fbb0>"
      ]
     },
     "execution_count": 117,
     "metadata": {},
     "output_type": "execute_result"
    }
   ],
   "source": [
    "model.fit(X_train_matrix.toarray(), y_train_binary, batch_size=64, epochs=30)"
   ]
  },
  {
   "cell_type": "code",
   "execution_count": 118,
   "id": "eb733523",
   "metadata": {},
   "outputs": [],
   "source": [
    "nn_test_probs = model.predict(X_test_matrix)"
   ]
  },
  {
   "cell_type": "code",
   "execution_count": 119,
   "id": "83b6c814",
   "metadata": {
    "scrolled": true
   },
   "outputs": [
    {
     "data": {
      "text/plain": [
       "array([[2.8076151e-11, 2.0239377e-09, 1.0000000e+00],\n",
       "       [4.9873639e-10, 6.5351486e-08, 9.9999988e-01],\n",
       "       [1.2839145e-03, 6.5991098e-01, 3.3880511e-01],\n",
       "       ...,\n",
       "       [7.0656752e-05, 8.6424470e-01, 1.3568465e-01],\n",
       "       [2.5275351e-18, 7.8815281e-15, 1.0000000e+00],\n",
       "       [1.1152362e-07, 1.8084153e-06, 9.9999809e-01]], dtype=float32)"
      ]
     },
     "execution_count": 119,
     "metadata": {},
     "output_type": "execute_result"
    }
   ],
   "source": [
    "nn_test_probs"
   ]
  },
  {
   "cell_type": "code",
   "execution_count": 120,
   "id": "8f675a81",
   "metadata": {},
   "outputs": [],
   "source": [
    "nn_test_preds= np.argmax(nn_test_probs, axis=1)"
   ]
  },
  {
   "cell_type": "code",
   "execution_count": 121,
   "id": "ebd5474e",
   "metadata": {},
   "outputs": [
    {
     "data": {
      "text/plain": [
       "array([[  5,   0,   9],\n",
       "       [  1,   8,  15],\n",
       "       [  0,  11, 551]], dtype=int64)"
      ]
     },
     "execution_count": 121,
     "metadata": {},
     "output_type": "execute_result"
    }
   ],
   "source": [
    "confusion_matrix(y_test, nn_test_preds)"
   ]
  },
  {
   "cell_type": "code",
   "execution_count": 122,
   "id": "b434f363",
   "metadata": {},
   "outputs": [
    {
     "name": "stdout",
     "output_type": "stream",
     "text": [
      "recall score: [0.35714286 0.33333333 0.98042705]\n",
      "precision score: [0.83333333 0.42105263 0.95826087]\n",
      "f1 score [0.5        0.37209302 0.96921724]\n",
      "average f1 score: 0.61377008720078\n"
     ]
    }
   ],
   "source": [
    "print_scores(y_test, nn_test_preds)"
   ]
  },
  {
   "cell_type": "markdown",
   "id": "f90d5814",
   "metadata": {},
   "source": [
    "### Analysis of the ROC curves for the various classes using a Neural Network"
   ]
  },
  {
   "cell_type": "code",
   "execution_count": 123,
   "id": "0219c06a",
   "metadata": {},
   "outputs": [],
   "source": [
    "fpr = dict()\n",
    "tpr = dict()\n",
    "thresholds = dict()\n",
    "for i in range(3):\n",
    "    fpr[i], tpr[i], thresholds[i] = roc_curve(y_test_binary[:, i], nn_test_probs[:, i])"
   ]
  },
  {
   "cell_type": "code",
   "execution_count": 124,
   "id": "c2e3bea5",
   "metadata": {},
   "outputs": [
    {
     "data": {
      "text/plain": [
       "<matplotlib.legend.Legend at 0x2729f4454c0>"
      ]
     },
     "execution_count": 124,
     "metadata": {},
     "output_type": "execute_result"
    },
    {
     "data": {
      "image/png": "[encoded data removed]",
      "text/plain": [
       "<Figure size 720x576 with 1 Axes>"
      ]
     },
     "metadata": {
      "needs_background": "light"
     },
     "output_type": "display_data"
    }
   ],
   "source": [
    "cols = ['red', 'blue', 'green']\n",
    "plt.figure(figsize=(10, 8))\n",
    "for i in range(3):\n",
    "    plt.plot(fpr[i], tpr[i], color = cols[i], \n",
    "            label = 'ROC curve for class {0}. AUC = {1}'.format(i, auc(fpr[i], tpr[i])))\n",
    "plt.plot([0, 1], [0, 1], 'r--')\n",
    "plt.xlabel('False Positive Rate')\n",
    "plt.ylabel('True Positive Rate')\n",
    "plt.title('ROC curves for a Multinomial Naive Bayes classifier for three one vs rest binary classification tasks')\n",
    "plt.legend(loc=4)"
   ]
  },
  {
   "cell_type": "markdown",
   "id": "ebff0a10",
   "metadata": {},
   "source": [
    "### Neural Network with class weight balanced"
   ]
  },
  {
   "cell_type": "code",
   "execution_count": 125,
   "id": "a37b77dd",
   "metadata": {},
   "outputs": [
    {
     "data": {
      "text/plain": [
       "(array([0, 1, 2]), array([  79,  134, 3187], dtype=int64))"
      ]
     },
     "execution_count": 125,
     "metadata": {},
     "output_type": "execute_result"
    }
   ],
   "source": [
    "np.unique(y_train, return_counts=True)"
   ]
  },
  {
   "cell_type": "code",
   "execution_count": 126,
   "id": "d4ed3384",
   "metadata": {},
   "outputs": [
    {
     "name": "stdout",
     "output_type": "stream",
     "text": [
      "3400\n"
     ]
    }
   ],
   "source": [
    "num_0, num_1, num_2 = np.unique(y_train, return_counts=True)[1]\n",
    "total = num_0 + num_1 + num_2\n",
    "print(total)"
   ]
  },
  {
   "cell_type": "code",
   "execution_count": 127,
   "id": "287927d2",
   "metadata": {},
   "outputs": [
    {
     "data": {
      "text/plain": [
       "{0: 14.345991561181433, 1: 8.457711442786069, 2: 0.3556113377261792}"
      ]
     },
     "execution_count": 127,
     "metadata": {},
     "output_type": "execute_result"
    }
   ],
   "source": [
    "weight_0 = (1/num_0) * (total/3)\n",
    "weight_1 = (1/num_1) * (total/3)\n",
    "weight_2 = (1/num_2) * (total/3)\n",
    "class_weight = {0: weight_0, 1: weight_1, 2: weight_2}\n",
    "class_weight"
   ]
  },
  {
   "cell_type": "code",
   "execution_count": 128,
   "id": "1f89e42a",
   "metadata": {},
   "outputs": [],
   "source": [
    "model = Sequential([\n",
    "    Dense(1000, input_dim=(X_train_matrix.shape[1]), activation='relu'),\n",
    "    Dense(100, activation='relu'),\n",
    "    Dense(25, activation='relu'),\n",
    "    Dense(3, activation='softmax')\n",
    "])"
   ]
  },
  {
   "cell_type": "code",
   "execution_count": 129,
   "id": "34ef55f1",
   "metadata": {},
   "outputs": [
    {
     "name": "stdout",
     "output_type": "stream",
     "text": [
      "Model: \"sequential_1\"\n",
      "_________________________________________________________________\n",
      "Layer (type)                 Output Shape              Param #   \n",
      "=================================================================\n",
      "dense_4 (Dense)              (None, 1000)              3282000   \n",
      "_________________________________________________________________\n",
      "dense_5 (Dense)              (None, 100)               100100    \n",
      "_________________________________________________________________\n",
      "dense_6 (Dense)              (None, 25)                2525      \n",
      "_________________________________________________________________\n",
      "dense_7 (Dense)              (None, 3)                 78        \n",
      "=================================================================\n",
      "Total params: 3,384,703\n",
      "Trainable params: 3,384,703\n",
      "Non-trainable params: 0\n",
      "_________________________________________________________________\n"
     ]
    }
   ],
   "source": [
    "model.summary()"
   ]
  },
  {
   "cell_type": "code",
   "execution_count": 130,
   "id": "d36a9e43",
   "metadata": {},
   "outputs": [],
   "source": [
    "model.compile(optimizer='adam', loss='CategoricalCrossentropy', metrics=['accuracy'])"
   ]
  },
  {
   "cell_type": "code",
   "execution_count": 131,
   "id": "6b56be3f",
   "metadata": {},
   "outputs": [
    {
     "name": "stdout",
     "output_type": "stream",
     "text": [
      "Epoch 1/30\n",
      "54/54 [==============================] - 1s 14ms/step - loss: 1.0729 - accuracy: 0.9026\n",
      "Epoch 2/30\n",
      "54/54 [==============================] - 1s 14ms/step - loss: 0.4798 - accuracy: 0.8912\n",
      "Epoch 3/30\n",
      "54/54 [==============================] - 1s 14ms/step - loss: 0.0879 - accuracy: 0.9524\n",
      "Epoch 4/30\n",
      "54/54 [==============================] - 1s 14ms/step - loss: 0.0214 - accuracy: 0.9891\n",
      "Epoch 5/30\n",
      "54/54 [==============================] - 1s 14ms/step - loss: 0.0093 - accuracy: 0.9962\n",
      "Epoch 6/30\n",
      "54/54 [==============================] - 1s 14ms/step - loss: 0.0044 - accuracy: 0.9985\n",
      "Epoch 7/30\n",
      "54/54 [==============================] - 1s 13ms/step - loss: 0.0028 - accuracy: 0.9994\n",
      "Epoch 8/30\n",
      "54/54 [==============================] - 1s 13ms/step - loss: 0.0020 - accuracy: 0.9997\n",
      "Epoch 9/30\n",
      "54/54 [==============================] - 1s 13ms/step - loss: 0.0016 - accuracy: 0.9997\n",
      "Epoch 10/30\n",
      "54/54 [==============================] - 1s 13ms/step - loss: 0.0012 - accuracy: 0.9997\n",
      "Epoch 11/30\n",
      "54/54 [==============================] - 1s 13ms/step - loss: 0.0010 - accuracy: 0.9997\n",
      "Epoch 12/30\n",
      "54/54 [==============================] - 1s 13ms/step - loss: 8.0576e-04 - accuracy: 0.9997\n",
      "Epoch 13/30\n",
      "54/54 [==============================] - 1s 13ms/step - loss: 6.0779e-04 - accuracy: 0.9997\n",
      "Epoch 14/30\n",
      "54/54 [==============================] - 1s 12ms/step - loss: 4.5331e-04 - accuracy: 1.0000\n",
      "Epoch 15/30\n",
      "54/54 [==============================] - 1s 13ms/step - loss: 3.5672e-04 - accuracy: 1.0000\n",
      "Epoch 16/30\n",
      "54/54 [==============================] - 1s 13ms/step - loss: 2.9631e-04 - accuracy: 1.0000\n",
      "Epoch 17/30\n",
      "54/54 [==============================] - 1s 13ms/step - loss: 2.5084e-04 - accuracy: 1.0000\n",
      "Epoch 18/30\n",
      "54/54 [==============================] - 1s 12ms/step - loss: 2.1547e-04 - accuracy: 1.0000\n",
      "Epoch 19/30\n",
      "54/54 [==============================] - 1s 12ms/step - loss: 1.8730e-04 - accuracy: 1.0000\n",
      "Epoch 20/30\n",
      "54/54 [==============================] - 1s 13ms/step - loss: 1.6386e-04 - accuracy: 1.0000\n",
      "Epoch 21/30\n",
      "54/54 [==============================] - 1s 13ms/step - loss: 1.4410e-04 - accuracy: 1.0000\n",
      "Epoch 22/30\n",
      "54/54 [==============================] - 1s 13ms/step - loss: 1.2770e-04 - accuracy: 1.0000\n",
      "Epoch 23/30\n",
      "54/54 [==============================] - 1s 13ms/step - loss: 1.1336e-04 - accuracy: 1.0000\n",
      "Epoch 24/30\n",
      "54/54 [==============================] - 1s 13ms/step - loss: 1.0122e-04 - accuracy: 1.0000\n",
      "Epoch 25/30\n",
      "54/54 [==============================] - 1s 13ms/step - loss: 9.0849e-05 - accuracy: 1.0000\n",
      "Epoch 26/30\n",
      "54/54 [==============================] - 1s 12ms/step - loss: 8.1959e-05 - accuracy: 1.0000\n",
      "Epoch 27/30\n",
      "54/54 [==============================] - 1s 13ms/step - loss: 7.3934e-05 - accuracy: 1.0000\n",
      "Epoch 28/30\n",
      "54/54 [==============================] - 1s 13ms/step - loss: 6.6879e-05 - accuracy: 1.0000\n",
      "Epoch 29/30\n",
      "54/54 [==============================] - 1s 14ms/step - loss: 6.0879e-05 - accuracy: 1.0000\n",
      "Epoch 30/30\n",
      "54/54 [==============================] - 1s 14ms/step - loss: 5.5210e-05 - accuracy: 1.0000\n"
     ]
    },
    {
     "data": {
      "text/plain": [
       "<keras.callbacks.History at 0x2729f4e9df0>"
      ]
     },
     "execution_count": 131,
     "metadata": {},
     "output_type": "execute_result"
    }
   ],
   "source": [
    "model.fit(X_train_matrix.toarray(), y_train_binary, batch_size=64, epochs=30, class_weight=class_weight)"
   ]
  },
  {
   "cell_type": "code",
   "execution_count": 132,
   "id": "2615d19a",
   "metadata": {},
   "outputs": [],
   "source": [
    "nn_test_probs = model.predict(X_test_matrix)"
   ]
  },
  {
   "cell_type": "code",
   "execution_count": 133,
   "id": "c8661503",
   "metadata": {
    "scrolled": true
   },
   "outputs": [
    {
     "data": {
      "text/plain": [
       "array([[1.15804184e-07, 9.41764711e-09, 9.99999881e-01],\n",
       "       [1.41256749e-06, 1.13982705e-05, 9.99987245e-01],\n",
       "       [5.46093506e-04, 9.14387643e-01, 8.50661844e-02],\n",
       "       ...,\n",
       "       [6.31678486e-05, 9.50721145e-01, 4.92157713e-02],\n",
       "       [3.62851589e-12, 4.44423063e-13, 1.00000000e+00],\n",
       "       [1.00431271e-05, 2.70295895e-05, 9.99962926e-01]], dtype=float32)"
      ]
     },
     "execution_count": 133,
     "metadata": {},
     "output_type": "execute_result"
    }
   ],
   "source": [
    "nn_test_probs"
   ]
  },
  {
   "cell_type": "code",
   "execution_count": 134,
   "id": "ea513036",
   "metadata": {},
   "outputs": [],
   "source": [
    "nn_test_preds= np.argmax(nn_test_probs, axis=1)"
   ]
  },
  {
   "cell_type": "code",
   "execution_count": 135,
   "id": "fc168fbf",
   "metadata": {},
   "outputs": [
    {
     "data": {
      "text/plain": [
       "array([[  5,   0,   9],\n",
       "       [  1,   8,  15],\n",
       "       [  3,  15, 544]], dtype=int64)"
      ]
     },
     "execution_count": 135,
     "metadata": {},
     "output_type": "execute_result"
    }
   ],
   "source": [
    "confusion_matrix(y_test, nn_test_preds)"
   ]
  },
  {
   "cell_type": "code",
   "execution_count": 136,
   "id": "b07e3eec",
   "metadata": {},
   "outputs": [
    {
     "name": "stdout",
     "output_type": "stream",
     "text": [
      "recall score: [0.35714286 0.33333333 0.96797153]\n",
      "precision score: [0.55555556 0.34782609 0.95774648]\n",
      "f1 score [0.43478261 0.34042553 0.96283186]\n",
      "average f1 score: 0.5793466663392084\n"
     ]
    }
   ],
   "source": [
    "print_scores(y_test, nn_test_preds)"
   ]
  },
  {
   "cell_type": "markdown",
   "id": "5974c64f",
   "metadata": {},
   "source": [
    "### Analysis of the ROC curves for the various classes using a Neural Network"
   ]
  },
  {
   "cell_type": "code",
   "execution_count": 137,
   "id": "90d67b79",
   "metadata": {},
   "outputs": [],
   "source": [
    "fpr = dict()\n",
    "tpr = dict()\n",
    "thresholds = dict()\n",
    "for i in range(3):\n",
    "    fpr[i], tpr[i], thresholds[i] = roc_curve(y_test_binary[:, i], nn_test_probs[:, i])"
   ]
  },
  {
   "cell_type": "code",
   "execution_count": 138,
   "id": "490123c3",
   "metadata": {},
   "outputs": [
    {
     "data": {
      "text/plain": [
       "<matplotlib.legend.Legend at 0x2729f60e3d0>"
      ]
     },
     "execution_count": 138,
     "metadata": {},
     "output_type": "execute_result"
    },
    {
     "data": {
      "image/png": "[encoded data removed]",
      "text/plain": [
       "<Figure size 720x576 with 1 Axes>"
      ]
     },
     "metadata": {
      "needs_background": "light"
     },
     "output_type": "display_data"
    }
   ],
   "source": [
    "cols = ['red', 'blue', 'green']\n",
    "plt.figure(figsize=(10, 8))\n",
    "for i in range(3):\n",
    "    plt.plot(fpr[i], tpr[i], color = cols[i], \n",
    "            label = 'ROC curve for class {0}. AUC = {1}'.format(i, auc(fpr[i], tpr[i])))\n",
    "plt.plot([0, 1], [0, 1], 'r--')\n",
    "plt.xlabel('False Positive Rate')\n",
    "plt.ylabel('True Positive Rate')\n",
    "plt.title('ROC curves for a Multinomial Naive Bayes classifier for three one vs rest binary classification tasks')\n",
    "plt.legend(loc=4)"
   ]
  },
  {
   "cell_type": "markdown",
   "id": "4953b9ed",
   "metadata": {},
   "source": [
    "### Ensemble Techniques"
   ]
  },
  {
   "cell_type": "code",
   "execution_count": 139,
   "id": "e82f824f",
   "metadata": {},
   "outputs": [],
   "source": [
    "from sklearn.ensemble import VotingClassifier"
   ]
  },
  {
   "cell_type": "code",
   "execution_count": 140,
   "id": "da248154",
   "metadata": {},
   "outputs": [],
   "source": [
    "clf1 = XGBClassifier(random_state=100, use_label_encoder=False)"
   ]
  },
  {
   "cell_type": "code",
   "execution_count": 141,
   "id": "9dbe6b17",
   "metadata": {},
   "outputs": [],
   "source": [
    "clf2 = MultinomialNB()"
   ]
  },
  {
   "cell_type": "code",
   "execution_count": 142,
   "id": "0d729f71",
   "metadata": {},
   "outputs": [],
   "source": [
    "estimators = [('xgb', clf1), ('mnb', clf2)]"
   ]
  },
  {
   "cell_type": "code",
   "execution_count": 143,
   "id": "70f8fc51",
   "metadata": {},
   "outputs": [],
   "source": [
    "voting_clf = VotingClassifier(estimators=estimators, voting='soft')"
   ]
  },
  {
   "cell_type": "code",
   "execution_count": 144,
   "id": "fa4c970f",
   "metadata": {
    "scrolled": true
   },
   "outputs": [
    {
     "name": "stdout",
     "output_type": "stream",
     "text": [
      "[21:56:06] WARNING: C:/Users/Administrator/workspace/xgboost-win64_release_1.5.1/src/learner.cc:1115: Starting in XGBoost 1.3.0, the default evaluation metric used with the objective 'multi:softprob' was changed from 'merror' to 'mlogloss'. Explicitly set eval_metric if you'd like to restore the old behavior.\n"
     ]
    },
    {
     "data": {
      "text/plain": [
       "VotingClassifier(estimators=[('xgb',\n",
       "                              XGBClassifier(base_score=None, booster=None,\n",
       "                                            colsample_bylevel=None,\n",
       "                                            colsample_bynode=None,\n",
       "                                            colsample_bytree=None,\n",
       "                                            enable_categorical=False,\n",
       "                                            gamma=None, gpu_id=None,\n",
       "                                            importance_type=None,\n",
       "                                            interaction_constraints=None,\n",
       "                                            learning_rate=None,\n",
       "                                            max_delta_step=None, max_depth=None,\n",
       "                                            min_child_weight=None, missing=nan,\n",
       "                                            monotone_constraints=None,\n",
       "                                            n_estimators=100, n_jobs=None,\n",
       "                                            num_parallel_tree=None,\n",
       "                                            predictor=None, random_state=100,\n",
       "                                            reg_alpha=None, reg_lambda=None,\n",
       "                                            scale_pos_weight=None,\n",
       "                                            subsample=None, tree_method=None,\n",
       "                                            use_label_encoder=False,\n",
       "                                            validate_parameters=None,\n",
       "                                            verbosity=None)),\n",
       "                             ('mnb', MultinomialNB())],\n",
       "                 voting='soft')"
      ]
     },
     "execution_count": 144,
     "metadata": {},
     "output_type": "execute_result"
    }
   ],
   "source": [
    "voting_clf.fit(X_res, y_res)"
   ]
  },
  {
   "cell_type": "code",
   "execution_count": 145,
   "id": "9fde3114",
   "metadata": {},
   "outputs": [],
   "source": [
    "voting_train_predicitons = voting_clf.predict(X_train_matrix)\n",
    "voting_test_predicitons = voting_clf.predict(X_test_matrix)\n"
   ]
  },
  {
   "cell_type": "code",
   "execution_count": 146,
   "id": "65aca58c",
   "metadata": {},
   "outputs": [
    {
     "data": {
      "text/plain": [
       "array([[  79,    0,    0],\n",
       "       [   0,  126,    8],\n",
       "       [   0,    2, 3185]], dtype=int64)"
      ]
     },
     "execution_count": 146,
     "metadata": {},
     "output_type": "execute_result"
    }
   ],
   "source": [
    "confusion_matrix(y_train, voting_train_predicitons)"
   ]
  },
  {
   "cell_type": "code",
   "execution_count": 147,
   "id": "cb559e4e",
   "metadata": {},
   "outputs": [
    {
     "name": "stdout",
     "output_type": "stream",
     "text": [
      "recall score: [1.         0.94029851 0.99937245]\n",
      "precision score: [1.         0.984375   0.99749452]\n",
      "f1 score [1.         0.96183206 0.9984326 ]\n",
      "average f1 score: 0.9867548876498601\n"
     ]
    }
   ],
   "source": [
    "print_scores(y_train, voting_train_predicitons)"
   ]
  },
  {
   "cell_type": "code",
   "execution_count": 148,
   "id": "f7e73027",
   "metadata": {},
   "outputs": [
    {
     "data": {
      "text/plain": [
       "array([[  6,   0,   8],\n",
       "       [  1,   8,  15],\n",
       "       [  0,   8, 554]], dtype=int64)"
      ]
     },
     "execution_count": 148,
     "metadata": {},
     "output_type": "execute_result"
    }
   ],
   "source": [
    "confusion_matrix(y_test, voting_test_predicitons)"
   ]
  },
  {
   "cell_type": "code",
   "execution_count": 149,
   "id": "59b26550",
   "metadata": {},
   "outputs": [
    {
     "name": "stdout",
     "output_type": "stream",
     "text": [
      "recall score: [0.42857143 0.33333333 0.98576512]\n",
      "precision score: [0.85714286 0.5        0.96013865]\n",
      "f1 score [0.57142857 0.4        0.97278314]\n",
      "average f1 score: 0.6480705715121869\n"
     ]
    }
   ],
   "source": [
    "print_scores(y_test, voting_test_predicitons)\n",
    "#The xgboost classifier outperforms both the NaiveBayes and the RandomForest classifier,\n",
    "    #even when trained on an imbalanced dataset."
   ]
  },
  {
   "cell_type": "markdown",
   "id": "9ac2fc2e",
   "metadata": {},
   "source": [
    "### Analysis of the ROC curves for the various classes using the ENsemble "
   ]
  },
  {
   "cell_type": "code",
   "execution_count": 150,
   "id": "576b7f4a",
   "metadata": {},
   "outputs": [],
   "source": [
    "voting_test_probs = voting_clf.predict_proba(X_test_matrix)\n"
   ]
  },
  {
   "cell_type": "code",
   "execution_count": 151,
   "id": "ca1fa866",
   "metadata": {},
   "outputs": [],
   "source": [
    "fpr = dict()\n",
    "tpr = dict()\n",
    "thresholds = dict()\n",
    "for i in range(3):\n",
    "    fpr[i], tpr[i], thresholds[i] = roc_curve(y_test_binary[:, i], voting_test_probs[:, i])"
   ]
  },
  {
   "cell_type": "code",
   "execution_count": 152,
   "id": "b4d125a0",
   "metadata": {},
   "outputs": [
    {
     "data": {
      "text/plain": [
       "<matplotlib.legend.Legend at 0x2729f807130>"
      ]
     },
     "execution_count": 152,
     "metadata": {},
     "output_type": "execute_result"
    },
    {
     "data": {
      "image/png": "[encoded data removed]",
      "text/plain": [
       "<Figure size 720x576 with 1 Axes>"
      ]
     },
     "metadata": {
      "needs_background": "light"
     },
     "output_type": "display_data"
    }
   ],
   "source": [
    "cols = ['red', 'blue', 'green']\n",
    "plt.figure(figsize=(10, 8))\n",
    "for i in range(3):\n",
    "    plt.plot(fpr[i], tpr[i], color = cols[i], \n",
    "            label = 'ROC curve for class {0}. AUC = {1}'.format(i, auc(fpr[i], tpr[i])))\n",
    "plt.plot([0, 1], [0, 1], 'r--')\n",
    "plt.xlabel('False Positive Rate')\n",
    "plt.ylabel('True Positive Rate')\n",
    "plt.title('ROC curves for a Multinomial Naive Bayes classifier for three one vs rest binary classification tasks')\n",
    "plt.legend(loc=4)"
   ]
  },
  {
   "cell_type": "markdown",
   "id": "decf6d9c",
   "metadata": {},
   "source": [
    " "
   ]
  },
  {
   "cell_type": "markdown",
   "id": "d1f20e44",
   "metadata": {},
   "source": [
    "### Classification using an engineered sentiment score feature"
   ]
  },
  {
   "cell_type": "code",
   "execution_count": 153,
   "id": "5dce5ce6",
   "metadata": {},
   "outputs": [],
   "source": [
    "import nltk\n",
    "from nltk.sentiment.vader import SentimentIntensityAnalyzer"
   ]
  },
  {
   "cell_type": "code",
   "execution_count": 154,
   "id": "ac51291f",
   "metadata": {},
   "outputs": [],
   "source": [
    "analyzer = SentimentIntensityAnalyzer()\n",
    "\n",
    "def sentiment_score_calculator(review):\n",
    "    scores = analyzer.polarity_scores(review)\n",
    "    score1 = scores['compound']\n",
    "    \n",
    "    return score1"
   ]
  },
  {
   "cell_type": "code",
   "execution_count": 155,
   "id": "4b2d11a6",
   "metadata": {},
   "outputs": [
    {
     "data": {
      "text/plain": [
       "0    purchase black fridaypros great price even sal...\n",
       "1    purchase two amazon echo plus two dot plus fou...\n",
       "2    average alexa option show things screen still ...\n",
       "3                 good product exactly want good price\n",
       "4    one purchase buy one nieces case compare one h...\n",
       "Name: reviews.text, dtype: object"
      ]
     },
     "execution_count": 155,
     "metadata": {},
     "output_type": "execute_result"
    }
   ],
   "source": [
    "cleaned_reviews.head()"
   ]
  },
  {
   "cell_type": "code",
   "execution_count": 156,
   "id": "daf1eccc",
   "metadata": {},
   "outputs": [
    {
     "data": {
      "text/plain": [
       "0.967"
      ]
     },
     "execution_count": 156,
     "metadata": {},
     "output_type": "execute_result"
    }
   ],
   "source": [
    "sentiment_score_calculator(cleaned_reviews.iloc[0])"
   ]
  },
  {
   "cell_type": "code",
   "execution_count": 157,
   "id": "6a8357fb",
   "metadata": {},
   "outputs": [
    {
     "data": {
      "text/plain": [
       "0    0.9670\n",
       "1    0.9590\n",
       "2    0.0000\n",
       "3    0.7269\n",
       "4    0.1280\n",
       "Name: sentiment_score, dtype: float64"
      ]
     },
     "execution_count": 157,
     "metadata": {},
     "output_type": "execute_result"
    }
   ],
   "source": [
    "sentiment_score = cleaned_reviews.apply(sentiment_score_calculator)\n",
    "sentiment_score.name = 'sentiment_score'\n",
    "sentiment_score.head()"
   ]
  },
  {
   "cell_type": "code",
   "execution_count": 158,
   "id": "ee4627a5",
   "metadata": {},
   "outputs": [
    {
     "data": {
      "text/html": [
       "<div>\n",
       "<style scoped>\n",
       "    .dataframe tbody tr th:only-of-type {\n",
       "        vertical-align: middle;\n",
       "    }\n",
       "\n",
       "    .dataframe tbody tr th {\n",
       "        vertical-align: top;\n",
       "    }\n",
       "\n",
       "    .dataframe thead th {\n",
       "        text-align: right;\n",
       "    }\n",
       "</style>\n",
       "<table border=\"1\" class=\"dataframe\">\n",
       "  <thead>\n",
       "    <tr style=\"text-align: right;\">\n",
       "      <th></th>\n",
       "      <th>name</th>\n",
       "      <th>brand</th>\n",
       "      <th>categories</th>\n",
       "      <th>primaryCategories</th>\n",
       "      <th>reviews.date</th>\n",
       "      <th>reviews.text</th>\n",
       "      <th>reviews.title</th>\n",
       "      <th>sentiment</th>\n",
       "      <th>sentiment_score</th>\n",
       "    </tr>\n",
       "  </thead>\n",
       "  <tbody>\n",
       "    <tr>\n",
       "      <th>0</th>\n",
       "      <td>All-New Fire HD 8 Tablet, 8\" HD Display, Wi-Fi...</td>\n",
       "      <td>Amazon</td>\n",
       "      <td>Electronics,iPad &amp; Tablets,All Tablets,Fire Ta...</td>\n",
       "      <td>Electronics</td>\n",
       "      <td>2016-12-26T00:00:00.000Z</td>\n",
       "      <td>Purchased on Black FridayPros - Great Price (e...</td>\n",
       "      <td>Powerful tablet</td>\n",
       "      <td>Positive</td>\n",
       "      <td>0.9670</td>\n",
       "    </tr>\n",
       "    <tr>\n",
       "      <th>1</th>\n",
       "      <td>Amazon - Echo Plus w/ Built-In Hub - Silver</td>\n",
       "      <td>Amazon</td>\n",
       "      <td>Amazon Echo,Smart Home,Networking,Home &amp; Tools...</td>\n",
       "      <td>Electronics,Hardware</td>\n",
       "      <td>2018-01-17T00:00:00.000Z</td>\n",
       "      <td>I purchased two Amazon in Echo Plus and two do...</td>\n",
       "      <td>Amazon Echo Plus AWESOME</td>\n",
       "      <td>Positive</td>\n",
       "      <td>0.9590</td>\n",
       "    </tr>\n",
       "    <tr>\n",
       "      <th>2</th>\n",
       "      <td>Amazon Echo Show Alexa-enabled Bluetooth Speak...</td>\n",
       "      <td>Amazon</td>\n",
       "      <td>Amazon Echo,Virtual Assistant Speakers,Electro...</td>\n",
       "      <td>Electronics,Hardware</td>\n",
       "      <td>2017-12-20T00:00:00.000Z</td>\n",
       "      <td>Just an average Alexa option. Does show a few ...</td>\n",
       "      <td>Average</td>\n",
       "      <td>Neutral</td>\n",
       "      <td>0.0000</td>\n",
       "    </tr>\n",
       "    <tr>\n",
       "      <th>3</th>\n",
       "      <td>Fire HD 10 Tablet, 10.1 HD Display, Wi-Fi, 16 ...</td>\n",
       "      <td>Amazon</td>\n",
       "      <td>eBook Readers,Fire Tablets,Electronics Feature...</td>\n",
       "      <td>Office Supplies,Electronics</td>\n",
       "      <td>2017-08-04T00:00:00.000Z</td>\n",
       "      <td>very good product. Exactly what I wanted, and ...</td>\n",
       "      <td>Greattttttt</td>\n",
       "      <td>Positive</td>\n",
       "      <td>0.7269</td>\n",
       "    </tr>\n",
       "    <tr>\n",
       "      <th>4</th>\n",
       "      <td>Brand New Amazon Kindle Fire 16gb 7\" Ips Displ...</td>\n",
       "      <td>Amazon</td>\n",
       "      <td>Computers/Tablets &amp; Networking,Tablets &amp; eBook...</td>\n",
       "      <td>Electronics</td>\n",
       "      <td>2017-01-23T00:00:00.000Z</td>\n",
       "      <td>This is the 3rd one I've purchased. I've bough...</td>\n",
       "      <td>Very durable!</td>\n",
       "      <td>Positive</td>\n",
       "      <td>0.1280</td>\n",
       "    </tr>\n",
       "  </tbody>\n",
       "</table>\n",
       "</div>"
      ],
      "text/plain": [
       "                                                name   brand  \\\n",
       "0  All-New Fire HD 8 Tablet, 8\" HD Display, Wi-Fi...  Amazon   \n",
       "1        Amazon - Echo Plus w/ Built-In Hub - Silver  Amazon   \n",
       "2  Amazon Echo Show Alexa-enabled Bluetooth Speak...  Amazon   \n",
       "3  Fire HD 10 Tablet, 10.1 HD Display, Wi-Fi, 16 ...  Amazon   \n",
       "4  Brand New Amazon Kindle Fire 16gb 7\" Ips Displ...  Amazon   \n",
       "\n",
       "                                          categories  \\\n",
       "0  Electronics,iPad & Tablets,All Tablets,Fire Ta...   \n",
       "1  Amazon Echo,Smart Home,Networking,Home & Tools...   \n",
       "2  Amazon Echo,Virtual Assistant Speakers,Electro...   \n",
       "3  eBook Readers,Fire Tablets,Electronics Feature...   \n",
       "4  Computers/Tablets & Networking,Tablets & eBook...   \n",
       "\n",
       "             primaryCategories              reviews.date  \\\n",
       "0                  Electronics  2016-12-26T00:00:00.000Z   \n",
       "1         Electronics,Hardware  2018-01-17T00:00:00.000Z   \n",
       "2         Electronics,Hardware  2017-12-20T00:00:00.000Z   \n",
       "3  Office Supplies,Electronics  2017-08-04T00:00:00.000Z   \n",
       "4                  Electronics  2017-01-23T00:00:00.000Z   \n",
       "\n",
       "                                        reviews.text  \\\n",
       "0  Purchased on Black FridayPros - Great Price (e...   \n",
       "1  I purchased two Amazon in Echo Plus and two do...   \n",
       "2  Just an average Alexa option. Does show a few ...   \n",
       "3  very good product. Exactly what I wanted, and ...   \n",
       "4  This is the 3rd one I've purchased. I've bough...   \n",
       "\n",
       "              reviews.title sentiment  sentiment_score  \n",
       "0           Powerful tablet  Positive           0.9670  \n",
       "1  Amazon Echo Plus AWESOME  Positive           0.9590  \n",
       "2                   Average   Neutral           0.0000  \n",
       "3               Greattttttt  Positive           0.7269  \n",
       "4             Very durable!  Positive           0.1280  "
      ]
     },
     "execution_count": 158,
     "metadata": {},
     "output_type": "execute_result"
    }
   ],
   "source": [
    "train_df2 = pd.concat([train_df, sentiment_score], axis=1)\n",
    "train_df2.head()"
   ]
  },
  {
   "cell_type": "code",
   "execution_count": 159,
   "id": "e9bf629c",
   "metadata": {},
   "outputs": [
    {
     "data": {
      "text/plain": [
       "3625    make home smart home know know make smart choi...\n",
       "1648    buy family everyone love definitely recommend ...\n",
       "2278             control smart home sthings also echo dot\n",
       "997     great way begin make home smart home easy set ...\n",
       "3830    alex device fantastic would recommend anyone e...\n",
       "Name: reviews.text, dtype: object"
      ]
     },
     "execution_count": 159,
     "metadata": {},
     "output_type": "execute_result"
    }
   ],
   "source": [
    "X_train.head()\n"
   ]
  },
  {
   "cell_type": "code",
   "execution_count": 160,
   "id": "f0dd982d",
   "metadata": {},
   "outputs": [],
   "source": [
    "sentiments_train = train_df2.loc[X_train.index].sentiment_score\n",
    "sentiments_test = train_df2.loc[X_test.index].sentiment_score\n"
   ]
  },
  {
   "cell_type": "code",
   "execution_count": 161,
   "id": "d32c7c31",
   "metadata": {},
   "outputs": [
    {
     "name": "stdout",
     "output_type": "stream",
     "text": [
      "3625    0.8316\n",
      "1648    0.8555\n",
      "2278    0.4019\n",
      "997     0.9118\n",
      "3830    0.8519\n",
      "Name: sentiment_score, dtype: float64\n",
      "3625    make home smart home know know make smart choi...\n",
      "1648    buy family everyone love definitely recommend ...\n",
      "2278             control smart home sthings also echo dot\n",
      "997     great way begin make home smart home easy set ...\n",
      "3830    alex device fantastic would recommend anyone e...\n",
      "Name: reviews.text, dtype: object\n"
     ]
    }
   ],
   "source": [
    "print(sentiments_train.head(), X_train.head(), sep='\\n')\n",
    "#The matching index numbers for X_train and sentiments_train indicate our data marches up as expected.\n",
    "#SInce the order of X_train_matrix and X_train are the same, we can therefore horizontally concatenate\n",
    "    #X_train_matrix and sentiments_train in order to add seniment score as a feature."
   ]
  },
  {
   "cell_type": "code",
   "execution_count": 162,
   "id": "23b6185c",
   "metadata": {},
   "outputs": [
    {
     "name": "stdout",
     "output_type": "stream",
     "text": [
      "3183    0.6369\n",
      "639     0.5719\n",
      "2536    0.6705\n",
      "543    -0.4215\n",
      "328     0.9062\n",
      "Name: sentiment_score, dtype: float64\n",
      "3183                     daughter love tablet carry place\n",
      "639     like kindle read book good old amazon kindle fire\n",
      "2536    screen clear battery last long time good subst...\n",
      "543     music full home automation control assistant c...\n",
      "328     fantastic product read book wonderful use full...\n",
      "Name: reviews.text, dtype: object\n"
     ]
    }
   ],
   "source": [
    "print(sentiments_test.head(), X_test.head(), sep='\\n')"
   ]
  },
  {
   "cell_type": "code",
   "execution_count": 163,
   "id": "8295e580",
   "metadata": {},
   "outputs": [
    {
     "name": "stdout",
     "output_type": "stream",
     "text": [
      "(3400, 3281) (3400,) (600, 3281) (600,)\n"
     ]
    }
   ],
   "source": [
    "print(X_train_matrix.shape, sentiments_train.shape, X_test_matrix.shape, sentiments_test.shape)"
   ]
  },
  {
   "cell_type": "code",
   "execution_count": 164,
   "id": "3d04b17f",
   "metadata": {},
   "outputs": [],
   "source": [
    "X_train_matrix_s = np.hstack([X_train_matrix.toarray(), sentiments_train.values.reshape(-1, 1)])\n",
    "X_test_matrix_s = np.hstack([X_test_matrix.toarray(), sentiments_test.values.reshape(-1, 1)])"
   ]
  },
  {
   "cell_type": "code",
   "execution_count": 165,
   "id": "fc2c5d9b",
   "metadata": {},
   "outputs": [
    {
     "name": "stdout",
     "output_type": "stream",
     "text": [
      "(3400, 3282) (3400,) (600, 3282) (600,)\n"
     ]
    }
   ],
   "source": [
    "print(X_train_matrix_s.shape, sentiments_train.shape, X_test_matrix_s.shape, sentiments_test.shape)\n",
    "#As we can see, both the train and test matrices noww have an additional feature\n",
    "#This feature is the sentiment score"
   ]
  },
  {
   "cell_type": "code",
   "execution_count": 166,
   "id": "efdd886c",
   "metadata": {},
   "outputs": [
    {
     "data": {
      "text/plain": [
       "array([[0.    , 0.    , 0.    , ..., 0.    , 0.    , 0.8316],\n",
       "       [0.    , 0.    , 0.    , ..., 0.    , 0.    , 0.8555],\n",
       "       [0.    , 0.    , 0.    , ..., 0.    , 0.    , 0.4019],\n",
       "       ...,\n",
       "       [0.    , 0.    , 0.    , ..., 0.    , 0.    , 0.8689],\n",
       "       [0.    , 0.    , 0.    , ..., 0.    , 0.    , 0.9758],\n",
       "       [0.    , 0.    , 0.    , ..., 0.    , 0.    , 0.6597]])"
      ]
     },
     "execution_count": 166,
     "metadata": {},
     "output_type": "execute_result"
    }
   ],
   "source": [
    "X_train_matrix_s\n",
    "#Below we can confirm that the right most column of the array contains the sentiment scores"
   ]
  },
  {
   "cell_type": "markdown",
   "id": "037e6f8a",
   "metadata": {},
   "source": [
    "### Model Training using Sentiment Score"
   ]
  },
  {
   "cell_type": "code",
   "execution_count": 167,
   "id": "9ad41cc8",
   "metadata": {},
   "outputs": [],
   "source": [
    "sxgbclf = XGBClassifier()"
   ]
  },
  {
   "cell_type": "code",
   "execution_count": 168,
   "id": "67416753",
   "metadata": {
    "scrolled": true
   },
   "outputs": [
    {
     "name": "stderr",
     "output_type": "stream",
     "text": [
      "C:\\Users\\adl\\anaconda3\\lib\\site-packages\\xgboost\\sklearn.py:1224: UserWarning: The use of label encoder in XGBClassifier is deprecated and will be removed in a future release. To remove this warning, do the following: 1) Pass option use_label_encoder=False when constructing XGBClassifier object; and 2) Encode your labels (y) as integers starting with 0, i.e. 0, 1, 2, ..., [num_class - 1].\n",
      "  warnings.warn(label_encoder_deprecation_msg, UserWarning)\n"
     ]
    },
    {
     "name": "stdout",
     "output_type": "stream",
     "text": [
      "[21:56:15] WARNING: C:/Users/Administrator/workspace/xgboost-win64_release_1.5.1/src/learner.cc:1115: Starting in XGBoost 1.3.0, the default evaluation metric used with the objective 'multi:softprob' was changed from 'merror' to 'mlogloss'. Explicitly set eval_metric if you'd like to restore the old behavior.\n"
     ]
    },
    {
     "data": {
      "text/plain": [
       "XGBClassifier(base_score=0.5, booster='gbtree', colsample_bylevel=1,\n",
       "              colsample_bynode=1, colsample_bytree=1, enable_categorical=False,\n",
       "              gamma=0, gpu_id=-1, importance_type=None,\n",
       "              interaction_constraints='', learning_rate=0.300000012,\n",
       "              max_delta_step=0, max_depth=6, min_child_weight=1, missing=nan,\n",
       "              monotone_constraints='()', n_estimators=100, n_jobs=8,\n",
       "              num_parallel_tree=1, objective='multi:softprob', predictor='auto',\n",
       "              random_state=0, reg_alpha=0, reg_lambda=1, scale_pos_weight=None,\n",
       "              subsample=1, tree_method='exact', validate_parameters=1,\n",
       "              verbosity=None)"
      ]
     },
     "execution_count": 168,
     "metadata": {},
     "output_type": "execute_result"
    }
   ],
   "source": [
    "sxgbclf.fit(X_train_matrix_s, y_train)"
   ]
  },
  {
   "cell_type": "code",
   "execution_count": 169,
   "id": "20fb88bc",
   "metadata": {},
   "outputs": [],
   "source": [
    "sxgb_train_predicitons = sxgbclf.predict(X_train_matrix_s)\n",
    "sxgb_test_predicitons = sxgbclf.predict(X_test_matrix_s)\n"
   ]
  },
  {
   "cell_type": "code",
   "execution_count": 170,
   "id": "87604e77",
   "metadata": {},
   "outputs": [
    {
     "data": {
      "text/plain": [
       "array([2, 2, 2, ..., 2, 2, 2])"
      ]
     },
     "execution_count": 170,
     "metadata": {},
     "output_type": "execute_result"
    }
   ],
   "source": [
    "sxgb_train_predicitons"
   ]
  },
  {
   "cell_type": "code",
   "execution_count": 171,
   "id": "40ec9663",
   "metadata": {},
   "outputs": [
    {
     "data": {
      "text/plain": [
       "array([[  79,    0,    0],\n",
       "       [   0,  120,   14],\n",
       "       [   0,    0, 3187]], dtype=int64)"
      ]
     },
     "execution_count": 171,
     "metadata": {},
     "output_type": "execute_result"
    }
   ],
   "source": [
    "confusion_matrix(y_train, sxgb_train_predicitons)"
   ]
  },
  {
   "cell_type": "code",
   "execution_count": 172,
   "id": "d7b4f707",
   "metadata": {},
   "outputs": [
    {
     "name": "stdout",
     "output_type": "stream",
     "text": [
      "recall score: [1.         0.89552239 1.        ]\n",
      "precision score: [1.         1.         0.99562637]\n",
      "f1 score [1.         0.94488189 0.99780839]\n",
      "average f1 score: 0.9808967601654678\n"
     ]
    }
   ],
   "source": [
    "print_scores(y_train, sxgb_train_predicitons)"
   ]
  },
  {
   "cell_type": "code",
   "execution_count": 173,
   "id": "bdfabe07",
   "metadata": {},
   "outputs": [
    {
     "data": {
      "text/plain": [
       "array([[  5,   0,   9],\n",
       "       [  1,   7,  16],\n",
       "       [  0,   3, 559]], dtype=int64)"
      ]
     },
     "execution_count": 173,
     "metadata": {},
     "output_type": "execute_result"
    }
   ],
   "source": [
    "confusion_matrix(y_test, sxgb_test_predicitons)"
   ]
  },
  {
   "cell_type": "code",
   "execution_count": 174,
   "id": "2d0550b3",
   "metadata": {},
   "outputs": [
    {
     "name": "stdout",
     "output_type": "stream",
     "text": [
      "recall score: [0.35714286 0.29166667 0.99466192]\n",
      "precision score: [0.83333333 0.7        0.95719178]\n",
      "f1 score [0.5        0.41176471 0.97556719]\n",
      "average f1 score: 0.6291106320364097\n"
     ]
    }
   ],
   "source": [
    "print_scores(y_test, sxgb_test_predicitons)\n",
    "#The xgboost classifier outperforms both the NaiveBayes and the RandomForest classifier,\n",
    "    #even when trained on an imbalanced dataset."
   ]
  },
  {
   "cell_type": "code",
   "execution_count": 175,
   "id": "26e9b00b",
   "metadata": {},
   "outputs": [
    {
     "name": "stdout",
     "output_type": "stream",
     "text": [
      "recall score: [0.35714286 0.29166667 0.99288256]\n",
      "precision score: [0.83333333 0.63636364 0.95711835]\n",
      "f1 score [0.5        0.4        0.97467249]\n",
      "average f1 score: 0.6248908296943232\n"
     ]
    }
   ],
   "source": [
    "print_scores(y_test, xgb_test_predicitons)\n",
    "#The xgboost classifier outperforms both the NaiveBayes and the RandomForest classifier,\n",
    "    #even when trained on an imbalanced dataset."
   ]
  },
  {
   "cell_type": "markdown",
   "id": "24ae2cdb",
   "metadata": {},
   "source": [
    "### Ensemble Technique with sentiment score"
   ]
  },
  {
   "cell_type": "code",
   "execution_count": 176,
   "id": "f5e939ea",
   "metadata": {},
   "outputs": [],
   "source": [
    "srfclf = RandomForestClassifier(class_weight='balanced')"
   ]
  },
  {
   "cell_type": "code",
   "execution_count": 177,
   "id": "6af6e0b8",
   "metadata": {},
   "outputs": [
    {
     "data": {
      "text/plain": [
       "RandomForestClassifier(class_weight='balanced')"
      ]
     },
     "execution_count": 177,
     "metadata": {},
     "output_type": "execute_result"
    }
   ],
   "source": [
    "srfclf.fit(X_train_matrix_s, y_train)"
   ]
  },
  {
   "cell_type": "code",
   "execution_count": 178,
   "id": "74c8170c",
   "metadata": {},
   "outputs": [],
   "source": [
    "srftrain_predictions = srfclf.predict(X_train_matrix_s)"
   ]
  },
  {
   "cell_type": "code",
   "execution_count": 179,
   "id": "93ddb646",
   "metadata": {},
   "outputs": [
    {
     "data": {
      "text/plain": [
       "array([[  79,    0,    0],\n",
       "       [   0,  134,    0],\n",
       "       [   0,    0, 3187]], dtype=int64)"
      ]
     },
     "execution_count": 179,
     "metadata": {},
     "output_type": "execute_result"
    }
   ],
   "source": [
    "confusion_matrix(y_train, srftrain_predictions)\n",
    "#The random forest algorithm with class_weight parameter = 'balanced' is capable of perfectly\n",
    "#classifying the training data."
   ]
  },
  {
   "cell_type": "code",
   "execution_count": 180,
   "id": "d1179b53",
   "metadata": {},
   "outputs": [
    {
     "name": "stdout",
     "output_type": "stream",
     "text": [
      "recall score: [1. 1. 1.]\n",
      "precision score: [1. 1. 1.]\n",
      "f1 score [1. 1. 1.]\n",
      "average f1 score: 1.0\n"
     ]
    }
   ],
   "source": [
    "print_scores(y_train, srftrain_predictions)\n",
    "#The rf classifier is perfect at predicting the labels of examples it has seen before."
   ]
  },
  {
   "cell_type": "code",
   "execution_count": 181,
   "id": "ce8ed96b",
   "metadata": {},
   "outputs": [],
   "source": [
    "srftest_predictions = srfclf.predict(X_test_matrix_s)"
   ]
  },
  {
   "cell_type": "code",
   "execution_count": 182,
   "id": "8e8ff808",
   "metadata": {},
   "outputs": [
    {
     "data": {
      "text/plain": [
       "array([[  5,   0,   9],\n",
       "       [  0,   5,  19],\n",
       "       [  0,   0, 562]], dtype=int64)"
      ]
     },
     "execution_count": 182,
     "metadata": {},
     "output_type": "execute_result"
    }
   ],
   "source": [
    "confusion_matrix(y_test, srftest_predictions)"
   ]
  },
  {
   "cell_type": "code",
   "execution_count": 183,
   "id": "ead00752",
   "metadata": {},
   "outputs": [
    {
     "name": "stdout",
     "output_type": "stream",
     "text": [
      "recall score: [0.35714286 0.20833333 1.        ]\n",
      "precision score: [1.         1.         0.95254237]\n",
      "f1 score [0.52631579 0.34482759 0.97569444]\n",
      "average f1 score: 0.6156126067083417\n"
     ]
    }
   ],
   "source": [
    "print_scores(y_test, srftest_predictions)\n",
    "#The rf model generalizes better to unseen data, but still does a poor job identifying examples from the minority classes"
   ]
  },
  {
   "cell_type": "code",
   "execution_count": null,
   "id": "c8174859",
   "metadata": {},
   "outputs": [],
   "source": []
  },
  {
   "cell_type": "code",
   "execution_count": 184,
   "id": "f6cc94ed",
   "metadata": {},
   "outputs": [
    {
     "name": "stdout",
     "output_type": "stream",
     "text": [
      "recall score: [0.35714286 0.20833333 1.        ]\n",
      "precision score: [1.         1.         0.95254237]\n",
      "f1 score [0.52631579 0.34482759 0.97569444]\n",
      "average f1 score: 0.6156126067083417\n"
     ]
    }
   ],
   "source": [
    "print_scores(y_test, rftest_predictions)"
   ]
  },
  {
   "cell_type": "markdown",
   "id": "26d72857",
   "metadata": {},
   "source": [
    "### LSTM"
   ]
  },
  {
   "cell_type": "markdown",
   "id": "f51432f0",
   "metadata": {},
   "source": [
    " "
   ]
  },
  {
   "cell_type": "code",
   "execution_count": 185,
   "id": "54e16fde",
   "metadata": {},
   "outputs": [],
   "source": [
    "from tensorflow.keras.layers import LSTM, Flatten, Dense, GRU, Input, Embedding\n",
    "from tensorflow.keras.preprocessing.text import Tokenizer\n",
    "from tensorflow.keras.preprocessing.sequence import pad_sequences"
   ]
  },
  {
   "cell_type": "code",
   "execution_count": 186,
   "id": "a8ade23a",
   "metadata": {},
   "outputs": [
    {
     "data": {
      "text/plain": [
       "3625    make home smart home know know make smart choi...\n",
       "1648    buy family everyone love definitely recommend ...\n",
       "2278             control smart home sthings also echo dot\n",
       "997     great way begin make home smart home easy set ...\n",
       "3830    alex device fantastic would recommend anyone e...\n",
       "                              ...                        \n",
       "2341    similar facetime apple watch someone show some...\n",
       "2834                gf love use time get book want follow\n",
       "3765    love able turn light voice make life lot easy ...\n",
       "253     great easy tablet reasonable price super power...\n",
       "1799                        like much give gift christmas\n",
       "Name: reviews.text, Length: 3400, dtype: object"
      ]
     },
     "execution_count": 186,
     "metadata": {},
     "output_type": "execute_result"
    }
   ],
   "source": [
    "X_train"
   ]
  },
  {
   "cell_type": "code",
   "execution_count": 187,
   "id": "d3dd088b",
   "metadata": {},
   "outputs": [],
   "source": [
    "vocab_size=3000\n",
    "tokenizer = Tokenizer(num_words=vocab_size)\n"
   ]
  },
  {
   "cell_type": "code",
   "execution_count": 188,
   "id": "d992bbcb",
   "metadata": {},
   "outputs": [],
   "source": [
    "tokenizer.fit_on_texts(X_train )"
   ]
  },
  {
   "cell_type": "code",
   "execution_count": 189,
   "id": "bedbc380",
   "metadata": {},
   "outputs": [
    {
     "data": {
      "text/plain": [
       "3291"
      ]
     },
     "execution_count": 189,
     "metadata": {},
     "output_type": "execute_result"
    }
   ],
   "source": [
    "len(tokenizer.word_index)\n",
    "#We will not include the 292 least common words in the vocabulary"
   ]
  },
  {
   "cell_type": "code",
   "execution_count": 190,
   "id": "2d7e268e",
   "metadata": {},
   "outputs": [],
   "source": [
    "X_train_tokenized = tokenizer.texts_to_sequences(X_train)\n",
    "X_test_tokenized = tokenizer.texts_to_sequences(X_test)"
   ]
  },
  {
   "cell_type": "code",
   "execution_count": 191,
   "id": "b2307dde",
   "metadata": {},
   "outputs": [
    {
     "name": "stdout",
     "output_type": "stream",
     "text": [
      "[[41, 47, 73, 47, 110, 110, 41, 73, 360, 12, 11, 540, 27, 361, 53, 431, 96, 73, 1102, 1103], [5, 74, 380, 1, 155, 49, 5, 10]]\n"
     ]
    }
   ],
   "source": [
    "print(X_train_tokenized[:2])\n",
    "#x_train_tokenized is a list of lists\n",
    "#Each list is a sequence of integers, each representing a word"
   ]
  },
  {
   "cell_type": "code",
   "execution_count": 192,
   "id": "f814298b",
   "metadata": {},
   "outputs": [
    {
     "data": {
      "image/png": "[encoded data removed]",
      "text/plain": [
       "<Figure size 1080x576 with 1 Axes>"
      ]
     },
     "metadata": {
      "needs_background": "light"
     },
     "output_type": "display_data"
    }
   ],
   "source": [
    "plt.figure(figsize=(15, 8))\n",
    "sns.countplot(x=[len(seq) for seq in X_train_tokenized])\n",
    "plt.xticks(np.arange(1, 100, 10))\n",
    "plt.show()"
   ]
  },
  {
   "cell_type": "code",
   "execution_count": 193,
   "id": "4afe1ef9",
   "metadata": {},
   "outputs": [],
   "source": [
    "X_train_final = pad_sequences(X_train_tokenized, maxlen=120, padding='post')\n",
    "X_test_final = pad_sequences(X_test_tokenized, maxlen=120, padding='post')"
   ]
  },
  {
   "cell_type": "code",
   "execution_count": 194,
   "id": "221dbcd5",
   "metadata": {},
   "outputs": [
    {
     "name": "stdout",
     "output_type": "stream",
     "text": [
      "(3400, 120) (600, 120)\n"
     ]
    }
   ],
   "source": [
    "print(X_train_final.shape, X_test_final.shape)"
   ]
  },
  {
   "cell_type": "code",
   "execution_count": 195,
   "id": "05665002",
   "metadata": {},
   "outputs": [],
   "source": [
    "model = Sequential(\n",
    "    [Embedding(input_dim=vocab_size, output_dim=300, input_length=120),\n",
    "     LSTM(100, return_sequences=True),\n",
    "     LSTM(20),\n",
    "     Dense(10, activation='softmax'),\n",
    "     Dense(3, activation='softmax'),\n",
    "        \n",
    "    ])"
   ]
  },
  {
   "cell_type": "code",
   "execution_count": 196,
   "id": "ffb55f89",
   "metadata": {},
   "outputs": [
    {
     "name": "stdout",
     "output_type": "stream",
     "text": [
      "Model: \"sequential_2\"\n",
      "_________________________________________________________________\n",
      "Layer (type)                 Output Shape              Param #   \n",
      "=================================================================\n",
      "embedding (Embedding)        (None, 120, 300)          900000    \n",
      "_________________________________________________________________\n",
      "lstm (LSTM)                  (None, 120, 100)          160400    \n",
      "_________________________________________________________________\n",
      "lstm_1 (LSTM)                (None, 20)                9680      \n",
      "_________________________________________________________________\n",
      "dense_8 (Dense)              (None, 10)                210       \n",
      "_________________________________________________________________\n",
      "dense_9 (Dense)              (None, 3)                 33        \n",
      "=================================================================\n",
      "Total params: 1,070,323\n",
      "Trainable params: 1,070,323\n",
      "Non-trainable params: 0\n",
      "_________________________________________________________________\n"
     ]
    }
   ],
   "source": [
    "model.summary()"
   ]
  },
  {
   "cell_type": "code",
   "execution_count": 197,
   "id": "49f33f8c",
   "metadata": {},
   "outputs": [],
   "source": [
    "model.compile(optimizer='adam', loss='SparseCategoricalCrossentropy', metrics=['accuracy'])"
   ]
  },
  {
   "cell_type": "code",
   "execution_count": 198,
   "id": "63a21b52",
   "metadata": {},
   "outputs": [
    {
     "data": {
      "text/plain": [
       "{0: 14.345991561181433, 1: 8.457711442786069, 2: 0.3556113377261792}"
      ]
     },
     "execution_count": 198,
     "metadata": {},
     "output_type": "execute_result"
    }
   ],
   "source": [
    "class_weight"
   ]
  },
  {
   "cell_type": "code",
   "execution_count": 199,
   "id": "23992838",
   "metadata": {},
   "outputs": [
    {
     "name": "stdout",
     "output_type": "stream",
     "text": [
      "Epoch 1/30\n",
      "54/54 [==============================] - 11s 158ms/step - loss: 1.1017 - accuracy: 0.9374\n",
      "Epoch 2/30\n",
      "54/54 [==============================] - 9s 158ms/step - loss: 1.1006 - accuracy: 0.9374\n",
      "Epoch 3/30\n",
      "54/54 [==============================] - 9s 160ms/step - loss: 1.0997 - accuracy: 0.9374\n",
      "Epoch 4/30\n",
      "54/54 [==============================] - 8s 153ms/step - loss: 1.0999 - accuracy: 0.6594\n",
      "Epoch 5/30\n",
      "54/54 [==============================] - 8s 152ms/step - loss: 1.1006 - accuracy: 0.9374\n",
      "Epoch 6/30\n",
      "54/54 [==============================] - 8s 156ms/step - loss: 1.0992 - accuracy: 0.2938\n",
      "Epoch 7/30\n",
      "54/54 [==============================] - 9s 161ms/step - loss: 1.0994 - accuracy: 0.8862\n",
      "Epoch 8/30\n",
      "54/54 [==============================] - 8s 156ms/step - loss: 1.0989 - accuracy: 0.4285\n",
      "Epoch 9/30\n",
      "54/54 [==============================] - 9s 163ms/step - loss: 1.1064 - accuracy: 0.4406\n",
      "Epoch 10/30\n",
      "54/54 [==============================] - 9s 158ms/step - loss: 1.1014 - accuracy: 0.1115\n",
      "Epoch 11/30\n",
      "54/54 [==============================] - 8s 157ms/step - loss: 1.1008 - accuracy: 0.7800\n",
      "Epoch 12/30\n",
      "54/54 [==============================] - 8s 156ms/step - loss: 1.0993 - accuracy: 0.7974\n",
      "Epoch 13/30\n",
      "54/54 [==============================] - 8s 157ms/step - loss: 1.0991 - accuracy: 0.3347\n",
      "Epoch 14/30\n",
      "54/54 [==============================] - 9s 160ms/step - loss: 1.0995 - accuracy: 0.0394\n",
      "Epoch 15/30\n",
      "54/54 [==============================] - 64s 1s/step - loss: 1.0991 - accuracy: 0.0394\n",
      "Epoch 16/30\n",
      "54/54 [==============================] - 8s 158ms/step - loss: 1.0995 - accuracy: 0.0394\n",
      "Epoch 17/30\n",
      "54/54 [==============================] - 8s 146ms/step - loss: 1.0995 - accuracy: 0.0394\n",
      "Epoch 18/30\n",
      "54/54 [==============================] - 8s 148ms/step - loss: 1.1004 - accuracy: 0.1818\n",
      "Epoch 19/30\n",
      "54/54 [==============================] - 8s 148ms/step - loss: 1.0994 - accuracy: 0.0394\n",
      "Epoch 20/30\n",
      "54/54 [==============================] - 8s 152ms/step - loss: 1.0992 - accuracy: 0.0394\n",
      "Epoch 21/30\n",
      "54/54 [==============================] - 8s 155ms/step - loss: 1.0988 - accuracy: 0.1518\n",
      "Epoch 22/30\n",
      "54/54 [==============================] - 8s 145ms/step - loss: 1.0992 - accuracy: 0.1165\n",
      "Epoch 23/30\n",
      "54/54 [==============================] - 8s 142ms/step - loss: 1.0992 - accuracy: 0.8656\n",
      "Epoch 24/30\n",
      "54/54 [==============================] - 8s 143ms/step - loss: 1.0997 - accuracy: 0.1256\n",
      "Epoch 25/30\n",
      "54/54 [==============================] - 8s 145ms/step - loss: 1.0995 - accuracy: 0.0318\n",
      "Epoch 26/30\n",
      "54/54 [==============================] - 8s 147ms/step - loss: 1.0997 - accuracy: 0.0232\n",
      "Epoch 27/30\n",
      "54/54 [==============================] - 8s 146ms/step - loss: 1.0988 - accuracy: 0.0232\n",
      "Epoch 28/30\n",
      "54/54 [==============================] - 8s 145ms/step - loss: 1.0991 - accuracy: 0.0312\n",
      "Epoch 29/30\n",
      "54/54 [==============================] - 8s 146ms/step - loss: 1.0988 - accuracy: 0.0265\n",
      "Epoch 30/30\n",
      "54/54 [==============================] - 8s 144ms/step - loss: 1.0992 - accuracy: 0.4559\n"
     ]
    }
   ],
   "source": [
    "lstm_history = model.fit(X_train_final, y_train, batch_size=64, epochs=30, verbose=1, class_weight=class_weight)"
   ]
  },
  {
   "cell_type": "markdown",
   "id": "65d5c923",
   "metadata": {},
   "source": [
    "### Clustering reviews"
   ]
  },
  {
   "cell_type": "code",
   "execution_count": 277,
   "id": "6565262f",
   "metadata": {},
   "outputs": [],
   "source": [
    "from sklearn.cluster import KMeans\n",
    "from sklearn.metrics import silhouette_score"
   ]
  },
  {
   "cell_type": "code",
   "execution_count": 244,
   "id": "7dea80d6",
   "metadata": {},
   "outputs": [
    {
     "data": {
      "text/plain": [
       "0       purchase black fridaypros great price even sal...\n",
       "1       purchase two amazon echo plus two dot plus fou...\n",
       "2       average alexa option show things screen still ...\n",
       "3                    good product exactly want good price\n",
       "4       one purchase buy one nieces case compare one h...\n",
       "                              ...                        \n",
       "3995        fun family play may get bore newness wear see\n",
       "3996    love kindle great product reduce eye strain en...\n",
       "3997    look blutooth speaker use phone want worry thi...\n",
       "3998    second amazon fire tablet purchase time color ...\n",
       "3999                        satisfy tablet fast efficient\n",
       "Name: reviews.text, Length: 4000, dtype: object"
      ]
     },
     "execution_count": 244,
     "metadata": {},
     "output_type": "execute_result"
    }
   ],
   "source": [
    "cleaned_reviews"
   ]
  },
  {
   "cell_type": "code",
   "execution_count": 247,
   "id": "97417067",
   "metadata": {},
   "outputs": [],
   "source": [
    "def s_lemmatizer(doc, allowed_tags=['NOUN', 'ADJ']):\n",
    "    spacy_doc = spacy_nlp(doc)\n",
    "    tokens  = [word.lemma_ for word in spacy_doc if word.pos_ in allowed_tags]\n",
    "    review = ' '.join(tokens)\n",
    "    \n",
    "    return review\n"
   ]
  },
  {
   "cell_type": "code",
   "execution_count": 248,
   "id": "dae87ae2",
   "metadata": {},
   "outputs": [],
   "source": [
    "lemmatized_cleaned_reviews = cleaned_reviews.apply(s_lemmatizer)"
   ]
  },
  {
   "cell_type": "code",
   "execution_count": 249,
   "id": "e12f8a23",
   "metadata": {},
   "outputs": [],
   "source": [
    "vectorized_reviews = vectorizer.fit_transform(cleaned_reviews)"
   ]
  },
  {
   "cell_type": "code",
   "execution_count": 285,
   "id": "f05b522f",
   "metadata": {},
   "outputs": [],
   "source": [
    "inertias = []\n",
    "kms = []\n",
    "for i in range(5, 30):\n",
    "    km = KMeans(n_clusters=i, random_state=0)\n",
    "    km.fit(vectorized_reviews)\n",
    "    inertia = km.inertia_\n",
    "    inertias.append(inertia)\n",
    "    kms.append(km)"
   ]
  },
  {
   "cell_type": "code",
   "execution_count": 286,
   "id": "440b3809",
   "metadata": {},
   "outputs": [
    {
     "data": {
      "text/plain": [
       "[<matplotlib.lines.Line2D at 0x272c1191be0>]"
      ]
     },
     "execution_count": 286,
     "metadata": {},
     "output_type": "execute_result"
    },
    {
     "data": {
      "image/png": "[encoded data removed]",
      "text/plain": [
       "<Figure size 432x288 with 1 Axes>"
      ]
     },
     "metadata": {
      "needs_background": "light"
     },
     "output_type": "display_data"
    }
   ],
   "source": [
    "plt.plot(range(5, 30), inertias)"
   ]
  },
  {
   "cell_type": "code",
   "execution_count": 287,
   "id": "d0b30b82",
   "metadata": {},
   "outputs": [
    {
     "data": {
      "text/plain": [
       "[KMeans(n_clusters=5, random_state=0),\n",
       " KMeans(n_clusters=6, random_state=0),\n",
       " KMeans(n_clusters=7, random_state=0),\n",
       " KMeans(random_state=0),\n",
       " KMeans(n_clusters=9, random_state=0),\n",
       " KMeans(n_clusters=10, random_state=0),\n",
       " KMeans(n_clusters=11, random_state=0),\n",
       " KMeans(n_clusters=12, random_state=0),\n",
       " KMeans(n_clusters=13, random_state=0),\n",
       " KMeans(n_clusters=14, random_state=0),\n",
       " KMeans(n_clusters=15, random_state=0),\n",
       " KMeans(n_clusters=16, random_state=0),\n",
       " KMeans(n_clusters=17, random_state=0),\n",
       " KMeans(n_clusters=18, random_state=0),\n",
       " KMeans(n_clusters=19, random_state=0),\n",
       " KMeans(n_clusters=20, random_state=0),\n",
       " KMeans(n_clusters=21, random_state=0),\n",
       " KMeans(n_clusters=22, random_state=0),\n",
       " KMeans(n_clusters=23, random_state=0),\n",
       " KMeans(n_clusters=24, random_state=0),\n",
       " KMeans(n_clusters=25, random_state=0),\n",
       " KMeans(n_clusters=26, random_state=0),\n",
       " KMeans(n_clusters=27, random_state=0),\n",
       " KMeans(n_clusters=28, random_state=0),\n",
       " KMeans(n_clusters=29, random_state=0)]"
      ]
     },
     "execution_count": 287,
     "metadata": {},
     "output_type": "execute_result"
    }
   ],
   "source": [
    "kms"
   ]
  },
  {
   "cell_type": "code",
   "execution_count": 288,
   "id": "3302f1df",
   "metadata": {},
   "outputs": [],
   "source": [
    "sil_scores = [silhouette_score(vectorized_reviews, km.predict(vectorized_reviews)) for km in kms]"
   ]
  },
  {
   "cell_type": "code",
   "execution_count": 289,
   "id": "e29d854c",
   "metadata": {},
   "outputs": [
    {
     "data": {
      "text/plain": [
       "[<matplotlib.lines.Line2D at 0x272c13b61c0>]"
      ]
     },
     "execution_count": 289,
     "metadata": {},
     "output_type": "execute_result"
    },
    {
     "data": {
      "image/png": "[encoded data removed]",
      "text/plain": [
       "<Figure size 432x288 with 1 Axes>"
      ]
     },
     "metadata": {
      "needs_background": "light"
     },
     "output_type": "display_data"
    }
   ],
   "source": [
    "plt.plot(sil_scores)"
   ]
  },
  {
   "cell_type": "code",
   "execution_count": null,
   "id": "fb8d667e",
   "metadata": {},
   "outputs": [],
   "source": []
  },
  {
   "cell_type": "code",
   "execution_count": null,
   "id": "c81b0034",
   "metadata": {},
   "outputs": [],
   "source": []
  },
  {
   "cell_type": "code",
   "execution_count": null,
   "id": "8b560a4e",
   "metadata": {},
   "outputs": [],
   "source": []
  },
  {
   "cell_type": "code",
   "execution_count": null,
   "id": "2e3e02c3",
   "metadata": {},
   "outputs": [],
   "source": []
  },
  {
   "cell_type": "code",
   "execution_count": 201,
   "id": "9280340c",
   "metadata": {},
   "outputs": [],
   "source": [
    "from gensim.corpora import Dictionary\n",
    "from gensim.models.ldamodel import LdaModel\n",
    "from gensim.models.coherencemodel import CoherenceModel\n",
    "import pyLDAvis\n",
    "import pyLDAvis.gensim_models"
   ]
  },
  {
   "cell_type": "code",
   "execution_count": 208,
   "id": "430092ad",
   "metadata": {},
   "outputs": [],
   "source": [
    "spacy_nlp = spacy.load('en_core_web_sm')"
   ]
  },
  {
   "cell_type": "code",
   "execution_count": 209,
   "id": "66b1fa80",
   "metadata": {},
   "outputs": [],
   "source": [
    "def tokenizer_and_lemmatizer(doc, allowed_tags=['NOUN', 'ADJ']):\n",
    "    spacy_doc = spacy_nlp(doc)\n",
    "    tokens  = [word.lemma_ for word in spacy_doc if word.pos_ in allowed_tags]\n",
    "    \n",
    "    return tokens\n",
    "\n"
   ]
  },
  {
   "cell_type": "code",
   "execution_count": 210,
   "id": "cc0742b7",
   "metadata": {},
   "outputs": [
    {
     "data": {
      "text/plain": [
       "0    purchase black fridaypros great price even sal...\n",
       "1    purchase two amazon echo plus two dot plus fou...\n",
       "2    average alexa option show things screen still ...\n",
       "3                 good product exactly want good price\n",
       "4    one purchase buy one nieces case compare one h...\n",
       "Name: reviews.text, dtype: object"
      ]
     },
     "execution_count": 210,
     "metadata": {},
     "output_type": "execute_result"
    }
   ],
   "source": [
    "cleaned_reviews.head()"
   ]
  },
  {
   "cell_type": "code",
   "execution_count": 211,
   "id": "0be415f5",
   "metadata": {},
   "outputs": [],
   "source": [
    "tokenized_cleaned_reviews = cleaned_reviews.apply(tokenizer_and_lemmatizer)"
   ]
  },
  {
   "cell_type": "code",
   "execution_count": 214,
   "id": "3493ba80",
   "metadata": {},
   "outputs": [
    {
     "data": {
      "text/plain": [
       "0    [purchase, black, fridaypro, great, price, pow...\n",
       "1    [amazon, dot, fire, stick, hub, happy, purchas...\n",
       "2        [average, alexa, option, show, thing, screen]\n",
       "3                         [good, product, good, price]\n",
       "4    [purchase, niece, case, hold, protect, tablet,...\n",
       "Name: reviews.text, dtype: object"
      ]
     },
     "execution_count": 214,
     "metadata": {},
     "output_type": "execute_result"
    }
   ],
   "source": [
    "tokenized_cleaned_reviews.head()"
   ]
  },
  {
   "cell_type": "code",
   "execution_count": 215,
   "id": "1783ec70",
   "metadata": {},
   "outputs": [],
   "source": [
    "dct = Dictionary(tokenized_cleaned_reviews)"
   ]
  },
  {
   "cell_type": "code",
   "execution_count": 217,
   "id": "b74b0597",
   "metadata": {},
   "outputs": [
    {
     "data": {
      "text/plain": [
       "2591"
      ]
     },
     "execution_count": 217,
     "metadata": {},
     "output_type": "execute_result"
    }
   ],
   "source": [
    "len(dct)\n",
    "#There are 2591 unique words in the dictionary"
   ]
  },
  {
   "cell_type": "code",
   "execution_count": 221,
   "id": "595719b1",
   "metadata": {},
   "outputs": [
    {
     "data": {
      "text/plain": [
       "[('great', 1217),\n",
       " ('good', 955),\n",
       " ('love', 815),\n",
       " ('tablet', 785),\n",
       " ('use', 682),\n",
       " ('kindle', 545),\n",
       " ('easy', 526),\n",
       " ('product', 444),\n",
       " ('kid', 405),\n",
       " ('screen', 396)]"
      ]
     },
     "execution_count": 221,
     "metadata": {},
     "output_type": "execute_result"
    }
   ],
   "source": [
    "dct.most_common()[:10]\n",
    "#These are the top 10 most frequently occuring words in the dictionary"
   ]
  },
  {
   "cell_type": "code",
   "execution_count": 222,
   "id": "9c54bb40",
   "metadata": {},
   "outputs": [],
   "source": [
    "doc_term_mat = [dct.doc2bow(doc) for doc in tokenized_cleaned_reviews]"
   ]
  },
  {
   "cell_type": "code",
   "execution_count": 227,
   "id": "f55fbb13",
   "metadata": {},
   "outputs": [
    {
     "name": "stdout",
     "output_type": "stream",
     "text": [
      "[(0, 1), (1, 1), (2, 1), (3, 1), (4, 2), (5, 1), (6, 1), (7, 1), (8, 1), (9, 1), (10, 1), (11, 2), (12, 1), (13, 1), (14, 1), (15, 1), (16, 1), (17, 1), (18, 1), (19, 1), (20, 1), (21, 1), (22, 1), (23, 2), (24, 1)]\n",
      "[(4, 1), (18, 1), (24, 1), (25, 4), (26, 1), (27, 1), (28, 2), (29, 1), (30, 1), (31, 1), (32, 1), (33, 1), (34, 1), (35, 2), (36, 1), (37, 1), (38, 1), (39, 1), (40, 1), (41, 1), (42, 1), (43, 1), (44, 1), (45, 1), (46, 1), (47, 1), (48, 1), (49, 1), (50, 1), (51, 1)]\n"
     ]
    }
   ],
   "source": [
    "for i in doc_term_mat[:2]:\n",
    "    print(i)"
   ]
  },
  {
   "cell_type": "code",
   "execution_count": 240,
   "id": "4fd5c26c",
   "metadata": {},
   "outputs": [],
   "source": [
    "perplexities = []\n",
    "coherences = []\n",
    "models = []\n",
    "\n",
    "for num_topics in range(6, 13):\n",
    "    lda = LdaModel(corpus=doc_term_mat, num_topics=num_topics, id2word=dct, iterations=50)\n",
    "    perplexity = lda.log_perplexity(doc_term_mat)\n",
    "    coherence_model = CoherenceModel(model=lda, texts=tokenized_cleaned_reviews, dictionary=dct, coherence=)\n",
    "    coh = coherence_model.get_coherence()\n",
    "    perplexities.append(perplexity)\n",
    "    coherences.append(coh)\n",
    "    models.append(model)"
   ]
  },
  {
   "cell_type": "code",
   "execution_count": 242,
   "id": "b5ad766f",
   "metadata": {},
   "outputs": [
    {
     "data": {
      "text/plain": [
       "[<matplotlib.lines.Line2D at 0x272bf002ca0>]"
      ]
     },
     "execution_count": 242,
     "metadata": {},
     "output_type": "execute_result"
    },
    {
     "data": {
      "image/png": "[encoded data removed]",
      "text/plain": [
       "<Figure size 432x288 with 1 Axes>"
      ]
     },
     "metadata": {
      "needs_background": "light"
     },
     "output_type": "display_data"
    }
   ],
   "source": [
    "#plt.plot(perplexities)\n",
    "plt.plot(coherences)"
   ]
  },
  {
   "cell_type": "code",
   "execution_count": 235,
   "id": "cac10002",
   "metadata": {},
   "outputs": [
    {
     "data": {
      "text/plain": [
       "[nan, nan, nan, nan, nan, nan, nan]"
      ]
     },
     "execution_count": 235,
     "metadata": {},
     "output_type": "execute_result"
    }
   ],
   "source": [
    "coherences"
   ]
  },
  {
   "cell_type": "code",
   "execution_count": null,
   "id": "94bd0e65",
   "metadata": {},
   "outputs": [],
   "source": []
  }
 ],
 "metadata": {
  "kernelspec": {
   "display_name": "Python 3 (ipykernel)",
   "language": "python",
   "name": "python3"
  },
  "language_info": {
   "codemirror_mode": {
    "name": "ipython",
    "version": 3
   },
   "file_extension": ".py",
   "mimetype": "text/x-python",
   "name": "python",
   "nbconvert_exporter": "python",
   "pygments_lexer": "ipython3",
   "version": "3.8.8"
  }
 },
 "nbformat": 4,
 "nbformat_minor": 5
}
