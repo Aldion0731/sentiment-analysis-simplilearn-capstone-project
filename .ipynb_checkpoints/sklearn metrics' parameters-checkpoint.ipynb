{
 "cells": [
  {
   "cell_type": "code",
   "execution_count": 1,
   "id": "3653a946",
   "metadata": {},
   "outputs": [],
   "source": [
    "from sklearn.metrics import recall_score"
   ]
  },
  {
   "cell_type": "code",
   "execution_count": 2,
   "id": "c583cb1c",
   "metadata": {},
   "outputs": [],
   "source": [
    "y_true = [1, 1, 0, 1]\n",
    "y_pred = [0, 1, 1, 1]"
   ]
  },
  {
   "cell_type": "code",
   "execution_count": 3,
   "id": "9b29d4a9",
   "metadata": {},
   "outputs": [
    {
     "data": {
      "text/plain": [
       "0.6666666666666666"
      ]
     },
     "execution_count": 3,
     "metadata": {},
     "output_type": "execute_result"
    }
   ],
   "source": [
    "recall_score(y_true, y_pred)\n",
    "#only the recall for 1 is reported since average is set to binary."
   ]
  },
  {
   "cell_type": "code",
   "execution_count": 4,
   "id": "3a81babc",
   "metadata": {},
   "outputs": [
    {
     "data": {
      "text/plain": [
       "0.0"
      ]
     },
     "execution_count": 4,
     "metadata": {},
     "output_type": "execute_result"
    }
   ],
   "source": [
    "recall_score(y_true, y_pred, pos_label=0)\n",
    "\n",
    "#The default value for average is binary\n",
    "#This means report on one of the two labels.\n",
    "#only the recall for 0 is report\n",
    "#There is one 0, no zeros have been labeled correctl labelled as 0 - recal = 0\n"
   ]
  },
  {
   "cell_type": "code",
   "execution_count": 5,
   "id": "1f13ada5",
   "metadata": {},
   "outputs": [
    {
     "data": {
      "text/plain": [
       "array([0.        , 0.66666667])"
      ]
     },
     "execution_count": 5,
     "metadata": {},
     "output_type": "execute_result"
    }
   ],
   "source": [
    "recall_score(y_true, y_pred, average=None)\n",
    "#setting average = None returns the recall for all classes"
   ]
  },
  {
   "cell_type": "code",
   "execution_count": 7,
   "id": "54f3f6fd",
   "metadata": {},
   "outputs": [
    {
     "data": {
      "text/plain": [
       "0.3333333333333333"
      ]
     },
     "execution_count": 7,
     "metadata": {},
     "output_type": "execute_result"
    }
   ],
   "source": [
    "recall_score(y_true, y_pred, labels=[0, 1], average='macro')\n",
    "#setting average = 'macro' finds the average recall of the two classes"
   ]
  },
  {
   "cell_type": "code",
   "execution_count": 9,
   "id": "2de0587d",
   "metadata": {},
   "outputs": [
    {
     "data": {
      "text/plain": [
       "0.5"
      ]
     },
     "execution_count": 9,
     "metadata": {},
     "output_type": "execute_result"
    }
   ],
   "source": [
    "recall_score(y_true, y_pred, labels=[0, 1], average='micro')\n",
    "#setting average = 'micro' finds the average recall of each sample.\n",
    "#This is essentially the accuracy"
   ]
  },
  {
   "cell_type": "code",
   "execution_count": 10,
   "id": "78bb9df5",
   "metadata": {},
   "outputs": [
    {
     "data": {
      "text/plain": [
       "array([0.66666667, 0.        ])"
      ]
     },
     "execution_count": 10,
     "metadata": {},
     "output_type": "execute_result"
    }
   ],
   "source": [
    "recall_score(y_true, y_pred, labels=[1, 0], average=None)\n",
    "#We can use the labels parameter to change the order of the report"
   ]
  },
  {
   "cell_type": "code",
   "execution_count": null,
   "id": "1f81f76c",
   "metadata": {},
   "outputs": [],
   "source": []
  }
 ],
 "metadata": {
  "kernelspec": {
   "display_name": "Python 3",
   "language": "python",
   "name": "python3"
  },
  "language_info": {
   "codemirror_mode": {
    "name": "ipython",
    "version": 3
   },
   "file_extension": ".py",
   "mimetype": "text/x-python",
   "name": "python",
   "nbconvert_exporter": "python",
   "pygments_lexer": "ipython3",
   "version": "3.8.8"
  }
 },
 "nbformat": 4,
 "nbformat_minor": 5
}
