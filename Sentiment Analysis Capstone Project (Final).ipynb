{
 "cells": [
  {
   "cell_type": "markdown",
   "id": "9fc1626e",
   "metadata": {},
   "source": [
    "### Introduction\n",
    "\n",
    "Sentiment Analysis refers to a natural language processing technique used to determine whether the feelings expressed in a piece of text, are positive, negative or neutral. Its uses include the monitoring of customer feedback in order to improve customer relationships, as well as to inform decisions as it relates to products, brands or services being offered by a company. The purpose of this project is to perform sentiment analysis on a sample of Amazon customer reviews. \n",
    "\n",
    "First, we will design and implement twelve different sentiment classification models. \n",
    "\n",
    "These models will then be evaluated on unseen data, using a number of different evaluation metrics.\n",
    "\n",
    "After training and evaluating all the models, we will compare the metrics for each model, then decide which would be best models to explore further for this type of classification task.\n",
    "\n",
    "The aim is to build a model capable of distinguishing between, positive, negative and neutral reviews, with a high degree of accuracy, even in cases where one or more of the review classes rarely occur.\n",
    "\n",
    "We are constrained to use the F1 score as the primary metric for choosing the best model. Insights, however, will be drawn using other metrics where their use is deemed to be more informative than just F1 score.\n",
    "\n",
    "Finally, we will attempt to perform topic modeling on the dataset in an effort to segment the various issues being discussed throught the reviews."
   ]
  },
  {
   "cell_type": "code",
   "execution_count": 1,
   "id": "9235e562",
   "metadata": {},
   "outputs": [],
   "source": [
    "from numpy.random import seed\n",
    "seed(100)\n",
    "from tensorflow.compat.v1 import set_random_seed\n",
    "set_random_seed(200)\n",
    "import pandas as pd\n",
    "import numpy as np\n",
    "import matplotlib.pyplot as plt\n",
    "import seaborn as sns\n",
    "import os\n",
    "import warnings\n",
    "warnings.filterwarnings(\"ignore\")\n"
   ]
  },
  {
   "cell_type": "markdown",
   "id": "8ffa2aa7",
   "metadata": {},
   "source": [
    "## Data Importation and Basic Exploratory Data Analysis"
   ]
  },
  {
   "cell_type": "code",
   "execution_count": 2,
   "id": "2a4156ea",
   "metadata": {},
   "outputs": [],
   "source": [
    "train_file = 'Ecommerce/train_data.csv'\n",
    "test_file = 'Ecommerce/test_data.csv'"
   ]
  },
  {
   "cell_type": "code",
   "execution_count": 3,
   "id": "ae3c518a",
   "metadata": {},
   "outputs": [],
   "source": [
    "train_df = pd.read_csv(train_file)\n",
    "test_df = pd.read_csv(test_file)"
   ]
  },
  {
   "cell_type": "code",
   "execution_count": 4,
   "id": "54e48cbc",
   "metadata": {},
   "outputs": [
    {
     "data": {
      "text/html": [
       "<div>\n",
       "<style scoped>\n",
       "    .dataframe tbody tr th:only-of-type {\n",
       "        vertical-align: middle;\n",
       "    }\n",
       "\n",
       "    .dataframe tbody tr th {\n",
       "        vertical-align: top;\n",
       "    }\n",
       "\n",
       "    .dataframe thead th {\n",
       "        text-align: right;\n",
       "    }\n",
       "</style>\n",
       "<table border=\"1\" class=\"dataframe\">\n",
       "  <thead>\n",
       "    <tr style=\"text-align: right;\">\n",
       "      <th></th>\n",
       "      <th>name</th>\n",
       "      <th>brand</th>\n",
       "      <th>categories</th>\n",
       "      <th>primaryCategories</th>\n",
       "      <th>reviews.date</th>\n",
       "      <th>reviews.text</th>\n",
       "      <th>reviews.title</th>\n",
       "      <th>sentiment</th>\n",
       "    </tr>\n",
       "  </thead>\n",
       "  <tbody>\n",
       "    <tr>\n",
       "      <th>0</th>\n",
       "      <td>All-New Fire HD 8 Tablet, 8\" HD Display, Wi-Fi...</td>\n",
       "      <td>Amazon</td>\n",
       "      <td>Electronics,iPad &amp; Tablets,All Tablets,Fire Ta...</td>\n",
       "      <td>Electronics</td>\n",
       "      <td>2016-12-26T00:00:00.000Z</td>\n",
       "      <td>Purchased on Black FridayPros - Great Price (e...</td>\n",
       "      <td>Powerful tablet</td>\n",
       "      <td>Positive</td>\n",
       "    </tr>\n",
       "    <tr>\n",
       "      <th>1</th>\n",
       "      <td>Amazon - Echo Plus w/ Built-In Hub - Silver</td>\n",
       "      <td>Amazon</td>\n",
       "      <td>Amazon Echo,Smart Home,Networking,Home &amp; Tools...</td>\n",
       "      <td>Electronics,Hardware</td>\n",
       "      <td>2018-01-17T00:00:00.000Z</td>\n",
       "      <td>I purchased two Amazon in Echo Plus and two do...</td>\n",
       "      <td>Amazon Echo Plus AWESOME</td>\n",
       "      <td>Positive</td>\n",
       "    </tr>\n",
       "    <tr>\n",
       "      <th>2</th>\n",
       "      <td>Amazon Echo Show Alexa-enabled Bluetooth Speak...</td>\n",
       "      <td>Amazon</td>\n",
       "      <td>Amazon Echo,Virtual Assistant Speakers,Electro...</td>\n",
       "      <td>Electronics,Hardware</td>\n",
       "      <td>2017-12-20T00:00:00.000Z</td>\n",
       "      <td>Just an average Alexa option. Does show a few ...</td>\n",
       "      <td>Average</td>\n",
       "      <td>Neutral</td>\n",
       "    </tr>\n",
       "    <tr>\n",
       "      <th>3</th>\n",
       "      <td>Fire HD 10 Tablet, 10.1 HD Display, Wi-Fi, 16 ...</td>\n",
       "      <td>Amazon</td>\n",
       "      <td>eBook Readers,Fire Tablets,Electronics Feature...</td>\n",
       "      <td>Office Supplies,Electronics</td>\n",
       "      <td>2017-08-04T00:00:00.000Z</td>\n",
       "      <td>very good product. Exactly what I wanted, and ...</td>\n",
       "      <td>Greattttttt</td>\n",
       "      <td>Positive</td>\n",
       "    </tr>\n",
       "    <tr>\n",
       "      <th>4</th>\n",
       "      <td>Brand New Amazon Kindle Fire 16gb 7\" Ips Displ...</td>\n",
       "      <td>Amazon</td>\n",
       "      <td>Computers/Tablets &amp; Networking,Tablets &amp; eBook...</td>\n",
       "      <td>Electronics</td>\n",
       "      <td>2017-01-23T00:00:00.000Z</td>\n",
       "      <td>This is the 3rd one I've purchased. I've bough...</td>\n",
       "      <td>Very durable!</td>\n",
       "      <td>Positive</td>\n",
       "    </tr>\n",
       "  </tbody>\n",
       "</table>\n",
       "</div>"
      ],
      "text/plain": [
       "                                                name   brand  \\\n",
       "0  All-New Fire HD 8 Tablet, 8\" HD Display, Wi-Fi...  Amazon   \n",
       "1        Amazon - Echo Plus w/ Built-In Hub - Silver  Amazon   \n",
       "2  Amazon Echo Show Alexa-enabled Bluetooth Speak...  Amazon   \n",
       "3  Fire HD 10 Tablet, 10.1 HD Display, Wi-Fi, 16 ...  Amazon   \n",
       "4  Brand New Amazon Kindle Fire 16gb 7\" Ips Displ...  Amazon   \n",
       "\n",
       "                                          categories  \\\n",
       "0  Electronics,iPad & Tablets,All Tablets,Fire Ta...   \n",
       "1  Amazon Echo,Smart Home,Networking,Home & Tools...   \n",
       "2  Amazon Echo,Virtual Assistant Speakers,Electro...   \n",
       "3  eBook Readers,Fire Tablets,Electronics Feature...   \n",
       "4  Computers/Tablets & Networking,Tablets & eBook...   \n",
       "\n",
       "             primaryCategories              reviews.date  \\\n",
       "0                  Electronics  2016-12-26T00:00:00.000Z   \n",
       "1         Electronics,Hardware  2018-01-17T00:00:00.000Z   \n",
       "2         Electronics,Hardware  2017-12-20T00:00:00.000Z   \n",
       "3  Office Supplies,Electronics  2017-08-04T00:00:00.000Z   \n",
       "4                  Electronics  2017-01-23T00:00:00.000Z   \n",
       "\n",
       "                                        reviews.text  \\\n",
       "0  Purchased on Black FridayPros - Great Price (e...   \n",
       "1  I purchased two Amazon in Echo Plus and two do...   \n",
       "2  Just an average Alexa option. Does show a few ...   \n",
       "3  very good product. Exactly what I wanted, and ...   \n",
       "4  This is the 3rd one I've purchased. I've bough...   \n",
       "\n",
       "              reviews.title sentiment  \n",
       "0           Powerful tablet  Positive  \n",
       "1  Amazon Echo Plus AWESOME  Positive  \n",
       "2                   Average   Neutral  \n",
       "3               Greattttttt  Positive  \n",
       "4             Very durable!  Positive  "
      ]
     },
     "execution_count": 4,
     "metadata": {},
     "output_type": "execute_result"
    }
   ],
   "source": [
    "train_df.head()"
   ]
  },
  {
   "cell_type": "code",
   "execution_count": 5,
   "id": "0eb96dca",
   "metadata": {},
   "outputs": [
    {
     "data": {
      "text/html": [
       "<div>\n",
       "<style scoped>\n",
       "    .dataframe tbody tr th:only-of-type {\n",
       "        vertical-align: middle;\n",
       "    }\n",
       "\n",
       "    .dataframe tbody tr th {\n",
       "        vertical-align: top;\n",
       "    }\n",
       "\n",
       "    .dataframe thead th {\n",
       "        text-align: right;\n",
       "    }\n",
       "</style>\n",
       "<table border=\"1\" class=\"dataframe\">\n",
       "  <thead>\n",
       "    <tr style=\"text-align: right;\">\n",
       "      <th></th>\n",
       "      <th>name</th>\n",
       "      <th>brand</th>\n",
       "      <th>categories</th>\n",
       "      <th>primaryCategories</th>\n",
       "      <th>reviews.date</th>\n",
       "      <th>reviews.text</th>\n",
       "      <th>reviews.title</th>\n",
       "    </tr>\n",
       "  </thead>\n",
       "  <tbody>\n",
       "    <tr>\n",
       "      <th>0</th>\n",
       "      <td>Fire Tablet, 7 Display, Wi-Fi, 16 GB - Include...</td>\n",
       "      <td>Amazon</td>\n",
       "      <td>Fire Tablets,Computers/Tablets &amp; Networking,Ta...</td>\n",
       "      <td>Electronics</td>\n",
       "      <td>2016-05-23T00:00:00.000Z</td>\n",
       "      <td>Amazon kindle fire has a lot of free app and c...</td>\n",
       "      <td>very handy device</td>\n",
       "    </tr>\n",
       "    <tr>\n",
       "      <th>1</th>\n",
       "      <td>Amazon Echo Show Alexa-enabled Bluetooth Speak...</td>\n",
       "      <td>Amazon</td>\n",
       "      <td>Computers,Amazon Echo,Virtual Assistant Speake...</td>\n",
       "      <td>Electronics,Hardware</td>\n",
       "      <td>2018-01-02T00:00:00.000Z</td>\n",
       "      <td>The Echo Show is a great addition to the Amazo...</td>\n",
       "      <td>Another winner from Amazon</td>\n",
       "    </tr>\n",
       "    <tr>\n",
       "      <th>2</th>\n",
       "      <td>All-New Fire HD 8 Tablet, 8\" HD Display, Wi-Fi...</td>\n",
       "      <td>Amazon</td>\n",
       "      <td>Electronics,iPad &amp; Tablets,All Tablets,Fire Ta...</td>\n",
       "      <td>Electronics</td>\n",
       "      <td>2017-01-02T00:00:00.000Z</td>\n",
       "      <td>Great value from Best Buy. Bought at Christmas...</td>\n",
       "      <td>simple to use and reliable so far</td>\n",
       "    </tr>\n",
       "    <tr>\n",
       "      <th>3</th>\n",
       "      <td>Brand New Amazon Kindle Fire 16gb 7\" Ips Displ...</td>\n",
       "      <td>Amazon</td>\n",
       "      <td>Computers/Tablets &amp; Networking,Tablets &amp; eBook...</td>\n",
       "      <td>Electronics</td>\n",
       "      <td>2017-03-25T00:00:00.000Z</td>\n",
       "      <td>I use mine for email, Facebook ,games and to g...</td>\n",
       "      <td>Love it!!!</td>\n",
       "    </tr>\n",
       "    <tr>\n",
       "      <th>4</th>\n",
       "      <td>Amazon Echo Show Alexa-enabled Bluetooth Speak...</td>\n",
       "      <td>Amazon</td>\n",
       "      <td>Computers,Amazon Echo,Virtual Assistant Speake...</td>\n",
       "      <td>Electronics,Hardware</td>\n",
       "      <td>2017-11-15T00:00:00.000Z</td>\n",
       "      <td>This is a fantastic item &amp; the person I bought...</td>\n",
       "      <td>Fantastic!</td>\n",
       "    </tr>\n",
       "  </tbody>\n",
       "</table>\n",
       "</div>"
      ],
      "text/plain": [
       "                                                name   brand  \\\n",
       "0  Fire Tablet, 7 Display, Wi-Fi, 16 GB - Include...  Amazon   \n",
       "1  Amazon Echo Show Alexa-enabled Bluetooth Speak...  Amazon   \n",
       "2  All-New Fire HD 8 Tablet, 8\" HD Display, Wi-Fi...  Amazon   \n",
       "3  Brand New Amazon Kindle Fire 16gb 7\" Ips Displ...  Amazon   \n",
       "4  Amazon Echo Show Alexa-enabled Bluetooth Speak...  Amazon   \n",
       "\n",
       "                                          categories     primaryCategories  \\\n",
       "0  Fire Tablets,Computers/Tablets & Networking,Ta...           Electronics   \n",
       "1  Computers,Amazon Echo,Virtual Assistant Speake...  Electronics,Hardware   \n",
       "2  Electronics,iPad & Tablets,All Tablets,Fire Ta...           Electronics   \n",
       "3  Computers/Tablets & Networking,Tablets & eBook...           Electronics   \n",
       "4  Computers,Amazon Echo,Virtual Assistant Speake...  Electronics,Hardware   \n",
       "\n",
       "               reviews.date  \\\n",
       "0  2016-05-23T00:00:00.000Z   \n",
       "1  2018-01-02T00:00:00.000Z   \n",
       "2  2017-01-02T00:00:00.000Z   \n",
       "3  2017-03-25T00:00:00.000Z   \n",
       "4  2017-11-15T00:00:00.000Z   \n",
       "\n",
       "                                        reviews.text  \\\n",
       "0  Amazon kindle fire has a lot of free app and c...   \n",
       "1  The Echo Show is a great addition to the Amazo...   \n",
       "2  Great value from Best Buy. Bought at Christmas...   \n",
       "3  I use mine for email, Facebook ,games and to g...   \n",
       "4  This is a fantastic item & the person I bought...   \n",
       "\n",
       "                       reviews.title  \n",
       "0                  very handy device  \n",
       "1         Another winner from Amazon  \n",
       "2  simple to use and reliable so far  \n",
       "3                         Love it!!!  \n",
       "4                         Fantastic!  "
      ]
     },
     "execution_count": 5,
     "metadata": {},
     "output_type": "execute_result"
    }
   ],
   "source": [
    "test_df.head()"
   ]
  },
  {
   "cell_type": "code",
   "execution_count": 6,
   "id": "c3afba82",
   "metadata": {},
   "outputs": [
    {
     "name": "stdout",
     "output_type": "stream",
     "text": [
      "(4000, 8) (1000, 7)\n"
     ]
    }
   ],
   "source": [
    "print(train_df.shape, test_df.shape)\n",
    "#The train data has an an extra column when compared to the test data.\n",
    "#This column must be the target variable column."
   ]
  },
  {
   "cell_type": "code",
   "execution_count": 7,
   "id": "c873f007",
   "metadata": {},
   "outputs": [
    {
     "name": "stdout",
     "output_type": "stream",
     "text": [
      "The target labels are in the sentiment column.\n"
     ]
    }
   ],
   "source": [
    "print(\"The target labels are in the {} column.\".format([col for col in train_df.columns if col not in test_df.columns][0]))"
   ]
  },
  {
   "cell_type": "code",
   "execution_count": 8,
   "id": "a7bc17f1",
   "metadata": {},
   "outputs": [
    {
     "name": "stdout",
     "output_type": "stream",
     "text": [
      "<class 'pandas.core.frame.DataFrame'>\n",
      "RangeIndex: 4000 entries, 0 to 3999\n",
      "Data columns (total 8 columns):\n",
      " #   Column             Non-Null Count  Dtype \n",
      "---  ------             --------------  ----- \n",
      " 0   name               4000 non-null   object\n",
      " 1   brand              4000 non-null   object\n",
      " 2   categories         4000 non-null   object\n",
      " 3   primaryCategories  4000 non-null   object\n",
      " 4   reviews.date       4000 non-null   object\n",
      " 5   reviews.text       4000 non-null   object\n",
      " 6   reviews.title      3990 non-null   object\n",
      " 7   sentiment          4000 non-null   object\n",
      "dtypes: object(8)\n",
      "memory usage: 250.1+ KB\n"
     ]
    }
   ],
   "source": [
    "train_df.info()"
   ]
  },
  {
   "cell_type": "code",
   "execution_count": 9,
   "id": "de174234",
   "metadata": {},
   "outputs": [
    {
     "name": "stdout",
     "output_type": "stream",
     "text": [
      "<class 'pandas.core.frame.DataFrame'>\n",
      "RangeIndex: 1000 entries, 0 to 999\n",
      "Data columns (total 7 columns):\n",
      " #   Column             Non-Null Count  Dtype \n",
      "---  ------             --------------  ----- \n",
      " 0   name               1000 non-null   object\n",
      " 1   brand              1000 non-null   object\n",
      " 2   categories         1000 non-null   object\n",
      " 3   primaryCategories  1000 non-null   object\n",
      " 4   reviews.date       1000 non-null   object\n",
      " 5   reviews.text       1000 non-null   object\n",
      " 6   reviews.title      997 non-null    object\n",
      "dtypes: object(7)\n",
      "memory usage: 54.8+ KB\n"
     ]
    }
   ],
   "source": [
    "test_df.info()"
   ]
  },
  {
   "cell_type": "markdown",
   "id": "b4561f95",
   "metadata": {},
   "source": [
    "`With the exception of the reviews.title column, there are no missing data in the dataset. More importantly, there are no missing data in the 'reviews.text' column (from which we will extract our training features), or the sentiment column, which contains the target values.`"
   ]
  },
  {
   "cell_type": "markdown",
   "id": "af6311f5",
   "metadata": {},
   "source": [
    "### Dropping duplicated values from our training data"
   ]
  },
  {
   "cell_type": "code",
   "execution_count": 10,
   "id": "55c361b9",
   "metadata": {},
   "outputs": [
    {
     "data": {
      "text/plain": [
       "(3942, 8)"
      ]
     },
     "execution_count": 10,
     "metadata": {},
     "output_type": "execute_result"
    }
   ],
   "source": [
    "train_df = train_df.drop_duplicates()\n",
    "train_df.shape\n",
    "#There were 58 ducplicated entries in the training data."
   ]
  },
  {
   "cell_type": "markdown",
   "id": "683dcf8b",
   "metadata": {},
   "source": [
    "### Analysis of the target variable"
   ]
  },
  {
   "cell_type": "code",
   "execution_count": 11,
   "id": "a41d1dd8",
   "metadata": {},
   "outputs": [
    {
     "data": {
      "text/plain": [
       "Positive    0.937088\n",
       "Neutral     0.040081\n",
       "Negative    0.022831\n",
       "Name: sentiment, dtype: float64"
      ]
     },
     "execution_count": 11,
     "metadata": {},
     "output_type": "execute_result"
    }
   ],
   "source": [
    "train_df.sentiment.value_counts(normalize=True)\n",
    "#93.71% of the training examples belong to the 'Positive' class\n",
    "#4.01% of the training examples belong to the 'Neutral' class\n",
    "#2.28% of the training examples belong to the 'Negative' class."
   ]
  },
  {
   "cell_type": "code",
   "execution_count": 12,
   "id": "d7904546",
   "metadata": {},
   "outputs": [
    {
     "data": {
      "image/png": "[encoded data removed]",
      "text/plain": [
       "<Figure size 432x288 with 1 Axes>"
      ]
     },
     "metadata": {
      "needs_background": "light"
     },
     "output_type": "display_data"
    }
   ],
   "source": [
    "sns.countplot(data=train_df, x='sentiment')\n",
    "plt.title('Graph showing the relative distribution of the target values')\n",
    "plt.show()\n",
    "\n"
   ]
  },
  {
   "cell_type": "markdown",
   "id": "198e3920",
   "metadata": {},
   "source": [
    "`It is quite easy to see that this problem is one with highly imbalanced classes.`"
   ]
  },
  {
   "cell_type": "markdown",
   "id": "1a7f5903",
   "metadata": {},
   "source": [
    "**Examples of positive, negative, and neutral reviews**"
   ]
  },
  {
   "cell_type": "code",
   "execution_count": 13,
   "id": "8f60778e",
   "metadata": {},
   "outputs": [],
   "source": [
    "positive_sents = train_df.sentiment == 'Positive'\n",
    "#The series above has True values in positions where the sentiment value is positive.\n",
    "negative_sents = train_df.sentiment == 'Negative'\n",
    "#The series above has True values in positions where the sentiment value is negative.\n",
    "neutral_sents = train_df.sentiment == 'Neutral'\n",
    "#The series above has True values in positions where the sentiment value is neutral."
   ]
  },
  {
   "cell_type": "code",
   "execution_count": 14,
   "id": "50eba9d7",
   "metadata": {},
   "outputs": [
    {
     "data": {
      "text/plain": [
       "0     True\n",
       "1     True\n",
       "2    False\n",
       "3     True\n",
       "4     True\n",
       "Name: sentiment, dtype: bool"
      ]
     },
     "execution_count": 14,
     "metadata": {},
     "output_type": "execute_result"
    }
   ],
   "source": [
    "positive_sents.head()\n"
   ]
  },
  {
   "cell_type": "code",
   "execution_count": 15,
   "id": "a01f3b8f",
   "metadata": {},
   "outputs": [
    {
     "name": "stdout",
     "output_type": "stream",
     "text": [
      "Purchased on Black FridayPros - Great Price (even off sale)Very powerful and fast with quad core processors Amazing soundWell builtCons -Amazon ads, Amazon need this to subsidize the tablet and will remove the adds if you pay them $15.Inability to access other apps except the ones from Amazon. There is a way which I was able to accomplish to add the Google Play storeNet this is a great tablet for the money \n",
      "\n",
      "I purchased two Amazon in Echo Plus and two dots plus four fire sticks and the hub Philips hue for lamp for the family at Christmas 2017. I‚Äôm so happy with these purchases and learning so much with Alexa. You can start your daily routine with Alexa and program it to whatever you would like to include news weather music horoscope ALSO you can start your day off with a compliment and I think is very important. Alexa gave me the BEST CHILI RECIPE I MEAN THE BEST it‚Äôs called Chili I. I want my husband to use Alexa to stay organized for business dates and reminders. This is the way to go \n",
      "\n"
     ]
    }
   ],
   "source": [
    "first_2_pos_reviews = train_df['reviews.text'][positive_sents].head(2).values\n",
    "for review in first_2_pos_reviews:\n",
    "    print(review, '\\n')\n",
    "#Printed below are the first two examples of positive reviews in the dataset."
   ]
  },
  {
   "cell_type": "code",
   "execution_count": 16,
   "id": "760f06fd",
   "metadata": {},
   "outputs": [
    {
     "name": "stdout",
     "output_type": "stream",
     "text": [
      "was cheap, can not run chrome stuff, returned to store. \n",
      "\n",
      "Worthless, except as a regular echo and a poor excuse for video chat. I love my echo devices, bathroom, pool, kitchen, other places where I may need hands free, voice activated music and info. My wife bought me the 'newest, hottest' thing. I was skeptical but then thought I would use it to help on a project. Me \"Alexa find videos on f450 drone\" Alexa \"YouTube is not available\". Amazon won't directly sell chrome products, youtube won't play on echo show. Further testing shows the video call is more limited than iPhone or Android apps for video. So the most useful thing now is the same voice functions that my echos and dots perform. Unless I want to make all of my video calls and check the weather from a device I can move no more than 3 feet from an outlet. \n",
      "\n"
     ]
    }
   ],
   "source": [
    "first_2_neg_reviews = train_df['reviews.text'][negative_sents].head(2).values\n",
    "for review in first_2_neg_reviews:\n",
    "    print(review, '\\n')\n",
    "    \n",
    "#Printed below are the first two examples of negative reviews in the dataset."
   ]
  },
  {
   "cell_type": "code",
   "execution_count": 17,
   "id": "d5d81022",
   "metadata": {},
   "outputs": [
    {
     "name": "stdout",
     "output_type": "stream",
     "text": [
      "Just an average Alexa option. Does show a few things on screen but still limited. \n",
      "\n",
      "My 7-year old daughter saved up to by this. Her brother bought the 8GB about a year earlier, so new she needed more space. The OS is a bit clunky, and less intuitive then on higher priced tablets, but tough to beat the price. Speed isn't great for web or certain gaming apps, but fine for books. Parental controls are helpful, but take time to figure out and require more steps than seem necessary to change. Overall, OK first tablet for kids, considering the price. For adults, fine for e-books and VERY basic apps. Otherwise, best to pay up for better quality and OS efficiency. \n",
      "\n"
     ]
    }
   ],
   "source": [
    "first_2_neutral_reviews = train_df['reviews.text'][neutral_sents].head(2).values\n",
    "for review in first_2_neutral_reviews:\n",
    "    print(review, '\\n')\n",
    "    \n",
    "#Printed below are the first two examples of neutral reviews in the dataset."
   ]
  },
  {
   "cell_type": "markdown",
   "id": "05179b19",
   "metadata": {},
   "source": [
    "### Text Cleaning and  Feature Extraction using TfidfVectorizer"
   ]
  },
  {
   "cell_type": "code",
   "execution_count": 18,
   "id": "a9da86a4",
   "metadata": {},
   "outputs": [],
   "source": [
    "import nltk\n",
    "from sklearn.feature_extraction.text import TfidfVectorizer\n",
    "from nltk.corpus import stopwords\n",
    "from sklearn.model_selection import train_test_split\n",
    "from sklearn.preprocessing import LabelEncoder, LabelBinarizer\n",
    "import spacy\n"
   ]
  },
  {
   "cell_type": "code",
   "execution_count": 19,
   "id": "2363f4e5",
   "metadata": {},
   "outputs": [],
   "source": [
    "spacy_nlp_model = spacy.load(\"en_core_web_sm\")"
   ]
  },
  {
   "cell_type": "markdown",
   "id": "d79c5d16",
   "metadata": {},
   "source": [
    "#### Label encoding of the target labels"
   ]
  },
  {
   "cell_type": "code",
   "execution_count": 20,
   "id": "656e2d77",
   "metadata": {},
   "outputs": [
    {
     "data": {
      "text/plain": [
       "0    Positive\n",
       "1    Positive\n",
       "2     Neutral\n",
       "3    Positive\n",
       "4    Positive\n",
       "Name: sentiment, dtype: object"
      ]
     },
     "execution_count": 20,
     "metadata": {},
     "output_type": "execute_result"
    }
   ],
   "source": [
    "sentiments = train_df.sentiment\n",
    "sentiments.head()"
   ]
  },
  {
   "cell_type": "code",
   "execution_count": 21,
   "id": "bc873328",
   "metadata": {},
   "outputs": [],
   "source": [
    "le = LabelEncoder()\n",
    "encoded_labels = le.fit_transform(sentiments)"
   ]
  },
  {
   "cell_type": "code",
   "execution_count": 22,
   "id": "0ceb792e",
   "metadata": {},
   "outputs": [
    {
     "data": {
      "text/plain": [
       "array(['Negative', 'Neutral', 'Positive'], dtype=object)"
      ]
     },
     "execution_count": 22,
     "metadata": {},
     "output_type": "execute_result"
    }
   ],
   "source": [
    "le.classes_\n",
    "#These are the values that were transformed by the LabelEncoder object"
   ]
  },
  {
   "cell_type": "code",
   "execution_count": 23,
   "id": "06468c8b",
   "metadata": {},
   "outputs": [
    {
     "data": {
      "text/plain": [
       "array([0, 1, 2])"
      ]
     },
     "execution_count": 23,
     "metadata": {},
     "output_type": "execute_result"
    }
   ],
   "source": [
    "new_labels = np.unique(encoded_labels)\n",
    "new_labels\n",
    "#The new labels are either 0, 1 or 2 instead of negative, neutral and positive"
   ]
  },
  {
   "cell_type": "code",
   "execution_count": 24,
   "id": "3b030617",
   "metadata": {},
   "outputs": [
    {
     "data": {
      "text/plain": [
       "array(['Negative', 'Neutral', 'Positive'], dtype=object)"
      ]
     },
     "execution_count": 24,
     "metadata": {},
     "output_type": "execute_result"
    }
   ],
   "source": [
    "le.inverse_transform(new_labels)\n",
    "#The .inverse_transform() function confirms the mappings\n",
    "    #0: negative, 1: neutral, 2: positive"
   ]
  },
  {
   "cell_type": "markdown",
   "id": "bfbde50b",
   "metadata": {},
   "source": [
    "### Text Cleaning and  Feature Extraction using TfidfVectorizer (continued)"
   ]
  },
  {
   "cell_type": "code",
   "execution_count": 25,
   "id": "4fe2e098",
   "metadata": {},
   "outputs": [],
   "source": [
    "s_words = stopwords.words('english')\n"
   ]
  },
  {
   "cell_type": "code",
   "execution_count": 26,
   "id": "ad2e64ec",
   "metadata": {},
   "outputs": [],
   "source": [
    "reviews = train_df['reviews.text']"
   ]
  },
  {
   "cell_type": "code",
   "execution_count": 27,
   "id": "35a0e677",
   "metadata": {},
   "outputs": [
    {
     "data": {
      "text/plain": [
       "0       Purchased on Black FridayPros - Great Price (e...\n",
       "1       I purchased two Amazon in Echo Plus and two do...\n",
       "2       Just an average Alexa option. Does show a few ...\n",
       "3       very good product. Exactly what I wanted, and ...\n",
       "4       This is the 3rd one I've purchased. I've bough...\n",
       "                              ...                        \n",
       "3995    It‚Äôs fun for the family to play with, but it...\n",
       "3996    I love the Kindle, it is a great product. It r...\n",
       "3997    I was looking for a blutooth speaker to use wi...\n",
       "3998    This is the second Amazon Fire 7 tablet I have...\n",
       "3999    very satisfied with tablet, very fast and effi...\n",
       "Name: reviews.text, Length: 3942, dtype: object"
      ]
     },
     "execution_count": 27,
     "metadata": {},
     "output_type": "execute_result"
    }
   ],
   "source": [
    "reviews"
   ]
  },
  {
   "cell_type": "code",
   "execution_count": 28,
   "id": "c3f2714a",
   "metadata": {},
   "outputs": [],
   "source": [
    "def text_cleaner(doc):\n",
    "    \"\"\"\n",
    "    This function takes a single document / piece of text.\n",
    "    It performs, tokenization, lemmatization and removes punctuations and stop words.\n",
    "    \"\"\"\n",
    "    doc = doc.lower()\n",
    "    tokens = nltk.word_tokenize(doc)\n",
    "    tokens = [word for word in tokens if word not in s_words and word.isalpha()]\n",
    "    doc = ' '.join(tokens)\n",
    "    spacy_doc = spacy_nlp_model(doc)\n",
    "    tokens = [word.lemma_ for word in spacy_doc]\n",
    "    doc = \" \".join(tokens)\n",
    "    \n",
    "    return doc"
   ]
  },
  {
   "cell_type": "code",
   "execution_count": 29,
   "id": "a5036d8b",
   "metadata": {},
   "outputs": [
    {
     "data": {
      "text/plain": [
       "\"This is the 3rd one I've purchased. I've bought one for all of my nieces. No other case compares to this one. It has held protected the tablet so many times from them dropping it.\""
      ]
     },
     "execution_count": 29,
     "metadata": {},
     "output_type": "execute_result"
    }
   ],
   "source": [
    "doc1 = reviews.iloc[4]\n",
    "doc1\n",
    "#This is an example of a document before text cleaning."
   ]
  },
  {
   "cell_type": "code",
   "execution_count": 30,
   "id": "2fd1345a",
   "metadata": {},
   "outputs": [
    {
     "data": {
      "text/plain": [
       "'one purchase buy one niece case compare one hold protect tablet many time drop'"
      ]
     },
     "execution_count": 30,
     "metadata": {},
     "output_type": "execute_result"
    }
   ],
   "source": [
    "text_cleaner(doc1)\n",
    "#This is a test of the text cleaner function.\n",
    "#stopwords and punctuations have been removed\n",
    "#words have been lemmatized(reduced to base form), eg. dropping -> drop, nieces -> niece"
   ]
  },
  {
   "cell_type": "code",
   "execution_count": 31,
   "id": "75537714",
   "metadata": {},
   "outputs": [],
   "source": [
    "cleaned_reviews = reviews.apply(text_cleaner)"
   ]
  },
  {
   "cell_type": "code",
   "execution_count": 32,
   "id": "df79fd3e",
   "metadata": {},
   "outputs": [
    {
     "data": {
      "text/plain": [
       "0    purchase black fridaypro great price even sale...\n",
       "1    purchase two amazon echo plus two dot plus fou...\n",
       "2    average alexa option show thing screen still l...\n",
       "3                 good product exactly want good price\n",
       "4    one purchase buy one niece case compare one ho...\n",
       "Name: reviews.text, dtype: object"
      ]
     },
     "execution_count": 32,
     "metadata": {},
     "output_type": "execute_result"
    }
   ],
   "source": [
    "cleaned_reviews.head()"
   ]
  },
  {
   "cell_type": "code",
   "execution_count": 33,
   "id": "6705dd9d",
   "metadata": {},
   "outputs": [],
   "source": [
    "X_train, X_test, y_train, y_test = train_test_split(cleaned_reviews, encoded_labels, test_size=0.15,\n",
    "                                                   stratify=encoded_labels, random_state=100)"
   ]
  },
  {
   "cell_type": "code",
   "execution_count": 34,
   "id": "7beb143f",
   "metadata": {},
   "outputs": [
    {
     "data": {
      "text/plain": [
       "3081    think download new app wait surf web thing slo...\n",
       "1775    purchase yr old love fact play game movie love...\n",
       "3510    buy son size perfect small big kid friendly ea...\n",
       "337       big good kindle yet light feather buy one today\n",
       "3327                   granddaughter love use school work\n",
       "Name: reviews.text, dtype: object"
      ]
     },
     "execution_count": 34,
     "metadata": {},
     "output_type": "execute_result"
    }
   ],
   "source": [
    "X_train.head()"
   ]
  },
  {
   "cell_type": "code",
   "execution_count": 35,
   "id": "93134237",
   "metadata": {},
   "outputs": [
    {
     "name": "stdout",
     "output_type": "stream",
     "text": [
      "(3350,) (3350,) (592,) (592,)\n"
     ]
    }
   ],
   "source": [
    "print(X_train.shape, y_train.shape, X_test.shape, y_test.shape)"
   ]
  },
  {
   "cell_type": "code",
   "execution_count": 36,
   "id": "d10d7af8",
   "metadata": {},
   "outputs": [],
   "source": [
    "vectorizer = TfidfVectorizer()"
   ]
  },
  {
   "cell_type": "code",
   "execution_count": 37,
   "id": "337754f9",
   "metadata": {},
   "outputs": [],
   "source": [
    "X_train_matrix = vectorizer.fit_transform(X_train)"
   ]
  },
  {
   "cell_type": "code",
   "execution_count": 38,
   "id": "fca27722",
   "metadata": {},
   "outputs": [
    {
     "data": {
      "text/plain": [
       "(3350, 3373)"
      ]
     },
     "execution_count": 38,
     "metadata": {},
     "output_type": "execute_result"
    }
   ],
   "source": [
    "X_train_matrix.shape"
   ]
  },
  {
   "cell_type": "code",
   "execution_count": 39,
   "id": "04a87ba2",
   "metadata": {},
   "outputs": [],
   "source": [
    "X_test_matrix = vectorizer.transform(X_test)"
   ]
  },
  {
   "cell_type": "code",
   "execution_count": 40,
   "id": "1e913997",
   "metadata": {},
   "outputs": [
    {
     "data": {
      "text/plain": [
       "(592, 3373)"
      ]
     },
     "execution_count": 40,
     "metadata": {},
     "output_type": "execute_result"
    }
   ],
   "source": [
    "X_test_matrix.shape"
   ]
  },
  {
   "cell_type": "markdown",
   "id": "825d6e68",
   "metadata": {},
   "source": [
    "**Model Building Using Naive Bayes Classifier**"
   ]
  },
  {
   "cell_type": "code",
   "execution_count": 41,
   "id": "abedb87a",
   "metadata": {},
   "outputs": [],
   "source": [
    "from sklearn.naive_bayes import MultinomialNB\n",
    "from sklearn.metrics import confusion_matrix, accuracy_score, precision_score, recall_score, f1_score, roc_curve, auc"
   ]
  },
  {
   "cell_type": "code",
   "execution_count": 42,
   "id": "3d7117b9",
   "metadata": {},
   "outputs": [],
   "source": [
    "models_dict = {}\n",
    "#This dictionary will be used to store the various models.\n",
    "#It will allow us to easily access and compare the test metrics for each model.\n",
    "#The term test metrics refers to various metrics used to evaluate model performance on the test set."
   ]
  },
  {
   "cell_type": "code",
   "execution_count": 43,
   "id": "f16bd2ad",
   "metadata": {},
   "outputs": [],
   "source": [
    "binarizer = LabelBinarizer()\n",
    "y_test_binary = binarizer.fit_transform(y_test)\n",
    "#We will require binary labels in order to plot roc_curves for the various models."
   ]
  },
  {
   "cell_type": "code",
   "execution_count": 44,
   "id": "ae3c1ceb",
   "metadata": {},
   "outputs": [
    {
     "data": {
      "text/plain": [
       "array([[0, 0, 1],\n",
       "       [0, 0, 1],\n",
       "       [0, 0, 1],\n",
       "       ...,\n",
       "       [0, 0, 1],\n",
       "       [0, 0, 1],\n",
       "       [0, 0, 1]])"
      ]
     },
     "execution_count": 44,
     "metadata": {},
     "output_type": "execute_result"
    }
   ],
   "source": [
    "y_test_binary"
   ]
  },
  {
   "cell_type": "code",
   "execution_count": 45,
   "id": "d7c8877e",
   "metadata": {},
   "outputs": [],
   "source": [
    "class MyMultinomialNB(MultinomialNB):\n",
    "    def __init__(self, name, test_metrics={}):\n",
    "        super().__init__()\n",
    "        self.name = name\n",
    "        self.test_metrics = test_metrics\n",
    "        models_dict.update({self.name: self})\n",
    "\n",
    "#By constructing custom classes, we will be able to assign custom test metrics to each model.\n",
    "        "
   ]
  },
  {
   "cell_type": "code",
   "execution_count": 46,
   "id": "23eb3f8a",
   "metadata": {},
   "outputs": [],
   "source": [
    "def print_scores(y_true, y_predicted):\n",
    "    \n",
    "    \"\"\"\n",
    "    This function will be used to print the recall, precision and f1 scores associated with each classifier's \n",
    "    performance on the training and test sets.\n",
    "    \"\"\"\n",
    "    \n",
    "    rs = recall_score(y_true, y_predicted, labels=[0, 1, 2], \n",
    "                           average=None, zero_division=0 )\n",
    "    ps = precision_score(y_true, y_predicted, labels=[0, 1, 2], \n",
    "                           average=None, zero_division=0)\n",
    "    fs = f1_score(y_true, y_predicted, labels=[0, 1, 2], \n",
    "                           average=None, zero_division=0)\n",
    "    overall_f1 = f1_score(y_true, y_predicted, average = 'macro', zero_division=0)\n",
    "    \n",
    "    \n",
    "    print('recall score:',rs) \n",
    "    print('precision score:', ps)\n",
    "    print('f1 score', fs)\n",
    "    print('average f1 score:', overall_f1)\n",
    "      \n"
   ]
  },
  {
   "cell_type": "code",
   "execution_count": 47,
   "id": "9be533d9",
   "metadata": {},
   "outputs": [],
   "source": [
    "def update_scores(model, y_true, y_predicted, y_probs):\n",
    "    \n",
    "    \"\"\"\n",
    "    This function takes a model, y_true, y_predicted and y_probs. It uses these variables, \n",
    "    along with various evaluation metrics, to evaluate the performance on the test set.\n",
    "    It then associates these metrics with the model being evaluated, for us to compare the various models that were trained.\n",
    "    \"\"\"\n",
    "    \n",
    "    rs = recall_score(y_true, y_predicted, average='macro', zero_division=0)\n",
    "    rs = round(rs, 3)\n",
    "    ps = precision_score(y_true, y_predicted, average='macro', zero_division=0)\n",
    "    ps = round(ps, 3)                       \n",
    "    fs = f1_score(y_true, y_predicted, average='macro', zero_division=0)\n",
    "    fs = round(fs, 4) \n",
    "    aucs = dict()\n",
    "    thresholds = dict()\n",
    "    for i in range(3):\n",
    "        fpr, tpr, thresholds[i] = roc_curve(y_test_binary[:, i], y_probs[:, i])\n",
    "        aucs[i] = round(auc(fpr, tpr), 3)\n",
    "        \n",
    "    calc_metrics = {\"rs\": rs, \"ps\": ps, \"fs\": fs, \"aucs\": aucs }\n",
    "    \n",
    "    model.test_metrics.update(calc_metrics)"
   ]
  },
  {
   "cell_type": "code",
   "execution_count": 48,
   "id": "9145826c",
   "metadata": {},
   "outputs": [],
   "source": [
    "def generate_test_metrics_df():\n",
    "    \n",
    "    \"\"\"\n",
    "    This function will be used to generate a DataFrame of models and the various metrics obtained by evaluating their\n",
    "    perfomance on the test set.\n",
    "    \n",
    "    It will provide us with an fast and efficient way to compare various models.\n",
    "    \n",
    "    \"\"\"\n",
    "\n",
    "    test_metrics_df = pd.DataFrame([model.test_metrics for model in models_dict.values()], \n",
    "             index=models_dict.keys())\n",
    "    test_metrics_df['auc_class0'] = test_metrics_df.aucs.apply(lambda x: x[0])\n",
    "    test_metrics_df['auc_class1'] = test_metrics_df.aucs.apply(lambda x: x[1])\n",
    "    test_metrics_df['auc_class2'] = test_metrics_df.aucs.apply(lambda x: x[2])\n",
    "    test_metrics_df = test_metrics_df.drop('aucs', axis=1)\n",
    "    \n",
    "    return test_metrics_df"
   ]
  },
  {
   "cell_type": "markdown",
   "id": "84e28a72",
   "metadata": {},
   "source": [
    "**Model Naming Convention**`\n",
    "\n",
    "`Models will generally be named using a 3 or 4 letter word.\n",
    "In the case where variants of a particular model is used, the variant will be identified by a prefix.`"
   ]
  },
  {
   "cell_type": "code",
   "execution_count": 49,
   "id": "b7509130",
   "metadata": {},
   "outputs": [],
   "source": [
    "mnb = MyMultinomialNB('mnb')"
   ]
  },
  {
   "cell_type": "code",
   "execution_count": 50,
   "id": "857ca416",
   "metadata": {},
   "outputs": [
    {
     "data": {
      "text/plain": [
       "MyMultinomialNB(name='mnb')"
      ]
     },
     "execution_count": 50,
     "metadata": {},
     "output_type": "execute_result"
    }
   ],
   "source": [
    "mnb.fit(X_train_matrix, y_train)"
   ]
  },
  {
   "cell_type": "code",
   "execution_count": 51,
   "id": "d983bedf",
   "metadata": {},
   "outputs": [],
   "source": [
    "mnbtrain_predictions = mnb.predict(X_train_matrix)\n",
    "mnbtest_predictions = mnb.predict(X_test_matrix)\n",
    "mnbtest_probs=mnb.predict_proba(X_test_matrix)"
   ]
  },
  {
   "cell_type": "code",
   "execution_count": 52,
   "id": "8e5e524a",
   "metadata": {},
   "outputs": [
    {
     "data": {
      "text/plain": [
       "array([[   0,    0,   77],\n",
       "       [   0,    0,  134],\n",
       "       [   0,    0, 3139]], dtype=int64)"
      ]
     },
     "execution_count": 52,
     "metadata": {},
     "output_type": "execute_result"
    }
   ],
   "source": [
    "confusion_matrix(y_train, mnbtrain_predictions)\n",
    "#As a result of the biasness of the datset towards class 2\n",
    "    #All examples are predicted as belonging to class 2 (As being a positive review)\n",
    "    #This model is severely underfitting as it is not even doing a go job on the training set."
   ]
  },
  {
   "cell_type": "code",
   "execution_count": 53,
   "id": "6925d2c2",
   "metadata": {},
   "outputs": [
    {
     "name": "stdout",
     "output_type": "stream",
     "text": [
      "recall score: [0. 0. 1.]\n",
      "precision score: [0.         0.         0.93701493]\n",
      "f1 score [0.         0.         0.96748343]\n",
      "average f1 score: 0.3224944778342837\n"
     ]
    }
   ],
   "source": [
    "print_scores(y_train, mnbtrain_predictions)\n",
    "#The classifier has recalled all examples belonging to class 2.\n",
    "#It has however failed to identify a singles instance of the class 0 or class 1.\n",
    "#Since the recall score for class 0 and class 1 are both 0, The f1 score is 0 for both classes.\n",
    "#Even thought the recall score for class 2 is 1, f1 score is 0.968 since the precision score\n",
    "    #is less than 1, as some values predicted to be 2, are not actually 2."
   ]
  },
  {
   "cell_type": "markdown",
   "id": "dd9620ea",
   "metadata": {},
   "source": [
    "### The  ROC curves of the Multinomial Naive Bayes Classifier"
   ]
  },
  {
   "cell_type": "code",
   "execution_count": 54,
   "id": "c263fc91",
   "metadata": {},
   "outputs": [],
   "source": [
    "def plot_roc_curves(probs, title):\n",
    "    \n",
    "    \"\"\"\n",
    "    This function will be used to plot roc curves in order to evaluate the various classifiers.\n",
    "    \n",
    "    \"\"\"\n",
    "    fpr = dict()\n",
    "    tpr = dict()\n",
    "    thresholds = dict()\n",
    "    for i in range(3):\n",
    "        fpr[i], tpr[i], thresholds[i] = roc_curve(y_test_binary[:, i], probs[:, i])\n",
    "    cols = ['red', 'blue', 'green']\n",
    "    plt.figure(figsize=(10, 8))\n",
    "    for i in range(3):\n",
    "        area_under_curve = auc(fpr[i], tpr[i])\n",
    "        plt.plot(fpr[i], tpr[i], color = cols[i], \n",
    "                label = 'ROC curve for class {0}. AUC = {1}'.format(i, area_under_curve))\n",
    "    plt.plot([0, 1], [0, 1], 'r--')\n",
    "    plt.xlabel('False Positive Rate')\n",
    "    plt.ylabel('True Positive Rate')\n",
    "    plt.title(title)\n",
    "    plt.legend(loc=4)\n",
    "    plt.show()"
   ]
  },
  {
   "cell_type": "code",
   "execution_count": 55,
   "id": "5b8cce9d",
   "metadata": {},
   "outputs": [
    {
     "data": {
      "image/png": "[encoded data removed]",
      "text/plain": [
       "<Figure size 720x576 with 1 Axes>"
      ]
     },
     "metadata": {
      "needs_background": "light"
     },
     "output_type": "display_data"
    }
   ],
   "source": [
    "title = 'ROC curves showing the performance of the Multinomial Naive Bayes classifier at various classification thresholds'\n",
    "plot_roc_curves(mnbtest_probs, title)"
   ]
  },
  {
   "cell_type": "code",
   "execution_count": 56,
   "id": "bdcda35e",
   "metadata": {},
   "outputs": [],
   "source": [
    "update_scores(mnb, y_test, mnbtest_predictions, mnbtest_probs)"
   ]
  },
  {
   "cell_type": "code",
   "execution_count": 57,
   "id": "8bea9794",
   "metadata": {},
   "outputs": [
    {
     "data": {
      "text/plain": [
       "{'rs': 0.333,\n",
       " 'ps': 0.312,\n",
       " 'fs': 0.3226,\n",
       " 'aucs': {0: 0.806, 1: 0.743, 2: 0.759}}"
      ]
     },
     "execution_count": 57,
     "metadata": {},
     "output_type": "execute_result"
    }
   ],
   "source": [
    "mnb.test_metrics\n",
    "#Below are the computed evaluation metrics for the classifier on the test set."
   ]
  },
  {
   "cell_type": "code",
   "execution_count": 58,
   "id": "149827ae",
   "metadata": {},
   "outputs": [
    {
     "data": {
      "text/plain": [
       "{'mnb': MyMultinomialNB(name='mnb')}"
      ]
     },
     "execution_count": 58,
     "metadata": {},
     "output_type": "execute_result"
    }
   ],
   "source": [
    "models_dict\n",
    "#The models_dict dictionary shows the models we have trained so far."
   ]
  },
  {
   "cell_type": "code",
   "execution_count": 59,
   "id": "a9dd0dfe",
   "metadata": {},
   "outputs": [
    {
     "data": {
      "text/html": [
       "<div>\n",
       "<style scoped>\n",
       "    .dataframe tbody tr th:only-of-type {\n",
       "        vertical-align: middle;\n",
       "    }\n",
       "\n",
       "    .dataframe tbody tr th {\n",
       "        vertical-align: top;\n",
       "    }\n",
       "\n",
       "    .dataframe thead th {\n",
       "        text-align: right;\n",
       "    }\n",
       "</style>\n",
       "<table border=\"1\" class=\"dataframe\">\n",
       "  <thead>\n",
       "    <tr style=\"text-align: right;\">\n",
       "      <th></th>\n",
       "      <th>rs</th>\n",
       "      <th>ps</th>\n",
       "      <th>fs</th>\n",
       "      <th>auc_class0</th>\n",
       "      <th>auc_class1</th>\n",
       "      <th>auc_class2</th>\n",
       "    </tr>\n",
       "  </thead>\n",
       "  <tbody>\n",
       "    <tr>\n",
       "      <th>mnb</th>\n",
       "      <td>0.333</td>\n",
       "      <td>0.312</td>\n",
       "      <td>0.3226</td>\n",
       "      <td>0.806</td>\n",
       "      <td>0.743</td>\n",
       "      <td>0.759</td>\n",
       "    </tr>\n",
       "  </tbody>\n",
       "</table>\n",
       "</div>"
      ],
      "text/plain": [
       "        rs     ps      fs  auc_class0  auc_class1  auc_class2\n",
       "mnb  0.333  0.312  0.3226       0.806       0.743       0.759"
      ]
     },
     "execution_count": 59,
     "metadata": {},
     "output_type": "execute_result"
    }
   ],
   "source": [
    "generate_test_metrics_df()"
   ]
  },
  {
   "cell_type": "markdown",
   "id": "f72ea4ec",
   "metadata": {},
   "source": [
    "### Oversampling\n",
    "\n",
    "Because of the very limited amount of data available for this project. Oversampling will be used to tackle the class imbalance problem."
   ]
  },
  {
   "cell_type": "code",
   "execution_count": 60,
   "id": "8c453888",
   "metadata": {},
   "outputs": [],
   "source": [
    "from imblearn.over_sampling import SMOTE"
   ]
  },
  {
   "cell_type": "code",
   "execution_count": 61,
   "id": "02effdee",
   "metadata": {},
   "outputs": [],
   "source": [
    "resampler = SMOTE()"
   ]
  },
  {
   "cell_type": "code",
   "execution_count": 62,
   "id": "bb5861ec",
   "metadata": {},
   "outputs": [],
   "source": [
    "X_res, y_res = resampler.fit_resample(X_train_matrix, y_train)"
   ]
  },
  {
   "cell_type": "code",
   "execution_count": 63,
   "id": "225ffd5f",
   "metadata": {},
   "outputs": [
    {
     "name": "stdout",
     "output_type": "stream",
     "text": [
      "(9417, 3373) (9417,)\n"
     ]
    }
   ],
   "source": [
    "print(X_res.shape, y_res.shape)"
   ]
  },
  {
   "cell_type": "code",
   "execution_count": 64,
   "id": "503fd407",
   "metadata": {},
   "outputs": [
    {
     "data": {
      "image/png": "[encoded data removed]",
      "text/plain": [
       "<Figure size 432x288 with 1 Axes>"
      ]
     },
     "metadata": {
      "needs_background": "light"
     },
     "output_type": "display_data"
    }
   ],
   "source": [
    "sns.countplot(x=y_res)\n",
    "plt.title(\"Graph showing the distribution of the target values after oversampling\")\n",
    "plt.show()\n",
    "#The classes are no longer imbalanced."
   ]
  },
  {
   "cell_type": "markdown",
   "id": "fcede5ce",
   "metadata": {},
   "source": [
    "**Training a Naive Bayes Classifier on the resampled data**"
   ]
  },
  {
   "cell_type": "code",
   "execution_count": 65,
   "id": "1ecf2e9b",
   "metadata": {},
   "outputs": [],
   "source": [
    "class MyOversampledMultinomialNB(MultinomialNB):\n",
    "    def __init__(self, name, test_metrics={}):\n",
    "        super().__init__()\n",
    "        self.name = name\n",
    "        self.test_metrics = test_metrics\n",
    "        models_dict.update({self.name: self})\n",
    "        "
   ]
  },
  {
   "cell_type": "code",
   "execution_count": 66,
   "id": "be421010",
   "metadata": {},
   "outputs": [],
   "source": [
    "oversampled_mnb = MyOversampledMultinomialNB('oversampled_mnb')"
   ]
  },
  {
   "cell_type": "code",
   "execution_count": 67,
   "id": "283fe2d7",
   "metadata": {},
   "outputs": [
    {
     "data": {
      "text/plain": [
       "MyOversampledMultinomialNB(name='oversampled_mnb')"
      ]
     },
     "execution_count": 67,
     "metadata": {},
     "output_type": "execute_result"
    }
   ],
   "source": [
    "oversampled_mnb.fit(X_res, y_res)"
   ]
  },
  {
   "cell_type": "code",
   "execution_count": 68,
   "id": "77335423",
   "metadata": {},
   "outputs": [],
   "source": [
    "oversampled_mnbtrain_predictions = oversampled_mnb.predict(X_res)\n",
    "oversampled_mnbtest_predictions = oversampled_mnb.predict(X_test_matrix)\n",
    "oversampled_mnbtest_probs = oversampled_mnb.predict_proba(X_test_matrix)"
   ]
  },
  {
   "cell_type": "code",
   "execution_count": 69,
   "id": "44caf439",
   "metadata": {},
   "outputs": [
    {
     "data": {
      "text/plain": [
       "array([[3139,    0,    0],\n",
       "       [   0, 3113,   26],\n",
       "       [  75,  207, 2857]], dtype=int64)"
      ]
     },
     "execution_count": 69,
     "metadata": {},
     "output_type": "execute_result"
    }
   ],
   "source": [
    "confusion_matrix(y_res, oversampled_mnbtrain_predictions)"
   ]
  },
  {
   "cell_type": "code",
   "execution_count": 70,
   "id": "b78390e7",
   "metadata": {},
   "outputs": [
    {
     "name": "stdout",
     "output_type": "stream",
     "text": [
      "recall score: [1.         0.99171711 0.91016247]\n",
      "precision score: [0.97666459 0.9376506  0.99098162]\n",
      "f1 score [0.98819455 0.9639263  0.9488542 ]\n",
      "average f1 score: 0.9669916864658847\n"
     ]
    }
   ],
   "source": [
    "print_scores(y_res, oversampled_mnbtrain_predictions)"
   ]
  },
  {
   "cell_type": "markdown",
   "id": "0ff5e13b",
   "metadata": {},
   "source": [
    "`From what we observe from our confusion matrix, recall score, precision score, and f1 score; oversampling the minority classes allows our classifier to construct a decision function that is capable of separating the three classes in the training set. Precision, recall and f1 scores are all very high.`\n",
    "\n",
    "`Oversampling, however, often leads to overfitting, so we must investigate the performance of the new classifier (trained on the oversampled dataset), on the test set.`"
   ]
  },
  {
   "cell_type": "code",
   "execution_count": 71,
   "id": "0129f44b",
   "metadata": {},
   "outputs": [
    {
     "data": {
      "text/plain": [
       "array([[  7,   1,   5],\n",
       "       [  1,  16,   7],\n",
       "       [ 22,  37, 496]], dtype=int64)"
      ]
     },
     "execution_count": 71,
     "metadata": {},
     "output_type": "execute_result"
    }
   ],
   "source": [
    "confusion_matrix(y_test, oversampled_mnbtest_predictions, labels=[0, 1, 2])"
   ]
  },
  {
   "cell_type": "code",
   "execution_count": 72,
   "id": "d9b3c823",
   "metadata": {},
   "outputs": [
    {
     "name": "stdout",
     "output_type": "stream",
     "text": [
      "recall score: [0.53846154 0.66666667 0.89369369]\n",
      "precision score: [0.23333333 0.2962963  0.97637795]\n",
      "f1 score [0.3255814  0.41025641 0.9332079 ]\n",
      "average f1 score: 0.5563485692563117\n"
     ]
    }
   ],
   "source": [
    "print_scores(y_test, oversampled_mnbtest_predictions)\n",
    "#The classifier performs better on unseen data than the classifier trained on the imbalanced dataset.\n",
    "    #average f1 score of (0.56) compared to (0.32)\n",
    "#This classifier however performs way worse on the test set than it does on the training set.\n",
    "#We will therefore try to find another model that will be able to generalize better to previously unseen data."
   ]
  },
  {
   "cell_type": "markdown",
   "id": "a2047a57",
   "metadata": {},
   "source": [
    "`Our observations indicate that the MultinomialNaiveBayes Classifier trained on a dataset with sythetic samples of the minority classes is capable of identifying those synthetic samples, but fails to generalize well to previously unseen data. `"
   ]
  },
  {
   "cell_type": "markdown",
   "id": "88af76ae",
   "metadata": {},
   "source": [
    "### The  ROC curves of the Multinomial Naive Bayes Classifier trained with oversampled data"
   ]
  },
  {
   "cell_type": "code",
   "execution_count": 73,
   "id": "85e3f37c",
   "metadata": {},
   "outputs": [
    {
     "data": {
      "image/png": "[encoded data removed]",
      "text/plain": [
       "<Figure size 720x576 with 1 Axes>"
      ]
     },
     "metadata": {
      "needs_background": "light"
     },
     "output_type": "display_data"
    }
   ],
   "source": [
    "title = \"\"\" ROC curves showing the performance of the Multinomial Naive Bayes classifier (trained on oversampled data),\n",
    "at various classification thresholds\"\"\"\n",
    "plot_roc_curves(oversampled_mnbtest_probs, title)"
   ]
  },
  {
   "cell_type": "code",
   "execution_count": 74,
   "id": "82c373e3",
   "metadata": {},
   "outputs": [],
   "source": [
    "update_scores(oversampled_mnb, y_test, oversampled_mnbtest_predictions, oversampled_mnbtest_probs)"
   ]
  },
  {
   "cell_type": "code",
   "execution_count": 75,
   "id": "f0a960e3",
   "metadata": {},
   "outputs": [
    {
     "data": {
      "text/plain": [
       "{'rs': 0.7, 'ps': 0.502, 'fs': 0.5563, 'aucs': {0: 0.831, 1: 0.857, 2: 0.833}}"
      ]
     },
     "execution_count": 75,
     "metadata": {},
     "output_type": "execute_result"
    }
   ],
   "source": [
    "oversampled_mnb.test_metrics"
   ]
  },
  {
   "cell_type": "code",
   "execution_count": 76,
   "id": "dd83c019",
   "metadata": {},
   "outputs": [
    {
     "data": {
      "text/plain": [
       "{'mnb': MyMultinomialNB(name='mnb'),\n",
       " 'oversampled_mnb': MyOversampledMultinomialNB(name='oversampled_mnb')}"
      ]
     },
     "execution_count": 76,
     "metadata": {},
     "output_type": "execute_result"
    }
   ],
   "source": [
    "models_dict"
   ]
  },
  {
   "cell_type": "code",
   "execution_count": 77,
   "id": "35da1b13",
   "metadata": {},
   "outputs": [
    {
     "data": {
      "text/html": [
       "<div>\n",
       "<style scoped>\n",
       "    .dataframe tbody tr th:only-of-type {\n",
       "        vertical-align: middle;\n",
       "    }\n",
       "\n",
       "    .dataframe tbody tr th {\n",
       "        vertical-align: top;\n",
       "    }\n",
       "\n",
       "    .dataframe thead th {\n",
       "        text-align: right;\n",
       "    }\n",
       "</style>\n",
       "<table border=\"1\" class=\"dataframe\">\n",
       "  <thead>\n",
       "    <tr style=\"text-align: right;\">\n",
       "      <th></th>\n",
       "      <th>rs</th>\n",
       "      <th>ps</th>\n",
       "      <th>fs</th>\n",
       "      <th>auc_class0</th>\n",
       "      <th>auc_class1</th>\n",
       "      <th>auc_class2</th>\n",
       "    </tr>\n",
       "  </thead>\n",
       "  <tbody>\n",
       "    <tr>\n",
       "      <th>mnb</th>\n",
       "      <td>0.333</td>\n",
       "      <td>0.312</td>\n",
       "      <td>0.3226</td>\n",
       "      <td>0.806</td>\n",
       "      <td>0.743</td>\n",
       "      <td>0.759</td>\n",
       "    </tr>\n",
       "    <tr>\n",
       "      <th>oversampled_mnb</th>\n",
       "      <td>0.700</td>\n",
       "      <td>0.502</td>\n",
       "      <td>0.5563</td>\n",
       "      <td>0.831</td>\n",
       "      <td>0.857</td>\n",
       "      <td>0.833</td>\n",
       "    </tr>\n",
       "  </tbody>\n",
       "</table>\n",
       "</div>"
      ],
      "text/plain": [
       "                    rs     ps      fs  auc_class0  auc_class1  auc_class2\n",
       "mnb              0.333  0.312  0.3226       0.806       0.743       0.759\n",
       "oversampled_mnb  0.700  0.502  0.5563       0.831       0.857       0.833"
      ]
     },
     "execution_count": 77,
     "metadata": {},
     "output_type": "execute_result"
    }
   ],
   "source": [
    "generate_test_metrics_df()"
   ]
  },
  {
   "cell_type": "markdown",
   "id": "2b6b5ef0",
   "metadata": {},
   "source": [
    "`The table above shows that training the MultinomialNB classifier using synthetic samples, significantly improves the performace of the classifier on the test set. Every metric indicates better performance.` "
   ]
  },
  {
   "cell_type": "markdown",
   "id": "497f80b9",
   "metadata": {},
   "source": [
    "### Ramdom Forest Classifier"
   ]
  },
  {
   "cell_type": "code",
   "execution_count": 78,
   "id": "c84fea45",
   "metadata": {},
   "outputs": [],
   "source": [
    "from sklearn.ensemble import RandomForestClassifier"
   ]
  },
  {
   "cell_type": "code",
   "execution_count": 79,
   "id": "157d039c",
   "metadata": {},
   "outputs": [],
   "source": [
    "class MyRandomForestClassifier(RandomForestClassifier):\n",
    "    def __init__(self, name, test_metrics={}):\n",
    "        super().__init__(random_state=100)\n",
    "        self.name = name\n",
    "        self.test_metrics = test_metrics\n",
    "        models_dict.update({self.name: self})"
   ]
  },
  {
   "cell_type": "code",
   "execution_count": 80,
   "id": "bfafbd81",
   "metadata": {},
   "outputs": [],
   "source": [
    "rfc = MyRandomForestClassifier(\"rfc\")"
   ]
  },
  {
   "cell_type": "code",
   "execution_count": 81,
   "id": "46c91d63",
   "metadata": {},
   "outputs": [
    {
     "data": {
      "text/plain": [
       "MyRandomForestClassifier(name='rfc')"
      ]
     },
     "execution_count": 81,
     "metadata": {},
     "output_type": "execute_result"
    }
   ],
   "source": [
    "rfc.fit(X_train_matrix, y_train)"
   ]
  },
  {
   "cell_type": "code",
   "execution_count": 82,
   "id": "5aeb6606",
   "metadata": {},
   "outputs": [],
   "source": [
    "rfctrain_predictions = rfc.predict(X_train_matrix)\n",
    "rfctest_predictions = rfc.predict(X_test_matrix)\n",
    "rfctest_probs = rfc.predict_proba(X_test_matrix)\n"
   ]
  },
  {
   "cell_type": "code",
   "execution_count": 83,
   "id": "1d806ba1",
   "metadata": {},
   "outputs": [
    {
     "data": {
      "text/plain": [
       "array([[  77,    0,    0],\n",
       "       [   0,  134,    0],\n",
       "       [   0,    0, 3139]], dtype=int64)"
      ]
     },
     "execution_count": 83,
     "metadata": {},
     "output_type": "execute_result"
    }
   ],
   "source": [
    "confusion_matrix(y_train, rfctrain_predictions)\n",
    "#The FandomForestClassifier algorithm with class_weight parameter = 'balanced' is capable of perfectly\n",
    "    #classifying the training data."
   ]
  },
  {
   "cell_type": "code",
   "execution_count": 84,
   "id": "27e33526",
   "metadata": {
    "scrolled": true
   },
   "outputs": [
    {
     "name": "stdout",
     "output_type": "stream",
     "text": [
      "recall score: [1. 1. 1.]\n",
      "precision score: [1. 1. 1.]\n",
      "f1 score [1. 1. 1.]\n",
      "average f1 score: 1.0\n"
     ]
    }
   ],
   "source": [
    "print_scores(y_train, rfctrain_predictions)\n",
    "#The rfc classifier is perfect at predicting the labels of examples it has seen before."
   ]
  },
  {
   "cell_type": "code",
   "execution_count": 85,
   "id": "a930757e",
   "metadata": {},
   "outputs": [
    {
     "data": {
      "text/plain": [
       "array([[  4,   0,   9],\n",
       "       [  0,   5,  19],\n",
       "       [  0,   0, 555]], dtype=int64)"
      ]
     },
     "execution_count": 85,
     "metadata": {},
     "output_type": "execute_result"
    }
   ],
   "source": [
    "confusion_matrix(y_test, rfctest_predictions)"
   ]
  },
  {
   "cell_type": "code",
   "execution_count": 86,
   "id": "d3e41fd1",
   "metadata": {
    "scrolled": true
   },
   "outputs": [
    {
     "name": "stdout",
     "output_type": "stream",
     "text": [
      "recall score: [0.30769231 0.20833333 1.        ]\n",
      "precision score: [1.         1.         0.95197256]\n",
      "f1 score [0.47058824 0.34482759 0.97539543]\n",
      "average f1 score: 0.5969370840269931\n"
     ]
    }
   ],
   "source": [
    "print_scores(y_test, rfctest_predictions)\n"
   ]
  },
  {
   "cell_type": "markdown",
   "id": "f7c61de6",
   "metadata": {},
   "source": [
    "### The  ROC curves of the Random Forest Classifier (class weight='balanced')"
   ]
  },
  {
   "cell_type": "code",
   "execution_count": 87,
   "id": "a9081fe7",
   "metadata": {},
   "outputs": [
    {
     "data": {
      "image/png": "[encoded data removed]",
      "text/plain": [
       "<Figure size 720x576 with 1 Axes>"
      ]
     },
     "metadata": {
      "needs_background": "light"
     },
     "output_type": "display_data"
    }
   ],
   "source": [
    "title = \"\"\" ROC curves showing the performance of the Random Forest classifier (class_weight='balanced'),\n",
    "at various classification thresholds\"\"\"\n",
    "plot_roc_curves(rfctest_probs, title)"
   ]
  },
  {
   "cell_type": "code",
   "execution_count": 88,
   "id": "ff06bae3",
   "metadata": {},
   "outputs": [],
   "source": [
    "update_scores(rfc, y_test, rfctest_predictions, rfctest_probs)\n"
   ]
  },
  {
   "cell_type": "code",
   "execution_count": 89,
   "id": "6d0712ff",
   "metadata": {},
   "outputs": [
    {
     "data": {
      "text/plain": [
       "{'rs': 0.505, 'ps': 0.984, 'fs': 0.5969, 'aucs': {0: 0.88, 1: 0.811, 2: 0.814}}"
      ]
     },
     "execution_count": 89,
     "metadata": {},
     "output_type": "execute_result"
    }
   ],
   "source": [
    "rfc.test_metrics"
   ]
  },
  {
   "cell_type": "code",
   "execution_count": 90,
   "id": "18c3a696",
   "metadata": {},
   "outputs": [
    {
     "data": {
      "text/plain": [
       "{'mnb': MyMultinomialNB(name='mnb'),\n",
       " 'oversampled_mnb': MyOversampledMultinomialNB(name='oversampled_mnb'),\n",
       " 'rfc': MyRandomForestClassifier(name='rfc')}"
      ]
     },
     "execution_count": 90,
     "metadata": {},
     "output_type": "execute_result"
    }
   ],
   "source": [
    "models_dict"
   ]
  },
  {
   "cell_type": "code",
   "execution_count": 91,
   "id": "b0297220",
   "metadata": {},
   "outputs": [
    {
     "data": {
      "text/html": [
       "<div>\n",
       "<style scoped>\n",
       "    .dataframe tbody tr th:only-of-type {\n",
       "        vertical-align: middle;\n",
       "    }\n",
       "\n",
       "    .dataframe tbody tr th {\n",
       "        vertical-align: top;\n",
       "    }\n",
       "\n",
       "    .dataframe thead th {\n",
       "        text-align: right;\n",
       "    }\n",
       "</style>\n",
       "<table border=\"1\" class=\"dataframe\">\n",
       "  <thead>\n",
       "    <tr style=\"text-align: right;\">\n",
       "      <th></th>\n",
       "      <th>rs</th>\n",
       "      <th>ps</th>\n",
       "      <th>fs</th>\n",
       "      <th>auc_class0</th>\n",
       "      <th>auc_class1</th>\n",
       "      <th>auc_class2</th>\n",
       "    </tr>\n",
       "  </thead>\n",
       "  <tbody>\n",
       "    <tr>\n",
       "      <th>mnb</th>\n",
       "      <td>0.333</td>\n",
       "      <td>0.312</td>\n",
       "      <td>0.3226</td>\n",
       "      <td>0.806</td>\n",
       "      <td>0.743</td>\n",
       "      <td>0.759</td>\n",
       "    </tr>\n",
       "    <tr>\n",
       "      <th>oversampled_mnb</th>\n",
       "      <td>0.700</td>\n",
       "      <td>0.502</td>\n",
       "      <td>0.5563</td>\n",
       "      <td>0.831</td>\n",
       "      <td>0.857</td>\n",
       "      <td>0.833</td>\n",
       "    </tr>\n",
       "    <tr>\n",
       "      <th>rfc</th>\n",
       "      <td>0.505</td>\n",
       "      <td>0.984</td>\n",
       "      <td>0.5969</td>\n",
       "      <td>0.880</td>\n",
       "      <td>0.811</td>\n",
       "      <td>0.814</td>\n",
       "    </tr>\n",
       "  </tbody>\n",
       "</table>\n",
       "</div>"
      ],
      "text/plain": [
       "                    rs     ps      fs  auc_class0  auc_class1  auc_class2\n",
       "mnb              0.333  0.312  0.3226       0.806       0.743       0.759\n",
       "oversampled_mnb  0.700  0.502  0.5563       0.831       0.857       0.833\n",
       "rfc              0.505  0.984  0.5969       0.880       0.811       0.814"
      ]
     },
     "execution_count": 91,
     "metadata": {},
     "output_type": "execute_result"
    }
   ],
   "source": [
    "generate_test_metrics_df()"
   ]
  },
  {
   "cell_type": "markdown",
   "id": "0ea48593",
   "metadata": {},
   "source": [
    "`The rf model gives better averafe f1 score on unseen data than the NaiveBayes model trained on synthetic samples.\n",
    "It still does a poor job identifying examples from the minority classes, however.\n",
    "Its recall score is significantly less than the recall score of the MultinomialNB classifier trained on synthetic samples.\n",
    "It has a very high precision score though, all samples predicted as belonging to class 0 or 1, did in fact belong to those classes.`"
   ]
  },
  {
   "cell_type": "markdown",
   "id": "7ddb3f6c",
   "metadata": {},
   "source": [
    "### XGBoost"
   ]
  },
  {
   "cell_type": "code",
   "execution_count": 92,
   "id": "ac6794c3",
   "metadata": {},
   "outputs": [],
   "source": [
    "import xgboost as xgb\n",
    "from xgboost import XGBClassifier\n"
   ]
  },
  {
   "cell_type": "code",
   "execution_count": 93,
   "id": "21c22f39",
   "metadata": {},
   "outputs": [],
   "source": [
    "class MyXGBClassifier(XGBClassifier):\n",
    "    def __init__(self, name, test_metrics={}):\n",
    "        super().__init__(use_label_encoder=False ,random_state=100)\n",
    "        self.name = name\n",
    "        self.test_metrics = test_metrics\n",
    "        models_dict.update({self.name: self})"
   ]
  },
  {
   "cell_type": "code",
   "execution_count": 94,
   "id": "7f51dbcd",
   "metadata": {},
   "outputs": [],
   "source": [
    "xgb = MyXGBClassifier('xgb')"
   ]
  },
  {
   "cell_type": "code",
   "execution_count": 95,
   "id": "e378dde7",
   "metadata": {
    "scrolled": true
   },
   "outputs": [
    {
     "name": "stdout",
     "output_type": "stream",
     "text": [
      "[07:25:25] WARNING: C:/Users/Administrator/workspace/xgboost-win64_release_1.5.1/src/learner.cc:576: \n",
      "Parameters: { \"name\", \"test_metrics\" } might not be used.\n",
      "\n",
      "  This could be a false alarm, with some parameters getting used by language bindings but\n",
      "  then being mistakenly passed down to XGBoost core, or some parameter actually being used\n",
      "  but getting flagged wrongly here. Please open an issue if you find any such cases.\n",
      "\n",
      "\n",
      "[07:25:25] WARNING: C:/Users/Administrator/workspace/xgboost-win64_release_1.5.1/src/learner.cc:1115: Starting in XGBoost 1.3.0, the default evaluation metric used with the objective 'multi:softprob' was changed from 'merror' to 'mlogloss'. Explicitly set eval_metric if you'd like to restore the old behavior.\n"
     ]
    },
    {
     "data": {
      "text/plain": [
       "MyXGBClassifier(base_score=0.5, booster='gbtree', colsample_bylevel=1,\n",
       "                colsample_bynode=1, colsample_bytree=1,\n",
       "                enable_categorical=False, gamma=0, gpu_id=-1,\n",
       "                importance_type=None, interaction_constraints='',\n",
       "                learning_rate=0.300000012, max_delta_step=0, max_depth=6,\n",
       "                min_child_weight=1, missing=nan, monotone_constraints='()',\n",
       "                n_estimators=100, n_jobs=8, name='xgb', num_parallel_tree=1,\n",
       "                objective='multi:softprob', predictor='auto', random_state=100,\n",
       "                reg_alpha=0, reg_lambda=1, scale_pos_weight=None, subsample=1,\n",
       "                tree_method='exact', use_label_encoder=False,\n",
       "                validate_parameters=1, ...)"
      ]
     },
     "execution_count": 95,
     "metadata": {},
     "output_type": "execute_result"
    }
   ],
   "source": [
    "xgb.fit(X_train_matrix, y_train,)"
   ]
  },
  {
   "cell_type": "code",
   "execution_count": 96,
   "id": "ebb3f1e1",
   "metadata": {},
   "outputs": [],
   "source": [
    "xgbtrain_predicitons = xgb.predict(X_train_matrix)\n",
    "xgbtest_predictions = xgb.predict(X_test_matrix)\n",
    "xgbtest_probs = xgb.predict_proba(X_test_matrix)"
   ]
  },
  {
   "cell_type": "code",
   "execution_count": 97,
   "id": "ea1b28d5",
   "metadata": {},
   "outputs": [
    {
     "data": {
      "text/plain": [
       "array([[  76,    0,    1],\n",
       "       [   0,  113,   21],\n",
       "       [   0,    0, 3139]], dtype=int64)"
      ]
     },
     "execution_count": 97,
     "metadata": {},
     "output_type": "execute_result"
    }
   ],
   "source": [
    "confusion_matrix(y_train, xgbtrain_predicitons)"
   ]
  },
  {
   "cell_type": "code",
   "execution_count": 98,
   "id": "5e286c13",
   "metadata": {},
   "outputs": [
    {
     "name": "stdout",
     "output_type": "stream",
     "text": [
      "recall score: [0.98701299 0.84328358 1.        ]\n",
      "precision score: [1.         1.         0.99304018]\n",
      "f1 score [0.99346405 0.91497976 0.99650794]\n",
      "average f1 score: 0.9683172486268461\n"
     ]
    }
   ],
   "source": [
    "print_scores(y_train, xgbtrain_predicitons)\n",
    "#Even with the imbalanced classes, XGBoost is very capable of learning a good decision boundrary,\n",
    "    #that separate the classes in the training set."
   ]
  },
  {
   "cell_type": "code",
   "execution_count": 99,
   "id": "8260f196",
   "metadata": {},
   "outputs": [
    {
     "data": {
      "text/plain": [
       "array([[  4,   0,   9],\n",
       "       [  1,   8,  15],\n",
       "       [  1,   1, 553]], dtype=int64)"
      ]
     },
     "execution_count": 99,
     "metadata": {},
     "output_type": "execute_result"
    }
   ],
   "source": [
    "confusion_matrix(y_test, xgbtest_predictions)"
   ]
  },
  {
   "cell_type": "code",
   "execution_count": 100,
   "id": "f4bf108f",
   "metadata": {
    "scrolled": true
   },
   "outputs": [
    {
     "name": "stdout",
     "output_type": "stream",
     "text": [
      "recall score: [0.30769231 0.33333333 0.9963964 ]\n",
      "precision score: [0.66666667 0.88888889 0.95840555]\n",
      "f1 score [0.42105263 0.48484848 0.9770318 ]\n",
      "average f1 score: 0.6276443061825245\n"
     ]
    }
   ],
   "source": [
    "print_scores(y_test, xgbtest_predictions)\n",
    "#XGBClassifier also overfits to the training data."
   ]
  },
  {
   "cell_type": "markdown",
   "id": "666b9935",
   "metadata": {},
   "source": [
    "### The  ROC curves of the XGB classifier"
   ]
  },
  {
   "cell_type": "code",
   "execution_count": 101,
   "id": "6696ee8c",
   "metadata": {},
   "outputs": [
    {
     "data": {
      "image/png": "[encoded data removed]",
      "text/plain": [
       "<Figure size 720x576 with 1 Axes>"
      ]
     },
     "metadata": {
      "needs_background": "light"
     },
     "output_type": "display_data"
    }
   ],
   "source": [
    "title = \"\"\" ROC curves showing the performance of the XGB classifier,\n",
    "at various classification thresholds\"\"\"\n",
    "plot_roc_curves(xgbtest_probs, title)"
   ]
  },
  {
   "cell_type": "code",
   "execution_count": 102,
   "id": "e4a05d48",
   "metadata": {},
   "outputs": [],
   "source": [
    "update_scores(xgb, y_test, xgbtest_predictions, xgbtest_probs)"
   ]
  },
  {
   "cell_type": "code",
   "execution_count": 103,
   "id": "797b5907",
   "metadata": {},
   "outputs": [
    {
     "data": {
      "text/plain": [
       "{'rs': 0.546,\n",
       " 'ps': 0.838,\n",
       " 'fs': 0.6276,\n",
       " 'aucs': {0: 0.906, 1: 0.871, 2: 0.875}}"
      ]
     },
     "execution_count": 103,
     "metadata": {},
     "output_type": "execute_result"
    }
   ],
   "source": [
    "xgb.test_metrics"
   ]
  },
  {
   "cell_type": "code",
   "execution_count": 104,
   "id": "081f60ce",
   "metadata": {},
   "outputs": [
    {
     "data": {
      "text/plain": [
       "{'mnb': MyMultinomialNB(name='mnb'),\n",
       " 'oversampled_mnb': MyOversampledMultinomialNB(name='oversampled_mnb'),\n",
       " 'rfc': MyRandomForestClassifier(name='rfc'),\n",
       " 'xgb': MyXGBClassifier(base_score=0.5, booster='gbtree', colsample_bylevel=1,\n",
       "                 colsample_bynode=1, colsample_bytree=1,\n",
       "                 enable_categorical=False, gamma=0, gpu_id=-1,\n",
       "                 importance_type=None, interaction_constraints='',\n",
       "                 learning_rate=0.300000012, max_delta_step=0, max_depth=6,\n",
       "                 min_child_weight=1, missing=nan, monotone_constraints='()',\n",
       "                 n_estimators=100, n_jobs=8, name='xgb', num_parallel_tree=1,\n",
       "                 objective='multi:softprob', predictor='auto', random_state=100,\n",
       "                 reg_alpha=0, reg_lambda=1, scale_pos_weight=None, subsample=1,\n",
       "                 tree_method='exact', use_label_encoder=False,\n",
       "                 validate_parameters=1, ...)}"
      ]
     },
     "execution_count": 104,
     "metadata": {},
     "output_type": "execute_result"
    }
   ],
   "source": [
    "models_dict"
   ]
  },
  {
   "cell_type": "code",
   "execution_count": 105,
   "id": "079e8cad",
   "metadata": {},
   "outputs": [
    {
     "data": {
      "text/html": [
       "<div>\n",
       "<style scoped>\n",
       "    .dataframe tbody tr th:only-of-type {\n",
       "        vertical-align: middle;\n",
       "    }\n",
       "\n",
       "    .dataframe tbody tr th {\n",
       "        vertical-align: top;\n",
       "    }\n",
       "\n",
       "    .dataframe thead th {\n",
       "        text-align: right;\n",
       "    }\n",
       "</style>\n",
       "<table border=\"1\" class=\"dataframe\">\n",
       "  <thead>\n",
       "    <tr style=\"text-align: right;\">\n",
       "      <th></th>\n",
       "      <th>rs</th>\n",
       "      <th>ps</th>\n",
       "      <th>fs</th>\n",
       "      <th>auc_class0</th>\n",
       "      <th>auc_class1</th>\n",
       "      <th>auc_class2</th>\n",
       "    </tr>\n",
       "  </thead>\n",
       "  <tbody>\n",
       "    <tr>\n",
       "      <th>mnb</th>\n",
       "      <td>0.333</td>\n",
       "      <td>0.312</td>\n",
       "      <td>0.3226</td>\n",
       "      <td>0.806</td>\n",
       "      <td>0.743</td>\n",
       "      <td>0.759</td>\n",
       "    </tr>\n",
       "    <tr>\n",
       "      <th>oversampled_mnb</th>\n",
       "      <td>0.700</td>\n",
       "      <td>0.502</td>\n",
       "      <td>0.5563</td>\n",
       "      <td>0.831</td>\n",
       "      <td>0.857</td>\n",
       "      <td>0.833</td>\n",
       "    </tr>\n",
       "    <tr>\n",
       "      <th>rfc</th>\n",
       "      <td>0.505</td>\n",
       "      <td>0.984</td>\n",
       "      <td>0.5969</td>\n",
       "      <td>0.880</td>\n",
       "      <td>0.811</td>\n",
       "      <td>0.814</td>\n",
       "    </tr>\n",
       "    <tr>\n",
       "      <th>xgb</th>\n",
       "      <td>0.546</td>\n",
       "      <td>0.838</td>\n",
       "      <td>0.6276</td>\n",
       "      <td>0.906</td>\n",
       "      <td>0.871</td>\n",
       "      <td>0.875</td>\n",
       "    </tr>\n",
       "  </tbody>\n",
       "</table>\n",
       "</div>"
      ],
      "text/plain": [
       "                    rs     ps      fs  auc_class0  auc_class1  auc_class2\n",
       "mnb              0.333  0.312  0.3226       0.806       0.743       0.759\n",
       "oversampled_mnb  0.700  0.502  0.5563       0.831       0.857       0.833\n",
       "rfc              0.505  0.984  0.5969       0.880       0.811       0.814\n",
       "xgb              0.546  0.838  0.6276       0.906       0.871       0.875"
      ]
     },
     "execution_count": 105,
     "metadata": {},
     "output_type": "execute_result"
    }
   ],
   "source": [
    "generate_test_metrics_df()"
   ]
  },
  {
   "cell_type": "markdown",
   "id": "d0b9e683",
   "metadata": {},
   "source": [
    "`Of the models covered so far, the XGB classifier performs the best as it relates to the average f1 score.\n",
    "It does a better job of recalling samples of the minority class than the rfc classifier, but not as good as the MultinomialNB classifier.\n",
    "Wheras its precision is not as high as the Random Forest classifier it gives much better values than the oversampled Multinomial NB model.\n",
    "Another point worth noting is the auc score for class 0. The XGB has the highest area indicating that, if we are concerned with identifying as many negative reviews as possible, while minimizing the non - negative reviews that will be classified as negative, it would be the classifier of choice.`"
   ]
  },
  {
   "cell_type": "markdown",
   "id": "57c6717c",
   "metadata": {},
   "source": [
    "### XGB with Oversampling"
   ]
  },
  {
   "cell_type": "code",
   "execution_count": 106,
   "id": "158a53fd",
   "metadata": {},
   "outputs": [],
   "source": [
    "class MyOversampledXGBClassifier(XGBClassifier):   \n",
    "    def __init__(self, name, test_metrics={}):\n",
    "        super().__init__(use_label_encoder=False ,random_state=100)\n",
    "        self.name = name\n",
    "        self.test_metrics = test_metrics\n",
    "        models_dict.update({self.name: self})"
   ]
  },
  {
   "cell_type": "code",
   "execution_count": 107,
   "id": "d95cdeb6",
   "metadata": {},
   "outputs": [],
   "source": [
    "oversampled_xgb = MyOversampledXGBClassifier(\"oversampled_xgb\")"
   ]
  },
  {
   "cell_type": "code",
   "execution_count": 108,
   "id": "469f6bd3",
   "metadata": {},
   "outputs": [
    {
     "name": "stdout",
     "output_type": "stream",
     "text": [
      "[07:25:27] WARNING: C:/Users/Administrator/workspace/xgboost-win64_release_1.5.1/src/learner.cc:576: \n",
      "Parameters: { \"name\", \"test_metrics\" } might not be used.\n",
      "\n",
      "  This could be a false alarm, with some parameters getting used by language bindings but\n",
      "  then being mistakenly passed down to XGBoost core, or some parameter actually being used\n",
      "  but getting flagged wrongly here. Please open an issue if you find any such cases.\n",
      "\n",
      "\n",
      "[07:25:27] WARNING: C:/Users/Administrator/workspace/xgboost-win64_release_1.5.1/src/learner.cc:1115: Starting in XGBoost 1.3.0, the default evaluation metric used with the objective 'multi:softprob' was changed from 'merror' to 'mlogloss'. Explicitly set eval_metric if you'd like to restore the old behavior.\n"
     ]
    },
    {
     "data": {
      "text/plain": [
       "MyOversampledXGBClassifier(base_score=0.5, booster='gbtree',\n",
       "                           colsample_bylevel=1, colsample_bynode=1,\n",
       "                           colsample_bytree=1, enable_categorical=False,\n",
       "                           gamma=0, gpu_id=-1, importance_type=None,\n",
       "                           interaction_constraints='',\n",
       "                           learning_rate=0.300000012, max_delta_step=0,\n",
       "                           max_depth=6, min_child_weight=1, missing=nan,\n",
       "                           monotone_constraints='()', n_estimators=100,\n",
       "                           n_jobs=8, name='oversampled_xgb',\n",
       "                           num_parallel_tree=1, objective='multi:softprob',\n",
       "                           predictor='auto', random_state=100, reg_alpha=0,\n",
       "                           reg_lambda=1, scale_pos_weight=None, subsample=1,\n",
       "                           tree_method='exact', use_label_encoder=False,\n",
       "                           validate_parameters=1, ...)"
      ]
     },
     "execution_count": 108,
     "metadata": {},
     "output_type": "execute_result"
    }
   ],
   "source": [
    "oversampled_xgb.fit(X_res, y_res)"
   ]
  },
  {
   "cell_type": "code",
   "execution_count": 109,
   "id": "dc5e9a7c",
   "metadata": {},
   "outputs": [],
   "source": [
    "oversampled_xgbtrain_predictions = oversampled_xgb.predict(X_res)\n",
    "oversampled_xgbtest_predictions = oversampled_xgb.predict(X_test_matrix)\n",
    "oversampled_xgbtest_probs = oversampled_xgb.predict_proba(X_test_matrix)"
   ]
  },
  {
   "cell_type": "code",
   "execution_count": 110,
   "id": "a17eca14",
   "metadata": {},
   "outputs": [
    {
     "data": {
      "text/plain": [
       "array([[3138,    0,    1],\n",
       "       [   0, 3113,   26],\n",
       "       [   0,    0, 3139]], dtype=int64)"
      ]
     },
     "execution_count": 110,
     "metadata": {},
     "output_type": "execute_result"
    }
   ],
   "source": [
    "confusion_matrix(y_res, oversampled_xgbtrain_predictions)"
   ]
  },
  {
   "cell_type": "code",
   "execution_count": 111,
   "id": "dfb82462",
   "metadata": {},
   "outputs": [
    {
     "name": "stdout",
     "output_type": "stream",
     "text": [
      "recall score: [0.99968143 0.99171711 1.        ]\n",
      "precision score: [1.         1.         0.99147189]\n",
      "f1 score [0.99984069 0.99584133 0.99571768]\n",
      "average f1 score: 0.9971332344594969\n"
     ]
    }
   ],
   "source": [
    "print_scores(y_res, oversampled_xgbtrain_predictions)"
   ]
  },
  {
   "cell_type": "code",
   "execution_count": 112,
   "id": "5dfd58b2",
   "metadata": {},
   "outputs": [
    {
     "data": {
      "text/plain": [
       "array([[  4,   0,   9],\n",
       "       [  2,   6,  16],\n",
       "       [  1,  13, 541]], dtype=int64)"
      ]
     },
     "execution_count": 112,
     "metadata": {},
     "output_type": "execute_result"
    }
   ],
   "source": [
    "confusion_matrix(y_test,oversampled_xgbtest_predictions)"
   ]
  },
  {
   "cell_type": "code",
   "execution_count": 113,
   "id": "03a978bf",
   "metadata": {},
   "outputs": [
    {
     "name": "stdout",
     "output_type": "stream",
     "text": [
      "recall score: [0.30769231 0.25       0.97477477]\n",
      "precision score: [0.57142857 0.31578947 0.95583039]\n",
      "f1 score [0.4        0.27906977 0.96520963]\n",
      "average f1 score: 0.5480931338989966\n"
     ]
    }
   ],
   "source": [
    "print_scores(y_test, oversampled_xgbtest_predictions)"
   ]
  },
  {
   "cell_type": "markdown",
   "id": "aa6521ce",
   "metadata": {},
   "source": [
    "### The  ROC curves of the XGB classifier (trained with synthetic samples)"
   ]
  },
  {
   "cell_type": "code",
   "execution_count": 114,
   "id": "c8157d91",
   "metadata": {},
   "outputs": [
    {
     "data": {
      "image/png": "[encoded data removed]",
      "text/plain": [
       "<Figure size 720x576 with 1 Axes>"
      ]
     },
     "metadata": {
      "needs_background": "light"
     },
     "output_type": "display_data"
    }
   ],
   "source": [
    "title = \"\"\" ROC curves showing the performance of the XGB classifier (trained with synthetic samples),\n",
    "at various classification thresholds\"\"\"\n",
    "plot_roc_curves(oversampled_xgbtest_probs, title)"
   ]
  },
  {
   "cell_type": "code",
   "execution_count": 115,
   "id": "e1cc3a2a",
   "metadata": {},
   "outputs": [],
   "source": [
    "update_scores(oversampled_xgb, y_test, oversampled_xgbtest_predictions, oversampled_xgbtest_probs)"
   ]
  },
  {
   "cell_type": "code",
   "execution_count": 116,
   "id": "288d3b32",
   "metadata": {},
   "outputs": [
    {
     "data": {
      "text/plain": [
       "{'rs': 0.511,\n",
       " 'ps': 0.614,\n",
       " 'fs': 0.5481,\n",
       " 'aucs': {0: 0.898, 1: 0.863, 2: 0.889}}"
      ]
     },
     "execution_count": 116,
     "metadata": {},
     "output_type": "execute_result"
    }
   ],
   "source": [
    "oversampled_xgb.test_metrics"
   ]
  },
  {
   "cell_type": "code",
   "execution_count": 117,
   "id": "8557d7e3",
   "metadata": {},
   "outputs": [
    {
     "data": {
      "text/plain": [
       "{'mnb': MyMultinomialNB(name='mnb'),\n",
       " 'oversampled_mnb': MyOversampledMultinomialNB(name='oversampled_mnb'),\n",
       " 'rfc': MyRandomForestClassifier(name='rfc'),\n",
       " 'xgb': MyXGBClassifier(base_score=0.5, booster='gbtree', colsample_bylevel=1,\n",
       "                 colsample_bynode=1, colsample_bytree=1,\n",
       "                 enable_categorical=False, gamma=0, gpu_id=-1,\n",
       "                 importance_type=None, interaction_constraints='',\n",
       "                 learning_rate=0.300000012, max_delta_step=0, max_depth=6,\n",
       "                 min_child_weight=1, missing=nan, monotone_constraints='()',\n",
       "                 n_estimators=100, n_jobs=8, name='xgb', num_parallel_tree=1,\n",
       "                 objective='multi:softprob', predictor='auto', random_state=100,\n",
       "                 reg_alpha=0, reg_lambda=1, scale_pos_weight=None, subsample=1,\n",
       "                 tree_method='exact', use_label_encoder=False,\n",
       "                 validate_parameters=1, ...),\n",
       " 'oversampled_xgb': MyOversampledXGBClassifier(base_score=0.5, booster='gbtree',\n",
       "                            colsample_bylevel=1, colsample_bynode=1,\n",
       "                            colsample_bytree=1, enable_categorical=False,\n",
       "                            gamma=0, gpu_id=-1, importance_type=None,\n",
       "                            interaction_constraints='',\n",
       "                            learning_rate=0.300000012, max_delta_step=0,\n",
       "                            max_depth=6, min_child_weight=1, missing=nan,\n",
       "                            monotone_constraints='()', n_estimators=100,\n",
       "                            n_jobs=8, name='oversampled_xgb',\n",
       "                            num_parallel_tree=1, objective='multi:softprob',\n",
       "                            predictor='auto', random_state=100, reg_alpha=0,\n",
       "                            reg_lambda=1, scale_pos_weight=None, subsample=1,\n",
       "                            tree_method='exact', use_label_encoder=False,\n",
       "                            validate_parameters=1, ...)}"
      ]
     },
     "execution_count": 117,
     "metadata": {},
     "output_type": "execute_result"
    }
   ],
   "source": [
    "models_dict"
   ]
  },
  {
   "cell_type": "code",
   "execution_count": 118,
   "id": "c741fa53",
   "metadata": {},
   "outputs": [
    {
     "data": {
      "text/html": [
       "<div>\n",
       "<style scoped>\n",
       "    .dataframe tbody tr th:only-of-type {\n",
       "        vertical-align: middle;\n",
       "    }\n",
       "\n",
       "    .dataframe tbody tr th {\n",
       "        vertical-align: top;\n",
       "    }\n",
       "\n",
       "    .dataframe thead th {\n",
       "        text-align: right;\n",
       "    }\n",
       "</style>\n",
       "<table border=\"1\" class=\"dataframe\">\n",
       "  <thead>\n",
       "    <tr style=\"text-align: right;\">\n",
       "      <th></th>\n",
       "      <th>rs</th>\n",
       "      <th>ps</th>\n",
       "      <th>fs</th>\n",
       "      <th>auc_class0</th>\n",
       "      <th>auc_class1</th>\n",
       "      <th>auc_class2</th>\n",
       "    </tr>\n",
       "  </thead>\n",
       "  <tbody>\n",
       "    <tr>\n",
       "      <th>mnb</th>\n",
       "      <td>0.333</td>\n",
       "      <td>0.312</td>\n",
       "      <td>0.3226</td>\n",
       "      <td>0.806</td>\n",
       "      <td>0.743</td>\n",
       "      <td>0.759</td>\n",
       "    </tr>\n",
       "    <tr>\n",
       "      <th>oversampled_mnb</th>\n",
       "      <td>0.700</td>\n",
       "      <td>0.502</td>\n",
       "      <td>0.5563</td>\n",
       "      <td>0.831</td>\n",
       "      <td>0.857</td>\n",
       "      <td>0.833</td>\n",
       "    </tr>\n",
       "    <tr>\n",
       "      <th>rfc</th>\n",
       "      <td>0.505</td>\n",
       "      <td>0.984</td>\n",
       "      <td>0.5969</td>\n",
       "      <td>0.880</td>\n",
       "      <td>0.811</td>\n",
       "      <td>0.814</td>\n",
       "    </tr>\n",
       "    <tr>\n",
       "      <th>xgb</th>\n",
       "      <td>0.546</td>\n",
       "      <td>0.838</td>\n",
       "      <td>0.6276</td>\n",
       "      <td>0.906</td>\n",
       "      <td>0.871</td>\n",
       "      <td>0.875</td>\n",
       "    </tr>\n",
       "    <tr>\n",
       "      <th>oversampled_xgb</th>\n",
       "      <td>0.511</td>\n",
       "      <td>0.614</td>\n",
       "      <td>0.5481</td>\n",
       "      <td>0.898</td>\n",
       "      <td>0.863</td>\n",
       "      <td>0.889</td>\n",
       "    </tr>\n",
       "  </tbody>\n",
       "</table>\n",
       "</div>"
      ],
      "text/plain": [
       "                    rs     ps      fs  auc_class0  auc_class1  auc_class2\n",
       "mnb              0.333  0.312  0.3226       0.806       0.743       0.759\n",
       "oversampled_mnb  0.700  0.502  0.5563       0.831       0.857       0.833\n",
       "rfc              0.505  0.984  0.5969       0.880       0.811       0.814\n",
       "xgb              0.546  0.838  0.6276       0.906       0.871       0.875\n",
       "oversampled_xgb  0.511  0.614  0.5481       0.898       0.863       0.889"
      ]
     },
     "execution_count": 118,
     "metadata": {},
     "output_type": "execute_result"
    }
   ],
   "source": [
    "generate_test_metrics_df()"
   ]
  },
  {
   "cell_type": "markdown",
   "id": "d09d52cf",
   "metadata": {},
   "source": [
    "`The XGB classifier trained with synthetic samples does not perform as well as the one trained on the imbalanced dataset.`"
   ]
  },
  {
   "cell_type": "markdown",
   "id": "039eb98e",
   "metadata": {},
   "source": [
    "### Support Vector Machines"
   ]
  },
  {
   "cell_type": "code",
   "execution_count": 119,
   "id": "f5070563",
   "metadata": {},
   "outputs": [],
   "source": [
    "from sklearn.svm import SVC"
   ]
  },
  {
   "cell_type": "code",
   "execution_count": 120,
   "id": "06566767",
   "metadata": {},
   "outputs": [],
   "source": [
    "class MySVC(SVC):\n",
    "    def __init__(self, name, test_metrics={}):\n",
    "        super().__init__(random_state=100, class_weight='balanced', probability=True)\n",
    "        self.name = name\n",
    "        self.test_metrics = test_metrics\n",
    "        models_dict.update({self.name: self})"
   ]
  },
  {
   "cell_type": "code",
   "execution_count": 121,
   "id": "34d487f6",
   "metadata": {},
   "outputs": [],
   "source": [
    "svc = MySVC('svc')"
   ]
  },
  {
   "cell_type": "code",
   "execution_count": 122,
   "id": "148e06cc",
   "metadata": {},
   "outputs": [
    {
     "data": {
      "text/plain": [
       "MySVC(name='svc')"
      ]
     },
     "execution_count": 122,
     "metadata": {},
     "output_type": "execute_result"
    }
   ],
   "source": [
    "svc.fit(X_train_matrix, y_train)"
   ]
  },
  {
   "cell_type": "code",
   "execution_count": 123,
   "id": "2029aca5",
   "metadata": {},
   "outputs": [],
   "source": [
    "svctrain_predictions = svc.predict(X_train_matrix)\n",
    "svctest_predictions = svc.predict(X_test_matrix)\n",
    "svctest_probs = svc.predict_proba(X_test_matrix)"
   ]
  },
  {
   "cell_type": "code",
   "execution_count": 124,
   "id": "3cb3378d",
   "metadata": {},
   "outputs": [
    {
     "data": {
      "text/plain": [
       "array([[  77,    0,    0],\n",
       "       [   0,  134,    0],\n",
       "       [   0,    1, 3138]], dtype=int64)"
      ]
     },
     "execution_count": 124,
     "metadata": {},
     "output_type": "execute_result"
    }
   ],
   "source": [
    "confusion_matrix(y_train, svctrain_predictions)"
   ]
  },
  {
   "cell_type": "code",
   "execution_count": 125,
   "id": "47675fbe",
   "metadata": {},
   "outputs": [
    {
     "name": "stdout",
     "output_type": "stream",
     "text": [
      "recall score: [1.         1.         0.99968143]\n",
      "precision score: [1.         0.99259259 1.        ]\n",
      "f1 score [1.         0.99628253 0.99984069]\n",
      "average f1 score: 0.9987077387026337\n"
     ]
    }
   ],
   "source": [
    "print_scores(y_train, svctrain_predictions)"
   ]
  },
  {
   "cell_type": "code",
   "execution_count": 126,
   "id": "3f8b63ce",
   "metadata": {},
   "outputs": [
    {
     "data": {
      "text/plain": [
       "array([[  4,   0,   9],\n",
       "       [  0,   6,  18],\n",
       "       [  0,   2, 553]], dtype=int64)"
      ]
     },
     "execution_count": 126,
     "metadata": {},
     "output_type": "execute_result"
    }
   ],
   "source": [
    "confusion_matrix(y_test, svctest_predictions)"
   ]
  },
  {
   "cell_type": "code",
   "execution_count": 127,
   "id": "b8ac2e33",
   "metadata": {},
   "outputs": [
    {
     "name": "stdout",
     "output_type": "stream",
     "text": [
      "recall score: [0.30769231 0.25       0.9963964 ]\n",
      "precision score: [1.         0.75       0.95344828]\n",
      "f1 score [0.47058824 0.375      0.97444934]\n",
      "average f1 score: 0.6066791915003887\n"
     ]
    }
   ],
   "source": [
    "print_scores(y_test, svctest_predictions)\n"
   ]
  },
  {
   "cell_type": "markdown",
   "id": "1d62d3bc",
   "metadata": {},
   "source": [
    "### The  ROC curves of the Support Vector Machine Classifier classifier (class_weight='balanced')"
   ]
  },
  {
   "cell_type": "code",
   "execution_count": 128,
   "id": "681f7db8",
   "metadata": {},
   "outputs": [
    {
     "data": {
      "image/png": "[encoded data removed]",
      "text/plain": [
       "<Figure size 720x576 with 1 Axes>"
      ]
     },
     "metadata": {
      "needs_background": "light"
     },
     "output_type": "display_data"
    }
   ],
   "source": [
    "title = \"\"\" ROC curves showing the performance of the SVC classifier (class_weight='balanced'),\n",
    "at various classification thresholds\"\"\"\n",
    "plot_roc_curves(svctest_probs, title)"
   ]
  },
  {
   "cell_type": "code",
   "execution_count": 129,
   "id": "96b2d17b",
   "metadata": {},
   "outputs": [],
   "source": [
    "update_scores(svc, y_test, svctest_predictions, svctest_probs)"
   ]
  },
  {
   "cell_type": "code",
   "execution_count": 130,
   "id": "3fb11634",
   "metadata": {},
   "outputs": [
    {
     "data": {
      "text/plain": [
       "{'rs': 0.518, 'ps': 0.901, 'fs': 0.6067, 'aucs': {0: 0.89, 1: 0.913, 2: 0.896}}"
      ]
     },
     "execution_count": 130,
     "metadata": {},
     "output_type": "execute_result"
    }
   ],
   "source": [
    "svc.test_metrics"
   ]
  },
  {
   "cell_type": "code",
   "execution_count": 131,
   "id": "45b9e1e7",
   "metadata": {},
   "outputs": [
    {
     "data": {
      "text/plain": [
       "{'mnb': MyMultinomialNB(name='mnb'),\n",
       " 'oversampled_mnb': MyOversampledMultinomialNB(name='oversampled_mnb'),\n",
       " 'rfc': MyRandomForestClassifier(name='rfc'),\n",
       " 'xgb': MyXGBClassifier(base_score=0.5, booster='gbtree', colsample_bylevel=1,\n",
       "                 colsample_bynode=1, colsample_bytree=1,\n",
       "                 enable_categorical=False, gamma=0, gpu_id=-1,\n",
       "                 importance_type=None, interaction_constraints='',\n",
       "                 learning_rate=0.300000012, max_delta_step=0, max_depth=6,\n",
       "                 min_child_weight=1, missing=nan, monotone_constraints='()',\n",
       "                 n_estimators=100, n_jobs=8, name='xgb', num_parallel_tree=1,\n",
       "                 objective='multi:softprob', predictor='auto', random_state=100,\n",
       "                 reg_alpha=0, reg_lambda=1, scale_pos_weight=None, subsample=1,\n",
       "                 tree_method='exact', use_label_encoder=False,\n",
       "                 validate_parameters=1, ...),\n",
       " 'oversampled_xgb': MyOversampledXGBClassifier(base_score=0.5, booster='gbtree',\n",
       "                            colsample_bylevel=1, colsample_bynode=1,\n",
       "                            colsample_bytree=1, enable_categorical=False,\n",
       "                            gamma=0, gpu_id=-1, importance_type=None,\n",
       "                            interaction_constraints='',\n",
       "                            learning_rate=0.300000012, max_delta_step=0,\n",
       "                            max_depth=6, min_child_weight=1, missing=nan,\n",
       "                            monotone_constraints='()', n_estimators=100,\n",
       "                            n_jobs=8, name='oversampled_xgb',\n",
       "                            num_parallel_tree=1, objective='multi:softprob',\n",
       "                            predictor='auto', random_state=100, reg_alpha=0,\n",
       "                            reg_lambda=1, scale_pos_weight=None, subsample=1,\n",
       "                            tree_method='exact', use_label_encoder=False,\n",
       "                            validate_parameters=1, ...),\n",
       " 'svc': MySVC(name='svc')}"
      ]
     },
     "execution_count": 131,
     "metadata": {},
     "output_type": "execute_result"
    }
   ],
   "source": [
    "models_dict"
   ]
  },
  {
   "cell_type": "code",
   "execution_count": 132,
   "id": "70968363",
   "metadata": {},
   "outputs": [
    {
     "data": {
      "text/html": [
       "<div>\n",
       "<style scoped>\n",
       "    .dataframe tbody tr th:only-of-type {\n",
       "        vertical-align: middle;\n",
       "    }\n",
       "\n",
       "    .dataframe tbody tr th {\n",
       "        vertical-align: top;\n",
       "    }\n",
       "\n",
       "    .dataframe thead th {\n",
       "        text-align: right;\n",
       "    }\n",
       "</style>\n",
       "<table border=\"1\" class=\"dataframe\">\n",
       "  <thead>\n",
       "    <tr style=\"text-align: right;\">\n",
       "      <th></th>\n",
       "      <th>rs</th>\n",
       "      <th>ps</th>\n",
       "      <th>fs</th>\n",
       "      <th>auc_class0</th>\n",
       "      <th>auc_class1</th>\n",
       "      <th>auc_class2</th>\n",
       "    </tr>\n",
       "  </thead>\n",
       "  <tbody>\n",
       "    <tr>\n",
       "      <th>mnb</th>\n",
       "      <td>0.333</td>\n",
       "      <td>0.312</td>\n",
       "      <td>0.3226</td>\n",
       "      <td>0.806</td>\n",
       "      <td>0.743</td>\n",
       "      <td>0.759</td>\n",
       "    </tr>\n",
       "    <tr>\n",
       "      <th>oversampled_mnb</th>\n",
       "      <td>0.700</td>\n",
       "      <td>0.502</td>\n",
       "      <td>0.5563</td>\n",
       "      <td>0.831</td>\n",
       "      <td>0.857</td>\n",
       "      <td>0.833</td>\n",
       "    </tr>\n",
       "    <tr>\n",
       "      <th>rfc</th>\n",
       "      <td>0.505</td>\n",
       "      <td>0.984</td>\n",
       "      <td>0.5969</td>\n",
       "      <td>0.880</td>\n",
       "      <td>0.811</td>\n",
       "      <td>0.814</td>\n",
       "    </tr>\n",
       "    <tr>\n",
       "      <th>xgb</th>\n",
       "      <td>0.546</td>\n",
       "      <td>0.838</td>\n",
       "      <td>0.6276</td>\n",
       "      <td>0.906</td>\n",
       "      <td>0.871</td>\n",
       "      <td>0.875</td>\n",
       "    </tr>\n",
       "    <tr>\n",
       "      <th>oversampled_xgb</th>\n",
       "      <td>0.511</td>\n",
       "      <td>0.614</td>\n",
       "      <td>0.5481</td>\n",
       "      <td>0.898</td>\n",
       "      <td>0.863</td>\n",
       "      <td>0.889</td>\n",
       "    </tr>\n",
       "    <tr>\n",
       "      <th>svc</th>\n",
       "      <td>0.518</td>\n",
       "      <td>0.901</td>\n",
       "      <td>0.6067</td>\n",
       "      <td>0.890</td>\n",
       "      <td>0.913</td>\n",
       "      <td>0.896</td>\n",
       "    </tr>\n",
       "  </tbody>\n",
       "</table>\n",
       "</div>"
      ],
      "text/plain": [
       "                    rs     ps      fs  auc_class0  auc_class1  auc_class2\n",
       "mnb              0.333  0.312  0.3226       0.806       0.743       0.759\n",
       "oversampled_mnb  0.700  0.502  0.5563       0.831       0.857       0.833\n",
       "rfc              0.505  0.984  0.5969       0.880       0.811       0.814\n",
       "xgb              0.546  0.838  0.6276       0.906       0.871       0.875\n",
       "oversampled_xgb  0.511  0.614  0.5481       0.898       0.863       0.889\n",
       "svc              0.518  0.901  0.6067       0.890       0.913       0.896"
      ]
     },
     "execution_count": 132,
     "metadata": {},
     "output_type": "execute_result"
    }
   ],
   "source": [
    "generate_test_metrics_df()"
   ]
  },
  {
   "cell_type": "markdown",
   "id": "efe56630",
   "metadata": {},
   "source": [
    "`The svc model does not do give as high an average f1 score as the xgb model. It must be noted, however, that the svc model has the hight auc for class 1. It suggest that it may be the best classifier for finding a classification threshold that can identify all the neutral reviews without misidentifying non - neutral reviews as being neutral.`"
   ]
  },
  {
   "cell_type": "markdown",
   "id": "0a607639",
   "metadata": {},
   "source": [
    " "
   ]
  },
  {
   "cell_type": "markdown",
   "id": "ca547bec",
   "metadata": {},
   "source": [
    "### Neural Networks"
   ]
  },
  {
   "cell_type": "code",
   "execution_count": 133,
   "id": "eb89c82b",
   "metadata": {},
   "outputs": [],
   "source": [
    "import tensorflow as tf\n",
    "from tensorflow.keras.layers import Dense, Dropout\n",
    "from tensorflow.keras.models import Sequential"
   ]
  },
  {
   "cell_type": "code",
   "execution_count": 134,
   "id": "5dcab831",
   "metadata": {},
   "outputs": [],
   "source": [
    "y_train_binary = binarizer.transform(y_train)"
   ]
  },
  {
   "cell_type": "code",
   "execution_count": 135,
   "id": "ca47fcf2",
   "metadata": {},
   "outputs": [
    {
     "name": "stdout",
     "output_type": "stream",
     "text": [
      "(3350, 3373) (3350, 3) (592, 3373) (592, 3)\n"
     ]
    }
   ],
   "source": [
    "print(X_train_matrix.shape, y_train_binary.shape, X_test_matrix.shape, y_test_binary.shape)"
   ]
  },
  {
   "cell_type": "code",
   "execution_count": 136,
   "id": "c2110353",
   "metadata": {},
   "outputs": [],
   "source": [
    "class MyANN(Sequential):\n",
    "    def __init__(self, name, test_metrics={}):\n",
    "        super().__init__()\n",
    "        self.name2 = name\n",
    "        self.test_metrics = test_metrics\n",
    "        models_dict.update({self.name2: self})"
   ]
  },
  {
   "cell_type": "code",
   "execution_count": 137,
   "id": "9ef399ad",
   "metadata": {},
   "outputs": [],
   "source": [
    "ann = MyANN('ann')"
   ]
  },
  {
   "cell_type": "code",
   "execution_count": 138,
   "id": "b7b4f432",
   "metadata": {},
   "outputs": [],
   "source": [
    "layers = [\n",
    "    Dense(1000, input_dim=(X_train_matrix.shape[1]), activation='relu'),\n",
    "    Dense(100, activation='relu'),\n",
    "    Dense(25, activation='relu'),\n",
    "    Dense(3, activation='softmax')\n",
    "]"
   ]
  },
  {
   "cell_type": "code",
   "execution_count": 139,
   "id": "a90535b2",
   "metadata": {},
   "outputs": [],
   "source": [
    "for layer in layers:\n",
    "    ann.add(layer)"
   ]
  },
  {
   "cell_type": "code",
   "execution_count": 140,
   "id": "7dc28140",
   "metadata": {},
   "outputs": [
    {
     "name": "stdout",
     "output_type": "stream",
     "text": [
      "Model: \"my_ann\"\n",
      "_________________________________________________________________\n",
      "Layer (type)                 Output Shape              Param #   \n",
      "=================================================================\n",
      "dense (Dense)                (None, 1000)              3374000   \n",
      "_________________________________________________________________\n",
      "dense_1 (Dense)              (None, 100)               100100    \n",
      "_________________________________________________________________\n",
      "dense_2 (Dense)              (None, 25)                2525      \n",
      "_________________________________________________________________\n",
      "dense_3 (Dense)              (None, 3)                 78        \n",
      "=================================================================\n",
      "Total params: 3,476,703\n",
      "Trainable params: 3,476,703\n",
      "Non-trainable params: 0\n",
      "_________________________________________________________________\n"
     ]
    }
   ],
   "source": [
    "ann.summary()"
   ]
  },
  {
   "cell_type": "code",
   "execution_count": 141,
   "id": "d95a324a",
   "metadata": {},
   "outputs": [],
   "source": [
    "ann.compile(optimizer='adam', loss='CategoricalCrossentropy', metrics=['accuracy'])"
   ]
  },
  {
   "cell_type": "code",
   "execution_count": 142,
   "id": "d01fd40d",
   "metadata": {},
   "outputs": [
    {
     "name": "stdout",
     "output_type": "stream",
     "text": [
      "Epoch 1/30\n",
      "53/53 [==============================] - 1s 13ms/step - loss: 0.4389 - accuracy: 0.9191\n",
      "Epoch 2/30\n",
      "53/53 [==============================] - 1s 13ms/step - loss: 0.1801 - accuracy: 0.9370\n",
      "Epoch 3/30\n",
      "53/53 [==============================] - 1s 13ms/step - loss: 0.1248 - accuracy: 0.9370\n",
      "Epoch 4/30\n",
      "53/53 [==============================] - 1s 13ms/step - loss: 0.0935 - accuracy: 0.9397\n",
      "Epoch 5/30\n",
      "53/53 [==============================] - 1s 14ms/step - loss: 0.0611 - accuracy: 0.9821\n",
      "Epoch 6/30\n",
      "53/53 [==============================] - 1s 13ms/step - loss: 0.0153 - accuracy: 0.9985\n",
      "Epoch 7/30\n",
      "53/53 [==============================] - 1s 14ms/step - loss: 0.0039 - accuracy: 0.9994\n",
      "Epoch 8/30\n",
      "53/53 [==============================] - 1s 13ms/step - loss: 9.0979e-04 - accuracy: 0.9997\n",
      "Epoch 9/30\n",
      "53/53 [==============================] - 1s 14ms/step - loss: 3.2195e-04 - accuracy: 1.0000\n",
      "Epoch 10/30\n",
      "53/53 [==============================] - 1s 14ms/step - loss: 2.1190e-04 - accuracy: 1.0000\n",
      "Epoch 11/30\n",
      "53/53 [==============================] - 1s 14ms/step - loss: 1.5644e-04 - accuracy: 1.0000\n",
      "Epoch 12/30\n",
      "53/53 [==============================] - 1s 14ms/step - loss: 1.2277e-04 - accuracy: 1.0000\n",
      "Epoch 13/30\n",
      "53/53 [==============================] - 1s 14ms/step - loss: 9.9371e-05 - accuracy: 1.0000\n",
      "Epoch 14/30\n",
      "53/53 [==============================] - 1s 14ms/step - loss: 8.2513e-05 - accuracy: 1.0000\n",
      "Epoch 15/30\n",
      "53/53 [==============================] - 1s 15ms/step - loss: 6.9761e-05 - accuracy: 1.0000\n",
      "Epoch 16/30\n",
      "53/53 [==============================] - 1s 15ms/step - loss: 6.0048e-05 - accuracy: 1.0000\n",
      "Epoch 17/30\n",
      "53/53 [==============================] - 1s 14ms/step - loss: 5.2137e-05 - accuracy: 1.0000\n",
      "Epoch 18/30\n",
      "53/53 [==============================] - 1s 14ms/step - loss: 4.5783e-05 - accuracy: 1.0000\n",
      "Epoch 19/30\n",
      "53/53 [==============================] - 1s 14ms/step - loss: 4.0652e-05 - accuracy: 1.0000\n",
      "Epoch 20/30\n",
      "53/53 [==============================] - 1s 14ms/step - loss: 3.6122e-05 - accuracy: 1.0000\n",
      "Epoch 21/30\n",
      "53/53 [==============================] - 1s 14ms/step - loss: 3.2358e-05 - accuracy: 1.0000\n",
      "Epoch 22/30\n",
      "53/53 [==============================] - 1s 14ms/step - loss: 2.9148e-05 - accuracy: 1.0000\n",
      "Epoch 23/30\n",
      "53/53 [==============================] - 1s 15ms/step - loss: 2.6397e-05 - accuracy: 1.0000\n",
      "Epoch 24/30\n",
      "53/53 [==============================] - 1s 15ms/step - loss: 2.3958e-05 - accuracy: 1.0000\n",
      "Epoch 25/30\n",
      "53/53 [==============================] - 1s 15ms/step - loss: 2.1872e-05 - accuracy: 1.0000\n",
      "Epoch 26/30\n",
      "53/53 [==============================] - 1s 15ms/step - loss: 1.9991e-05 - accuracy: 1.0000\n",
      "Epoch 27/30\n",
      "53/53 [==============================] - 1s 14ms/step - loss: 1.8373e-05 - accuracy: 1.0000\n",
      "Epoch 28/30\n",
      "53/53 [==============================] - 1s 14ms/step - loss: 1.6932e-05 - accuracy: 1.0000\n",
      "Epoch 29/30\n",
      "53/53 [==============================] - 1s 14ms/step - loss: 1.5625e-05 - accuracy: 1.0000\n",
      "Epoch 30/30\n",
      "53/53 [==============================] - 1s 15ms/step - loss: 1.4470e-05 - accuracy: 1.0000\n"
     ]
    }
   ],
   "source": [
    "ann_history = ann.fit(X_train_matrix.toarray(), y_train_binary, batch_size=64, epochs=30)"
   ]
  },
  {
   "cell_type": "markdown",
   "id": "04806c32",
   "metadata": {},
   "source": [
    "`With a minimum number of iterations of batch gradient descent, a fully conected neural network is able to learn a decision boundrary capable of separating the three classes in the training set.`"
   ]
  },
  {
   "cell_type": "code",
   "execution_count": 143,
   "id": "eb733523",
   "metadata": {},
   "outputs": [],
   "source": [
    "anntest_probs = ann.predict(X_test_matrix)\n",
    "anntest_predictions= np.argmax(anntest_probs, axis=1)\n"
   ]
  },
  {
   "cell_type": "code",
   "execution_count": 144,
   "id": "83b6c814",
   "metadata": {
    "scrolled": true
   },
   "outputs": [
    {
     "data": {
      "text/plain": [
       "array([[2.2887380e-07, 2.3616597e-06, 9.9999738e-01],\n",
       "       [2.0426616e-07, 4.5814713e-06, 9.9999523e-01],\n",
       "       [1.3934605e-08, 4.4270931e-07, 9.9999952e-01],\n",
       "       ...,\n",
       "       [2.1604275e-14, 8.4184645e-13, 1.0000000e+00],\n",
       "       [8.6387203e-10, 1.1028147e-08, 1.0000000e+00],\n",
       "       [1.5393314e-01, 1.1680388e-02, 8.3438647e-01]], dtype=float32)"
      ]
     },
     "execution_count": 144,
     "metadata": {},
     "output_type": "execute_result"
    }
   ],
   "source": [
    "anntest_probs"
   ]
  },
  {
   "cell_type": "code",
   "execution_count": 145,
   "id": "ebd5474e",
   "metadata": {},
   "outputs": [
    {
     "data": {
      "text/plain": [
       "array([[  4,   0,   9],\n",
       "       [  1,   7,  16],\n",
       "       [  4,   3, 548]], dtype=int64)"
      ]
     },
     "execution_count": 145,
     "metadata": {},
     "output_type": "execute_result"
    }
   ],
   "source": [
    "confusion_matrix(y_test, anntest_predictions)"
   ]
  },
  {
   "cell_type": "code",
   "execution_count": 146,
   "id": "b434f363",
   "metadata": {},
   "outputs": [
    {
     "name": "stdout",
     "output_type": "stream",
     "text": [
      "recall score: [0.30769231 0.29166667 0.98738739]\n",
      "precision score: [0.44444444 0.7        0.95636998]\n",
      "f1 score [0.36363636 0.41176471 0.97163121]\n",
      "average f1 score: 0.5823440917308251\n"
     ]
    }
   ],
   "source": [
    "print_scores(y_test, anntest_predictions)"
   ]
  },
  {
   "cell_type": "markdown",
   "id": "25266850",
   "metadata": {},
   "source": [
    "### The  ROC curves of the Artificial Neural Network "
   ]
  },
  {
   "cell_type": "code",
   "execution_count": 147,
   "id": "09751cbe",
   "metadata": {},
   "outputs": [
    {
     "data": {
      "image/png": "[encoded data removed]",
      "text/plain": [
       "<Figure size 720x576 with 1 Axes>"
      ]
     },
     "metadata": {
      "needs_background": "light"
     },
     "output_type": "display_data"
    }
   ],
   "source": [
    "title = \"\"\" ROC curves showing the performance of the Artificial Neural Network,\n",
    "at various classification thresholds\"\"\"\n",
    "plot_roc_curves(anntest_probs, title)"
   ]
  },
  {
   "cell_type": "code",
   "execution_count": 148,
   "id": "66cd3ea0",
   "metadata": {},
   "outputs": [],
   "source": [
    " update_scores(ann, y_test, anntest_predictions, rfctest_probs)"
   ]
  },
  {
   "cell_type": "code",
   "execution_count": 149,
   "id": "54fa6de2",
   "metadata": {},
   "outputs": [
    {
     "data": {
      "text/plain": [
       "{'rs': 0.529, 'ps': 0.7, 'fs': 0.5823, 'aucs': {0: 0.88, 1: 0.811, 2: 0.814}}"
      ]
     },
     "execution_count": 149,
     "metadata": {},
     "output_type": "execute_result"
    }
   ],
   "source": [
    "ann.test_metrics"
   ]
  },
  {
   "cell_type": "code",
   "execution_count": 150,
   "id": "fe0be97b",
   "metadata": {},
   "outputs": [
    {
     "data": {
      "text/plain": [
       "{'mnb': MyMultinomialNB(name='mnb'),\n",
       " 'oversampled_mnb': MyOversampledMultinomialNB(name='oversampled_mnb'),\n",
       " 'rfc': MyRandomForestClassifier(name='rfc'),\n",
       " 'xgb': MyXGBClassifier(base_score=0.5, booster='gbtree', colsample_bylevel=1,\n",
       "                 colsample_bynode=1, colsample_bytree=1,\n",
       "                 enable_categorical=False, gamma=0, gpu_id=-1,\n",
       "                 importance_type=None, interaction_constraints='',\n",
       "                 learning_rate=0.300000012, max_delta_step=0, max_depth=6,\n",
       "                 min_child_weight=1, missing=nan, monotone_constraints='()',\n",
       "                 n_estimators=100, n_jobs=8, name='xgb', num_parallel_tree=1,\n",
       "                 objective='multi:softprob', predictor='auto', random_state=100,\n",
       "                 reg_alpha=0, reg_lambda=1, scale_pos_weight=None, subsample=1,\n",
       "                 tree_method='exact', use_label_encoder=False,\n",
       "                 validate_parameters=1, ...),\n",
       " 'oversampled_xgb': MyOversampledXGBClassifier(base_score=0.5, booster='gbtree',\n",
       "                            colsample_bylevel=1, colsample_bynode=1,\n",
       "                            colsample_bytree=1, enable_categorical=False,\n",
       "                            gamma=0, gpu_id=-1, importance_type=None,\n",
       "                            interaction_constraints='',\n",
       "                            learning_rate=0.300000012, max_delta_step=0,\n",
       "                            max_depth=6, min_child_weight=1, missing=nan,\n",
       "                            monotone_constraints='()', n_estimators=100,\n",
       "                            n_jobs=8, name='oversampled_xgb',\n",
       "                            num_parallel_tree=1, objective='multi:softprob',\n",
       "                            predictor='auto', random_state=100, reg_alpha=0,\n",
       "                            reg_lambda=1, scale_pos_weight=None, subsample=1,\n",
       "                            tree_method='exact', use_label_encoder=False,\n",
       "                            validate_parameters=1, ...),\n",
       " 'svc': MySVC(name='svc'),\n",
       " 'ann': <__main__.MyANN at 0x2934b62d7c0>}"
      ]
     },
     "execution_count": 150,
     "metadata": {},
     "output_type": "execute_result"
    }
   ],
   "source": [
    "models_dict"
   ]
  },
  {
   "cell_type": "code",
   "execution_count": 151,
   "id": "9f07157a",
   "metadata": {},
   "outputs": [
    {
     "data": {
      "text/html": [
       "<div>\n",
       "<style scoped>\n",
       "    .dataframe tbody tr th:only-of-type {\n",
       "        vertical-align: middle;\n",
       "    }\n",
       "\n",
       "    .dataframe tbody tr th {\n",
       "        vertical-align: top;\n",
       "    }\n",
       "\n",
       "    .dataframe thead th {\n",
       "        text-align: right;\n",
       "    }\n",
       "</style>\n",
       "<table border=\"1\" class=\"dataframe\">\n",
       "  <thead>\n",
       "    <tr style=\"text-align: right;\">\n",
       "      <th></th>\n",
       "      <th>rs</th>\n",
       "      <th>ps</th>\n",
       "      <th>fs</th>\n",
       "      <th>auc_class0</th>\n",
       "      <th>auc_class1</th>\n",
       "      <th>auc_class2</th>\n",
       "    </tr>\n",
       "  </thead>\n",
       "  <tbody>\n",
       "    <tr>\n",
       "      <th>mnb</th>\n",
       "      <td>0.333</td>\n",
       "      <td>0.312</td>\n",
       "      <td>0.3226</td>\n",
       "      <td>0.806</td>\n",
       "      <td>0.743</td>\n",
       "      <td>0.759</td>\n",
       "    </tr>\n",
       "    <tr>\n",
       "      <th>oversampled_mnb</th>\n",
       "      <td>0.700</td>\n",
       "      <td>0.502</td>\n",
       "      <td>0.5563</td>\n",
       "      <td>0.831</td>\n",
       "      <td>0.857</td>\n",
       "      <td>0.833</td>\n",
       "    </tr>\n",
       "    <tr>\n",
       "      <th>rfc</th>\n",
       "      <td>0.505</td>\n",
       "      <td>0.984</td>\n",
       "      <td>0.5969</td>\n",
       "      <td>0.880</td>\n",
       "      <td>0.811</td>\n",
       "      <td>0.814</td>\n",
       "    </tr>\n",
       "    <tr>\n",
       "      <th>xgb</th>\n",
       "      <td>0.546</td>\n",
       "      <td>0.838</td>\n",
       "      <td>0.6276</td>\n",
       "      <td>0.906</td>\n",
       "      <td>0.871</td>\n",
       "      <td>0.875</td>\n",
       "    </tr>\n",
       "    <tr>\n",
       "      <th>oversampled_xgb</th>\n",
       "      <td>0.511</td>\n",
       "      <td>0.614</td>\n",
       "      <td>0.5481</td>\n",
       "      <td>0.898</td>\n",
       "      <td>0.863</td>\n",
       "      <td>0.889</td>\n",
       "    </tr>\n",
       "    <tr>\n",
       "      <th>svc</th>\n",
       "      <td>0.518</td>\n",
       "      <td>0.901</td>\n",
       "      <td>0.6067</td>\n",
       "      <td>0.890</td>\n",
       "      <td>0.913</td>\n",
       "      <td>0.896</td>\n",
       "    </tr>\n",
       "    <tr>\n",
       "      <th>ann</th>\n",
       "      <td>0.529</td>\n",
       "      <td>0.700</td>\n",
       "      <td>0.5823</td>\n",
       "      <td>0.880</td>\n",
       "      <td>0.811</td>\n",
       "      <td>0.814</td>\n",
       "    </tr>\n",
       "  </tbody>\n",
       "</table>\n",
       "</div>"
      ],
      "text/plain": [
       "                    rs     ps      fs  auc_class0  auc_class1  auc_class2\n",
       "mnb              0.333  0.312  0.3226       0.806       0.743       0.759\n",
       "oversampled_mnb  0.700  0.502  0.5563       0.831       0.857       0.833\n",
       "rfc              0.505  0.984  0.5969       0.880       0.811       0.814\n",
       "xgb              0.546  0.838  0.6276       0.906       0.871       0.875\n",
       "oversampled_xgb  0.511  0.614  0.5481       0.898       0.863       0.889\n",
       "svc              0.518  0.901  0.6067       0.890       0.913       0.896\n",
       "ann              0.529  0.700  0.5823       0.880       0.811       0.814"
      ]
     },
     "execution_count": 151,
     "metadata": {},
     "output_type": "execute_result"
    }
   ],
   "source": [
    "generate_test_metrics_df()"
   ]
  },
  {
   "cell_type": "markdown",
   "id": "c68d534f",
   "metadata": {},
   "source": [
    "`The ann does not outperform the other models in any area.`"
   ]
  },
  {
   "cell_type": "markdown",
   "id": "ebff0a10",
   "metadata": {},
   "source": [
    "### Neural Network with class weight balanced"
   ]
  },
  {
   "cell_type": "code",
   "execution_count": 152,
   "id": "a37b77dd",
   "metadata": {},
   "outputs": [
    {
     "data": {
      "text/plain": [
       "(array([0, 1, 2]), array([  77,  134, 3139], dtype=int64))"
      ]
     },
     "execution_count": 152,
     "metadata": {},
     "output_type": "execute_result"
    }
   ],
   "source": [
    "np.unique(y_train, return_counts=True)"
   ]
  },
  {
   "cell_type": "code",
   "execution_count": 153,
   "id": "d4ed3384",
   "metadata": {},
   "outputs": [
    {
     "name": "stdout",
     "output_type": "stream",
     "text": [
      "3350\n"
     ]
    }
   ],
   "source": [
    "num_0, num_1, num_2 = np.unique(y_train, return_counts=True)[1]\n",
    "total = num_0 + num_1 + num_2\n",
    "print(total)"
   ]
  },
  {
   "cell_type": "code",
   "execution_count": 154,
   "id": "287927d2",
   "metadata": {},
   "outputs": [
    {
     "data": {
      "text/plain": [
       "{0: 14.502164502164504, 1: 8.333333333333334, 2: 0.355739619836466}"
      ]
     },
     "execution_count": 154,
     "metadata": {},
     "output_type": "execute_result"
    }
   ],
   "source": [
    "weight_0 = (1/num_0) * (total/3)\n",
    "weight_1 = (1/num_1) * (total/3)\n",
    "weight_2 = (1/num_2) * (total/3)\n",
    "class_weight = {0: weight_0, 1: weight_1, 2: weight_2}\n",
    "class_weight"
   ]
  },
  {
   "cell_type": "code",
   "execution_count": 155,
   "id": "d0b8343d",
   "metadata": {},
   "outputs": [],
   "source": [
    "layers = [\n",
    "    Dense(1000, input_dim=(X_train_matrix.shape[1]), activation='relu'),\n",
    "    Dense(100, activation='relu'),\n",
    "    Dense(25, activation='relu'),\n",
    "    Dense(3, activation='softmax')\n",
    "]"
   ]
  },
  {
   "cell_type": "code",
   "execution_count": 156,
   "id": "006c2814",
   "metadata": {},
   "outputs": [],
   "source": [
    "class MyBalancedANN(Sequential):\n",
    "    def __init__(self, name, test_metrics={}):\n",
    "        super().__init__()\n",
    "        self.name2 = name\n",
    "        self.test_metrics = test_metrics\n",
    "        models_dict.update({self.name2: self})"
   ]
  },
  {
   "cell_type": "code",
   "execution_count": 157,
   "id": "3aac600e",
   "metadata": {},
   "outputs": [],
   "source": [
    "balanced_ann = MyBalancedANN('balanced_ann')"
   ]
  },
  {
   "cell_type": "code",
   "execution_count": 158,
   "id": "2c8e92d3",
   "metadata": {},
   "outputs": [],
   "source": [
    "for layer in layers:\n",
    "    balanced_ann.add(layer)"
   ]
  },
  {
   "cell_type": "code",
   "execution_count": 159,
   "id": "c7c52e0a",
   "metadata": {},
   "outputs": [
    {
     "name": "stdout",
     "output_type": "stream",
     "text": [
      "Model: \"my_balanced_ann\"\n",
      "_________________________________________________________________\n",
      "Layer (type)                 Output Shape              Param #   \n",
      "=================================================================\n",
      "dense_4 (Dense)              (None, 1000)              3374000   \n",
      "_________________________________________________________________\n",
      "dense_5 (Dense)              (None, 100)               100100    \n",
      "_________________________________________________________________\n",
      "dense_6 (Dense)              (None, 25)                2525      \n",
      "_________________________________________________________________\n",
      "dense_7 (Dense)              (None, 3)                 78        \n",
      "=================================================================\n",
      "Total params: 3,476,703\n",
      "Trainable params: 3,476,703\n",
      "Non-trainable params: 0\n",
      "_________________________________________________________________\n"
     ]
    }
   ],
   "source": [
    "balanced_ann.summary()"
   ]
  },
  {
   "cell_type": "code",
   "execution_count": 160,
   "id": "d36a9e43",
   "metadata": {},
   "outputs": [],
   "source": [
    "balanced_ann.compile(optimizer='adam', loss='CategoricalCrossentropy', metrics=['accuracy'])"
   ]
  },
  {
   "cell_type": "code",
   "execution_count": 161,
   "id": "6b56be3f",
   "metadata": {
    "scrolled": true
   },
   "outputs": [
    {
     "name": "stdout",
     "output_type": "stream",
     "text": [
      "Epoch 1/60\n",
      "53/53 [==============================] - 1s 14ms/step - loss: 1.0665 - accuracy: 0.8809\n",
      "Epoch 2/60\n",
      "53/53 [==============================] - 1s 14ms/step - loss: 0.6080 - accuracy: 0.8907\n",
      "Epoch 3/60\n",
      "53/53 [==============================] - 1s 13ms/step - loss: 0.1788 - accuracy: 0.9445\n",
      "Epoch 4/60\n",
      "53/53 [==============================] - 1s 14ms/step - loss: 0.0426 - accuracy: 0.9794\n",
      "Epoch 5/60\n",
      "53/53 [==============================] - 1s 14ms/step - loss: 0.0123 - accuracy: 0.9943\n",
      "Epoch 6/60\n",
      "53/53 [==============================] - 1s 14ms/step - loss: 0.0067 - accuracy: 0.9982\n",
      "Epoch 7/60\n",
      "53/53 [==============================] - 1s 13ms/step - loss: 0.0039 - accuracy: 0.9991\n",
      "Epoch 8/60\n",
      "53/53 [==============================] - 1s 13ms/step - loss: 0.0027 - accuracy: 0.9994\n",
      "Epoch 9/60\n",
      "53/53 [==============================] - 1s 15ms/step - loss: 0.0018 - accuracy: 0.9994\n",
      "Epoch 10/60\n",
      "53/53 [==============================] - 1s 14ms/step - loss: 0.0012 - accuracy: 0.9997\n",
      "Epoch 11/60\n",
      "53/53 [==============================] - 1s 14ms/step - loss: 7.5157e-04 - accuracy: 1.0000\n",
      "Epoch 12/60\n",
      "53/53 [==============================] - 1s 14ms/step - loss: 5.4907e-04 - accuracy: 1.0000\n",
      "Epoch 13/60\n",
      "53/53 [==============================] - 1s 14ms/step - loss: 4.2236e-04 - accuracy: 1.0000\n",
      "Epoch 14/60\n",
      "53/53 [==============================] - 1s 14ms/step - loss: 3.4002e-04 - accuracy: 1.0000\n",
      "Epoch 15/60\n",
      "53/53 [==============================] - 1s 16ms/step - loss: 2.8084e-04 - accuracy: 1.0000\n",
      "Epoch 16/60\n",
      "53/53 [==============================] - 1s 15ms/step - loss: 2.3594e-04 - accuracy: 1.0000\n",
      "Epoch 17/60\n",
      "53/53 [==============================] - 1s 14ms/step - loss: 2.0109e-04 - accuracy: 1.0000\n",
      "Epoch 18/60\n",
      "53/53 [==============================] - 1s 14ms/step - loss: 1.7333e-04 - accuracy: 1.0000\n",
      "Epoch 19/60\n",
      "53/53 [==============================] - 1s 14ms/step - loss: 1.5149e-04 - accuracy: 1.0000\n",
      "Epoch 20/60\n",
      "53/53 [==============================] - 1s 14ms/step - loss: 1.3311e-04 - accuracy: 1.0000\n",
      "Epoch 21/60\n",
      "53/53 [==============================] - 1s 14ms/step - loss: 1.1718e-04 - accuracy: 1.0000\n",
      "Epoch 22/60\n",
      "53/53 [==============================] - 1s 15ms/step - loss: 1.0455e-04 - accuracy: 1.0000\n",
      "Epoch 23/60\n",
      "53/53 [==============================] - 1s 15ms/step - loss: 9.3664e-05 - accuracy: 1.0000\n",
      "Epoch 24/60\n",
      "53/53 [==============================] - 1s 15ms/step - loss: 8.4174e-05 - accuracy: 1.0000\n",
      "Epoch 25/60\n",
      "53/53 [==============================] - 1s 15ms/step - loss: 7.6248e-05 - accuracy: 1.0000\n",
      "Epoch 26/60\n",
      "53/53 [==============================] - 1s 14ms/step - loss: 6.9198e-05 - accuracy: 1.0000\n",
      "Epoch 27/60\n",
      "53/53 [==============================] - 1s 14ms/step - loss: 6.3078e-05 - accuracy: 1.0000\n",
      "Epoch 28/60\n",
      "53/53 [==============================] - 4s 73ms/step - loss: 5.7885e-05 - accuracy: 1.0000\n",
      "Epoch 29/60\n",
      "53/53 [==============================] - 3s 47ms/step - loss: 5.2928e-05 - accuracy: 1.0000\n",
      "Epoch 30/60\n",
      "53/53 [==============================] - 1s 13ms/step - loss: 4.8717e-05 - accuracy: 1.0000\n",
      "Epoch 31/60\n",
      "53/53 [==============================] - 1s 13ms/step - loss: 4.4962e-05 - accuracy: 1.0000\n",
      "Epoch 32/60\n",
      "53/53 [==============================] - 1s 13ms/step - loss: 4.1613e-05 - accuracy: 1.0000\n",
      "Epoch 33/60\n",
      "53/53 [==============================] - 1s 13ms/step - loss: 3.8658e-05 - accuracy: 1.0000\n",
      "Epoch 34/60\n",
      "53/53 [==============================] - 1s 12ms/step - loss: 3.5836e-05 - accuracy: 1.0000\n",
      "Epoch 35/60\n",
      "53/53 [==============================] - 1s 12ms/step - loss: 3.3330e-05 - accuracy: 1.0000\n",
      "Epoch 36/60\n",
      "53/53 [==============================] - 1s 12ms/step - loss: 3.1069e-05 - accuracy: 1.0000\n",
      "Epoch 37/60\n",
      "53/53 [==============================] - 1s 13ms/step - loss: 2.9073e-05 - accuracy: 1.0000\n",
      "Epoch 38/60\n",
      "53/53 [==============================] - 1s 12ms/step - loss: 2.7224e-05 - accuracy: 1.0000\n",
      "Epoch 39/60\n",
      "53/53 [==============================] - 1s 13ms/step - loss: 2.5497e-05 - accuracy: 1.0000\n",
      "Epoch 40/60\n",
      "53/53 [==============================] - 1s 13ms/step - loss: 2.3887e-05 - accuracy: 1.0000\n",
      "Epoch 41/60\n",
      "53/53 [==============================] - 1s 15ms/step - loss: 2.2434e-05 - accuracy: 1.0000\n",
      "Epoch 42/60\n",
      "53/53 [==============================] - 1s 14ms/step - loss: 2.1115e-05 - accuracy: 1.0000\n",
      "Epoch 43/60\n",
      "53/53 [==============================] - 1s 14ms/step - loss: 1.9882e-05 - accuracy: 1.0000\n",
      "Epoch 44/60\n",
      "53/53 [==============================] - 1s 14ms/step - loss: 1.8737e-05 - accuracy: 1.0000\n",
      "Epoch 45/60\n",
      "53/53 [==============================] - 1s 14ms/step - loss: 1.7674e-05 - accuracy: 1.0000\n",
      "Epoch 46/60\n",
      "53/53 [==============================] - 1s 14ms/step - loss: 1.6694e-05 - accuracy: 1.0000\n",
      "Epoch 47/60\n",
      "53/53 [==============================] - 1s 14ms/step - loss: 1.5783e-05 - accuracy: 1.0000\n",
      "Epoch 48/60\n",
      "53/53 [==============================] - 1s 16ms/step - loss: 1.4961e-05 - accuracy: 1.0000\n",
      "Epoch 49/60\n",
      "53/53 [==============================] - 1s 14ms/step - loss: 1.4155e-05 - accuracy: 1.0000\n",
      "Epoch 50/60\n",
      "53/53 [==============================] - 1s 14ms/step - loss: 1.3452e-05 - accuracy: 1.0000\n",
      "Epoch 51/60\n",
      "53/53 [==============================] - 1s 15ms/step - loss: 1.2751e-05 - accuracy: 1.0000 0s - loss: 1.2660e-05 - accuracy: 1.\n",
      "Epoch 52/60\n",
      "53/53 [==============================] - 1s 15ms/step - loss: 1.2117e-05 - accuracy: 1.0000\n",
      "Epoch 53/60\n",
      "53/53 [==============================] - 1s 14ms/step - loss: 1.1523e-05 - accuracy: 1.0000\n",
      "Epoch 54/60\n",
      "53/53 [==============================] - 1s 14ms/step - loss: 1.0941e-05 - accuracy: 1.0000\n",
      "Epoch 55/60\n",
      "53/53 [==============================] - 1s 13ms/step - loss: 1.0414e-05 - accuracy: 1.0000\n",
      "Epoch 56/60\n",
      "53/53 [==============================] - 1s 14ms/step - loss: 9.9196e-06 - accuracy: 1.0000\n",
      "Epoch 57/60\n",
      "53/53 [==============================] - 1s 14ms/step - loss: 9.4552e-06 - accuracy: 1.0000\n",
      "Epoch 58/60\n",
      "53/53 [==============================] - 1s 13ms/step - loss: 9.0175e-06 - accuracy: 1.0000\n",
      "Epoch 59/60\n",
      "53/53 [==============================] - 1s 13ms/step - loss: 8.5996e-06 - accuracy: 1.0000\n",
      "Epoch 60/60\n",
      "53/53 [==============================] - 1s 13ms/step - loss: 8.2149e-06 - accuracy: 1.0000\n"
     ]
    }
   ],
   "source": [
    "balanced_ann_history = balanced_ann.fit(X_train_matrix.toarray(), y_train_binary, batch_size=64, epochs=60, class_weight=class_weight)"
   ]
  },
  {
   "cell_type": "code",
   "execution_count": 162,
   "id": "bf15e2c5",
   "metadata": {},
   "outputs": [],
   "source": [
    "balanced_anntest_probs = balanced_ann.predict(X_test_matrix)\n",
    "balanced_anntest_predictions= np.argmax(balanced_anntest_probs, axis=1)\n"
   ]
  },
  {
   "cell_type": "code",
   "execution_count": 163,
   "id": "273d8284",
   "metadata": {
    "scrolled": true
   },
   "outputs": [
    {
     "data": {
      "text/plain": [
       "array([[3.1338345e-07, 3.0442897e-07, 9.9999940e-01],\n",
       "       [3.9921087e-08, 1.3701102e-06, 9.9999857e-01],\n",
       "       [2.0812774e-09, 6.9804472e-08, 9.9999988e-01],\n",
       "       ...,\n",
       "       [9.0833213e-15, 1.0893653e-13, 1.0000000e+00],\n",
       "       [4.2267670e-10, 1.3114941e-09, 1.0000000e+00],\n",
       "       [9.7995561e-01, 1.4099422e-03, 1.8634502e-02]], dtype=float32)"
      ]
     },
     "execution_count": 163,
     "metadata": {},
     "output_type": "execute_result"
    }
   ],
   "source": [
    "balanced_anntest_probs"
   ]
  },
  {
   "cell_type": "code",
   "execution_count": 164,
   "id": "72a369ab",
   "metadata": {
    "scrolled": true
   },
   "outputs": [
    {
     "data": {
      "text/plain": [
       "array([[  5,   0,   8],\n",
       "       [  1,   8,  15],\n",
       "       [  7,   8, 540]], dtype=int64)"
      ]
     },
     "execution_count": 164,
     "metadata": {},
     "output_type": "execute_result"
    }
   ],
   "source": [
    "confusion_matrix(y_test, balanced_anntest_predictions)"
   ]
  },
  {
   "cell_type": "code",
   "execution_count": 165,
   "id": "25234cd5",
   "metadata": {},
   "outputs": [
    {
     "name": "stdout",
     "output_type": "stream",
     "text": [
      "recall score: [0.38461538 0.33333333 0.97297297]\n",
      "precision score: [0.38461538 0.5        0.95914742]\n",
      "f1 score [0.38461538 0.4        0.96601073]\n",
      "average f1 score: 0.5835420393559928\n"
     ]
    }
   ],
   "source": [
    "print_scores(y_test, balanced_anntest_predictions)"
   ]
  },
  {
   "cell_type": "markdown",
   "id": "966a261d",
   "metadata": {},
   "source": [
    "### The  ROC curves of the Artificial Neural Network  with class weights balanced"
   ]
  },
  {
   "cell_type": "code",
   "execution_count": 166,
   "id": "edb0d94e",
   "metadata": {},
   "outputs": [
    {
     "data": {
      "image/png": "[encoded data removed]",
      "text/plain": [
       "<Figure size 720x576 with 1 Axes>"
      ]
     },
     "metadata": {
      "needs_background": "light"
     },
     "output_type": "display_data"
    }
   ],
   "source": [
    "title = \"\"\" ROC curves showing the performance of the Artificial Neural Network  with class weights balanced,\n",
    "at various classification thresholds\"\"\"\n",
    "plot_roc_curves(balanced_anntest_probs, title)"
   ]
  },
  {
   "cell_type": "code",
   "execution_count": 167,
   "id": "73d43cef",
   "metadata": {},
   "outputs": [],
   "source": [
    "update_scores(balanced_ann, y_test, balanced_anntest_predictions, balanced_anntest_probs)"
   ]
  },
  {
   "cell_type": "code",
   "execution_count": 168,
   "id": "f9be99f0",
   "metadata": {},
   "outputs": [
    {
     "data": {
      "text/plain": [
       "{'rs': 0.564,\n",
       " 'ps': 0.615,\n",
       " 'fs': 0.5835,\n",
       " 'aucs': {0: 0.842, 1: 0.858, 2: 0.834}}"
      ]
     },
     "execution_count": 168,
     "metadata": {},
     "output_type": "execute_result"
    }
   ],
   "source": [
    "balanced_ann.test_metrics"
   ]
  },
  {
   "cell_type": "code",
   "execution_count": 169,
   "id": "1eeda8bd",
   "metadata": {},
   "outputs": [
    {
     "data": {
      "text/plain": [
       "{'mnb': MyMultinomialNB(name='mnb'),\n",
       " 'oversampled_mnb': MyOversampledMultinomialNB(name='oversampled_mnb'),\n",
       " 'rfc': MyRandomForestClassifier(name='rfc'),\n",
       " 'xgb': MyXGBClassifier(base_score=0.5, booster='gbtree', colsample_bylevel=1,\n",
       "                 colsample_bynode=1, colsample_bytree=1,\n",
       "                 enable_categorical=False, gamma=0, gpu_id=-1,\n",
       "                 importance_type=None, interaction_constraints='',\n",
       "                 learning_rate=0.300000012, max_delta_step=0, max_depth=6,\n",
       "                 min_child_weight=1, missing=nan, monotone_constraints='()',\n",
       "                 n_estimators=100, n_jobs=8, name='xgb', num_parallel_tree=1,\n",
       "                 objective='multi:softprob', predictor='auto', random_state=100,\n",
       "                 reg_alpha=0, reg_lambda=1, scale_pos_weight=None, subsample=1,\n",
       "                 tree_method='exact', use_label_encoder=False,\n",
       "                 validate_parameters=1, ...),\n",
       " 'oversampled_xgb': MyOversampledXGBClassifier(base_score=0.5, booster='gbtree',\n",
       "                            colsample_bylevel=1, colsample_bynode=1,\n",
       "                            colsample_bytree=1, enable_categorical=False,\n",
       "                            gamma=0, gpu_id=-1, importance_type=None,\n",
       "                            interaction_constraints='',\n",
       "                            learning_rate=0.300000012, max_delta_step=0,\n",
       "                            max_depth=6, min_child_weight=1, missing=nan,\n",
       "                            monotone_constraints='()', n_estimators=100,\n",
       "                            n_jobs=8, name='oversampled_xgb',\n",
       "                            num_parallel_tree=1, objective='multi:softprob',\n",
       "                            predictor='auto', random_state=100, reg_alpha=0,\n",
       "                            reg_lambda=1, scale_pos_weight=None, subsample=1,\n",
       "                            tree_method='exact', use_label_encoder=False,\n",
       "                            validate_parameters=1, ...),\n",
       " 'svc': MySVC(name='svc'),\n",
       " 'ann': <__main__.MyANN at 0x2934b62d7c0>,\n",
       " 'balanced_ann': <__main__.MyBalancedANN at 0x2934b620400>}"
      ]
     },
     "execution_count": 169,
     "metadata": {},
     "output_type": "execute_result"
    }
   ],
   "source": [
    "models_dict"
   ]
  },
  {
   "cell_type": "code",
   "execution_count": 170,
   "id": "009b9846",
   "metadata": {},
   "outputs": [
    {
     "data": {
      "text/html": [
       "<div>\n",
       "<style scoped>\n",
       "    .dataframe tbody tr th:only-of-type {\n",
       "        vertical-align: middle;\n",
       "    }\n",
       "\n",
       "    .dataframe tbody tr th {\n",
       "        vertical-align: top;\n",
       "    }\n",
       "\n",
       "    .dataframe thead th {\n",
       "        text-align: right;\n",
       "    }\n",
       "</style>\n",
       "<table border=\"1\" class=\"dataframe\">\n",
       "  <thead>\n",
       "    <tr style=\"text-align: right;\">\n",
       "      <th></th>\n",
       "      <th>rs</th>\n",
       "      <th>ps</th>\n",
       "      <th>fs</th>\n",
       "      <th>auc_class0</th>\n",
       "      <th>auc_class1</th>\n",
       "      <th>auc_class2</th>\n",
       "    </tr>\n",
       "  </thead>\n",
       "  <tbody>\n",
       "    <tr>\n",
       "      <th>mnb</th>\n",
       "      <td>0.333</td>\n",
       "      <td>0.312</td>\n",
       "      <td>0.3226</td>\n",
       "      <td>0.806</td>\n",
       "      <td>0.743</td>\n",
       "      <td>0.759</td>\n",
       "    </tr>\n",
       "    <tr>\n",
       "      <th>oversampled_mnb</th>\n",
       "      <td>0.700</td>\n",
       "      <td>0.502</td>\n",
       "      <td>0.5563</td>\n",
       "      <td>0.831</td>\n",
       "      <td>0.857</td>\n",
       "      <td>0.833</td>\n",
       "    </tr>\n",
       "    <tr>\n",
       "      <th>rfc</th>\n",
       "      <td>0.505</td>\n",
       "      <td>0.984</td>\n",
       "      <td>0.5969</td>\n",
       "      <td>0.880</td>\n",
       "      <td>0.811</td>\n",
       "      <td>0.814</td>\n",
       "    </tr>\n",
       "    <tr>\n",
       "      <th>xgb</th>\n",
       "      <td>0.546</td>\n",
       "      <td>0.838</td>\n",
       "      <td>0.6276</td>\n",
       "      <td>0.906</td>\n",
       "      <td>0.871</td>\n",
       "      <td>0.875</td>\n",
       "    </tr>\n",
       "    <tr>\n",
       "      <th>oversampled_xgb</th>\n",
       "      <td>0.511</td>\n",
       "      <td>0.614</td>\n",
       "      <td>0.5481</td>\n",
       "      <td>0.898</td>\n",
       "      <td>0.863</td>\n",
       "      <td>0.889</td>\n",
       "    </tr>\n",
       "    <tr>\n",
       "      <th>svc</th>\n",
       "      <td>0.518</td>\n",
       "      <td>0.901</td>\n",
       "      <td>0.6067</td>\n",
       "      <td>0.890</td>\n",
       "      <td>0.913</td>\n",
       "      <td>0.896</td>\n",
       "    </tr>\n",
       "    <tr>\n",
       "      <th>ann</th>\n",
       "      <td>0.529</td>\n",
       "      <td>0.700</td>\n",
       "      <td>0.5823</td>\n",
       "      <td>0.880</td>\n",
       "      <td>0.811</td>\n",
       "      <td>0.814</td>\n",
       "    </tr>\n",
       "    <tr>\n",
       "      <th>balanced_ann</th>\n",
       "      <td>0.564</td>\n",
       "      <td>0.615</td>\n",
       "      <td>0.5835</td>\n",
       "      <td>0.842</td>\n",
       "      <td>0.858</td>\n",
       "      <td>0.834</td>\n",
       "    </tr>\n",
       "  </tbody>\n",
       "</table>\n",
       "</div>"
      ],
      "text/plain": [
       "                    rs     ps      fs  auc_class0  auc_class1  auc_class2\n",
       "mnb              0.333  0.312  0.3226       0.806       0.743       0.759\n",
       "oversampled_mnb  0.700  0.502  0.5563       0.831       0.857       0.833\n",
       "rfc              0.505  0.984  0.5969       0.880       0.811       0.814\n",
       "xgb              0.546  0.838  0.6276       0.906       0.871       0.875\n",
       "oversampled_xgb  0.511  0.614  0.5481       0.898       0.863       0.889\n",
       "svc              0.518  0.901  0.6067       0.890       0.913       0.896\n",
       "ann              0.529  0.700  0.5823       0.880       0.811       0.814\n",
       "balanced_ann     0.564  0.615  0.5835       0.842       0.858       0.834"
      ]
     },
     "execution_count": 170,
     "metadata": {},
     "output_type": "execute_result"
    }
   ],
   "source": [
    "generate_test_metrics_df()"
   ]
  },
  {
   "cell_type": "markdown",
   "id": "b01f9b2b",
   "metadata": {},
   "source": [
    "`The ANN trained with balanced class weigths does not improve overall performance. It does do better job of recalling the minority classes but does so at the expense of increased false positivity rates.`"
   ]
  },
  {
   "cell_type": "markdown",
   "id": "cfbfe2f8",
   "metadata": {},
   "source": [
    "### ANN on imbalanced data vs ANN with class weights balanced"
   ]
  },
  {
   "cell_type": "code",
   "execution_count": 171,
   "id": "23fb5535",
   "metadata": {},
   "outputs": [
    {
     "data": {
      "image/png": "[encoded data removed]",
      "text/plain": [
       "<Figure size 864x432 with 1 Axes>"
      ]
     },
     "metadata": {
      "needs_background": "light"
     },
     "output_type": "display_data"
    }
   ],
   "source": [
    "plt.figure(figsize=(12, 6))\n",
    "plt.plot(balanced_ann_history.history['loss'], label=\"neural network trained on balanced dataset\")\n",
    "plt.plot(ann_history.history['loss'], label=\"network trained on imbalanced data\")\n",
    "plt.title(\"\"\"Comparison of the variations in the value of training loss -\n",
    "neural network trained on balanced data vs. network trained on imbalanced data\n",
    "\"\"\")\n",
    "plt.legend(loc=1)\n",
    "plt.show()"
   ]
  },
  {
   "cell_type": "markdown",
   "id": "f7bffd90",
   "metadata": {},
   "source": [
    "`From the graph above we clearly see that balancing classweights causes slightly faster convergence of the loss function but does not improve performance of the network.`"
   ]
  },
  {
   "cell_type": "markdown",
   "id": "4953b9ed",
   "metadata": {},
   "source": [
    "### Ensemble Techniques"
   ]
  },
  {
   "cell_type": "code",
   "execution_count": 172,
   "id": "e82f824f",
   "metadata": {},
   "outputs": [],
   "source": [
    "from sklearn.ensemble import VotingClassifier"
   ]
  },
  {
   "cell_type": "code",
   "execution_count": 173,
   "id": "da248154",
   "metadata": {},
   "outputs": [],
   "source": [
    "clf1 = XGBClassifier(random_state=100, use_label_encoder=False)\n"
   ]
  },
  {
   "cell_type": "code",
   "execution_count": 174,
   "id": "9dbe6b17",
   "metadata": {},
   "outputs": [],
   "source": [
    "clf2 = MultinomialNB()"
   ]
  },
  {
   "cell_type": "code",
   "execution_count": 175,
   "id": "0d729f71",
   "metadata": {},
   "outputs": [],
   "source": [
    "estimators = [('xgb', clf1), ('mnb', clf2)]"
   ]
  },
  {
   "cell_type": "code",
   "execution_count": 176,
   "id": "70f8fc51",
   "metadata": {},
   "outputs": [],
   "source": [
    "class MyVotingClassifier(VotingClassifier):\n",
    "    def __init__(self, name, test_metrics={}):\n",
    "        super().__init__(estimators = [('xgb', clf1), ('mnb', clf2)], voting=\"soft\")\n",
    "        self.name = name\n",
    "        self.test_metrics = test_metrics\n",
    "        models_dict.update({self.name: self})\n"
   ]
  },
  {
   "cell_type": "code",
   "execution_count": 177,
   "id": "2806a58c",
   "metadata": {},
   "outputs": [],
   "source": [
    "vot = MyVotingClassifier('vot')"
   ]
  },
  {
   "cell_type": "code",
   "execution_count": 178,
   "id": "fa4c970f",
   "metadata": {
    "scrolled": true
   },
   "outputs": [
    {
     "name": "stdout",
     "output_type": "stream",
     "text": [
      "[07:26:58] WARNING: C:/Users/Administrator/workspace/xgboost-win64_release_1.5.1/src/learner.cc:1115: Starting in XGBoost 1.3.0, the default evaluation metric used with the objective 'multi:softprob' was changed from 'merror' to 'mlogloss'. Explicitly set eval_metric if you'd like to restore the old behavior.\n"
     ]
    },
    {
     "data": {
      "text/plain": [
       "MyVotingClassifier(name='vot')"
      ]
     },
     "execution_count": 178,
     "metadata": {},
     "output_type": "execute_result"
    }
   ],
   "source": [
    "vot.fit(X_res, y_res)"
   ]
  },
  {
   "cell_type": "code",
   "execution_count": 179,
   "id": "9fde3114",
   "metadata": {},
   "outputs": [],
   "source": [
    "vottrain_predicitons = vot.predict(X_train_matrix)\n",
    "vottest_predictions = vot.predict(X_test_matrix)\n",
    "vottest_probs = vot.predict_proba(X_test_matrix)"
   ]
  },
  {
   "cell_type": "code",
   "execution_count": 180,
   "id": "65aca58c",
   "metadata": {},
   "outputs": [
    {
     "data": {
      "text/plain": [
       "array([[  77,    0,    0],\n",
       "       [   0,  128,    6],\n",
       "       [   1,    4, 3134]], dtype=int64)"
      ]
     },
     "execution_count": 180,
     "metadata": {},
     "output_type": "execute_result"
    }
   ],
   "source": [
    "confusion_matrix(y_train, vottrain_predicitons)"
   ]
  },
  {
   "cell_type": "code",
   "execution_count": 181,
   "id": "cb559e4e",
   "metadata": {},
   "outputs": [
    {
     "name": "stdout",
     "output_type": "stream",
     "text": [
      "recall score: [1.         0.95522388 0.99840714]\n",
      "precision score: [0.98717949 0.96969697 0.99808917]\n",
      "f1 score [0.99354839 0.96240602 0.99824813]\n",
      "average f1 score: 0.9847341769390932\n"
     ]
    }
   ],
   "source": [
    "print_scores(y_train, vottrain_predicitons)"
   ]
  },
  {
   "cell_type": "code",
   "execution_count": 182,
   "id": "f7e73027",
   "metadata": {},
   "outputs": [
    {
     "data": {
      "text/plain": [
       "array([[  4,   0,   9],\n",
       "       [  1,   8,  15],\n",
       "       [  1,   8, 546]], dtype=int64)"
      ]
     },
     "execution_count": 182,
     "metadata": {},
     "output_type": "execute_result"
    }
   ],
   "source": [
    "confusion_matrix(y_test, vottest_predictions)"
   ]
  },
  {
   "cell_type": "code",
   "execution_count": 183,
   "id": "59b26550",
   "metadata": {},
   "outputs": [
    {
     "name": "stdout",
     "output_type": "stream",
     "text": [
      "recall score: [0.30769231 0.33333333 0.98378378]\n",
      "precision score: [0.66666667 0.5        0.95789474]\n",
      "f1 score [0.42105263 0.4        0.97066667]\n",
      "average f1 score: 0.5972397660818713\n"
     ]
    }
   ],
   "source": [
    "print_scores(y_test, vottest_predictions)\n"
   ]
  },
  {
   "cell_type": "markdown",
   "id": "311fcbec",
   "metadata": {},
   "source": [
    "### The  ROC curves of the Voting Classifier"
   ]
  },
  {
   "cell_type": "code",
   "execution_count": 184,
   "id": "194fec62",
   "metadata": {},
   "outputs": [
    {
     "data": {
      "image/png": "[encoded data removed]",
      "text/plain": [
       "<Figure size 720x576 with 1 Axes>"
      ]
     },
     "metadata": {
      "needs_background": "light"
     },
     "output_type": "display_data"
    }
   ],
   "source": [
    "title = \"\"\" ROC curves showing the performance of the Ensemble classifier,\n",
    "at various classification thresholds\"\"\"\n",
    "plot_roc_curves(vottest_probs, title)"
   ]
  },
  {
   "cell_type": "code",
   "execution_count": 185,
   "id": "29b737d6",
   "metadata": {},
   "outputs": [],
   "source": [
    "update_scores(vot,  y_test, vottest_predictions, vottest_probs)"
   ]
  },
  {
   "cell_type": "code",
   "execution_count": 186,
   "id": "e2f0fb45",
   "metadata": {},
   "outputs": [
    {
     "data": {
      "text/plain": [
       "{'rs': 0.542,\n",
       " 'ps': 0.708,\n",
       " 'fs': 0.5972,\n",
       " 'aucs': {0: 0.843, 1: 0.878, 2: 0.858}}"
      ]
     },
     "execution_count": 186,
     "metadata": {},
     "output_type": "execute_result"
    }
   ],
   "source": [
    "vot.test_metrics"
   ]
  },
  {
   "cell_type": "code",
   "execution_count": 187,
   "id": "589d5f12",
   "metadata": {},
   "outputs": [
    {
     "data": {
      "text/plain": [
       "{'mnb': MyMultinomialNB(name='mnb'),\n",
       " 'oversampled_mnb': MyOversampledMultinomialNB(name='oversampled_mnb'),\n",
       " 'rfc': MyRandomForestClassifier(name='rfc'),\n",
       " 'xgb': MyXGBClassifier(base_score=0.5, booster='gbtree', colsample_bylevel=1,\n",
       "                 colsample_bynode=1, colsample_bytree=1,\n",
       "                 enable_categorical=False, gamma=0, gpu_id=-1,\n",
       "                 importance_type=None, interaction_constraints='',\n",
       "                 learning_rate=0.300000012, max_delta_step=0, max_depth=6,\n",
       "                 min_child_weight=1, missing=nan, monotone_constraints='()',\n",
       "                 n_estimators=100, n_jobs=8, name='xgb', num_parallel_tree=1,\n",
       "                 objective='multi:softprob', predictor='auto', random_state=100,\n",
       "                 reg_alpha=0, reg_lambda=1, scale_pos_weight=None, subsample=1,\n",
       "                 tree_method='exact', use_label_encoder=False,\n",
       "                 validate_parameters=1, ...),\n",
       " 'oversampled_xgb': MyOversampledXGBClassifier(base_score=0.5, booster='gbtree',\n",
       "                            colsample_bylevel=1, colsample_bynode=1,\n",
       "                            colsample_bytree=1, enable_categorical=False,\n",
       "                            gamma=0, gpu_id=-1, importance_type=None,\n",
       "                            interaction_constraints='',\n",
       "                            learning_rate=0.300000012, max_delta_step=0,\n",
       "                            max_depth=6, min_child_weight=1, missing=nan,\n",
       "                            monotone_constraints='()', n_estimators=100,\n",
       "                            n_jobs=8, name='oversampled_xgb',\n",
       "                            num_parallel_tree=1, objective='multi:softprob',\n",
       "                            predictor='auto', random_state=100, reg_alpha=0,\n",
       "                            reg_lambda=1, scale_pos_weight=None, subsample=1,\n",
       "                            tree_method='exact', use_label_encoder=False,\n",
       "                            validate_parameters=1, ...),\n",
       " 'svc': MySVC(name='svc'),\n",
       " 'ann': <__main__.MyANN at 0x2934b62d7c0>,\n",
       " 'balanced_ann': <__main__.MyBalancedANN at 0x2934b620400>,\n",
       " 'vot': MyVotingClassifier(name='vot')}"
      ]
     },
     "execution_count": 187,
     "metadata": {},
     "output_type": "execute_result"
    }
   ],
   "source": [
    "models_dict"
   ]
  },
  {
   "cell_type": "code",
   "execution_count": 188,
   "id": "8c035f59",
   "metadata": {},
   "outputs": [
    {
     "data": {
      "text/html": [
       "<div>\n",
       "<style scoped>\n",
       "    .dataframe tbody tr th:only-of-type {\n",
       "        vertical-align: middle;\n",
       "    }\n",
       "\n",
       "    .dataframe tbody tr th {\n",
       "        vertical-align: top;\n",
       "    }\n",
       "\n",
       "    .dataframe thead th {\n",
       "        text-align: right;\n",
       "    }\n",
       "</style>\n",
       "<table border=\"1\" class=\"dataframe\">\n",
       "  <thead>\n",
       "    <tr style=\"text-align: right;\">\n",
       "      <th></th>\n",
       "      <th>rs</th>\n",
       "      <th>ps</th>\n",
       "      <th>fs</th>\n",
       "      <th>auc_class0</th>\n",
       "      <th>auc_class1</th>\n",
       "      <th>auc_class2</th>\n",
       "    </tr>\n",
       "  </thead>\n",
       "  <tbody>\n",
       "    <tr>\n",
       "      <th>mnb</th>\n",
       "      <td>0.333</td>\n",
       "      <td>0.312</td>\n",
       "      <td>0.3226</td>\n",
       "      <td>0.806</td>\n",
       "      <td>0.743</td>\n",
       "      <td>0.759</td>\n",
       "    </tr>\n",
       "    <tr>\n",
       "      <th>oversampled_mnb</th>\n",
       "      <td>0.700</td>\n",
       "      <td>0.502</td>\n",
       "      <td>0.5563</td>\n",
       "      <td>0.831</td>\n",
       "      <td>0.857</td>\n",
       "      <td>0.833</td>\n",
       "    </tr>\n",
       "    <tr>\n",
       "      <th>rfc</th>\n",
       "      <td>0.505</td>\n",
       "      <td>0.984</td>\n",
       "      <td>0.5969</td>\n",
       "      <td>0.880</td>\n",
       "      <td>0.811</td>\n",
       "      <td>0.814</td>\n",
       "    </tr>\n",
       "    <tr>\n",
       "      <th>xgb</th>\n",
       "      <td>0.546</td>\n",
       "      <td>0.838</td>\n",
       "      <td>0.6276</td>\n",
       "      <td>0.906</td>\n",
       "      <td>0.871</td>\n",
       "      <td>0.875</td>\n",
       "    </tr>\n",
       "    <tr>\n",
       "      <th>oversampled_xgb</th>\n",
       "      <td>0.511</td>\n",
       "      <td>0.614</td>\n",
       "      <td>0.5481</td>\n",
       "      <td>0.898</td>\n",
       "      <td>0.863</td>\n",
       "      <td>0.889</td>\n",
       "    </tr>\n",
       "    <tr>\n",
       "      <th>svc</th>\n",
       "      <td>0.518</td>\n",
       "      <td>0.901</td>\n",
       "      <td>0.6067</td>\n",
       "      <td>0.890</td>\n",
       "      <td>0.913</td>\n",
       "      <td>0.896</td>\n",
       "    </tr>\n",
       "    <tr>\n",
       "      <th>ann</th>\n",
       "      <td>0.529</td>\n",
       "      <td>0.700</td>\n",
       "      <td>0.5823</td>\n",
       "      <td>0.880</td>\n",
       "      <td>0.811</td>\n",
       "      <td>0.814</td>\n",
       "    </tr>\n",
       "    <tr>\n",
       "      <th>balanced_ann</th>\n",
       "      <td>0.564</td>\n",
       "      <td>0.615</td>\n",
       "      <td>0.5835</td>\n",
       "      <td>0.842</td>\n",
       "      <td>0.858</td>\n",
       "      <td>0.834</td>\n",
       "    </tr>\n",
       "    <tr>\n",
       "      <th>vot</th>\n",
       "      <td>0.542</td>\n",
       "      <td>0.708</td>\n",
       "      <td>0.5972</td>\n",
       "      <td>0.843</td>\n",
       "      <td>0.878</td>\n",
       "      <td>0.858</td>\n",
       "    </tr>\n",
       "  </tbody>\n",
       "</table>\n",
       "</div>"
      ],
      "text/plain": [
       "                    rs     ps      fs  auc_class0  auc_class1  auc_class2\n",
       "mnb              0.333  0.312  0.3226       0.806       0.743       0.759\n",
       "oversampled_mnb  0.700  0.502  0.5563       0.831       0.857       0.833\n",
       "rfc              0.505  0.984  0.5969       0.880       0.811       0.814\n",
       "xgb              0.546  0.838  0.6276       0.906       0.871       0.875\n",
       "oversampled_xgb  0.511  0.614  0.5481       0.898       0.863       0.889\n",
       "svc              0.518  0.901  0.6067       0.890       0.913       0.896\n",
       "ann              0.529  0.700  0.5823       0.880       0.811       0.814\n",
       "balanced_ann     0.564  0.615  0.5835       0.842       0.858       0.834\n",
       "vot              0.542  0.708  0.5972       0.843       0.878       0.858"
      ]
     },
     "execution_count": 188,
     "metadata": {},
     "output_type": "execute_result"
    }
   ],
   "source": [
    "generate_test_metrics_df()"
   ]
  },
  {
   "cell_type": "markdown",
   "id": "44c5a6d3",
   "metadata": {},
   "source": [
    "`This particular ensemble method does not give us better results than any of the classifiers that we have built so far.`"
   ]
  },
  {
   "cell_type": "markdown",
   "id": "decf6d9c",
   "metadata": {},
   "source": [
    " "
   ]
  },
  {
   "cell_type": "markdown",
   "id": "d1f20e44",
   "metadata": {},
   "source": [
    "### Classification using an engineered sentiment score feature\n",
    "\n",
    "For this project VADER (Valence Aware Dictionary and Sentiment Reasoner), a lexicon and rule based sentiment analysis tool will be used to generate sentiment scores for each review."
   ]
  },
  {
   "cell_type": "code",
   "execution_count": 189,
   "id": "5dce5ce6",
   "metadata": {},
   "outputs": [],
   "source": [
    "import nltk\n",
    "from nltk.sentiment.vader import SentimentIntensityAnalyzer"
   ]
  },
  {
   "cell_type": "code",
   "execution_count": 190,
   "id": "ac51291f",
   "metadata": {},
   "outputs": [],
   "source": [
    "analyzer = SentimentIntensityAnalyzer()\n",
    "\n",
    "def sentiment_score_calculator(review):\n",
    "    \"\"\"\n",
    "    This function takes a document / piece of text and returns a sentiment score based\n",
    "    on the Valence Aware Dictionary and Sentiment Reasoner, a lexicon and rule based sentiment analysis tool.\n",
    "    \"\"\"\n",
    "    scores = analyzer.polarity_scores(review)\n",
    "    score1 = scores['compound']\n",
    "    \n",
    "    return score1"
   ]
  },
  {
   "cell_type": "code",
   "execution_count": 191,
   "id": "4b2d11a6",
   "metadata": {},
   "outputs": [
    {
     "data": {
      "text/plain": [
       "0    purchase black fridaypro great price even sale...\n",
       "1    purchase two amazon echo plus two dot plus fou...\n",
       "2    average alexa option show thing screen still l...\n",
       "3                 good product exactly want good price\n",
       "4    one purchase buy one niece case compare one ho...\n",
       "Name: reviews.text, dtype: object"
      ]
     },
     "execution_count": 191,
     "metadata": {},
     "output_type": "execute_result"
    }
   ],
   "source": [
    "cleaned_reviews.head()"
   ]
  },
  {
   "cell_type": "code",
   "execution_count": 192,
   "id": "daf1eccc",
   "metadata": {},
   "outputs": [
    {
     "data": {
      "text/plain": [
       "0.9682"
      ]
     },
     "execution_count": 192,
     "metadata": {},
     "output_type": "execute_result"
    }
   ],
   "source": [
    "sentiment_score_calculator(cleaned_reviews.iloc[0])"
   ]
  },
  {
   "cell_type": "code",
   "execution_count": 193,
   "id": "6a8357fb",
   "metadata": {},
   "outputs": [
    {
     "data": {
      "text/plain": [
       "0    0.9682\n",
       "1    0.9287\n",
       "2    0.0000\n",
       "3    0.7269\n",
       "4    0.1280\n",
       "Name: sentiment_score, dtype: float64"
      ]
     },
     "execution_count": 193,
     "metadata": {},
     "output_type": "execute_result"
    }
   ],
   "source": [
    "sentiment_score = cleaned_reviews.apply(sentiment_score_calculator)\n",
    "sentiment_score.name = 'sentiment_score'\n",
    "sentiment_score.head()"
   ]
  },
  {
   "cell_type": "code",
   "execution_count": 194,
   "id": "ee4627a5",
   "metadata": {},
   "outputs": [
    {
     "data": {
      "text/html": [
       "<div>\n",
       "<style scoped>\n",
       "    .dataframe tbody tr th:only-of-type {\n",
       "        vertical-align: middle;\n",
       "    }\n",
       "\n",
       "    .dataframe tbody tr th {\n",
       "        vertical-align: top;\n",
       "    }\n",
       "\n",
       "    .dataframe thead th {\n",
       "        text-align: right;\n",
       "    }\n",
       "</style>\n",
       "<table border=\"1\" class=\"dataframe\">\n",
       "  <thead>\n",
       "    <tr style=\"text-align: right;\">\n",
       "      <th></th>\n",
       "      <th>name</th>\n",
       "      <th>brand</th>\n",
       "      <th>categories</th>\n",
       "      <th>primaryCategories</th>\n",
       "      <th>reviews.date</th>\n",
       "      <th>reviews.text</th>\n",
       "      <th>reviews.title</th>\n",
       "      <th>sentiment</th>\n",
       "      <th>sentiment_score</th>\n",
       "    </tr>\n",
       "  </thead>\n",
       "  <tbody>\n",
       "    <tr>\n",
       "      <th>0</th>\n",
       "      <td>All-New Fire HD 8 Tablet, 8\" HD Display, Wi-Fi...</td>\n",
       "      <td>Amazon</td>\n",
       "      <td>Electronics,iPad &amp; Tablets,All Tablets,Fire Ta...</td>\n",
       "      <td>Electronics</td>\n",
       "      <td>2016-12-26T00:00:00.000Z</td>\n",
       "      <td>Purchased on Black FridayPros - Great Price (e...</td>\n",
       "      <td>Powerful tablet</td>\n",
       "      <td>Positive</td>\n",
       "      <td>0.9682</td>\n",
       "    </tr>\n",
       "    <tr>\n",
       "      <th>1</th>\n",
       "      <td>Amazon - Echo Plus w/ Built-In Hub - Silver</td>\n",
       "      <td>Amazon</td>\n",
       "      <td>Amazon Echo,Smart Home,Networking,Home &amp; Tools...</td>\n",
       "      <td>Electronics,Hardware</td>\n",
       "      <td>2018-01-17T00:00:00.000Z</td>\n",
       "      <td>I purchased two Amazon in Echo Plus and two do...</td>\n",
       "      <td>Amazon Echo Plus AWESOME</td>\n",
       "      <td>Positive</td>\n",
       "      <td>0.9287</td>\n",
       "    </tr>\n",
       "    <tr>\n",
       "      <th>2</th>\n",
       "      <td>Amazon Echo Show Alexa-enabled Bluetooth Speak...</td>\n",
       "      <td>Amazon</td>\n",
       "      <td>Amazon Echo,Virtual Assistant Speakers,Electro...</td>\n",
       "      <td>Electronics,Hardware</td>\n",
       "      <td>2017-12-20T00:00:00.000Z</td>\n",
       "      <td>Just an average Alexa option. Does show a few ...</td>\n",
       "      <td>Average</td>\n",
       "      <td>Neutral</td>\n",
       "      <td>0.0000</td>\n",
       "    </tr>\n",
       "    <tr>\n",
       "      <th>3</th>\n",
       "      <td>Fire HD 10 Tablet, 10.1 HD Display, Wi-Fi, 16 ...</td>\n",
       "      <td>Amazon</td>\n",
       "      <td>eBook Readers,Fire Tablets,Electronics Feature...</td>\n",
       "      <td>Office Supplies,Electronics</td>\n",
       "      <td>2017-08-04T00:00:00.000Z</td>\n",
       "      <td>very good product. Exactly what I wanted, and ...</td>\n",
       "      <td>Greattttttt</td>\n",
       "      <td>Positive</td>\n",
       "      <td>0.7269</td>\n",
       "    </tr>\n",
       "    <tr>\n",
       "      <th>4</th>\n",
       "      <td>Brand New Amazon Kindle Fire 16gb 7\" Ips Displ...</td>\n",
       "      <td>Amazon</td>\n",
       "      <td>Computers/Tablets &amp; Networking,Tablets &amp; eBook...</td>\n",
       "      <td>Electronics</td>\n",
       "      <td>2017-01-23T00:00:00.000Z</td>\n",
       "      <td>This is the 3rd one I've purchased. I've bough...</td>\n",
       "      <td>Very durable!</td>\n",
       "      <td>Positive</td>\n",
       "      <td>0.1280</td>\n",
       "    </tr>\n",
       "  </tbody>\n",
       "</table>\n",
       "</div>"
      ],
      "text/plain": [
       "                                                name   brand  \\\n",
       "0  All-New Fire HD 8 Tablet, 8\" HD Display, Wi-Fi...  Amazon   \n",
       "1        Amazon - Echo Plus w/ Built-In Hub - Silver  Amazon   \n",
       "2  Amazon Echo Show Alexa-enabled Bluetooth Speak...  Amazon   \n",
       "3  Fire HD 10 Tablet, 10.1 HD Display, Wi-Fi, 16 ...  Amazon   \n",
       "4  Brand New Amazon Kindle Fire 16gb 7\" Ips Displ...  Amazon   \n",
       "\n",
       "                                          categories  \\\n",
       "0  Electronics,iPad & Tablets,All Tablets,Fire Ta...   \n",
       "1  Amazon Echo,Smart Home,Networking,Home & Tools...   \n",
       "2  Amazon Echo,Virtual Assistant Speakers,Electro...   \n",
       "3  eBook Readers,Fire Tablets,Electronics Feature...   \n",
       "4  Computers/Tablets & Networking,Tablets & eBook...   \n",
       "\n",
       "             primaryCategories              reviews.date  \\\n",
       "0                  Electronics  2016-12-26T00:00:00.000Z   \n",
       "1         Electronics,Hardware  2018-01-17T00:00:00.000Z   \n",
       "2         Electronics,Hardware  2017-12-20T00:00:00.000Z   \n",
       "3  Office Supplies,Electronics  2017-08-04T00:00:00.000Z   \n",
       "4                  Electronics  2017-01-23T00:00:00.000Z   \n",
       "\n",
       "                                        reviews.text  \\\n",
       "0  Purchased on Black FridayPros - Great Price (e...   \n",
       "1  I purchased two Amazon in Echo Plus and two do...   \n",
       "2  Just an average Alexa option. Does show a few ...   \n",
       "3  very good product. Exactly what I wanted, and ...   \n",
       "4  This is the 3rd one I've purchased. I've bough...   \n",
       "\n",
       "              reviews.title sentiment  sentiment_score  \n",
       "0           Powerful tablet  Positive           0.9682  \n",
       "1  Amazon Echo Plus AWESOME  Positive           0.9287  \n",
       "2                   Average   Neutral           0.0000  \n",
       "3               Greattttttt  Positive           0.7269  \n",
       "4             Very durable!  Positive           0.1280  "
      ]
     },
     "execution_count": 194,
     "metadata": {},
     "output_type": "execute_result"
    }
   ],
   "source": [
    "train_df2 = pd.concat([train_df, sentiment_score], axis=1)\n",
    "train_df2.head()"
   ]
  },
  {
   "cell_type": "code",
   "execution_count": 195,
   "id": "e9bf629c",
   "metadata": {},
   "outputs": [
    {
     "data": {
      "text/plain": [
       "3081    think download new app wait surf web thing slo...\n",
       "1775    purchase yr old love fact play game movie love...\n",
       "3510    buy son size perfect small big kid friendly ea...\n",
       "337       big good kindle yet light feather buy one today\n",
       "3327                   granddaughter love use school work\n",
       "Name: reviews.text, dtype: object"
      ]
     },
     "execution_count": 195,
     "metadata": {},
     "output_type": "execute_result"
    }
   ],
   "source": [
    "X_train.head()\n"
   ]
  },
  {
   "cell_type": "code",
   "execution_count": 196,
   "id": "f0dd982d",
   "metadata": {},
   "outputs": [],
   "source": [
    "sent_scores_for_x_train = train_df2.loc[X_train.index].sentiment_score\n",
    "sent_scores_for_x_test = train_df2.loc[X_test.index].sentiment_score\n",
    "#The code above will filter the values in the sentiment_score column by the index.\n",
    "#It will match the documents in X_train to their correct sentiment values, and by extension\n",
    "    #the values in X_train_matrix to their correct sentiment."
   ]
  },
  {
   "cell_type": "code",
   "execution_count": 197,
   "id": "d32c7c31",
   "metadata": {},
   "outputs": [
    {
     "name": "stdout",
     "output_type": "stream",
     "text": [
      "3081    think download new app wait surf web thing slo...\n",
      "1775    purchase yr old love fact play game movie love...\n",
      "3510    buy son size perfect small big kid friendly ea...\n",
      "337       big good kindle yet light feather buy one today\n",
      "3327                   granddaughter love use school work\n",
      "Name: reviews.text, dtype: object\n",
      "3081    0.6249\n",
      "1775    0.8957\n",
      "3510    0.7964\n",
      "337     0.4404\n",
      "3327    0.6369\n",
      "Name: sentiment_score, dtype: float64\n"
     ]
    }
   ],
   "source": [
    "print(X_train.head(), sent_scores_for_x_train.head(), sep='\\n')\n",
    "#The matching index numbers for X_train and sent_scores_for_x_train indicate our data aligns perfectly, as expected.\n",
    "#Since the order of X_train_matrix and X_train are the same, we can therefore \n",
    "    #horizontally concatenate X_train_matrix and sent_scores_for_x_train; \n",
    "    #This will to add sentiment score as a feature to our model."
   ]
  },
  {
   "cell_type": "code",
   "execution_count": 198,
   "id": "23b6185c",
   "metadata": {},
   "outputs": [
    {
     "name": "stdout",
     "output_type": "stream",
     "text": [
      "2268            good electronic purchase year great price\n",
      "3156                     solid product great kid like lot\n",
      "1683    amazon prime year new fire hd make worth watch...\n",
      "1408    look cost effective solution satisfy children ...\n",
      "3749            great easy download book screen easy read\n",
      "Name: reviews.text, dtype: object\n",
      "2268    0.7906\n",
      "3156    0.8020\n",
      "1683    0.0516\n",
      "1408    0.9442\n",
      "3749    0.8720\n",
      "Name: sentiment_score, dtype: float64\n"
     ]
    }
   ],
   "source": [
    "print(X_test.head(), sent_scores_for_x_test.head(), sep='\\n')"
   ]
  },
  {
   "cell_type": "code",
   "execution_count": 199,
   "id": "8295e580",
   "metadata": {},
   "outputs": [
    {
     "name": "stdout",
     "output_type": "stream",
     "text": [
      "(3350, 3373) (3350,) (592, 3373) (592,)\n"
     ]
    }
   ],
   "source": [
    "print(X_train_matrix.shape, sent_scores_for_x_train.shape, X_test_matrix.shape, sent_scores_for_x_test.shape)"
   ]
  },
  {
   "cell_type": "code",
   "execution_count": 200,
   "id": "3d04b17f",
   "metadata": {},
   "outputs": [],
   "source": [
    "X_train_matrix_with_sent_score = np.hstack([X_train_matrix.toarray(), sent_scores_for_x_train.values.reshape(-1, 1)])\n",
    "X_test_matrix_with_sent_score = np.hstack([X_test_matrix.toarray(), sent_scores_for_x_test.values.reshape(-1, 1)])"
   ]
  },
  {
   "cell_type": "code",
   "execution_count": 201,
   "id": "fc2c5d9b",
   "metadata": {},
   "outputs": [
    {
     "name": "stdout",
     "output_type": "stream",
     "text": [
      "(3350, 3373) (592, 3373) (3350, 3374) (592, 3374)\n"
     ]
    }
   ],
   "source": [
    "print( X_train_matrix.shape, X_test_matrix.shape, X_train_matrix_with_sent_score.shape, \n",
    "      X_test_matrix_with_sent_score.shape,)\n",
    "#As we can see, both the train and test matrices now have an additional feature.\n",
    "#This feature is the sentiment score."
   ]
  },
  {
   "cell_type": "code",
   "execution_count": 202,
   "id": "efdd886c",
   "metadata": {},
   "outputs": [
    {
     "data": {
      "text/plain": [
       "array([[0.    , 0.    , 0.    , 0.    , 0.6249],\n",
       "       [0.    , 0.    , 0.    , 0.    , 0.8957],\n",
       "       [0.    , 0.    , 0.    , 0.    , 0.7964],\n",
       "       ...,\n",
       "       [0.    , 0.    , 0.    , 0.    , 0.6908],\n",
       "       [0.    , 0.    , 0.    , 0.    , 0.7964],\n",
       "       [0.    , 0.    , 0.    , 0.    , 0.6369]])"
      ]
     },
     "execution_count": 202,
     "metadata": {},
     "output_type": "execute_result"
    }
   ],
   "source": [
    "X_train_matrix_with_sent_score[:, -5:]\n",
    "#Below we can confirm that the right most column of the X_train_matrix array, contains the sentiment scores."
   ]
  },
  {
   "cell_type": "markdown",
   "id": "037e6f8a",
   "metadata": {},
   "source": [
    "### Model Training using Sentiment Score\n",
    "\n",
    "To train the model using sentiment score, we will be using the model that has so far yielded the best f1 scores, the xgb model.\n"
   ]
  },
  {
   "cell_type": "code",
   "execution_count": 203,
   "id": "5e6c47b5",
   "metadata": {},
   "outputs": [],
   "source": [
    "class MySentimentXGBClassifier(XGBClassifier):   \n",
    "    def __init__(self, name, test_metrics={}):\n",
    "        super().__init__(use_label_encoder=False ,random_state=100)\n",
    "        self.name = name\n",
    "        self.test_metrics = test_metrics\n",
    "        models_dict.update({self.name: self})"
   ]
  },
  {
   "cell_type": "code",
   "execution_count": 204,
   "id": "9ad41cc8",
   "metadata": {},
   "outputs": [],
   "source": [
    "sentscore_xgb = MySentimentXGBClassifier('sentscore_xgb')"
   ]
  },
  {
   "cell_type": "code",
   "execution_count": 205,
   "id": "67416753",
   "metadata": {
    "scrolled": true
   },
   "outputs": [
    {
     "name": "stdout",
     "output_type": "stream",
     "text": [
      "[07:27:08] WARNING: C:/Users/Administrator/workspace/xgboost-win64_release_1.5.1/src/learner.cc:576: \n",
      "Parameters: { \"name\", \"test_metrics\" } might not be used.\n",
      "\n",
      "  This could be a false alarm, with some parameters getting used by language bindings but\n",
      "  then being mistakenly passed down to XGBoost core, or some parameter actually being used\n",
      "  but getting flagged wrongly here. Please open an issue if you find any such cases.\n",
      "\n",
      "\n",
      "[07:27:08] WARNING: C:/Users/Administrator/workspace/xgboost-win64_release_1.5.1/src/learner.cc:1115: Starting in XGBoost 1.3.0, the default evaluation metric used with the objective 'multi:softprob' was changed from 'merror' to 'mlogloss'. Explicitly set eval_metric if you'd like to restore the old behavior.\n"
     ]
    },
    {
     "data": {
      "text/plain": [
       "MySentimentXGBClassifier(base_score=0.5, booster='gbtree', colsample_bylevel=1,\n",
       "                         colsample_bynode=1, colsample_bytree=1,\n",
       "                         enable_categorical=False, gamma=0, gpu_id=-1,\n",
       "                         importance_type=None, interaction_constraints='',\n",
       "                         learning_rate=0.300000012, max_delta_step=0,\n",
       "                         max_depth=6, min_child_weight=1, missing=nan,\n",
       "                         monotone_constraints='()', n_estimators=100, n_jobs=8,\n",
       "                         name='sentscore_xgb', num_parallel_tree=1,\n",
       "                         objective='multi:softprob', predictor='auto',\n",
       "                         random_state=100, reg_alpha=0, reg_lambda=1,\n",
       "                         scale_pos_weight=None, subsample=1,\n",
       "                         tree_method='exact', use_label_encoder=False,\n",
       "                         validate_parameters=1, ...)"
      ]
     },
     "execution_count": 205,
     "metadata": {},
     "output_type": "execute_result"
    }
   ],
   "source": [
    "sentscore_xgb.fit(X_train_matrix_with_sent_score, y_train)"
   ]
  },
  {
   "cell_type": "code",
   "execution_count": 206,
   "id": "20fb88bc",
   "metadata": {},
   "outputs": [],
   "source": [
    "sentscore_xgbtraain_predictions = sentscore_xgb.predict(X_train_matrix_with_sent_score)\n",
    "sentscore_xgbtest_predictions = sentscore_xgb.predict(X_test_matrix_with_sent_score)\n",
    "sentscore_xgbtest_probs = sentscore_xgb.predict_proba(X_test_matrix_with_sent_score)\n"
   ]
  },
  {
   "cell_type": "code",
   "execution_count": 207,
   "id": "40ec9663",
   "metadata": {},
   "outputs": [
    {
     "data": {
      "text/plain": [
       "array([[  77,    0,    0],\n",
       "       [   0,  119,   15],\n",
       "       [   0,    0, 3139]], dtype=int64)"
      ]
     },
     "execution_count": 207,
     "metadata": {},
     "output_type": "execute_result"
    }
   ],
   "source": [
    "confusion_matrix(y_train, sentscore_xgbtraain_predictions)"
   ]
  },
  {
   "cell_type": "code",
   "execution_count": 208,
   "id": "2bbc7113",
   "metadata": {},
   "outputs": [
    {
     "data": {
      "text/plain": [
       "array([[  4,   1,   8],\n",
       "       [  1,   8,  15],\n",
       "       [  1,   5, 549]], dtype=int64)"
      ]
     },
     "execution_count": 208,
     "metadata": {},
     "output_type": "execute_result"
    }
   ],
   "source": [
    "confusion_matrix(y_test, sentscore_xgbtest_predictions)"
   ]
  },
  {
   "cell_type": "code",
   "execution_count": 209,
   "id": "d7b4f707",
   "metadata": {},
   "outputs": [
    {
     "name": "stdout",
     "output_type": "stream",
     "text": [
      "recall score: [0.30769231 0.33333333 0.98918919]\n",
      "precision score: [0.66666667 0.57142857 0.95979021]\n",
      "f1 score [0.42105263 0.42105263 0.97426797]\n",
      "average f1 score: 0.6054577437382275\n"
     ]
    }
   ],
   "source": [
    "print_scores(y_test, sentscore_xgbtest_predictions)\n",
    "#The sentiment score computed using vader does not improve model performance."
   ]
  },
  {
   "cell_type": "markdown",
   "id": "adf3ea21",
   "metadata": {},
   "source": [
    "### The  ROC curves of the XGB classifier trained with an sentiment score feature."
   ]
  },
  {
   "cell_type": "code",
   "execution_count": 210,
   "id": "405170e2",
   "metadata": {},
   "outputs": [
    {
     "data": {
      "image/png": "[encoded data removed]",
      "text/plain": [
       "<Figure size 720x576 with 1 Axes>"
      ]
     },
     "metadata": {
      "needs_background": "light"
     },
     "output_type": "display_data"
    }
   ],
   "source": [
    "title = \"\"\" ROC curves showing the performance of the XGB classifier, trained with an additional sentiment score feature,\n",
    "at various classification thresholds\"\"\"\n",
    "plot_roc_curves(sentscore_xgbtest_probs, title)"
   ]
  },
  {
   "cell_type": "code",
   "execution_count": 211,
   "id": "faa80d1e",
   "metadata": {},
   "outputs": [],
   "source": [
    " update_scores(sentscore_xgb, y_test, sentscore_xgbtest_predictions, sentscore_xgbtest_probs)"
   ]
  },
  {
   "cell_type": "code",
   "execution_count": 212,
   "id": "c9767435",
   "metadata": {},
   "outputs": [
    {
     "data": {
      "text/plain": [
       "{'rs': 0.543,\n",
       " 'ps': 0.733,\n",
       " 'fs': 0.6055,\n",
       " 'aucs': {0: 0.875, 1: 0.862, 2: 0.872}}"
      ]
     },
     "execution_count": 212,
     "metadata": {},
     "output_type": "execute_result"
    }
   ],
   "source": [
    "sentscore_xgb.test_metrics"
   ]
  },
  {
   "cell_type": "code",
   "execution_count": 213,
   "id": "0ab78252",
   "metadata": {},
   "outputs": [
    {
     "data": {
      "text/plain": [
       "{'mnb': MyMultinomialNB(name='mnb'),\n",
       " 'oversampled_mnb': MyOversampledMultinomialNB(name='oversampled_mnb'),\n",
       " 'rfc': MyRandomForestClassifier(name='rfc'),\n",
       " 'xgb': MyXGBClassifier(base_score=0.5, booster='gbtree', colsample_bylevel=1,\n",
       "                 colsample_bynode=1, colsample_bytree=1,\n",
       "                 enable_categorical=False, gamma=0, gpu_id=-1,\n",
       "                 importance_type=None, interaction_constraints='',\n",
       "                 learning_rate=0.300000012, max_delta_step=0, max_depth=6,\n",
       "                 min_child_weight=1, missing=nan, monotone_constraints='()',\n",
       "                 n_estimators=100, n_jobs=8, name='xgb', num_parallel_tree=1,\n",
       "                 objective='multi:softprob', predictor='auto', random_state=100,\n",
       "                 reg_alpha=0, reg_lambda=1, scale_pos_weight=None, subsample=1,\n",
       "                 tree_method='exact', use_label_encoder=False,\n",
       "                 validate_parameters=1, ...),\n",
       " 'oversampled_xgb': MyOversampledXGBClassifier(base_score=0.5, booster='gbtree',\n",
       "                            colsample_bylevel=1, colsample_bynode=1,\n",
       "                            colsample_bytree=1, enable_categorical=False,\n",
       "                            gamma=0, gpu_id=-1, importance_type=None,\n",
       "                            interaction_constraints='',\n",
       "                            learning_rate=0.300000012, max_delta_step=0,\n",
       "                            max_depth=6, min_child_weight=1, missing=nan,\n",
       "                            monotone_constraints='()', n_estimators=100,\n",
       "                            n_jobs=8, name='oversampled_xgb',\n",
       "                            num_parallel_tree=1, objective='multi:softprob',\n",
       "                            predictor='auto', random_state=100, reg_alpha=0,\n",
       "                            reg_lambda=1, scale_pos_weight=None, subsample=1,\n",
       "                            tree_method='exact', use_label_encoder=False,\n",
       "                            validate_parameters=1, ...),\n",
       " 'svc': MySVC(name='svc'),\n",
       " 'ann': <__main__.MyANN at 0x2934b62d7c0>,\n",
       " 'balanced_ann': <__main__.MyBalancedANN at 0x2934b620400>,\n",
       " 'vot': MyVotingClassifier(name='vot'),\n",
       " 'sentscore_xgb': MySentimentXGBClassifier(base_score=0.5, booster='gbtree', colsample_bylevel=1,\n",
       "                          colsample_bynode=1, colsample_bytree=1,\n",
       "                          enable_categorical=False, gamma=0, gpu_id=-1,\n",
       "                          importance_type=None, interaction_constraints='',\n",
       "                          learning_rate=0.300000012, max_delta_step=0,\n",
       "                          max_depth=6, min_child_weight=1, missing=nan,\n",
       "                          monotone_constraints='()', n_estimators=100, n_jobs=8,\n",
       "                          name='sentscore_xgb', num_parallel_tree=1,\n",
       "                          objective='multi:softprob', predictor='auto',\n",
       "                          random_state=100, reg_alpha=0, reg_lambda=1,\n",
       "                          scale_pos_weight=None, subsample=1,\n",
       "                          tree_method='exact', use_label_encoder=False,\n",
       "                          validate_parameters=1, ...)}"
      ]
     },
     "execution_count": 213,
     "metadata": {},
     "output_type": "execute_result"
    }
   ],
   "source": [
    "models_dict"
   ]
  },
  {
   "cell_type": "code",
   "execution_count": 214,
   "id": "2ece1592",
   "metadata": {},
   "outputs": [
    {
     "data": {
      "text/html": [
       "<div>\n",
       "<style scoped>\n",
       "    .dataframe tbody tr th:only-of-type {\n",
       "        vertical-align: middle;\n",
       "    }\n",
       "\n",
       "    .dataframe tbody tr th {\n",
       "        vertical-align: top;\n",
       "    }\n",
       "\n",
       "    .dataframe thead th {\n",
       "        text-align: right;\n",
       "    }\n",
       "</style>\n",
       "<table border=\"1\" class=\"dataframe\">\n",
       "  <thead>\n",
       "    <tr style=\"text-align: right;\">\n",
       "      <th></th>\n",
       "      <th>rs</th>\n",
       "      <th>ps</th>\n",
       "      <th>fs</th>\n",
       "      <th>auc_class0</th>\n",
       "      <th>auc_class1</th>\n",
       "      <th>auc_class2</th>\n",
       "    </tr>\n",
       "  </thead>\n",
       "  <tbody>\n",
       "    <tr>\n",
       "      <th>mnb</th>\n",
       "      <td>0.333</td>\n",
       "      <td>0.312</td>\n",
       "      <td>0.3226</td>\n",
       "      <td>0.806</td>\n",
       "      <td>0.743</td>\n",
       "      <td>0.759</td>\n",
       "    </tr>\n",
       "    <tr>\n",
       "      <th>oversampled_mnb</th>\n",
       "      <td>0.700</td>\n",
       "      <td>0.502</td>\n",
       "      <td>0.5563</td>\n",
       "      <td>0.831</td>\n",
       "      <td>0.857</td>\n",
       "      <td>0.833</td>\n",
       "    </tr>\n",
       "    <tr>\n",
       "      <th>rfc</th>\n",
       "      <td>0.505</td>\n",
       "      <td>0.984</td>\n",
       "      <td>0.5969</td>\n",
       "      <td>0.880</td>\n",
       "      <td>0.811</td>\n",
       "      <td>0.814</td>\n",
       "    </tr>\n",
       "    <tr>\n",
       "      <th>xgb</th>\n",
       "      <td>0.546</td>\n",
       "      <td>0.838</td>\n",
       "      <td>0.6276</td>\n",
       "      <td>0.906</td>\n",
       "      <td>0.871</td>\n",
       "      <td>0.875</td>\n",
       "    </tr>\n",
       "    <tr>\n",
       "      <th>oversampled_xgb</th>\n",
       "      <td>0.511</td>\n",
       "      <td>0.614</td>\n",
       "      <td>0.5481</td>\n",
       "      <td>0.898</td>\n",
       "      <td>0.863</td>\n",
       "      <td>0.889</td>\n",
       "    </tr>\n",
       "    <tr>\n",
       "      <th>svc</th>\n",
       "      <td>0.518</td>\n",
       "      <td>0.901</td>\n",
       "      <td>0.6067</td>\n",
       "      <td>0.890</td>\n",
       "      <td>0.913</td>\n",
       "      <td>0.896</td>\n",
       "    </tr>\n",
       "    <tr>\n",
       "      <th>ann</th>\n",
       "      <td>0.529</td>\n",
       "      <td>0.700</td>\n",
       "      <td>0.5823</td>\n",
       "      <td>0.880</td>\n",
       "      <td>0.811</td>\n",
       "      <td>0.814</td>\n",
       "    </tr>\n",
       "    <tr>\n",
       "      <th>balanced_ann</th>\n",
       "      <td>0.564</td>\n",
       "      <td>0.615</td>\n",
       "      <td>0.5835</td>\n",
       "      <td>0.842</td>\n",
       "      <td>0.858</td>\n",
       "      <td>0.834</td>\n",
       "    </tr>\n",
       "    <tr>\n",
       "      <th>vot</th>\n",
       "      <td>0.542</td>\n",
       "      <td>0.708</td>\n",
       "      <td>0.5972</td>\n",
       "      <td>0.843</td>\n",
       "      <td>0.878</td>\n",
       "      <td>0.858</td>\n",
       "    </tr>\n",
       "    <tr>\n",
       "      <th>sentscore_xgb</th>\n",
       "      <td>0.543</td>\n",
       "      <td>0.733</td>\n",
       "      <td>0.6055</td>\n",
       "      <td>0.875</td>\n",
       "      <td>0.862</td>\n",
       "      <td>0.872</td>\n",
       "    </tr>\n",
       "  </tbody>\n",
       "</table>\n",
       "</div>"
      ],
      "text/plain": [
       "                    rs     ps      fs  auc_class0  auc_class1  auc_class2\n",
       "mnb              0.333  0.312  0.3226       0.806       0.743       0.759\n",
       "oversampled_mnb  0.700  0.502  0.5563       0.831       0.857       0.833\n",
       "rfc              0.505  0.984  0.5969       0.880       0.811       0.814\n",
       "xgb              0.546  0.838  0.6276       0.906       0.871       0.875\n",
       "oversampled_xgb  0.511  0.614  0.5481       0.898       0.863       0.889\n",
       "svc              0.518  0.901  0.6067       0.890       0.913       0.896\n",
       "ann              0.529  0.700  0.5823       0.880       0.811       0.814\n",
       "balanced_ann     0.564  0.615  0.5835       0.842       0.858       0.834\n",
       "vot              0.542  0.708  0.5972       0.843       0.878       0.858\n",
       "sentscore_xgb    0.543  0.733  0.6055       0.875       0.862       0.872"
      ]
     },
     "execution_count": 214,
     "metadata": {},
     "output_type": "execute_result"
    }
   ],
   "source": [
    "generate_test_metrics_df()"
   ]
  },
  {
   "cell_type": "markdown",
   "id": "38b5256c",
   "metadata": {},
   "source": [
    "`The sentiment score calculated using VADER does not seem to improve the performance of the XGB algorithm.`"
   ]
  },
  {
   "cell_type": "markdown",
   "id": "26d72857",
   "metadata": {},
   "source": [
    "### LSTM"
   ]
  },
  {
   "cell_type": "markdown",
   "id": "f51432f0",
   "metadata": {},
   "source": [
    " "
   ]
  },
  {
   "cell_type": "code",
   "execution_count": 215,
   "id": "54e16fde",
   "metadata": {},
   "outputs": [],
   "source": [
    "from tensorflow.keras.layers import LSTM, Flatten, Dense, Input, Embedding\n",
    "from tensorflow.keras.preprocessing.text import Tokenizer\n",
    "from tensorflow.keras.preprocessing.sequence import pad_sequences"
   ]
  },
  {
   "cell_type": "code",
   "execution_count": 216,
   "id": "a8ade23a",
   "metadata": {},
   "outputs": [
    {
     "data": {
      "text/plain": [
       "3081    think download new app wait surf web thing slo...\n",
       "1775    purchase yr old love fact play game movie love...\n",
       "3510    buy son size perfect small big kid friendly ea...\n",
       "337       big good kindle yet light feather buy one today\n",
       "3327                   granddaughter love use school work\n",
       "                              ...                        \n",
       "1247    sure join amazon prime access lot free reading...\n",
       "1612            love fact use voice use electronic device\n",
       "3210    life saver recent cross country flight nice wo...\n",
       "413                   echo love product purchase tap gift\n",
       "1821                         love listen music turn light\n",
       "Name: reviews.text, Length: 3350, dtype: object"
      ]
     },
     "execution_count": 216,
     "metadata": {},
     "output_type": "execute_result"
    }
   ],
   "source": [
    "X_train"
   ]
  },
  {
   "cell_type": "code",
   "execution_count": 217,
   "id": "d3dd088b",
   "metadata": {},
   "outputs": [],
   "source": [
    "vocab_size=3000\n",
    "tokenizer = Tokenizer(num_words=vocab_size)\n"
   ]
  },
  {
   "cell_type": "code",
   "execution_count": 218,
   "id": "d992bbcb",
   "metadata": {},
   "outputs": [],
   "source": [
    "tokenizer.fit_on_texts(X_train )"
   ]
  },
  {
   "cell_type": "code",
   "execution_count": 219,
   "id": "bedbc380",
   "metadata": {},
   "outputs": [
    {
     "data": {
      "text/plain": [
       "3387"
      ]
     },
     "execution_count": 219,
     "metadata": {},
     "output_type": "execute_result"
    }
   ],
   "source": [
    "len(tokenizer.word_index)\n",
    "#We will not include the 387 least commonly occuring words in the vocabulary"
   ]
  },
  {
   "cell_type": "code",
   "execution_count": 220,
   "id": "2d7e268e",
   "metadata": {},
   "outputs": [],
   "source": [
    "X_train_tokenized = tokenizer.texts_to_sequences(X_train)\n",
    "X_test_tokenized = tokenizer.texts_to_sequences(X_test)"
   ]
  },
  {
   "cell_type": "code",
   "execution_count": 221,
   "id": "b2307dde",
   "metadata": {},
   "outputs": [
    {
     "name": "stdout",
     "output_type": "stream",
     "text": [
      "[[106, 82, 50, 25, 292, 480, 240, 47, 260, 460, 23, 2002, 86, 12, 37, 5, 545, 876, 316, 1517, 35, 48, 21, 109, 1253, 129, 83, 546, 9, 261, 45, 425, 481, 5, 3, 3, 341, 460, 523], [17, 342, 23, 1, 343, 20, 36, 103, 1, 211, 74, 58, 597, 38]]\n"
     ]
    }
   ],
   "source": [
    "print(X_train_tokenized[:2])\n",
    "#x_train_tokenized is a list of lists\n",
    "#Each list is a sequence of integers, each representing a word"
   ]
  },
  {
   "cell_type": "code",
   "execution_count": 222,
   "id": "f814298b",
   "metadata": {},
   "outputs": [
    {
     "data": {
      "image/png": "[encoded data removed]",
      "text/plain": [
       "<Figure size 1080x576 with 1 Axes>"
      ]
     },
     "metadata": {
      "needs_background": "light"
     },
     "output_type": "display_data"
    }
   ],
   "source": [
    "plt.figure(figsize=(15, 8))\n",
    "sns.countplot(x=[len(seq) for seq in X_train_tokenized])\n",
    "plt.xticks(np.arange(1, 100, 10))\n",
    "plt.title(\"Graph showing the distribution of sentence lengths in the training set\")\n",
    "plt.show()"
   ]
  },
  {
   "cell_type": "code",
   "execution_count": 223,
   "id": "4afe1ef9",
   "metadata": {},
   "outputs": [],
   "source": [
    "X_train_for_lstm = pad_sequences(X_train_tokenized, maxlen=50, truncating='post')\n",
    "X_test_for_lstm = pad_sequences(X_test_tokenized, maxlen=50, truncating='post')"
   ]
  },
  {
   "cell_type": "code",
   "execution_count": 224,
   "id": "221dbcd5",
   "metadata": {},
   "outputs": [
    {
     "name": "stdout",
     "output_type": "stream",
     "text": [
      "(3350, 50) (592, 50)\n"
     ]
    }
   ],
   "source": [
    "print(X_train_for_lstm.shape, X_test_for_lstm.shape)"
   ]
  },
  {
   "cell_type": "code",
   "execution_count": 225,
   "id": "1e41529d",
   "metadata": {},
   "outputs": [],
   "source": [
    "lstm_layers = [Embedding(input_dim=vocab_size, output_dim=300, input_length=50),\n",
    "     LSTM(100, return_sequences=True),\n",
    "     LSTM(20),\n",
    "     Dense(10, activation='softmax'),\n",
    "     Dense(3, activation='softmax'),\n",
    "        \n",
    "    ]"
   ]
  },
  {
   "cell_type": "code",
   "execution_count": 226,
   "id": "e04bd4db",
   "metadata": {},
   "outputs": [],
   "source": [
    "class MyLSTM(Sequential):\n",
    "    def __init__(self, name, test_metrics={}):\n",
    "        super().__init__()\n",
    "        self.name2 = name\n",
    "        self.test_metrics = test_metrics\n",
    "        models_dict.update({self.name2: self})"
   ]
  },
  {
   "cell_type": "code",
   "execution_count": 227,
   "id": "69bb90c2",
   "metadata": {},
   "outputs": [],
   "source": [
    "lstm = MyLSTM('lstm')"
   ]
  },
  {
   "cell_type": "code",
   "execution_count": 228,
   "id": "1e7cf18b",
   "metadata": {},
   "outputs": [],
   "source": [
    "for layer in lstm_layers:\n",
    "    lstm.add(layer)"
   ]
  },
  {
   "cell_type": "code",
   "execution_count": 229,
   "id": "8cbfe65f",
   "metadata": {},
   "outputs": [
    {
     "name": "stdout",
     "output_type": "stream",
     "text": [
      "Model: \"my_lstm\"\n",
      "_________________________________________________________________\n",
      "Layer (type)                 Output Shape              Param #   \n",
      "=================================================================\n",
      "embedding (Embedding)        (None, 50, 300)           900000    \n",
      "_________________________________________________________________\n",
      "lstm (LSTM)                  (None, 50, 100)           160400    \n",
      "_________________________________________________________________\n",
      "lstm_1 (LSTM)                (None, 20)                9680      \n",
      "_________________________________________________________________\n",
      "dense_8 (Dense)              (None, 10)                210       \n",
      "_________________________________________________________________\n",
      "dense_9 (Dense)              (None, 3)                 33        \n",
      "=================================================================\n",
      "Total params: 1,070,323\n",
      "Trainable params: 1,070,323\n",
      "Non-trainable params: 0\n",
      "_________________________________________________________________\n"
     ]
    }
   ],
   "source": [
    "lstm.summary()"
   ]
  },
  {
   "cell_type": "code",
   "execution_count": 230,
   "id": "49f33f8c",
   "metadata": {},
   "outputs": [],
   "source": [
    "lstm.compile(optimizer='adam', loss='SparseCategoricalCrossentropy', metrics=['accuracy'])"
   ]
  },
  {
   "cell_type": "code",
   "execution_count": 231,
   "id": "23992838",
   "metadata": {},
   "outputs": [
    {
     "name": "stdout",
     "output_type": "stream",
     "text": [
      "Epoch 1/60\n",
      "53/53 [==============================] - 6s 67ms/step - loss: 0.7673 - accuracy: 0.9370\n",
      "Epoch 2/60\n",
      "53/53 [==============================] - 4s 67ms/step - loss: 0.5805 - accuracy: 0.9370\n",
      "Epoch 3/60\n",
      "53/53 [==============================] - 4s 68ms/step - loss: 0.5146 - accuracy: 0.9370\n",
      "Epoch 4/60\n",
      "53/53 [==============================] - 4s 67ms/step - loss: 0.4658 - accuracy: 0.9370\n",
      "Epoch 5/60\n",
      "53/53 [==============================] - 4s 68ms/step - loss: 0.4279 - accuracy: 0.9370\n",
      "Epoch 6/60\n",
      "53/53 [==============================] - 4s 67ms/step - loss: 0.3982 - accuracy: 0.9370\n",
      "Epoch 7/60\n",
      "53/53 [==============================] - 4s 68ms/step - loss: 0.3747 - accuracy: 0.9370\n",
      "Epoch 8/60\n",
      "53/53 [==============================] - 3s 66ms/step - loss: 0.3560 - accuracy: 0.9370\n",
      "Epoch 9/60\n",
      "53/53 [==============================] - 4s 67ms/step - loss: 0.3410 - accuracy: 0.9370\n",
      "Epoch 10/60\n",
      "53/53 [==============================] - 4s 66ms/step - loss: 0.3290 - accuracy: 0.9370\n",
      "Epoch 11/60\n",
      "53/53 [==============================] - 4s 67ms/step - loss: 0.3194 - accuracy: 0.9370\n",
      "Epoch 12/60\n",
      "53/53 [==============================] - 4s 66ms/step - loss: 0.3116 - accuracy: 0.9370\n",
      "Epoch 13/60\n",
      "53/53 [==============================] - 4s 67ms/step - loss: 0.3053 - accuracy: 0.9370\n",
      "Epoch 14/60\n",
      "53/53 [==============================] - 4s 66ms/step - loss: 0.3002 - accuracy: 0.9370\n",
      "Epoch 15/60\n",
      "53/53 [==============================] - 3s 66ms/step - loss: 0.2960 - accuracy: 0.9370\n",
      "Epoch 16/60\n",
      "53/53 [==============================] - 3s 65ms/step - loss: 0.2925 - accuracy: 0.9370\n",
      "Epoch 17/60\n",
      "53/53 [==============================] - 3s 65ms/step - loss: 0.2898 - accuracy: 0.9370\n",
      "Epoch 18/60\n",
      "53/53 [==============================] - 3s 65ms/step - loss: 0.2876 - accuracy: 0.9370\n",
      "Epoch 19/60\n",
      "53/53 [==============================] - 4s 67ms/step - loss: 0.2858 - accuracy: 0.9370\n",
      "Epoch 20/60\n",
      "53/53 [==============================] - 4s 66ms/step - loss: 0.2842 - accuracy: 0.9370\n",
      "Epoch 21/60\n",
      "53/53 [==============================] - 4s 68ms/step - loss: 0.2829 - accuracy: 0.9370\n",
      "Epoch 22/60\n",
      "53/53 [==============================] - 4s 67ms/step - loss: 0.2819 - accuracy: 0.9370\n",
      "Epoch 23/60\n",
      "53/53 [==============================] - 4s 66ms/step - loss: 0.2810 - accuracy: 0.9370\n",
      "Epoch 24/60\n",
      "53/53 [==============================] - 4s 66ms/step - loss: 0.2803 - accuracy: 0.9370\n",
      "Epoch 25/60\n",
      "53/53 [==============================] - 4s 70ms/step - loss: 0.2797 - accuracy: 0.9370\n",
      "Epoch 26/60\n",
      "53/53 [==============================] - 4s 68ms/step - loss: 0.2792 - accuracy: 0.9370\n",
      "Epoch 27/60\n",
      "53/53 [==============================] - 4s 67ms/step - loss: 0.2788 - accuracy: 0.9370\n",
      "Epoch 28/60\n",
      "53/53 [==============================] - 4s 68ms/step - loss: 0.2784 - accuracy: 0.9370\n",
      "Epoch 29/60\n",
      "53/53 [==============================] - 4s 66ms/step - loss: 0.2781 - accuracy: 0.9370\n",
      "Epoch 30/60\n",
      "53/53 [==============================] - 3s 65ms/step - loss: 0.2779 - accuracy: 0.9370\n",
      "Epoch 31/60\n",
      "53/53 [==============================] - 3s 64ms/step - loss: 0.2777 - accuracy: 0.9370\n",
      "Epoch 32/60\n",
      "53/53 [==============================] - 3s 65ms/step - loss: 0.2775 - accuracy: 0.9370\n",
      "Epoch 33/60\n",
      "53/53 [==============================] - 3s 66ms/step - loss: 0.2773 - accuracy: 0.9370\n",
      "Epoch 34/60\n",
      "53/53 [==============================] - 4s 67ms/step - loss: 0.2772 - accuracy: 0.9370\n",
      "Epoch 35/60\n",
      "53/53 [==============================] - 4s 68ms/step - loss: 0.2771 - accuracy: 0.9370\n",
      "Epoch 36/60\n",
      "53/53 [==============================] - 3s 65ms/step - loss: 0.2770 - accuracy: 0.9370\n",
      "Epoch 37/60\n",
      "53/53 [==============================] - 3s 66ms/step - loss: 0.2769 - accuracy: 0.9370\n",
      "Epoch 38/60\n",
      "53/53 [==============================] - 4s 67ms/step - loss: 0.2769 - accuracy: 0.9370\n",
      "Epoch 39/60\n",
      "53/53 [==============================] - 4s 75ms/step - loss: 0.2768 - accuracy: 0.9370\n",
      "Epoch 40/60\n",
      "53/53 [==============================] - 4s 80ms/step - loss: 0.2768 - accuracy: 0.9370\n",
      "Epoch 41/60\n",
      "53/53 [==============================] - 4s 76ms/step - loss: 0.2767 - accuracy: 0.9370\n",
      "Epoch 42/60\n",
      "53/53 [==============================] - 4s 67ms/step - loss: 0.2767 - accuracy: 0.9370\n",
      "Epoch 43/60\n",
      "53/53 [==============================] - 4s 67ms/step - loss: 0.2767 - accuracy: 0.9370\n",
      "Epoch 44/60\n",
      "53/53 [==============================] - 4s 68ms/step - loss: 0.2766 - accuracy: 0.9370\n",
      "Epoch 45/60\n",
      "53/53 [==============================] - 4s 70ms/step - loss: 0.2766 - accuracy: 0.9370\n",
      "Epoch 46/60\n",
      "53/53 [==============================] - 4s 69ms/step - loss: 0.2766 - accuracy: 0.9370\n",
      "Epoch 47/60\n",
      "53/53 [==============================] - 4s 69ms/step - loss: 0.2766 - accuracy: 0.9370\n",
      "Epoch 48/60\n",
      "53/53 [==============================] - 4s 71ms/step - loss: 0.2765 - accuracy: 0.9370\n",
      "Epoch 49/60\n",
      "53/53 [==============================] - 4s 67ms/step - loss: 0.2765 - accuracy: 0.9370\n",
      "Epoch 50/60\n",
      "53/53 [==============================] - 4s 68ms/step - loss: 0.2765 - accuracy: 0.9370\n",
      "Epoch 51/60\n",
      "53/53 [==============================] - 4s 68ms/step - loss: 0.2765 - accuracy: 0.9370\n",
      "Epoch 52/60\n",
      "53/53 [==============================] - 4s 69ms/step - loss: 0.2765 - accuracy: 0.9370\n",
      "Epoch 53/60\n",
      "53/53 [==============================] - 4s 69ms/step - loss: 0.2765 - accuracy: 0.9370\n",
      "Epoch 54/60\n",
      "53/53 [==============================] - 4s 69ms/step - loss: 0.2765 - accuracy: 0.9370\n",
      "Epoch 55/60\n",
      "53/53 [==============================] - 4s 69ms/step - loss: 0.2765 - accuracy: 0.9370\n",
      "Epoch 56/60\n",
      "53/53 [==============================] - 4s 69ms/step - loss: 0.2765 - accuracy: 0.9370\n",
      "Epoch 57/60\n",
      "53/53 [==============================] - 4s 68ms/step - loss: 0.2765 - accuracy: 0.9370\n",
      "Epoch 58/60\n",
      "53/53 [==============================] - 4s 68ms/step - loss: 0.2765 - accuracy: 0.9370\n",
      "Epoch 59/60\n",
      "53/53 [==============================] - 4s 67ms/step - loss: 0.2765 - accuracy: 0.9370\n",
      "Epoch 60/60\n",
      "53/53 [==============================] - 4s 67ms/step - loss: 0.2765 - accuracy: 0.9370\n"
     ]
    }
   ],
   "source": [
    "lstm_history = lstm.fit(X_train_for_lstm, y_train, batch_size=64, epochs=60, verbose=1)"
   ]
  },
  {
   "cell_type": "code",
   "execution_count": 232,
   "id": "771546a4",
   "metadata": {},
   "outputs": [],
   "source": [
    "lstmtrain_probs = lstm.predict(X_train_for_lstm)\n",
    "lstmtrain_predictions= np.argmax(lstmtrain_probs, axis=1)\n",
    "lstmtest_probs = lstm.predict(X_test_for_lstm)\n",
    "lstmtest_predictions= np.argmax(lstmtest_probs, axis=1)\n",
    "\n"
   ]
  },
  {
   "cell_type": "code",
   "execution_count": 233,
   "id": "c88f1a25",
   "metadata": {},
   "outputs": [
    {
     "data": {
      "text/plain": [
       "array([[   0,    0,   77],\n",
       "       [   0,    0,  134],\n",
       "       [   0,    0, 3139]], dtype=int64)"
      ]
     },
     "execution_count": 233,
     "metadata": {},
     "output_type": "execute_result"
    }
   ],
   "source": [
    "confusion_matrix(y_train, lstmtrain_predictions)\n",
    "#The LSTM simply classifies all examples as belonging to class 2"
   ]
  },
  {
   "cell_type": "code",
   "execution_count": 234,
   "id": "697fd96f",
   "metadata": {
    "scrolled": true
   },
   "outputs": [
    {
     "data": {
      "text/plain": [
       "array([[  0,   0,  13],\n",
       "       [  0,   0,  24],\n",
       "       [  0,   0, 555]], dtype=int64)"
      ]
     },
     "execution_count": 234,
     "metadata": {},
     "output_type": "execute_result"
    }
   ],
   "source": [
    "confusion_matrix(y_test, lstmtest_predictions)"
   ]
  },
  {
   "cell_type": "code",
   "execution_count": 235,
   "id": "8bfa79f0",
   "metadata": {},
   "outputs": [
    {
     "name": "stdout",
     "output_type": "stream",
     "text": [
      "recall score: [0. 0. 1.]\n",
      "precision score: [0.     0.     0.9375]\n",
      "f1 score [0.         0.         0.96774194]\n",
      "average f1 score: 0.3225806451612903\n"
     ]
    }
   ],
   "source": [
    "print_scores(y_test, lstmtest_predictions)"
   ]
  },
  {
   "cell_type": "code",
   "execution_count": 236,
   "id": "ec728b56",
   "metadata": {},
   "outputs": [],
   "source": [
    "update_scores(lstm, y_test, lstmtest_predictions, lstmtest_probs)"
   ]
  },
  {
   "cell_type": "code",
   "execution_count": 237,
   "id": "6c4776b2",
   "metadata": {},
   "outputs": [
    {
     "data": {
      "text/plain": [
       "{'rs': 0.333,\n",
       " 'ps': 0.312,\n",
       " 'fs': 0.3226,\n",
       " 'aucs': {0: 0.747, 1: 0.662, 2: 0.557}}"
      ]
     },
     "execution_count": 237,
     "metadata": {},
     "output_type": "execute_result"
    }
   ],
   "source": [
    "lstm.test_metrics"
   ]
  },
  {
   "cell_type": "code",
   "execution_count": 238,
   "id": "3d3ce49d",
   "metadata": {},
   "outputs": [
    {
     "data": {
      "text/html": [
       "<div>\n",
       "<style scoped>\n",
       "    .dataframe tbody tr th:only-of-type {\n",
       "        vertical-align: middle;\n",
       "    }\n",
       "\n",
       "    .dataframe tbody tr th {\n",
       "        vertical-align: top;\n",
       "    }\n",
       "\n",
       "    .dataframe thead th {\n",
       "        text-align: right;\n",
       "    }\n",
       "</style>\n",
       "<table border=\"1\" class=\"dataframe\">\n",
       "  <thead>\n",
       "    <tr style=\"text-align: right;\">\n",
       "      <th></th>\n",
       "      <th>rs</th>\n",
       "      <th>ps</th>\n",
       "      <th>fs</th>\n",
       "      <th>auc_class0</th>\n",
       "      <th>auc_class1</th>\n",
       "      <th>auc_class2</th>\n",
       "    </tr>\n",
       "  </thead>\n",
       "  <tbody>\n",
       "    <tr>\n",
       "      <th>mnb</th>\n",
       "      <td>0.333</td>\n",
       "      <td>0.312</td>\n",
       "      <td>0.3226</td>\n",
       "      <td>0.806</td>\n",
       "      <td>0.743</td>\n",
       "      <td>0.759</td>\n",
       "    </tr>\n",
       "    <tr>\n",
       "      <th>oversampled_mnb</th>\n",
       "      <td>0.700</td>\n",
       "      <td>0.502</td>\n",
       "      <td>0.5563</td>\n",
       "      <td>0.831</td>\n",
       "      <td>0.857</td>\n",
       "      <td>0.833</td>\n",
       "    </tr>\n",
       "    <tr>\n",
       "      <th>rfc</th>\n",
       "      <td>0.505</td>\n",
       "      <td>0.984</td>\n",
       "      <td>0.5969</td>\n",
       "      <td>0.880</td>\n",
       "      <td>0.811</td>\n",
       "      <td>0.814</td>\n",
       "    </tr>\n",
       "    <tr>\n",
       "      <th>xgb</th>\n",
       "      <td>0.546</td>\n",
       "      <td>0.838</td>\n",
       "      <td>0.6276</td>\n",
       "      <td>0.906</td>\n",
       "      <td>0.871</td>\n",
       "      <td>0.875</td>\n",
       "    </tr>\n",
       "    <tr>\n",
       "      <th>oversampled_xgb</th>\n",
       "      <td>0.511</td>\n",
       "      <td>0.614</td>\n",
       "      <td>0.5481</td>\n",
       "      <td>0.898</td>\n",
       "      <td>0.863</td>\n",
       "      <td>0.889</td>\n",
       "    </tr>\n",
       "    <tr>\n",
       "      <th>svc</th>\n",
       "      <td>0.518</td>\n",
       "      <td>0.901</td>\n",
       "      <td>0.6067</td>\n",
       "      <td>0.890</td>\n",
       "      <td>0.913</td>\n",
       "      <td>0.896</td>\n",
       "    </tr>\n",
       "    <tr>\n",
       "      <th>ann</th>\n",
       "      <td>0.529</td>\n",
       "      <td>0.700</td>\n",
       "      <td>0.5823</td>\n",
       "      <td>0.880</td>\n",
       "      <td>0.811</td>\n",
       "      <td>0.814</td>\n",
       "    </tr>\n",
       "    <tr>\n",
       "      <th>balanced_ann</th>\n",
       "      <td>0.564</td>\n",
       "      <td>0.615</td>\n",
       "      <td>0.5835</td>\n",
       "      <td>0.842</td>\n",
       "      <td>0.858</td>\n",
       "      <td>0.834</td>\n",
       "    </tr>\n",
       "    <tr>\n",
       "      <th>vot</th>\n",
       "      <td>0.542</td>\n",
       "      <td>0.708</td>\n",
       "      <td>0.5972</td>\n",
       "      <td>0.843</td>\n",
       "      <td>0.878</td>\n",
       "      <td>0.858</td>\n",
       "    </tr>\n",
       "    <tr>\n",
       "      <th>sentscore_xgb</th>\n",
       "      <td>0.543</td>\n",
       "      <td>0.733</td>\n",
       "      <td>0.6055</td>\n",
       "      <td>0.875</td>\n",
       "      <td>0.862</td>\n",
       "      <td>0.872</td>\n",
       "    </tr>\n",
       "    <tr>\n",
       "      <th>lstm</th>\n",
       "      <td>0.333</td>\n",
       "      <td>0.312</td>\n",
       "      <td>0.3226</td>\n",
       "      <td>0.747</td>\n",
       "      <td>0.662</td>\n",
       "      <td>0.557</td>\n",
       "    </tr>\n",
       "  </tbody>\n",
       "</table>\n",
       "</div>"
      ],
      "text/plain": [
       "                    rs     ps      fs  auc_class0  auc_class1  auc_class2\n",
       "mnb              0.333  0.312  0.3226       0.806       0.743       0.759\n",
       "oversampled_mnb  0.700  0.502  0.5563       0.831       0.857       0.833\n",
       "rfc              0.505  0.984  0.5969       0.880       0.811       0.814\n",
       "xgb              0.546  0.838  0.6276       0.906       0.871       0.875\n",
       "oversampled_xgb  0.511  0.614  0.5481       0.898       0.863       0.889\n",
       "svc              0.518  0.901  0.6067       0.890       0.913       0.896\n",
       "ann              0.529  0.700  0.5823       0.880       0.811       0.814\n",
       "balanced_ann     0.564  0.615  0.5835       0.842       0.858       0.834\n",
       "vot              0.542  0.708  0.5972       0.843       0.878       0.858\n",
       "sentscore_xgb    0.543  0.733  0.6055       0.875       0.862       0.872\n",
       "lstm             0.333  0.312  0.3226       0.747       0.662       0.557"
      ]
     },
     "execution_count": 238,
     "metadata": {},
     "output_type": "execute_result"
    }
   ],
   "source": [
    "generate_test_metrics_df()"
   ]
  },
  {
   "cell_type": "markdown",
   "id": "182a43ee",
   "metadata": {},
   "source": [
    "`The LSTM network does a very poor job at finding a decision boundrary between the classes.`\n",
    "\n"
   ]
  },
  {
   "cell_type": "markdown",
   "id": "530d0e49",
   "metadata": {},
   "source": [
    "### LSTM with balanced data"
   ]
  },
  {
   "cell_type": "code",
   "execution_count": 239,
   "id": "e947a990",
   "metadata": {},
   "outputs": [],
   "source": [
    "from tensorflow.keras.callbacks import EarlyStopping\n",
    "from tensorflow.keras.metrics import Recall"
   ]
  },
  {
   "cell_type": "code",
   "execution_count": 240,
   "id": "d11d5b13",
   "metadata": {},
   "outputs": [],
   "source": [
    "class MyBalancedLSTM(Sequential):\n",
    "    def __init__(self, name, test_metrics={}):\n",
    "        super().__init__()\n",
    "        self.name2 = name\n",
    "        self.test_metrics = test_metrics\n",
    "        models_dict.update({self.name2: self})"
   ]
  },
  {
   "cell_type": "code",
   "execution_count": 241,
   "id": "477deebf",
   "metadata": {},
   "outputs": [],
   "source": [
    "balanced_lstm = MyBalancedLSTM('balanced_lstm')"
   ]
  },
  {
   "cell_type": "code",
   "execution_count": 242,
   "id": "9d283e8c",
   "metadata": {},
   "outputs": [],
   "source": [
    "lstm_layers = [Embedding(input_dim=vocab_size, output_dim=300, input_length=50),\n",
    "     LSTM(100, return_sequences=True),\n",
    "     LSTM(20),\n",
    "     Dense(10, activation='softmax'),\n",
    "     Dense(3, activation='softmax'),\n",
    "        \n",
    "    ]"
   ]
  },
  {
   "cell_type": "code",
   "execution_count": 243,
   "id": "e9da3b71",
   "metadata": {},
   "outputs": [],
   "source": [
    "for layer in lstm_layers:\n",
    "    balanced_lstm.add(layer)"
   ]
  },
  {
   "cell_type": "code",
   "execution_count": 244,
   "id": "f5d7ee01",
   "metadata": {},
   "outputs": [
    {
     "name": "stdout",
     "output_type": "stream",
     "text": [
      "Model: \"my_balanced_lstm\"\n",
      "_________________________________________________________________\n",
      "Layer (type)                 Output Shape              Param #   \n",
      "=================================================================\n",
      "embedding_1 (Embedding)      (None, 50, 300)           900000    \n",
      "_________________________________________________________________\n",
      "lstm_2 (LSTM)                (None, 50, 100)           160400    \n",
      "_________________________________________________________________\n",
      "lstm_3 (LSTM)                (None, 20)                9680      \n",
      "_________________________________________________________________\n",
      "dense_10 (Dense)             (None, 10)                210       \n",
      "_________________________________________________________________\n",
      "dense_11 (Dense)             (None, 3)                 33        \n",
      "=================================================================\n",
      "Total params: 1,070,323\n",
      "Trainable params: 1,070,323\n",
      "Non-trainable params: 0\n",
      "_________________________________________________________________\n"
     ]
    }
   ],
   "source": [
    "balanced_lstm.summary()"
   ]
  },
  {
   "cell_type": "code",
   "execution_count": 245,
   "id": "27835e8d",
   "metadata": {},
   "outputs": [],
   "source": [
    "recall = Recall(name='recall', class_id=0)\n",
    "#We will choose the model parmaters that best recall the instances of the minority class (class 0)"
   ]
  },
  {
   "cell_type": "code",
   "execution_count": 246,
   "id": "950b55eb",
   "metadata": {},
   "outputs": [],
   "source": [
    "balanced_lstm.compile(optimizer='adam', loss='CategoricalCrossentropy', metrics=['accuracy', recall])"
   ]
  },
  {
   "cell_type": "code",
   "execution_count": 247,
   "id": "8c7a30a7",
   "metadata": {},
   "outputs": [
    {
     "data": {
      "text/plain": [
       "{0: 14.502164502164504, 1: 8.333333333333334, 2: 0.355739619836466}"
      ]
     },
     "execution_count": 247,
     "metadata": {},
     "output_type": "execute_result"
    }
   ],
   "source": [
    "class_weight"
   ]
  },
  {
   "cell_type": "code",
   "execution_count": 248,
   "id": "1e831367",
   "metadata": {},
   "outputs": [],
   "source": [
    "callbacks = EarlyStopping(monitor='recall', mode='max', patience=30, restore_best_weights=True)"
   ]
  },
  {
   "cell_type": "code",
   "execution_count": 249,
   "id": "7f81b64c",
   "metadata": {},
   "outputs": [
    {
     "name": "stdout",
     "output_type": "stream",
     "text": [
      "Epoch 1/100\n",
      "53/53 [==============================] - 5s 61ms/step - loss: 1.0954 - accuracy: 0.9307 - recall: 0.0000e+00\n",
      "Epoch 2/100\n",
      "53/53 [==============================] - 3s 61ms/step - loss: 0.9975 - accuracy: 0.8848 - recall: 0.1299 ETA: 1s - loss: 1.0668 - accuracy\n",
      "Epoch 3/100\n",
      "53/53 [==============================] - 3s 61ms/step - loss: 0.8486 - accuracy: 0.8507 - recall: 0.7143\n",
      "Epoch 4/100\n",
      "53/53 [==============================] - 3s 64ms/step - loss: 0.7191 - accuracy: 0.9212 - recall: 0.8442\n",
      "Epoch 5/100\n",
      "53/53 [==============================] - 3s 65ms/step - loss: 0.6164 - accuracy: 0.9212 - recall: 0.9481: 2s - loss: 0.6552 - \n",
      "Epoch 6/100\n",
      "53/53 [==============================] - 3s 65ms/step - loss: 0.5520 - accuracy: 0.9451 - recall: 0.9481\n",
      "Epoch 7/100\n",
      "53/53 [==============================] - 3s 63ms/step - loss: 0.5319 - accuracy: 0.9525 - recall: 0.9091\n",
      "Epoch 8/100\n",
      "53/53 [==============================] - 3s 64ms/step - loss: 0.4629 - accuracy: 0.9493 - recall: 0.9740: 0s - loss: 0.4590 - accuracy: 0.9480 - recall: 0.9\n",
      "Epoch 9/100\n",
      "53/53 [==============================] - 3s 62ms/step - loss: 0.4286 - accuracy: 0.9660 - recall: 0.9481\n",
      "Epoch 10/100\n",
      "53/53 [==============================] - 3s 64ms/step - loss: 0.4071 - accuracy: 0.9552 - recall: 0.9740: 0s - loss: 0.4245 - accuracy: 0.9659 - recall: 0.9 - ETA: 0s - loss: 0.4188 - accuracy: 0.9614 - recall: \n",
      "Epoch 11/100\n",
      "53/53 [==============================] - 3s 64ms/step - loss: 0.3985 - accuracy: 0.9421 - recall: 0.9740: 2s - loss: 0.4243 - acc\n",
      "Epoch 12/100\n",
      "53/53 [==============================] - 3s 63ms/step - loss: 0.3810 - accuracy: 0.9472 - recall: 0.9740\n",
      "Epoch 13/100\n",
      "53/53 [==============================] - 3s 65ms/step - loss: 0.3623 - accuracy: 0.9346 - recall: 0.9740: 3s - loss: 0.2317 - accuracy: 0.9922  - ETA: 2s - loss: 0.3762 - \n",
      "Epoch 14/100\n",
      "53/53 [==============================] - 3s 64ms/step - loss: 0.3319 - accuracy: 0.9606 - recall: 0.9740: 0s - loss: 0.3229 - accuracy: 0.9613 - reca\n",
      "Epoch 15/100\n",
      "53/53 [==============================] - 3s 65ms/step - loss: 0.4464 - accuracy: 0.8618 - recall: 0.9091: 0s - loss: 0.4490 - accuracy: 0.8594 - recall: 0.9\n",
      "Epoch 16/100\n",
      "53/53 [==============================] - 3s 64ms/step - loss: 0.3577 - accuracy: 0.9322 - recall: 0.9610: 1s - loss: 0.4015 - accuracy: 0.921\n",
      "Epoch 17/100\n",
      "53/53 [==============================] - 3s 63ms/step - loss: 0.2902 - accuracy: 0.9713 - recall: 0.9481: 2s - l\n",
      "Epoch 18/100\n",
      "53/53 [==============================] - 3s 64ms/step - loss: 0.2617 - accuracy: 0.9752 - recall: 0.9740\n",
      "Epoch 19/100\n",
      "53/53 [==============================] - 3s 66ms/step - loss: 0.2429 - accuracy: 0.9827 - recall: 0.9740\n",
      "Epoch 20/100\n",
      "53/53 [==============================] - 3s 62ms/step - loss: 0.2293 - accuracy: 0.9851 - recall: 0.9740\n",
      "Epoch 21/100\n",
      "53/53 [==============================] - 3s 64ms/step - loss: 0.2173 - accuracy: 0.9896 - recall: 0.9740\n",
      "Epoch 22/100\n",
      "53/53 [==============================] - 3s 62ms/step - loss: 0.2065 - accuracy: 0.9913 - recall: 0.9740: 0s - loss: 0.1940 - accuracy: 0.9925 - recall: 0.984 - ETA: 0s - loss: 0.1938 - accuracy: 0.9927 - recall: \n",
      "Epoch 23/100\n",
      "53/53 [==============================] - 3s 63ms/step - loss: 0.1972 - accuracy: 0.9922 - recall: 0.9740 ETA: 3s - loss\n",
      "Epoch 24/100\n",
      "53/53 [==============================] - 3s 64ms/step - loss: 0.1893 - accuracy: 0.9922 - recall: 0.9740\n",
      "Epoch 25/100\n",
      "53/53 [==============================] - 3s 65ms/step - loss: 0.1818 - accuracy: 0.9928 - recall: 0.9740\n",
      "Epoch 26/100\n",
      "53/53 [==============================] - 3s 64ms/step - loss: 0.1749 - accuracy: 0.9940 - recall: 0.9740: 1s - loss: 0.1616 - accur\n",
      "Epoch 27/100\n",
      "53/53 [==============================] - 3s 64ms/step - loss: 0.1685 - accuracy: 0.9940 - recall: 0.9740\n",
      "Epoch 28/100\n",
      "53/53 [==============================] - 3s 65ms/step - loss: 0.1627 - accuracy: 0.9940 - recall: 0.9740: 2s - loss\n",
      "Epoch 29/100\n",
      "53/53 [==============================] - 3s 62ms/step - loss: 0.1572 - accuracy: 0.9940 - recall: 0.9740\n",
      "Epoch 30/100\n",
      "53/53 [==============================] - 3s 63ms/step - loss: 0.1522 - accuracy: 0.9946 - recall: 0.9740: 0s - loss: 0.1639 - accuracy: 0.9949 - r\n",
      "Epoch 31/100\n",
      "53/53 [==============================] - 3s 64ms/step - loss: 0.1473 - accuracy: 0.9949 - recall: 0.9740\n",
      "Epoch 32/100\n",
      "53/53 [==============================] - 3s 66ms/step - loss: 0.1426 - accuracy: 0.9955 - recall: 0.9740\n",
      "Epoch 33/100\n",
      "53/53 [==============================] - 3s 65ms/step - loss: 0.1386 - accuracy: 0.9955 - recall: 0.9740\n",
      "Epoch 34/100\n",
      "53/53 [==============================] - 4s 66ms/step - loss: 0.1349 - accuracy: 0.9955 - recall: 0.9740: 0s - loss: 0.1282 - accuracy: 0.9956 - recal - ETA: 0s - loss: 0.1351 - accuracy: 0.9955 - recall: 0.974\n",
      "Epoch 35/100\n",
      "53/53 [==============================] - 4s 69ms/step - loss: 0.1314 - accuracy: 0.9955 - recall: 0.9740: 2s - loss: 0.1344 - a - ETA: 0s - loss: 0.1357 - accuracy: 0.9951 - recall: 0\n",
      "Epoch 36/100\n",
      "53/53 [==============================] - 4s 67ms/step - loss: 0.1281 - accuracy: 0.9955 - recall: 0.9740: 1s - loss: 0.1192 - accuracy: 0.9969 - r - ETA: 1s - loss: 0.1397 - accuracy: 0.9955 -\n",
      "Epoch 37/100\n",
      "53/53 [==============================] - 3s 66ms/step - loss: 0.1251 - accuracy: 0.9955 - recall: 0.9740 ETA: 3s - loss: 0.0635 - accur - ETA: 1s - loss: 0.1253 - accuracy: 0.99\n",
      "Epoch 38/100\n",
      "53/53 [==============================] - 3s 65ms/step - loss: 0.1222 - accuracy: 0.9955 - recall: 0.9740: 0s - loss: 0.1235 - accuracy: 0.9953 - recall: 0.9\n"
     ]
    }
   ],
   "source": [
    "balanced_lstm_history = balanced_lstm.fit(X_train_for_lstm, \n",
    "                                          y_train_binary, batch_size=64, epochs=100, verbose=1, \n",
    "                                          class_weight=class_weight, callbacks=callbacks)"
   ]
  },
  {
   "cell_type": "code",
   "execution_count": 250,
   "id": "818c71aa",
   "metadata": {},
   "outputs": [],
   "source": [
    "balanced_lstmtrain_probs = balanced_lstm.predict(X_train_for_lstm)\n",
    "balanced_lstmtrain_predictions= np.argmax(balanced_lstmtrain_probs, axis=1)\n",
    "balanced_lstmtest_probs = balanced_lstm.predict(X_test_for_lstm)\n",
    "balanced_lstmtest_predictions= np.argmax(balanced_lstmtest_probs, axis=1)\n",
    "\n"
   ]
  },
  {
   "cell_type": "code",
   "execution_count": 251,
   "id": "ea145343",
   "metadata": {},
   "outputs": [
    {
     "data": {
      "text/plain": [
       "array([[  75,    0,    2],\n",
       "       [   2,  131,    1],\n",
       "       [  12,   70, 3057]], dtype=int64)"
      ]
     },
     "execution_count": 251,
     "metadata": {},
     "output_type": "execute_result"
    }
   ],
   "source": [
    "confusion_matrix(y_train, balanced_lstmtrain_predictions)\n"
   ]
  },
  {
   "cell_type": "code",
   "execution_count": 252,
   "id": "0d3f748f",
   "metadata": {
    "scrolled": true
   },
   "outputs": [
    {
     "data": {
      "text/plain": [
       "array([[  6,   2,   5],\n",
       "       [  0,  14,  10],\n",
       "       [  3,  27, 525]], dtype=int64)"
      ]
     },
     "execution_count": 252,
     "metadata": {},
     "output_type": "execute_result"
    }
   ],
   "source": [
    "confusion_matrix(y_test, balanced_lstmtest_predictions)"
   ]
  },
  {
   "cell_type": "code",
   "execution_count": 253,
   "id": "875dd035",
   "metadata": {},
   "outputs": [
    {
     "name": "stdout",
     "output_type": "stream",
     "text": [
      "recall score: [0.46153846 0.58333333 0.94594595]\n",
      "precision score: [0.66666667 0.3255814  0.97222222]\n",
      "f1 score [0.54545455 0.41791045 0.95890411]\n",
      "average f1 score: 0.6407563676015936\n"
     ]
    }
   ],
   "source": [
    "print_scores(y_test, balanced_lstmtest_predictions)"
   ]
  },
  {
   "cell_type": "code",
   "execution_count": 254,
   "id": "3f6d54b6",
   "metadata": {},
   "outputs": [],
   "source": [
    "update_scores(balanced_lstm, y_test, balanced_lstmtest_predictions, balanced_lstmtest_probs)"
   ]
  },
  {
   "cell_type": "code",
   "execution_count": 255,
   "id": "36fb3e40",
   "metadata": {},
   "outputs": [
    {
     "data": {
      "text/plain": [
       "{'rs': 0.664,\n",
       " 'ps': 0.655,\n",
       " 'fs': 0.6408,\n",
       " 'aucs': {0: 0.779, 1: 0.875, 2: 0.882}}"
      ]
     },
     "execution_count": 255,
     "metadata": {},
     "output_type": "execute_result"
    }
   ],
   "source": [
    "balanced_lstm.test_metrics"
   ]
  },
  {
   "cell_type": "code",
   "execution_count": 256,
   "id": "c1beb07e",
   "metadata": {},
   "outputs": [
    {
     "data": {
      "text/html": [
       "<div>\n",
       "<style scoped>\n",
       "    .dataframe tbody tr th:only-of-type {\n",
       "        vertical-align: middle;\n",
       "    }\n",
       "\n",
       "    .dataframe tbody tr th {\n",
       "        vertical-align: top;\n",
       "    }\n",
       "\n",
       "    .dataframe thead th {\n",
       "        text-align: right;\n",
       "    }\n",
       "</style>\n",
       "<table border=\"1\" class=\"dataframe\">\n",
       "  <thead>\n",
       "    <tr style=\"text-align: right;\">\n",
       "      <th></th>\n",
       "      <th>rs</th>\n",
       "      <th>ps</th>\n",
       "      <th>fs</th>\n",
       "      <th>auc_class0</th>\n",
       "      <th>auc_class1</th>\n",
       "      <th>auc_class2</th>\n",
       "    </tr>\n",
       "  </thead>\n",
       "  <tbody>\n",
       "    <tr>\n",
       "      <th>mnb</th>\n",
       "      <td>0.333</td>\n",
       "      <td>0.312</td>\n",
       "      <td>0.3226</td>\n",
       "      <td>0.806</td>\n",
       "      <td>0.743</td>\n",
       "      <td>0.759</td>\n",
       "    </tr>\n",
       "    <tr>\n",
       "      <th>oversampled_mnb</th>\n",
       "      <td>0.700</td>\n",
       "      <td>0.502</td>\n",
       "      <td>0.5563</td>\n",
       "      <td>0.831</td>\n",
       "      <td>0.857</td>\n",
       "      <td>0.833</td>\n",
       "    </tr>\n",
       "    <tr>\n",
       "      <th>rfc</th>\n",
       "      <td>0.505</td>\n",
       "      <td>0.984</td>\n",
       "      <td>0.5969</td>\n",
       "      <td>0.880</td>\n",
       "      <td>0.811</td>\n",
       "      <td>0.814</td>\n",
       "    </tr>\n",
       "    <tr>\n",
       "      <th>xgb</th>\n",
       "      <td>0.546</td>\n",
       "      <td>0.838</td>\n",
       "      <td>0.6276</td>\n",
       "      <td>0.906</td>\n",
       "      <td>0.871</td>\n",
       "      <td>0.875</td>\n",
       "    </tr>\n",
       "    <tr>\n",
       "      <th>oversampled_xgb</th>\n",
       "      <td>0.511</td>\n",
       "      <td>0.614</td>\n",
       "      <td>0.5481</td>\n",
       "      <td>0.898</td>\n",
       "      <td>0.863</td>\n",
       "      <td>0.889</td>\n",
       "    </tr>\n",
       "    <tr>\n",
       "      <th>svc</th>\n",
       "      <td>0.518</td>\n",
       "      <td>0.901</td>\n",
       "      <td>0.6067</td>\n",
       "      <td>0.890</td>\n",
       "      <td>0.913</td>\n",
       "      <td>0.896</td>\n",
       "    </tr>\n",
       "    <tr>\n",
       "      <th>ann</th>\n",
       "      <td>0.529</td>\n",
       "      <td>0.700</td>\n",
       "      <td>0.5823</td>\n",
       "      <td>0.880</td>\n",
       "      <td>0.811</td>\n",
       "      <td>0.814</td>\n",
       "    </tr>\n",
       "    <tr>\n",
       "      <th>balanced_ann</th>\n",
       "      <td>0.564</td>\n",
       "      <td>0.615</td>\n",
       "      <td>0.5835</td>\n",
       "      <td>0.842</td>\n",
       "      <td>0.858</td>\n",
       "      <td>0.834</td>\n",
       "    </tr>\n",
       "    <tr>\n",
       "      <th>vot</th>\n",
       "      <td>0.542</td>\n",
       "      <td>0.708</td>\n",
       "      <td>0.5972</td>\n",
       "      <td>0.843</td>\n",
       "      <td>0.878</td>\n",
       "      <td>0.858</td>\n",
       "    </tr>\n",
       "    <tr>\n",
       "      <th>sentscore_xgb</th>\n",
       "      <td>0.543</td>\n",
       "      <td>0.733</td>\n",
       "      <td>0.6055</td>\n",
       "      <td>0.875</td>\n",
       "      <td>0.862</td>\n",
       "      <td>0.872</td>\n",
       "    </tr>\n",
       "    <tr>\n",
       "      <th>lstm</th>\n",
       "      <td>0.333</td>\n",
       "      <td>0.312</td>\n",
       "      <td>0.3226</td>\n",
       "      <td>0.747</td>\n",
       "      <td>0.662</td>\n",
       "      <td>0.557</td>\n",
       "    </tr>\n",
       "    <tr>\n",
       "      <th>balanced_lstm</th>\n",
       "      <td>0.664</td>\n",
       "      <td>0.655</td>\n",
       "      <td>0.6408</td>\n",
       "      <td>0.779</td>\n",
       "      <td>0.875</td>\n",
       "      <td>0.882</td>\n",
       "    </tr>\n",
       "  </tbody>\n",
       "</table>\n",
       "</div>"
      ],
      "text/plain": [
       "                    rs     ps      fs  auc_class0  auc_class1  auc_class2\n",
       "mnb              0.333  0.312  0.3226       0.806       0.743       0.759\n",
       "oversampled_mnb  0.700  0.502  0.5563       0.831       0.857       0.833\n",
       "rfc              0.505  0.984  0.5969       0.880       0.811       0.814\n",
       "xgb              0.546  0.838  0.6276       0.906       0.871       0.875\n",
       "oversampled_xgb  0.511  0.614  0.5481       0.898       0.863       0.889\n",
       "svc              0.518  0.901  0.6067       0.890       0.913       0.896\n",
       "ann              0.529  0.700  0.5823       0.880       0.811       0.814\n",
       "balanced_ann     0.564  0.615  0.5835       0.842       0.858       0.834\n",
       "vot              0.542  0.708  0.5972       0.843       0.878       0.858\n",
       "sentscore_xgb    0.543  0.733  0.6055       0.875       0.862       0.872\n",
       "lstm             0.333  0.312  0.3226       0.747       0.662       0.557\n",
       "balanced_lstm    0.664  0.655  0.6408       0.779       0.875       0.882"
      ]
     },
     "execution_count": 256,
     "metadata": {},
     "output_type": "execute_result"
    }
   ],
   "source": [
    "generate_test_metrics_df()"
   ]
  },
  {
   "cell_type": "markdown",
   "id": "4dfdfe6c",
   "metadata": {},
   "source": [
    "### Discussion\n",
    "\n",
    "\n",
    "Despite the LSTM trained with balanced classes giving the highest F1 score of all the models, keen analysis of the auc scor each of the models show that there are other models that are more promising for this particular task.\n",
    "\n",
    "It must be stated that LSTM's are quite suited for this particular task, and prior to the analysis, may have been expected to outperform other models. The relatively underwhleming performance of the LSTM network, and indeed the overall inabilities of the various models to identify a significant portion of the members of the minority class may be attributed to the absence of a large enough dataset. For this project, our training data consisted of only 3350 samples of which only 77 belonged to class 0 and 134 to class 1. Also, our test set contained only 13 samples belonging to class 0 and 24 to class 1. \n",
    "\n",
    "Despite the limited data, however, the various roc values do indicate that it is possible for us to find a classification threshold that may very well separate each of the classes from the others. The xgb classifier may be best for class 0, the scv classifier for classes 1 and 2.\n",
    "\n",
    "In summary, despite results seeming a bit underwhelming, it must be emphasized that these results were obtained by assigning examples to the class with the highest probable output, as determined by the classifier. This classifier determined  threshold, however, may not necessarily be the best for separating the data using the particular models. A demonstration of how results may be improved by slight modification of classification thresholds is given below."
   ]
  },
  {
   "cell_type": "code",
   "execution_count": 259,
   "id": "11431b95",
   "metadata": {},
   "outputs": [
    {
     "data": {
      "text/plain": [
       "array([0, 0, 0, 0, 0, 0, 0, 0, 0, 0])"
      ]
     },
     "execution_count": 259,
     "metadata": {},
     "output_type": "execute_result"
    }
   ],
   "source": [
    "class0_threshold = 0.03\n",
    "modified_xgbpredictions = np.where(xgbtest_probs[:, 0] > class0_threshold, 1, 0)\n",
    "#We will classify any example s.t. P(class0 >= 0.03) as belonging to class 0.\n",
    "modified_xgbpredictions[:10]\n",
    "#Below are the first 10 modified predictions."
   ]
  },
  {
   "cell_type": "code",
   "execution_count": 260,
   "id": "778e0083",
   "metadata": {},
   "outputs": [
    {
     "data": {
      "text/plain": [
       "array([0, 0, 0, 0, 0, 0, 0, 0, 0, 0])"
      ]
     },
     "execution_count": 260,
     "metadata": {},
     "output_type": "execute_result"
    }
   ],
   "source": [
    "modified_y_test = np.where(y_test == 0, 1, 0)\n",
    "#We will turn our problem into a binary classification task.\n",
    "#Each example belonging to class 0 will be classified as 1\n",
    "#All other examples will be classified as 0\n",
    "modified_y_test[:10]\n",
    "#Below are the first 10 modified labels"
   ]
  },
  {
   "cell_type": "code",
   "execution_count": 261,
   "id": "601249b2",
   "metadata": {},
   "outputs": [
    {
     "data": {
      "text/plain": [
       "array([[554,  25],\n",
       "       [  5,   8]], dtype=int64)"
      ]
     },
     "execution_count": 261,
     "metadata": {},
     "output_type": "execute_result"
    }
   ],
   "source": [
    "confusion_matrix(modified_y_test, modified_xgbpredictions)"
   ]
  },
  {
   "cell_type": "markdown",
   "id": "7752ae54",
   "metadata": {},
   "source": [
    "`By modifying the threshold, we can capture 62% (8/13) of all negative reviews, we do however get a 4.31% (25/579) false positivity rate. This further underscores the point that given appropriate hyperparameter tuning, the models trained on the data may be suitable for the task of sentiment classification, despite limited training data.`"
   ]
  },
  {
   "cell_type": "markdown",
   "id": "65d5c923",
   "metadata": {},
   "source": [
    "### Clustering of reviews"
   ]
  },
  {
   "cell_type": "code",
   "execution_count": 262,
   "id": "6565262f",
   "metadata": {},
   "outputs": [],
   "source": [
    "from sklearn.cluster import KMeans\n",
    "from sklearn.metrics import silhouette_score"
   ]
  },
  {
   "cell_type": "code",
   "execution_count": 263,
   "id": "e08afba2",
   "metadata": {},
   "outputs": [],
   "source": [
    "def feature_reducer(doc, allowed_tags=[\"NOUN\", \"VERB\"]):\n",
    "    \"\"\"\n",
    "    This function takes a review and returns a string containing only the nouns and verbs in the review\n",
    "    \"\"\"\n",
    "    doc = spacy_nlp_model(doc)\n",
    "    tokens = [word.lemma_ for word in doc if word.pos_ in allowed_tags]\n",
    "    \n",
    "    doc2 = \" \".join(tokens)\n",
    "    \n",
    "    return doc2\n"
   ]
  },
  {
   "cell_type": "code",
   "execution_count": 264,
   "id": "8c1fe1f0",
   "metadata": {},
   "outputs": [],
   "source": [
    "reduced_reviews = cleaned_reviews.apply(feature_reducer)"
   ]
  },
  {
   "cell_type": "code",
   "execution_count": 265,
   "id": "e332d51a",
   "metadata": {},
   "outputs": [
    {
     "data": {
      "text/plain": [
       "'purchase black fridaypro great price even sale powerful fast quad core processor amazing soundwell builtcon ad amazon need subsidize tablet remove add pay access app except one amazon way able accomplish add google play storenet great tablet money'"
      ]
     },
     "execution_count": 265,
     "metadata": {},
     "output_type": "execute_result"
    }
   ],
   "source": [
    "cleaned_reviews.iloc[0]"
   ]
  },
  {
   "cell_type": "code",
   "execution_count": 266,
   "id": "0e13079f",
   "metadata": {},
   "outputs": [
    {
     "data": {
      "text/plain": [
       "'purchase price sale core processor soundwell builtcon ad amazon need remove add pay access app amazon way accomplish add play money'"
      ]
     },
     "execution_count": 266,
     "metadata": {},
     "output_type": "execute_result"
    }
   ],
   "source": [
    "reduced_reviews.iloc[0]\n",
    "#The review now only contain nouns and verbs"
   ]
  },
  {
   "cell_type": "code",
   "execution_count": 267,
   "id": "e12f8a23",
   "metadata": {},
   "outputs": [],
   "source": [
    "reduced_vectorizer = TfidfVectorizer()\n",
    "vectorized_reviews = reduced_vectorizer.fit_transform(reduced_reviews)"
   ]
  },
  {
   "cell_type": "code",
   "execution_count": 268,
   "id": "f05b522f",
   "metadata": {},
   "outputs": [],
   "source": [
    "inertias = []\n",
    "kms = []\n",
    "for i in range(8, 25):\n",
    "    km = KMeans(n_clusters=i, random_state=0)\n",
    "    km.fit(vectorized_reviews)\n",
    "    inertia = km.inertia_\n",
    "    inertias.append(inertia)\n",
    "    kms.append(km)"
   ]
  },
  {
   "cell_type": "code",
   "execution_count": 269,
   "id": "440b3809",
   "metadata": {},
   "outputs": [
    {
     "data": {
      "image/png": "[encoded data removed]",
      "text/plain": [
       "<Figure size 1008x432 with 1 Axes>"
      ]
     },
     "metadata": {
      "needs_background": "light"
     },
     "output_type": "display_data"
    }
   ],
   "source": [
    "plt.figure(figsize=(14, 6))\n",
    "plt.plot(range(8, 25), inertias)\n",
    "plt.title(\"\"\"Elbow Plot showing changes to sum of squared distances between samples and nearest center\n",
    "with increase in k value\"\"\")\n",
    "plt.xlabel('k')\n",
    "plt.ylabel(\"ssd\")\n",
    "plt.show()"
   ]
  },
  {
   "cell_type": "markdown",
   "id": "8ac4f5dc",
   "metadata": {},
   "source": [
    "`The elbow plot above does not give us a definitive value for what k should be. To get more insights into an appropriate k value, we will combine it with silhouette scores.`"
   ]
  },
  {
   "cell_type": "code",
   "execution_count": 270,
   "id": "3302f1df",
   "metadata": {},
   "outputs": [],
   "source": [
    "sil_scores = [silhouette_score(vectorized_reviews, km.predict(vectorized_reviews)) for km in kms]"
   ]
  },
  {
   "cell_type": "code",
   "execution_count": 271,
   "id": "e29d854c",
   "metadata": {},
   "outputs": [
    {
     "data": {
      "image/png": "[encoded data removed]",
      "text/plain": [
       "<Figure size 432x288 with 1 Axes>"
      ]
     },
     "metadata": {
      "needs_background": "light"
     },
     "output_type": "display_data"
    }
   ],
   "source": [
    "plt.plot(range(8, 25), sil_scores)\n",
    "plt.show()"
   ]
  },
  {
   "cell_type": "markdown",
   "id": "60030688",
   "metadata": {},
   "source": [
    "`From the elnbow plot and silhouette scores, we will chose k=20`"
   ]
  },
  {
   "cell_type": "code",
   "execution_count": 272,
   "id": "fb8d667e",
   "metadata": {},
   "outputs": [
    {
     "data": {
      "text/plain": [
       "KMeans(n_clusters=20, random_state=0)"
      ]
     },
     "execution_count": 272,
     "metadata": {},
     "output_type": "execute_result"
    }
   ],
   "source": [
    "km20 = kms[12]\n",
    "km20"
   ]
  },
  {
   "cell_type": "code",
   "execution_count": 273,
   "id": "1bbed10d",
   "metadata": {},
   "outputs": [
    {
     "data": {
      "text/plain": [
       "(20, 2240)"
      ]
     },
     "execution_count": 273,
     "metadata": {},
     "output_type": "execute_result"
    }
   ],
   "source": [
    "km20.cluster_centers_.shape\n",
    "#There are 20 cluster centers\n",
    "#Each center is an array of length 2240"
   ]
  },
  {
   "cell_type": "code",
   "execution_count": 274,
   "id": "d0ee4267",
   "metadata": {},
   "outputs": [],
   "source": [
    "top_features = []\n",
    "\n",
    "for center in km20.cluster_centers_:\n",
    "    top15 = center.argsort()[-1:-16:-1]\n",
    "    top_features.append(top15)\n",
    "        \n",
    "        \n"
   ]
  },
  {
   "cell_type": "code",
   "execution_count": 275,
   "id": "2d8137c3",
   "metadata": {},
   "outputs": [],
   "source": [
    "top_words = []\n",
    "all_words= np.array(reduced_vectorizer.get_feature_names())\n",
    "for center in top_features:\n",
    "    top_words.append(all_words[center])  \n",
    "    "
   ]
  },
  {
   "cell_type": "code",
   "execution_count": 276,
   "id": "678261c6",
   "metadata": {},
   "outputs": [
    {
     "name": "stdout",
     "output_type": "stream",
     "text": [
      "1 \t ['kid' 'love' 'use' 'tablet' 'game' 'app' 'buy' 'entertain' 'lot' 'play'\n",
      " 'get' 'grandson' 'enjoy' 'keep' 'video']\n",
      "2 \t ['app' 'download' 'use' 'amazon' 'tablet' 'work' 'store' 'buy' 'need'\n",
      " 'lot' 'love' 'get' 'play' 'learn' 'child']\n",
      "3 \t ['love' 'buy' 'year' 'tablet' 'grandson' 'granddaughter' 'fire' 'game'\n",
      " 'use' 'purchase' 'niece' 'mom' 'play' 'age' 'birthday']\n",
      "4 \t ['buy' 'purchase' 'time' 'screen' 'love' 'tablet' 'need' 'device' 'set'\n",
      " 'make' 'play' 'child' 'game' 'look' 'recommend']\n",
      "5 \t ['book' 'read' 'love' 'game' 'kindle' 'use' 'buy' 'need' 'screen'\n",
      " 'purchase' 'device' 'watch' 'play' 'take' 'carry']\n",
      "6 \t ['son' 'love' 'buy' 'year' 'game' 'use' 'gift' 'play' 'get' 'purchase'\n",
      " 'lot' 'learn' 'tablet' 'work' 'enjoy']\n",
      "7 \t ['work' 'use' 'tablet' 'screen' 'issue' 'buy' 'sound' 'need' 'speaker'\n",
      " 'video' 'get' 'game' 'download' 'set' 'look']\n",
      "8 \t ['version' 'kindle' 'love' 'fire' 'light' 'time' 'upgrade' 'purchase'\n",
      " 'update' 'improvement' 'camera' 'replace' 'video' 'disappoint' 'think']\n",
      "9 \t ['echo' 'dot' 'show' 'love' 'alexa' 'device' 'home' 'sound' 'work' 'use'\n",
      " 'tap' 'family' 'buy' 'hub' 'feature']\n",
      "10 \t ['get' 'love' 'need' 'use' 'sale' 'buy' 'time' 'day' 'screen' 'play'\n",
      " 'thing' 'year' 'go' 'job' 'do']\n",
      "11 \t ['price' 'tablet' 'beat' 'feature' 'use' 'work' 'need' 'buy' 'size'\n",
      " 'value' 'quality' 'recommend' 'love' 'look' 'purchase']\n",
      "12 \t ['kindle' 'fire' 'love' 'read' 'size' 'buy' 'use' 'screen' 'upgrade'\n",
      " 'model' 'purchase' 'go' 'replace' 'book' 'charge']\n",
      "13 \t ['wife' 'love' 'buy' 'gift' 'get' 'use' 'fire' 'kindle' 'replace' 'work'\n",
      " 'reader' 'internet' 'purchase' 'want' 'nook']\n",
      "14 \t ['gift' 'love' 'buy' 'purchase' 'get' 'use' 'give' 'enjoy' 'year'\n",
      " 'birthday' 'mother' 'product' 'tablet' 'kindle' 'amazon']\n",
      "15 \t ['music' 'alexa' 'show' 'ask' 'play' 'video' 'love' 'question' 'listen'\n",
      " 'device' 'home' 'use' 'turn' 'house' 'amazon']\n",
      "16 \t ['use' 'love' 'set' 'tablet' 'want' 'fun' 'alexa' 'buy' 'sound' 'picture'\n",
      " 'purchase' 'enjoy' 'fire' 'ease' 'thing']\n",
      "17 \t ['item' 'use' 'home' 'love' 'purchase' 'work' 'buy' 'control' 'set'\n",
      " 'recommend' 'child' 'product' 'thank' 'search' 'gift']\n",
      "18 \t ['product' 'recommend' 'use' 'price' 'work' 'love' 'set' 'buy' 'enjoy'\n",
      " 'purchase' 'kindle' 'child' 'quality' 'sale' 'service']\n",
      "19 \t ['battery' 'life' 'screen' 'read' 'charge' 'use' 'fire' 'buy' 'time'\n",
      " 'kindle' 'work' 'love' 'make' 'hour' 'upgrade']\n",
      "20 \t ['daughter' 'love' 'buy' 'purchase' 'play' 'use' 'game' 'year' 'keep'\n",
      " 'gift' 'get' 'enjoy' 'tablet' 'app' 'kindle']\n"
     ]
    }
   ],
   "source": [
    "for i, word_list in zip(range(1, 21), top_words):\n",
    "    print(i, '\\t', word_list )\n",
    "#Each array below contains the top words in each cluster.\n",
    "#We can get a clear picture about certain topicsin each cluster of words - for example:\n",
    "#cluster #1 seems to be about kids ejoying using the tablet for entertainment\n",
    "#cluster #2 seems to be about using the tablet fir work or educational purposes\n",
    "#custer #11 seems to talk about the tablet being value for money\n",
    "#cluster 14 seems to be about buying a tablet as a gift for someone.\n",
    "#cluster 15 - the use of alexa to play music\n",
    "#cluster 19 - battery life\n"
   ]
  },
  {
   "cell_type": "markdown",
   "id": "a3764ca9",
   "metadata": {},
   "source": [
    "### Topic Modeling\n",
    "\n",
    "For topic modeling we will use the gensim library "
   ]
  },
  {
   "cell_type": "code",
   "execution_count": 277,
   "id": "9280340c",
   "metadata": {},
   "outputs": [],
   "source": [
    "from gensim.corpora import Dictionary\n",
    "from gensim.models import LdaModel, CoherenceModel\n",
    "import gensim\n",
    "import pyLDAvis\n",
    "import pyLDAvis.gensim_models"
   ]
  },
  {
   "cell_type": "code",
   "execution_count": 278,
   "id": "66b1fa80",
   "metadata": {},
   "outputs": [],
   "source": [
    "def tokenizer_and_feature_reducer(doc, allowed_tags=['NOUN', 'VERB']):\n",
    "    spacy_doc = spacy_nlp_model(doc)\n",
    "    tokens  = [word.lemma_ for word in spacy_doc if word.pos_ in allowed_tags]\n",
    "    \n",
    "    return tokens\n",
    "\n"
   ]
  },
  {
   "cell_type": "code",
   "execution_count": 279,
   "id": "cc0742b7",
   "metadata": {},
   "outputs": [
    {
     "data": {
      "text/plain": [
       "0    purchase black fridaypro great price even sale...\n",
       "1    purchase two amazon echo plus two dot plus fou...\n",
       "2    average alexa option show thing screen still l...\n",
       "3                 good product exactly want good price\n",
       "4    one purchase buy one niece case compare one ho...\n",
       "Name: reviews.text, dtype: object"
      ]
     },
     "execution_count": 279,
     "metadata": {},
     "output_type": "execute_result"
    }
   ],
   "source": [
    "cleaned_reviews.head()"
   ]
  },
  {
   "cell_type": "code",
   "execution_count": 280,
   "id": "0be415f5",
   "metadata": {},
   "outputs": [],
   "source": [
    "tokenized_cleaned_reviews = cleaned_reviews.apply(tokenizer_and_feature_reducer)"
   ]
  },
  {
   "cell_type": "code",
   "execution_count": 281,
   "id": "3493ba80",
   "metadata": {},
   "outputs": [
    {
     "data": {
      "text/plain": [
       "0    [purchase, price, sale, core, processor, sound...\n",
       "1    [purchase, amazon, echo, dot, fire, stick, hub...\n",
       "2          [alexa, option, show, thing, screen, limit]\n",
       "3                               [product, want, price]\n",
       "4    [purchase, buy, niece, case, compare, hold, ta...\n",
       "Name: reviews.text, dtype: object"
      ]
     },
     "execution_count": 281,
     "metadata": {},
     "output_type": "execute_result"
    }
   ],
   "source": [
    "tokenized_cleaned_reviews.head()"
   ]
  },
  {
   "cell_type": "code",
   "execution_count": 282,
   "id": "1783ec70",
   "metadata": {},
   "outputs": [],
   "source": [
    "dct = Dictionary(tokenized_cleaned_reviews)"
   ]
  },
  {
   "cell_type": "code",
   "execution_count": 283,
   "id": "b74b0597",
   "metadata": {},
   "outputs": [
    {
     "data": {
      "text/plain": [
       "2249"
      ]
     },
     "execution_count": 283,
     "metadata": {},
     "output_type": "execute_result"
    }
   ],
   "source": [
    "len(dct)\n",
    "#There are 2249 unique words in the dictionary"
   ]
  },
  {
   "cell_type": "code",
   "execution_count": 284,
   "id": "595719b1",
   "metadata": {},
   "outputs": [
    {
     "data": {
      "text/plain": [
       "[('love', 1228),\n",
       " ('use', 1185),\n",
       " ('buy', 873),\n",
       " ('get', 589),\n",
       " ('kindle', 547),\n",
       " ('work', 494),\n",
       " ('purchase', 440),\n",
       " ('product', 440),\n",
       " ('read', 415),\n",
       " ('echo', 413)]"
      ]
     },
     "execution_count": 284,
     "metadata": {},
     "output_type": "execute_result"
    }
   ],
   "source": [
    "dct.most_common()[:10]\n",
    "#These are the top 10 most frequently occuring words in the dictionary"
   ]
  },
  {
   "cell_type": "code",
   "execution_count": 285,
   "id": "9c54bb40",
   "metadata": {},
   "outputs": [],
   "source": [
    "doc_term_mat = [dct.doc2bow(doc) for doc in tokenized_cleaned_reviews]"
   ]
  },
  {
   "cell_type": "code",
   "execution_count": 286,
   "id": "f55fbb13",
   "metadata": {},
   "outputs": [
    {
     "name": "stdout",
     "output_type": "stream",
     "text": [
      "[(0, 1), (1, 1), (2, 1), (3, 2), (4, 2), (5, 1), (6, 1), (7, 1), (8, 1), (9, 1), (10, 1), (11, 1), (12, 1), (13, 1), (14, 1), (15, 1), (16, 1), (17, 1), (18, 1)]\n",
      "[(4, 1), (14, 2), (18, 1), (19, 4), (20, 1), (21, 1), (22, 2), (23, 1), (24, 1), (25, 1), (26, 1), (27, 1), (28, 1), (29, 1), (30, 1), (31, 1), (32, 1), (33, 1), (34, 1), (35, 1), (36, 1), (37, 1), (38, 1), (39, 1), (40, 1), (41, 1), (42, 2), (43, 1), (44, 1), (45, 1), (46, 1), (47, 1), (48, 1)]\n"
     ]
    }
   ],
   "source": [
    "for i in doc_term_mat[:2]:\n",
    "    print(i)"
   ]
  },
  {
   "cell_type": "code",
   "execution_count": 287,
   "id": "4fd5c26c",
   "metadata": {},
   "outputs": [],
   "source": [
    "perplexities = []\n",
    "coherences = []\n",
    "lda_models = dict()\n",
    "\n",
    "for num_topics in [7, 9, 11, 13, 20]:\n",
    "    lda = LdaModel(corpus=doc_term_mat, num_topics=num_topics, id2word=dct, iterations=50, random_state=100, passes=20)\n",
    "    perplexity = lda.log_perplexity(doc_term_mat)\n",
    "    coherence_model = CoherenceModel(model=lda, texts=tokenized_cleaned_reviews, dictionary=dct)\n",
    "    coh = coherence_model.get_coherence()\n",
    "    perplexities.append(perplexity)\n",
    "    coherences.append(coh)\n",
    "    lda_models.update({str(num_topics): lda})\n",
    "    \n",
    "#A number of different LDA models will be created.\n",
    "#These models differ in the number of topics they are trained to identify.\n",
    "#We will compare the cohenerence of the individual models in order to determine the best model.\n",
    "#The number of topics was chose using the previously determined silhouette scores as well as \n",
    "    #from interpretation of the topics obtained via clustering."
   ]
  },
  {
   "cell_type": "code",
   "execution_count": 288,
   "id": "b5ad766f",
   "metadata": {},
   "outputs": [
    {
     "data": {
      "image/png": "[encoded data removed]",
      "text/plain": [
       "<Figure size 432x288 with 1 Axes>"
      ]
     },
     "metadata": {
      "needs_background": "light"
     },
     "output_type": "display_data"
    }
   ],
   "source": [
    "plt.plot([9, 11, 13, 16, 21], coherences)\n",
    "plt.title(\"Graph showing the coherence values of the various models\")\n",
    "plt.ylabel('Coherence')\n",
    "plt.xlabel('Number of Topics')\n",
    "plt.show()"
   ]
  },
  {
   "cell_type": "markdown",
   "id": "fd212ea3",
   "metadata": {},
   "source": [
    "`From the coherence model, we see that the optimal numer of topics is 11`"
   ]
  },
  {
   "cell_type": "code",
   "execution_count": 296,
   "id": "cac10002",
   "metadata": {},
   "outputs": [
    {
     "data": {
      "image/png": "[encoded data removed]",
      "text/plain": [
       "<Figure size 432x288 with 1 Axes>"
      ]
     },
     "metadata": {
      "needs_background": "light"
     },
     "output_type": "display_data"
    }
   ],
   "source": [
    "plt.plot([9, 11, 13, 16, 21], perplexities)\n",
    "plt.title(\"Graph showing the perplexity of the various models\")\n",
    "plt.ylabel('Perplexity')\n",
    "plt.xlabel('Number of Topics')\n",
    "plt.show()"
   ]
  },
  {
   "cell_type": "markdown",
   "id": "0ce4800e",
   "metadata": {},
   "source": [
    "`The plot of the perplexities does not give us much additional information`"
   ]
  },
  {
   "cell_type": "code",
   "execution_count": 290,
   "id": "0a05aabf",
   "metadata": {},
   "outputs": [
    {
     "data": {
      "text/plain": [
       "{'7': <gensim.models.ldamodel.LdaModel at 0x29348828100>,\n",
       " '9': <gensim.models.ldamodel.LdaModel at 0x29348c10d60>,\n",
       " '11': <gensim.models.ldamodel.LdaModel at 0x29350ac70a0>,\n",
       " '13': <gensim.models.ldamodel.LdaModel at 0x2934b620460>,\n",
       " '20': <gensim.models.ldamodel.LdaModel at 0x2934bab5f40>}"
      ]
     },
     "execution_count": 290,
     "metadata": {},
     "output_type": "execute_result"
    }
   ],
   "source": [
    "lda_models\n"
   ]
  },
  {
   "cell_type": "code",
   "execution_count": 297,
   "id": "94bd0e65",
   "metadata": {},
   "outputs": [],
   "source": [
    "best_lda_model = lda_models[\"11\"]"
   ]
  },
  {
   "cell_type": "raw",
   "id": "ef2a693b",
   "metadata": {},
   "source": []
  },
  {
   "cell_type": "markdown",
   "id": "9db3fc72",
   "metadata": {},
   "source": [
    "best_lda_model.print_topics()\n",
    "#printed below are the top words for the 11 topics discovered by the LDA algorithm\n",
    "#Like we saw earlier from clustering, we can see clearly topics emerging.\n",
    "#Topic 0 - sound and picture quality\n",
    "#Topic 4- battery life and recommendation for kids\n",
    "#Topic 5 -ALexa and music\n",
    "#Topic 8 - gift for family members\n",
    "#Topic 10 - Reading experience using a kindle "
   ]
  },
  {
   "cell_type": "code",
   "execution_count": 293,
   "id": "e997d366",
   "metadata": {},
   "outputs": [],
   "source": [
    "pyLDAvis.enable_notebook()"
   ]
  },
  {
   "cell_type": "code",
   "execution_count": 294,
   "id": "98aae3bd",
   "metadata": {},
   "outputs": [
    {
     "data": {
      "text/html": [
       "\n",
       "<link rel=\"stylesheet\" type=\"text/css\" href=\"https://cdn.jsdelivr.net/gh/bmabey/pyLDAvis@3.3.1/pyLDAvis/js/ldavis.v1.0.0.css\">\n",
       "\n",
       "\n",
       "<div id=\"ldavis_el1124028316680711045520733787\"></div>\n",
       "<script type=\"text/javascript\">\n",
       "\n",
       "var ldavis_el1124028316680711045520733787_data = {\"mdsDat\": {\"x\": [-0.18172093322361627, -0.012630887518362811, 0.061545483447162604, -0.01848104665808929, 0.20635306576602525, -0.23473500878860326, 0.1379602031270317, -0.013440112258012026, 0.05514923610646487], \"y\": [0.09509262995356602, -0.25441137791470697, -0.0257165799096755, -0.042420660437323766, 0.10201410676479213, 0.040141131041400664, -0.03910367167715111, -0.025823073731279712, 0.15022749591037815], \"topics\": [1, 2, 3, 4, 5, 6, 7, 8, 9], \"cluster\": [1, 1, 1, 1, 1, 1, 1, 1, 1], \"Freq\": [19.986184468253917, 12.952321936091812, 11.561674598584865, 10.872197910879656, 10.415209747686935, 10.251721872942312, 8.727011045452567, 8.4129741504544, 6.820704269653534]}, \"tinfo\": {\"Term\": [\"product\", \"love\", \"buy\", \"use\", \"kindle\", \"gift\", \"echo\", \"read\", \"kid\", \"alexa\", \"tablet\", \"recommend\", \"game\", \"year\", \"show\", \"book\", \"sound\", \"music\", \"app\", \"price\", \"child\", \"battery\", \"time\", \"play\", \"daughter\", \"home\", \"work\", \"wife\", \"fire\", \"speaker\", \"weather\", \"recipe\", \"hub\", \"house\", \"addition\", \"answer\", \"kitchen\", \"song\", \"bulb\", \"lyric\", \"automation\", \"ask\", \"cook\", \"volume\", \"ring\", \"traffic\", \"package\", \"date\", \"joke\", \"list\", \"spot\", \"youtube\", \"morning\", \"timer\", \"echos\", \"become\", \"living\", \"employee\", \"log\", \"guy\", \"question\", \"home\", \"alexa\", \"music\", \"echo\", \"show\", \"listen\", \"dot\", \"room\", \"connect\", \"fun\", \"news\", \"see\", \"device\", \"control\", \"turn\", \"family\", \"thing\", \"video\", \"love\", \"light\", \"use\", \"amazon\", \"play\", \"get\", \"work\", \"set\", \"buy\", \"make\", \"product\", \"life\", \"voyage\", \"oasis\", \"weight\", \"ereader\", \"purse\", \"battery\", \"mind\", \"brightness\", \"bag\", \"sunlight\", \"backlight\", \"paperwhite\", \"format\", \"miss\", \"strain\", \"pdf\", \"drain\", \"audio\", \"text\", \"sport\", \"rate\", \"note\", \"page\", \"enlarge\", \"eye\", \"filter\", \"mention\", \"restriction\", \"font\", \"carry\", \"improvement\", \"read\", \"reader\", \"ebook\", \"upgrade\", \"kindle\", \"cover\", \"generation\", \"book\", \"reading\", \"hold\", \"hand\", \"light\", \"size\", \"charge\", \"screen\", \"make\", \"night\", \"day\", \"turn\", \"feel\", \"go\", \"get\", \"love\", \"time\", \"fire\", \"thing\", \"buy\", \"take\", \"charger\", \"nook\", \"fall\", \"port\", \"register\", \"variety\", \"die\", \"road\", \"buck\", \"fail\", \"angle\", \"advantage\", \"trick\", \"playlist\", \"course\", \"puzzle\", \"guarantee\", \"boy\", \"act\", \"requirement\", \"programming\", \"stay\", \"pic\", \"future\", \"quit\", \"brand\", \"boyfriend\", \"trial\", \"mix\", \"factory\", \"college\", \"junk\", \"service\", \"problem\", \"customer\", \"watch\", \"game\", \"stuff\", \"play\", \"mode\", \"week\", \"movie\", \"charge\", \"trip\", \"take\", \"get\", \"hour\", \"purchase\", \"buy\", \"use\", \"find\", \"offer\", \"year\", \"download\", \"love\", \"time\", \"tablet\", \"book\", \"work\", \"amazon\", \"want\", \"app\", \"video\", \"call\", \"kid\", \"read\", \"day\", \"kindle\", \"fire\", \"instruction\", \"surf\", \"beginner\", \"web\", \"email\", \"market\", \"surfing\", \"activity\", \"realize\", \"damage\", \"hd\", \"lie\", \"care\", \"print\", \"credit\", \"opinion\", \"concern\", \"facebook\", \"browse\", \"paper\", \"prime\", \"steal\", \"commute\", \"household\", \"distribute\", \"begin\", \"snap\", \"boot\", \"bother\", \"dinner\", \"value\", \"card\", \"shop\", \"memory\", \"stream\", \"internet\", \"world\", \"tablet\", \"laptop\", \"store\", \"movie\", \"tool\", \"use\", \"price\", \"item\", \"ease\", \"need\", \"fire\", \"like\", \"lot\", \"game\", \"book\", \"size\", \"take\", \"picture\", \"read\", \"thing\", \"app\", \"work\", \"device\", \"screen\", \"buy\", \"purchase\", \"amazon\", \"play\", \"gift\", \"birthday\", \"mother\", \"nephew\", \"niece\", \"crack\", \"law\", \"toy\", \"father\", \"self\", \"staff\", \"wife\", \"son\", \"recipient\", \"anticipate\", \"brother\", \"fingertip\", \"expense\", \"grandpa\", \"teenager\", \"guest\", \"fundraiser\", \"hassle\", \"group\", \"one\", \"entertain\", \"intention\", \"apartment\", \"distance\", \"grandaughter\", \"daughter\", \"grandson\", \"pad\", \"replace\", \"mom\", \"buy\", \"love\", \"granddaughter\", \"break\", \"year\", \"enjoy\", \"purchase\", \"operate\", \"get\", \"keep\", \"fire\", \"drop\", \"parent\", \"family\", \"use\", \"tablet\", \"want\", \"give\", \"kid\", \"kindle\", \"work\", \"price\", \"say\", \"tap\", \"bluetooth\", \"press\", \"well\", \"communicate\", \"hate\", \"desk\", \"benefit\", \"combine\", \"pain\", \"television\", \"frame\", \"action\", \"brainer\", \"hearing\", \"push\", \"scan\", \"pool\", \"decor\", \"icon\", \"combination\", \"satisfy\", \"impress\", \"folder\", \"monitoring\", \"deck\", \"root\", \"thermostat\", \"planning\", \"technology\", \"sound\", \"security\", \"portability\", \"believe\", \"speaker\", \"respond\", \"button\", \"netflix\", \"magazine\", \"quality\", \"picture\", \"touch\", \"move\", \"command\", \"add\", \"talk\", \"speak\", \"feature\", \"echo\", \"screen\", \"camera\", \"wish\", \"video\", \"ability\", \"device\", \"show\", \"run\", \"pick\", \"amazon\", \"get\", \"say\", \"app\", \"work\", \"alexa\", \"look\", \"music\", \"enjoy\", \"dot\", \"think\", \"use\", \"purchase\", \"way\", \"price\", \"age\", \"grandchild\", \"grandkid\", \"entry\", \"trouble\", \"slot\", \"cartoon\", \"image\", \"promise\", \"basis\", \"downfall\", \"hdx\", \"limitation\", \"grandma\", \"graphic\", \"resolve\", \"touchscreen\", \"concept\", \"purchasing\", \"thrill\", \"ram\", \"flight\", \"exit\", \"pin\", \"click\", \"finish\", \"operating\", \"level\", \"preloade\", \"foam\", \"program\", \"kid\", \"model\", \"adult\", \"learn\", \"protect\", \"warranty\", \"access\", \"user\", \"star\", \"give\", \"processor\", \"year\", \"put\", \"content\", \"version\", \"kindle\", \"lot\", \"come\", \"love\", \"fire\", \"case\", \"update\", \"app\", \"purchase\", \"tablet\", \"game\", \"camera\", \"recommend\", \"use\", \"play\", \"device\", \"feature\", \"go\", \"buy\", \"gaming\", \"dollar\", \"sense\", \"playing\", \"lamp\", \"browser\", \"playstore\", \"siri\", \"nice\", \"tab\", \"limit\", \"glitch\", \"sort\", \"locate\", \"happen\", \"breeze\", \"functionality\", \"prevent\", \"garage\", \"stock\", \"weekend\", \"top\", \"repeat\", \"manual\", \"camping\", \"child\", \"gear\", \"reboot\", \"ok\", \"flaw\", \"alarm\", \"bit\", \"expect\", \"compare\", \"return\", \"consider\", \"box\", \"performance\", \"android\", \"cost\", \"provide\", \"time\", \"app\", \"ipad\", \"function\", \"beat\", \"set\", \"need\", \"price\", \"store\", \"require\", \"work\", \"replacement\", \"amazon\", \"display\", \"look\", \"deal\", \"get\", \"color\", \"drop\", \"download\", \"seem\", \"quality\", \"allow\", \"year\", \"case\", \"lot\", \"buy\", \"use\", \"control\", \"screen\", \"usage\", \"e\", \"drawback\", \"recognition\", \"bumper\", \"associate\", \"m\", \"present\", \"coffee\", \"term\", \"accessory\", \"product\", \"occupy\", \"evening\", \"fraction\", \"interest\", \"expansion\", \"fight\", \"number\", \"bed\", \"consumer\", \"portable\", \"claim\", \"wire\", \"buying\", \"enjoye\", \"air\", \"slow\", \"meet\", \"connectivity\", \"resolution\", \"recommend\", \"navigate\", \"name\", \"mini\", \"account\", \"inch\", \"advertise\", \"use\", \"friend\", \"software\", \"entertainment\", \"setup\", \"work\", \"price\", \"set\", \"issue\", \"sale\", \"want\", \"love\", \"kid\", \"buy\", \"option\", \"time\", \"amazon\", \"keep\", \"fun\", \"return\", \"quality\", \"go\", \"screen\", \"ipad\", \"video\", \"day\"], \"Freq\": [406.0, 1135.0, 818.0, 1106.0, 515.0, 228.0, 393.0, 394.0, 322.0, 296.0, 371.0, 188.0, 271.0, 292.0, 305.0, 321.0, 175.0, 293.0, 316.0, 368.0, 137.0, 136.0, 314.0, 373.0, 156.0, 187.0, 465.0, 121.0, 309.0, 146.0, 70.69342233284951, 56.25144267700192, 53.469252094280264, 82.5683908260967, 51.071869295600884, 45.7435787324264, 45.481787273771964, 29.641717639521637, 26.93138403439041, 24.81343957623615, 21.818408480133705, 119.97025527899446, 17.820798230298287, 17.273058474024488, 15.85613860150119, 13.517382703589089, 13.515319211591628, 12.705836300172162, 12.44591427205013, 36.26989460547925, 11.633759413908695, 39.62901890723139, 11.09156184969378, 18.7406309312181, 10.30523496243473, 10.020754413537992, 9.497730800014882, 9.233539419661554, 9.21116726823118, 9.210926598117307, 74.97905199917156, 161.34241053408323, 251.17501859130311, 236.8314594531496, 282.9134000273608, 222.03883022083, 64.85128073823837, 78.84665462629715, 54.94258368560725, 48.99691326539208, 70.46036552990346, 34.82058934890053, 83.56911749789684, 143.91759599438265, 68.68443703160101, 68.63019473354208, 68.66529867296829, 88.95636545953019, 92.8592754092768, 226.67245531293162, 68.29690391274812, 182.83189245781185, 95.13500454997366, 98.95258169061296, 96.15301879333363, 82.82917553793676, 69.51396928887999, 79.30014491523067, 64.23311785589763, 61.59937327735635, 94.04832983842424, 43.067972360809314, 38.9707305800676, 33.278532891520165, 23.778012790086052, 22.668482543523776, 131.22084539351457, 12.878448852102764, 12.616583616096019, 11.807237695215743, 10.447253254657678, 10.158284459823099, 9.916041734695717, 8.822305604852717, 7.987436690112727, 7.722704140103708, 7.192158236799622, 7.190428841704208, 7.163492785418167, 20.742086884926447, 6.344871068043281, 6.344895781533053, 6.106384244172659, 41.57080498609008, 5.55334686842095, 24.790497006632346, 5.263641062402488, 5.260075180422647, 5.2580437315633475, 5.021045208965692, 31.565029119219073, 17.40267712860588, 282.21467935967655, 55.49182370799952, 15.366617281303391, 53.796188337992604, 314.0829814416105, 41.13836065340959, 28.02045785620311, 188.49110894116407, 48.67127837258837, 43.43599027321888, 43.92959664876568, 82.2137535316335, 86.35084004815242, 78.32359981141211, 135.1487217845247, 75.13535313582268, 18.971526804193246, 43.54189581472397, 40.86798848503449, 28.24955080801687, 45.470004941945525, 62.6453794737745, 68.46365989525461, 45.58461402535983, 42.973446008372804, 37.73573269187364, 42.57451097106918, 33.773340891858574, 31.44718694210406, 16.89628015387794, 16.285288343805703, 12.485760235217597, 11.925436029098199, 11.92366141779059, 10.56043148338749, 10.2920788793334, 9.193124845218069, 8.903922028971925, 7.805646955260197, 7.246471834473681, 6.977571650079647, 6.7020916775721515, 6.410186255762789, 6.148643354933562, 6.1457799558596, 11.388769058471235, 5.611690093421614, 5.588039230842716, 5.321785276238316, 17.175384353290724, 5.052646842922874, 5.051045770953081, 4.516551473617643, 10.613343333353098, 4.22368178096793, 4.223620502953165, 4.221904228315612, 4.240616573128528, 11.363958815852973, 12.217955701727572, 34.89929027683289, 53.503840688862645, 18.70021666823344, 84.70745683653203, 155.93963311406822, 22.195316579914703, 166.68625563931218, 13.824692701429994, 29.478854750183867, 46.41093695185665, 58.37964114206872, 14.697907353183293, 56.13253222044665, 132.04929409256988, 25.564324965725024, 91.67300819123527, 133.3170685671401, 154.81031361762803, 37.576282610327425, 19.999718447728643, 56.884465425376035, 33.27057358857026, 90.0149839442947, 49.28075600087059, 52.32580075866682, 47.40647232556428, 55.08159759959804, 44.714773268526024, 37.512569162143066, 39.61716404993704, 35.61753920215774, 26.86285414056987, 36.96998910820329, 37.42973305155893, 28.40467370165382, 33.50150052255028, 29.077716119701734, 25.020814984881177, 19.58059550163497, 19.579664302313738, 44.136129830815484, 41.19890220864134, 13.094794073204142, 11.759863605465132, 8.76104498501738, 8.496568704135182, 7.946205933818631, 31.875882121177778, 7.1283801299454925, 7.1295634906670795, 7.381553863818779, 6.890023529034127, 6.051220846986038, 6.050626631181547, 18.793892499630356, 22.023736139798935, 9.892359040383706, 10.053120000430086, 4.156729480189602, 4.154970343254044, 4.153934499256613, 4.149084886949993, 7.943016806638289, 3.8941280446734727, 3.8926072394453795, 3.8912122844225814, 3.8896361604229295, 42.704863566366555, 33.45036499727334, 11.663821920223993, 31.814050486247886, 13.593870810408887, 55.7530718580823, 9.52868329438391, 199.59183897675578, 20.99958468671604, 54.36311765223319, 50.531603081127635, 15.915992415993562, 285.0600196114356, 122.96904140423176, 47.74254863253176, 20.82956613024936, 84.20137339015595, 85.54058184289548, 15.974792582242053, 54.67783351946521, 67.78850039218851, 73.7277302301136, 47.550054059180894, 44.00870857240784, 33.137644293735526, 63.69865822165948, 44.90503862796881, 48.49754291467909, 54.43781643342757, 48.80188098036675, 45.42114801493639, 55.102021547693234, 39.9935836226637, 35.933576709595165, 35.587096803734305, 228.14172476021633, 31.62883222258564, 31.64279072959524, 25.857448851744966, 19.529429827103993, 9.290365029528292, 7.731998056403857, 6.146083699428756, 5.102842514726416, 5.079842421013622, 4.822665055042874, 103.402584973928, 99.94057140573135, 4.033917553474743, 4.024972238428348, 11.407747067860512, 3.7760839504305874, 3.7737721058281055, 3.5208276014647666, 3.5205765444148125, 3.519879237322679, 3.2428025640529534, 3.2424433117923765, 2.985575958221044, 17.413301086762573, 20.679664151558033, 2.730077605273913, 2.7293690370476127, 2.7280194674000127, 2.727469438278257, 116.58383878784551, 44.03766938754244, 10.333529373550435, 50.967345638769544, 32.41540168832198, 419.8056418172594, 503.98436320276244, 31.14735381982779, 22.60037026086022, 104.03594295561338, 64.52125025485678, 110.89016695824418, 14.0658269430487, 119.29630420008907, 37.53208656581149, 70.70679429324538, 26.713533519499624, 16.121088149185706, 32.31754022434681, 97.3799361117476, 52.80982263627382, 41.17932680168881, 27.78405314567194, 41.87234494735068, 48.23832150155661, 32.69148406968674, 28.136675910322698, 23.610853468690944, 83.27337949537657, 20.275655965575965, 8.557096289938219, 9.510190218502519, 7.99981339876112, 7.735445576118308, 7.4471137849948645, 7.178586499003763, 6.3357233480016495, 5.2720182959215895, 5.005453160369843, 4.7416017388617115, 4.741159233512296, 4.740139471675627, 4.474947928367645, 4.45207457474132, 4.186572234454132, 4.185759380816207, 4.18540641977129, 4.185568121136695, 4.185361212937951, 4.184905232474752, 3.920660424580353, 3.9205621866540583, 3.920058825952071, 3.9193576853542247, 3.919222499535297, 3.6537914469468356, 3.6530059782175686, 24.853395539334972, 135.83308341241167, 22.663041005285383, 12.101268555616217, 18.42741457516632, 102.0413023715993, 13.696164766458176, 36.218038741020365, 7.942282487164013, 12.999886511282517, 80.09590941322628, 54.37465047469048, 34.25335324155095, 18.104050096291598, 18.525019605794196, 50.60074577560488, 25.51663542359935, 11.715928985682279, 62.66107345809726, 109.44155666575162, 106.02699412998125, 44.30952638162014, 29.895807459364992, 63.6305374765034, 21.27935198916597, 76.57088919636483, 70.66531886524997, 23.194730743257285, 17.002159614515946, 55.450103652584545, 71.86149863030052, 28.58049030122228, 48.277702230807535, 56.9667720464197, 44.72331148207054, 35.51945406798223, 41.06905188358999, 32.195232172467, 27.521535878772635, 27.461382970841857, 40.38291995441242, 29.813186755264674, 26.280088425030403, 26.309022537091796, 46.8136759236834, 12.01755407318917, 11.731335686343014, 10.099596039703881, 9.548228896555253, 9.286737538009964, 9.28601375512722, 7.4140662590684, 6.862666553090693, 6.8623535058929415, 6.0497791888891825, 8.654281549807884, 5.7849801129671805, 5.520593622890914, 5.23391121573036, 5.2305006294163245, 4.97048199882263, 4.970123807702745, 4.970029079472693, 4.969259042571368, 4.705827605470747, 4.418865083973671, 4.156076392715241, 4.155505433109886, 4.155361120571916, 4.153537972175555, 7.15078172473079, 16.751658795394857, 3.627590187477906, 3.3407216541465847, 17.773594341843193, 191.95445537232365, 41.38643808160558, 22.50710479241816, 62.541898322235035, 12.951094119776961, 23.253496639444368, 36.59763002673752, 38.066033042580194, 23.72906491713653, 54.4656299305995, 10.028347829611416, 105.46581702119181, 30.29064815190581, 17.49447613186518, 29.89969290545077, 118.22907246141783, 58.53274504429893, 45.80186593695051, 177.35269076118303, 74.36344266596693, 34.77838324935262, 20.151278836672972, 55.327935088252175, 59.23786646572277, 52.533002342613436, 44.81919080147312, 27.751253687605004, 28.245382777873058, 48.49104053425012, 33.73729927927635, 28.96300536540663, 23.325118582006958, 23.93911884676336, 23.70986764926497, 10.585440030404001, 12.975178909407829, 8.947682148822064, 8.923456801798629, 8.360951606547927, 8.117386132155962, 6.994857063275108, 6.431158293823374, 5.625585600745153, 11.792264831336743, 32.29601182428317, 5.332197143020198, 4.793963311251964, 4.5243978240714355, 10.800227025345166, 4.233714706077687, 13.993435395547573, 3.6961882435983493, 3.695220471091656, 6.970964176250288, 3.1355376186618, 3.1354473693274123, 3.1348338165402714, 3.132651780261818, 3.1260753505038363, 107.51090864417036, 2.8665319983995365, 2.865502513897392, 2.8636691682290722, 2.597392609361007, 14.468657712793181, 32.08263814105285, 38.77804291879567, 21.41444054116565, 27.759599423802612, 10.375535060721445, 9.06365860769462, 11.987520158076101, 23.71928868460076, 20.523694592863237, 14.947265985303638, 125.26673819621614, 124.36743532683353, 40.95604401752373, 23.58486069580515, 23.806956816681502, 80.11445256580609, 84.59609895913307, 101.79971958781654, 40.79068440705454, 15.166628229109843, 97.06410800035556, 13.264684505453697, 48.3409622711893, 19.464953610840826, 30.90057875628292, 18.587518904285474, 41.86389096618401, 18.660660103980447, 19.507049039506473, 21.634959974065744, 19.394497774739804, 22.750631520400088, 18.48195358009053, 25.30701490355873, 20.45116551908846, 22.893268274740862, 26.964115393472017, 23.76892082447961, 20.109392359912924, 21.203181474750547, 11.658630484979502, 10.335202918351442, 9.543310659729714, 7.960485140424893, 7.169935363235955, 6.659592290135243, 6.148411684456039, 5.334833231797454, 5.333532395630999, 4.822136044335927, 4.820933826473777, 343.9883081427029, 4.565588478777125, 4.286876377025101, 4.030585913145263, 4.029853361342321, 4.029046484307103, 3.7750783224318516, 7.76683927922446, 15.608570629072567, 2.985128931165893, 2.9843972469726667, 2.9842387635980074, 2.981622631103176, 9.893515537240887, 2.7296025422419836, 2.7251632725320944, 2.7056278829794347, 8.901237825150371, 5.661581413046104, 19.135127643421743, 125.0324715463668, 16.23461003611339, 6.395813486802754, 9.799984896306949, 25.71036918181727, 13.518075431403073, 11.543735822416316, 250.6611922525903, 27.43546418542204, 11.48081676586364, 10.111850100499552, 18.26267203867077, 74.8943703677993, 59.53406452353693, 42.09962081677061, 18.678439868740337, 15.704754998922331, 28.733924258070022, 56.18504475000767, 32.53539671405712, 37.438055616068915, 13.54204112536523, 22.81732111575107, 21.772173002830343, 13.805616329617864, 13.144532430957133, 11.405345131950181, 13.17699028881253, 13.666495690177934, 13.813070832291618, 12.222546722779809, 12.34748599222012, 12.125524820351552], \"Total\": [406.0, 1135.0, 818.0, 1106.0, 515.0, 228.0, 393.0, 394.0, 322.0, 296.0, 371.0, 188.0, 271.0, 292.0, 305.0, 321.0, 175.0, 293.0, 316.0, 368.0, 137.0, 136.0, 314.0, 373.0, 156.0, 187.0, 465.0, 121.0, 309.0, 146.0, 71.53257196679665, 57.093137879955094, 54.31483359465873, 83.8836055635859, 51.91122568018391, 46.58264340083946, 46.320879025720956, 30.4807951968206, 27.770572177691985, 25.652506729738647, 22.657655937404037, 125.25874790164049, 18.660629949026756, 18.112645388755578, 16.783024136234552, 14.356385713958703, 14.354569777210733, 13.54526770438246, 13.285052522308638, 38.80667545593025, 12.475902966534498, 42.554230330674955, 11.93058704975383, 20.259647605455655, 11.144365838610257, 10.85983854318426, 10.336713576945911, 10.072826233044793, 10.050417657462077, 10.050156918336427, 82.3503688139166, 187.26501872359586, 296.6336259302937, 293.5363477637786, 393.0885294342952, 305.59527144942035, 85.80202269204517, 107.10148366319925, 72.08052662225583, 72.64361344393528, 116.34344302908357, 48.682004004334644, 154.50301213861613, 340.37759752082474, 126.45390118606167, 130.2601063340759, 132.64509957891684, 209.60376907817925, 230.99626295746563, 1135.3202887158814, 151.24685212122895, 1106.7374143331283, 322.8984946112054, 373.51089345956666, 553.2104343289692, 465.6285642905634, 240.98439724621164, 818.3184856992756, 247.98043687301882, 406.84554156022335, 95.10853294460587, 43.905773712286916, 39.80830060185533, 34.11666162390181, 24.616055699351833, 23.50874413425808, 136.9767663892689, 13.718502055817309, 13.454270643263431, 12.65749946113104, 11.284851338713, 10.995919410030593, 10.753651414143595, 9.667528075654973, 8.82513870147076, 8.560522938624961, 8.02972152261682, 8.028308369752654, 8.001661790779178, 23.471013488789556, 7.182930301938172, 7.183030956275773, 6.94402340829794, 47.443323003187814, 6.390881174356051, 28.67186678431898, 6.101325038426191, 6.098277415293312, 6.096557657793005, 5.858758495654766, 37.38880526755377, 20.78609528292897, 394.98271739098044, 71.39588509994724, 18.663846795176443, 71.59259792102286, 515.4043412946157, 56.075216936215455, 37.021237330116556, 321.23353403504257, 71.8817511875656, 64.31218282616534, 66.57756107586079, 151.24685212122895, 162.12624148849585, 143.86984060647814, 379.24289319409877, 247.98043687301882, 27.153388233890944, 127.64005330153495, 130.2601063340759, 66.11863324746597, 222.98279337290353, 553.2104343289692, 1135.3202887158814, 314.9547065337931, 309.9661917953464, 209.60376907817925, 818.3184856992756, 156.65463294451612, 32.28381491316795, 17.73276929643697, 17.122289749876163, 13.322242436383101, 12.761995716613704, 12.760868550242296, 11.396897921291796, 11.128847917227246, 10.030795982859608, 9.740367818347494, 8.64222050680783, 8.082959897958041, 7.81410828967403, 7.539621934769371, 7.247631829031742, 6.985290615248773, 6.982964224014221, 13.03208558375423, 6.448322805884159, 6.424735258945298, 6.158198327906135, 19.903527923273405, 5.889155498973445, 5.887737582268872, 5.3529755420729375, 12.700711715714167, 5.060206406025924, 5.060145760879773, 5.058615859638083, 5.082853586559398, 13.841608236811727, 14.948319280323323, 46.728264067498905, 77.05696485570556, 25.31366226992043, 134.99233580661198, 271.10354269432224, 31.250193893260416, 373.51089345956666, 19.399234023591113, 49.79208812156774, 103.52602474630109, 143.86984060647814, 22.8695669367378, 156.65463294451612, 553.2104343289692, 54.51014606240243, 406.4882863428975, 818.3184856992756, 1106.7374143331283, 108.11295860823749, 39.39483576080919, 292.21627692390865, 117.10603734083122, 1135.3202887158814, 314.9547065337931, 371.9312537107813, 321.23353403504257, 465.6285642905634, 322.8984946112054, 231.80090260167066, 316.5540999967367, 230.99626295746563, 93.31174430975359, 322.4570037468362, 394.98271739098044, 127.64005330153495, 515.4043412946157, 309.9661917953464, 25.860524222431458, 20.418775429213422, 20.4182230418426, 46.73683696942939, 43.763365367113416, 13.939341599702757, 12.598038748313765, 9.599449083555887, 9.33548126985914, 8.78456707842527, 35.31126597097485, 7.96703553950074, 7.968596200508552, 8.257259605564322, 7.728285743813701, 6.889559872973069, 6.889009693478244, 21.783613688448572, 25.839030738432715, 11.780342222559574, 12.012278683427986, 4.994932152135289, 4.993344907320157, 4.992383121907945, 4.988383011989501, 9.610988783414363, 4.732204503747334, 4.730889889622805, 4.729901559048349, 4.728162191731509, 52.25099950975362, 42.10973349118983, 14.667103817820827, 41.97949653741954, 17.67910803454402, 82.52070451227695, 12.306033030565747, 371.9312537107813, 30.336095276252436, 108.99773911366145, 103.52602474630109, 23.981892636265126, 1106.7374143331283, 368.51137087234724, 111.62435103149271, 35.51030470547297, 280.0563885264059, 309.9661917953464, 24.824038899786967, 188.0408460204437, 271.10354269432224, 321.23353403504257, 162.12624148849585, 156.65463294451612, 101.01866084010032, 394.98271739098044, 209.60376907817925, 316.5540999967367, 465.6285642905634, 340.37759752082474, 379.24289319409877, 818.3184856992756, 406.4882863428975, 322.8984946112054, 373.51089345956666, 228.9895050368936, 32.47014390043368, 32.4916244034202, 26.698852966072216, 20.37128279136079, 10.132455984843538, 8.573294672847597, 6.990427080907626, 5.9442548203760275, 5.921207285621241, 5.664181661346012, 121.46254267698112, 118.15636272204928, 4.875133278933489, 4.867353065432294, 13.909476679274531, 4.617476109344386, 4.615499785249391, 4.362087526754332, 4.361900165589222, 4.361307216868448, 4.0840182895116985, 4.0836938633756965, 3.8269508482252323, 22.616679221264807, 26.90863127217845, 3.571351621178658, 3.570743268883312, 3.569518381941077, 3.5691219005448804, 156.29711724198438, 59.68744364215566, 14.200915030914542, 76.36530518104459, 48.41219561683, 818.3184856992756, 1135.3202887158814, 63.48650005014548, 43.28123705463183, 292.21627692390865, 161.22924957636943, 406.4882863428975, 26.866893179969928, 553.2104343289692, 113.68746259567493, 309.9661917953464, 72.94114749527286, 36.7380249667712, 132.64509957891684, 1106.7374143331283, 371.9312537107813, 231.80090260167066, 122.0037549449588, 322.4570037468362, 515.4043412946157, 465.6285642905634, 368.51137087234724, 95.94281963872602, 84.11301554258296, 21.967430560681244, 9.394528847167875, 10.479372248254286, 8.837471698102927, 8.572977668684452, 8.28451933323461, 8.016331396803311, 7.19599511145818, 6.109581776890236, 5.84333927527922, 5.578988911955962, 5.578605396265823, 5.577736372835175, 5.312390785866153, 5.289519339225541, 5.023960809642294, 5.023197457734675, 5.022898681683315, 5.0231128800871625, 5.022898091260105, 5.022481791524636, 4.7580349697523925, 4.757969735197363, 4.757504459693333, 4.756938868927626, 4.756833043463025, 4.491235257460652, 4.490578135726281, 30.686170752450845, 175.05532185452293, 28.4180571373362, 15.090022975331667, 23.516208296897908, 146.66190910050906, 18.0801564965992, 54.059390752211755, 10.495867134971625, 18.657123434324628, 157.65892775569688, 101.01866084010032, 59.03086307252904, 28.788548765838346, 31.41871167764442, 112.43315920221953, 49.347021250352945, 18.027138279757885, 171.32256939757264, 393.0885294342952, 379.24289319409877, 114.76065206667874, 71.92564590828076, 230.99626295746563, 44.060471839892685, 340.37759752082474, 305.59527144942035, 51.3139293361249, 33.29809983916928, 322.8984946112054, 553.2104343289692, 95.94281963872602, 316.5540999967367, 465.6285642905634, 296.6336259302937, 174.40805407886606, 293.5363477637786, 161.22924957636943, 107.10148366319925, 106.33743797689408, 1106.7374143331283, 406.4882863428975, 96.18555045709361, 368.51137087234724, 48.8063478850774, 12.856078903001304, 12.569579601562447, 10.938005929081879, 10.386715412877109, 10.124952111998972, 10.124290581564567, 8.252518608564223, 7.701112451079478, 7.700815180821806, 6.887982918381875, 9.885880774997055, 6.62328589318683, 6.359050646016134, 6.072205091007249, 6.0692195674068365, 5.808716872607099, 5.808399612708347, 5.808338663734299, 5.807617515244549, 5.544178823962106, 5.2571983644829565, 4.994251602068022, 4.993765001750029, 4.993669272501985, 4.991990854721579, 8.77892412388221, 20.602909392156448, 4.465824113373956, 4.178941326171954, 23.272890875535573, 322.4570037468362, 62.02331957763967, 32.12472570330644, 102.94792773899286, 17.667217479642204, 34.116319645286595, 60.42847149446264, 64.46311790442017, 37.79547290346658, 122.0037549449588, 14.210828053675893, 292.21627692390865, 62.422461845926485, 31.2433947534332, 67.93178641318437, 515.4043412946157, 188.0408460204437, 137.90111822628842, 1135.3202887158814, 309.9661917953464, 103.50797631432603, 46.29953187003628, 316.5540999967367, 406.4882863428975, 371.9312537107813, 271.10354269432224, 114.76065206667874, 188.0629324128865, 1106.7374143331283, 373.51089345956666, 340.37759752082474, 171.32256939757264, 222.98279337290353, 818.3184856992756, 11.421694201793278, 14.152059644595292, 9.784019758964027, 9.759867966264517, 9.1975102151646, 8.95372269172466, 7.831094461613607, 7.267598302252064, 6.461889119808202, 13.550071026825039, 37.30765720141137, 6.1686770105148545, 5.630375739314976, 5.360950248476873, 12.806307853208331, 5.070016374152928, 16.936382668809415, 4.532464734327175, 4.531592588531136, 8.644580758127168, 3.971709141929778, 3.9716105638083663, 3.971040761547217, 3.9692535350682743, 3.9634191911964995, 137.4997848323905, 3.702710410264464, 3.701780869830561, 3.700238125418241, 3.4335879175738317, 20.217495321301598, 47.73409527776819, 60.3815711598971, 32.53555444242903, 44.18728586780962, 14.94255210946208, 12.929713222384404, 17.94549083859402, 39.01192907874174, 33.28729482905517, 23.8063526612549, 314.9547065337931, 316.5540999967367, 83.83547449879589, 45.481886064255725, 46.529697354393186, 240.98439724621164, 280.0563885264059, 368.51137087234724, 108.99773911366145, 25.46116852381598, 465.6285642905634, 22.710805740558044, 322.8984946112054, 54.938736257116204, 174.40805407886606, 54.60465692410742, 553.2104343289692, 61.75474720670964, 72.94114749527286, 117.10603734083122, 75.8492137317362, 157.65892775569688, 62.19348149300872, 292.21627692390865, 103.50797631432603, 188.0408460204437, 818.3184856992756, 1106.7374143331283, 126.45390118606167, 379.24289319409877, 12.500310754670124, 11.176593082787297, 10.384861133754484, 8.803335738163018, 8.011677556104075, 7.501793380051351, 6.989697490265245, 6.176169631794419, 6.175000287846306, 5.663554638434978, 5.662454385786817, 406.84554156022335, 5.40706143462396, 5.1283523299964235, 4.872188105108614, 4.871491741750609, 4.8708675296044355, 4.616521346250846, 9.640851961928542, 19.69683078016154, 3.826452668112822, 3.82581718378103, 3.8256726827699747, 3.823412883187541, 12.858871715156141, 3.5708601263222075, 3.569980885639743, 3.5708867173762777, 11.782422780765529, 7.531845057198549, 26.649909612324613, 188.0629324128865, 22.624868628401035, 8.878521280689279, 14.443687627355825, 43.978582605559275, 21.689721334155088, 18.14227131553011, 1106.7374143331283, 62.63280330848906, 19.821324859045852, 16.923992062915556, 42.97809100736616, 465.6285642905634, 368.51137087234724, 240.98439724621164, 76.2906420240888, 58.932827191243284, 231.80090260167066, 1135.3202887158814, 322.4570037468362, 818.3184856992756, 54.97558129726477, 314.9547065337931, 322.8984946112054, 113.68746259567493, 116.34344302908357, 44.18728586780962, 157.65892775569688, 222.98279337290353, 379.24289319409877, 83.83547449879589, 230.99626295746563, 127.64005330153495], \"Category\": [\"Default\", \"Default\", \"Default\", \"Default\", \"Default\", \"Default\", \"Default\", \"Default\", \"Default\", \"Default\", \"Default\", \"Default\", \"Default\", \"Default\", \"Default\", \"Default\", \"Default\", \"Default\", \"Default\", \"Default\", \"Default\", \"Default\", \"Default\", \"Default\", \"Default\", \"Default\", \"Default\", \"Default\", \"Default\", \"Default\", \"Topic1\", \"Topic1\", \"Topic1\", \"Topic1\", \"Topic1\", \"Topic1\", \"Topic1\", \"Topic1\", \"Topic1\", \"Topic1\", \"Topic1\", \"Topic1\", \"Topic1\", \"Topic1\", \"Topic1\", \"Topic1\", \"Topic1\", \"Topic1\", \"Topic1\", \"Topic1\", \"Topic1\", \"Topic1\", \"Topic1\", \"Topic1\", \"Topic1\", \"Topic1\", \"Topic1\", \"Topic1\", \"Topic1\", \"Topic1\", \"Topic1\", \"Topic1\", \"Topic1\", \"Topic1\", \"Topic1\", \"Topic1\", \"Topic1\", \"Topic1\", \"Topic1\", \"Topic1\", \"Topic1\", \"Topic1\", \"Topic1\", \"Topic1\", \"Topic1\", \"Topic1\", \"Topic1\", \"Topic1\", \"Topic1\", \"Topic1\", \"Topic1\", \"Topic1\", \"Topic1\", \"Topic1\", \"Topic1\", \"Topic1\", \"Topic1\", \"Topic1\", \"Topic1\", \"Topic1\", \"Topic2\", \"Topic2\", \"Topic2\", \"Topic2\", \"Topic2\", \"Topic2\", \"Topic2\", \"Topic2\", \"Topic2\", \"Topic2\", \"Topic2\", \"Topic2\", \"Topic2\", \"Topic2\", \"Topic2\", \"Topic2\", \"Topic2\", \"Topic2\", \"Topic2\", \"Topic2\", \"Topic2\", \"Topic2\", \"Topic2\", \"Topic2\", \"Topic2\", \"Topic2\", \"Topic2\", \"Topic2\", \"Topic2\", \"Topic2\", \"Topic2\", \"Topic2\", \"Topic2\", \"Topic2\", \"Topic2\", \"Topic2\", \"Topic2\", \"Topic2\", \"Topic2\", \"Topic2\", \"Topic2\", \"Topic2\", \"Topic2\", \"Topic2\", \"Topic2\", \"Topic2\", \"Topic2\", \"Topic2\", \"Topic2\", \"Topic2\", \"Topic2\", \"Topic2\", \"Topic2\", \"Topic2\", \"Topic2\", \"Topic2\", \"Topic2\", \"Topic2\", \"Topic2\", \"Topic2\", \"Topic3\", \"Topic3\", \"Topic3\", \"Topic3\", \"Topic3\", \"Topic3\", \"Topic3\", \"Topic3\", \"Topic3\", \"Topic3\", \"Topic3\", \"Topic3\", \"Topic3\", \"Topic3\", \"Topic3\", \"Topic3\", \"Topic3\", \"Topic3\", \"Topic3\", \"Topic3\", \"Topic3\", \"Topic3\", \"Topic3\", \"Topic3\", \"Topic3\", \"Topic3\", \"Topic3\", \"Topic3\", \"Topic3\", \"Topic3\", \"Topic3\", \"Topic3\", \"Topic3\", \"Topic3\", \"Topic3\", \"Topic3\", \"Topic3\", \"Topic3\", \"Topic3\", \"Topic3\", \"Topic3\", \"Topic3\", \"Topic3\", \"Topic3\", \"Topic3\", \"Topic3\", \"Topic3\", \"Topic3\", \"Topic3\", \"Topic3\", \"Topic3\", \"Topic3\", \"Topic3\", \"Topic3\", \"Topic3\", \"Topic3\", \"Topic3\", \"Topic3\", \"Topic3\", \"Topic3\", \"Topic3\", \"Topic3\", \"Topic3\", \"Topic3\", \"Topic3\", \"Topic3\", \"Topic3\", \"Topic3\", \"Topic3\", \"Topic4\", \"Topic4\", \"Topic4\", \"Topic4\", \"Topic4\", \"Topic4\", \"Topic4\", \"Topic4\", \"Topic4\", \"Topic4\", \"Topic4\", \"Topic4\", \"Topic4\", \"Topic4\", \"Topic4\", \"Topic4\", \"Topic4\", \"Topic4\", \"Topic4\", \"Topic4\", \"Topic4\", \"Topic4\", \"Topic4\", \"Topic4\", \"Topic4\", \"Topic4\", \"Topic4\", \"Topic4\", \"Topic4\", \"Topic4\", \"Topic4\", \"Topic4\", \"Topic4\", \"Topic4\", \"Topic4\", \"Topic4\", \"Topic4\", \"Topic4\", \"Topic4\", \"Topic4\", \"Topic4\", \"Topic4\", \"Topic4\", \"Topic4\", \"Topic4\", \"Topic4\", \"Topic4\", \"Topic4\", \"Topic4\", \"Topic4\", \"Topic4\", \"Topic4\", \"Topic4\", \"Topic4\", \"Topic4\", \"Topic4\", \"Topic4\", \"Topic4\", \"Topic4\", \"Topic4\", \"Topic4\", \"Topic4\", \"Topic4\", \"Topic4\", \"Topic4\", \"Topic5\", \"Topic5\", \"Topic5\", \"Topic5\", \"Topic5\", \"Topic5\", \"Topic5\", \"Topic5\", \"Topic5\", \"Topic5\", \"Topic5\", \"Topic5\", \"Topic5\", \"Topic5\", \"Topic5\", \"Topic5\", \"Topic5\", \"Topic5\", \"Topic5\", \"Topic5\", \"Topic5\", \"Topic5\", \"Topic5\", \"Topic5\", \"Topic5\", \"Topic5\", \"Topic5\", \"Topic5\", \"Topic5\", \"Topic5\", \"Topic5\", \"Topic5\", \"Topic5\", \"Topic5\", \"Topic5\", \"Topic5\", \"Topic5\", \"Topic5\", \"Topic5\", \"Topic5\", \"Topic5\", \"Topic5\", \"Topic5\", \"Topic5\", \"Topic5\", \"Topic5\", \"Topic5\", \"Topic5\", \"Topic5\", \"Topic5\", \"Topic5\", \"Topic5\", \"Topic5\", \"Topic5\", \"Topic5\", \"Topic5\", \"Topic5\", \"Topic5\", \"Topic6\", \"Topic6\", \"Topic6\", \"Topic6\", \"Topic6\", \"Topic6\", \"Topic6\", \"Topic6\", \"Topic6\", \"Topic6\", \"Topic6\", \"Topic6\", \"Topic6\", \"Topic6\", \"Topic6\", \"Topic6\", \"Topic6\", \"Topic6\", \"Topic6\", \"Topic6\", \"Topic6\", \"Topic6\", \"Topic6\", \"Topic6\", \"Topic6\", \"Topic6\", \"Topic6\", \"Topic6\", \"Topic6\", \"Topic6\", \"Topic6\", \"Topic6\", \"Topic6\", \"Topic6\", \"Topic6\", \"Topic6\", \"Topic6\", \"Topic6\", \"Topic6\", \"Topic6\", \"Topic6\", \"Topic6\", \"Topic6\", \"Topic6\", \"Topic6\", \"Topic6\", \"Topic6\", \"Topic6\", \"Topic6\", \"Topic6\", \"Topic6\", \"Topic6\", \"Topic6\", \"Topic6\", \"Topic6\", \"Topic6\", \"Topic6\", \"Topic6\", \"Topic6\", \"Topic6\", \"Topic6\", \"Topic6\", \"Topic6\", \"Topic6\", \"Topic6\", \"Topic6\", \"Topic6\", \"Topic6\", \"Topic6\", \"Topic6\", \"Topic6\", \"Topic6\", \"Topic6\", \"Topic7\", \"Topic7\", \"Topic7\", \"Topic7\", \"Topic7\", \"Topic7\", \"Topic7\", \"Topic7\", \"Topic7\", \"Topic7\", \"Topic7\", \"Topic7\", \"Topic7\", \"Topic7\", \"Topic7\", \"Topic7\", \"Topic7\", \"Topic7\", \"Topic7\", \"Topic7\", \"Topic7\", \"Topic7\", \"Topic7\", \"Topic7\", \"Topic7\", \"Topic7\", \"Topic7\", \"Topic7\", \"Topic7\", \"Topic7\", \"Topic7\", \"Topic7\", \"Topic7\", \"Topic7\", \"Topic7\", \"Topic7\", \"Topic7\", \"Topic7\", \"Topic7\", \"Topic7\", \"Topic7\", \"Topic7\", \"Topic7\", \"Topic7\", \"Topic7\", \"Topic7\", \"Topic7\", \"Topic7\", \"Topic7\", \"Topic7\", \"Topic7\", \"Topic7\", \"Topic7\", \"Topic7\", \"Topic7\", \"Topic7\", \"Topic7\", \"Topic7\", \"Topic7\", \"Topic7\", \"Topic7\", \"Topic7\", \"Topic7\", \"Topic7\", \"Topic7\", \"Topic8\", \"Topic8\", \"Topic8\", \"Topic8\", \"Topic8\", \"Topic8\", \"Topic8\", \"Topic8\", \"Topic8\", \"Topic8\", \"Topic8\", \"Topic8\", \"Topic8\", \"Topic8\", \"Topic8\", \"Topic8\", \"Topic8\", \"Topic8\", \"Topic8\", \"Topic8\", \"Topic8\", \"Topic8\", \"Topic8\", \"Topic8\", \"Topic8\", \"Topic8\", \"Topic8\", \"Topic8\", \"Topic8\", \"Topic8\", \"Topic8\", \"Topic8\", \"Topic8\", \"Topic8\", \"Topic8\", \"Topic8\", \"Topic8\", \"Topic8\", \"Topic8\", \"Topic8\", \"Topic8\", \"Topic8\", \"Topic8\", \"Topic8\", \"Topic8\", \"Topic8\", \"Topic8\", \"Topic8\", \"Topic8\", \"Topic8\", \"Topic8\", \"Topic8\", \"Topic8\", \"Topic8\", \"Topic8\", \"Topic8\", \"Topic8\", \"Topic8\", \"Topic8\", \"Topic8\", \"Topic8\", \"Topic8\", \"Topic8\", \"Topic8\", \"Topic8\", \"Topic8\", \"Topic8\", \"Topic8\", \"Topic8\", \"Topic8\", \"Topic8\", \"Topic9\", \"Topic9\", \"Topic9\", \"Topic9\", \"Topic9\", \"Topic9\", \"Topic9\", \"Topic9\", \"Topic9\", \"Topic9\", \"Topic9\", \"Topic9\", \"Topic9\", \"Topic9\", \"Topic9\", \"Topic9\", \"Topic9\", \"Topic9\", \"Topic9\", \"Topic9\", \"Topic9\", \"Topic9\", \"Topic9\", \"Topic9\", \"Topic9\", \"Topic9\", \"Topic9\", \"Topic9\", \"Topic9\", \"Topic9\", \"Topic9\", \"Topic9\", \"Topic9\", \"Topic9\", \"Topic9\", \"Topic9\", \"Topic9\", \"Topic9\", \"Topic9\", \"Topic9\", \"Topic9\", \"Topic9\", \"Topic9\", \"Topic9\", \"Topic9\", \"Topic9\", \"Topic9\", \"Topic9\", \"Topic9\", \"Topic9\", \"Topic9\", \"Topic9\", \"Topic9\", \"Topic9\", \"Topic9\", \"Topic9\", \"Topic9\", \"Topic9\", \"Topic9\", \"Topic9\", \"Topic9\", \"Topic9\", \"Topic9\", \"Topic9\"], \"logprob\": [30.0, 29.0, 28.0, 27.0, 26.0, 25.0, 24.0, 23.0, 22.0, 21.0, 20.0, 19.0, 18.0, 17.0, 16.0, 15.0, 14.0, 13.0, 12.0, 11.0, 10.0, 9.0, 8.0, 7.0, 6.0, 5.0, 4.0, 3.0, 2.0, 1.0, -4.6344, -4.863, -4.9137, -4.4792, -4.9596, -5.0697, -5.0755, -5.5036, -5.5995, -5.6814, -5.81, -4.1056, -6.0124, -6.0437, -6.1292, -6.2888, -6.289, -6.3507, -6.3714, -5.3018, -6.4389, -5.2132, -6.4866, -5.9621, -6.5601, -6.5881, -6.6417, -6.67, -6.6724, -6.6724, -4.5756, -3.8093, -3.3666, -3.4255, -3.2477, -3.4899, -4.7207, -4.5253, -4.8865, -5.001, -4.6377, -5.3426, -4.4671, -3.9236, -4.6633, -4.6641, -4.6636, -4.4047, -4.3617, -3.4693, -4.6689, -3.6842, -4.3375, -4.2982, -4.3269, -4.476, -4.6513, -4.5196, -4.7303, -4.7721, -3.9152, -4.6963, -4.7962, -4.9541, -5.2903, -5.3381, -3.5822, -5.9035, -5.924, -5.9903, -6.1127, -6.1407, -6.1649, -6.2817, -6.3812, -6.4149, -6.486, -6.4863, -6.49, -5.4269, -6.6114, -6.6114, -6.6497, -4.7316, -6.7446, -5.2486, -6.7982, -6.7989, -6.7993, -6.8454, -5.007, -5.6024, -2.8164, -4.4428, -5.7268, -4.4738, -2.7094, -4.7421, -5.1261, -3.22, -4.5739, -4.6877, -4.6764, -4.0497, -4.0006, -4.0982, -3.5527, -4.1397, -5.5161, -4.6853, -4.7487, -5.118, -4.642, -4.3215, -4.2327, -4.6395, -4.6985, -4.8284, -4.7078, -4.9394, -4.8971, -5.5184, -5.5552, -5.8209, -5.8668, -5.8669, -5.9883, -6.0141, -6.127, -6.159, -6.2906, -6.3649, -6.4028, -6.443, -6.4876, -6.5292, -6.5297, -5.9128, -6.6206, -6.6248, -6.6736, -5.502, -6.7255, -6.7259, -6.8377, -5.9833, -6.9047, -6.9048, -6.9052, -6.9007, -5.915, -5.8425, -4.793, -4.3657, -5.4169, -3.9063, -3.296, -5.2456, -3.2293, -5.719, -4.9618, -4.5079, -4.2785, -5.6577, -4.3177, -3.4623, -5.1043, -3.8272, -3.4527, -3.3033, -4.7191, -5.3497, -4.3044, -4.8408, -3.8455, -4.4479, -4.388, -4.4867, -4.3366, -4.5451, -4.7208, -4.6662, -4.7726, -5.0547, -4.7353, -4.723, -4.9989, -4.8339, -4.9755, -5.0643, -5.3094, -5.3095, -4.4967, -4.5656, -5.7118, -5.8193, -6.1137, -6.1443, -6.2113, -4.8221, -6.3199, -6.3197, -6.285, -6.3539, -6.4837, -6.4838, -5.3504, -5.1918, -5.9922, -5.9761, -6.8592, -6.8597, -6.8599, -6.8611, -6.2117, -6.9245, -6.9249, -6.9252, -6.9257, -4.5297, -4.7739, -5.8275, -4.8241, -5.6743, -4.263, -6.0297, -2.9877, -5.2395, -4.2883, -4.3614, -5.5166, -2.6313, -3.472, -4.4181, -5.2476, -3.8508, -3.835, -5.513, -4.2825, -4.0676, -3.9836, -4.4222, -4.4996, -4.7833, -4.1298, -4.4794, -4.4025, -4.2869, -4.3962, -4.468, -4.2748, -4.5952, -4.7023, -4.712, -2.8111, -4.787, -4.7865, -4.9884, -5.2691, -6.012, -6.1957, -6.4252, -6.6112, -6.6157, -6.6677, -3.6024, -3.6364, -6.8463, -6.8485, -5.8067, -6.9123, -6.913, -6.9823, -6.9824, -6.9826, -7.0646, -7.0647, -7.1472, -5.3838, -5.2119, -7.2367, -7.237, -7.2374, -7.2377, -3.4824, -4.456, -5.9056, -4.3098, -4.7624, -2.2012, -2.0185, -4.8023, -5.1231, -3.5963, -4.074, -3.5325, -5.5973, -3.4594, -4.6158, -3.9825, -4.9559, -5.4609, -4.7654, -3.6624, -4.2743, -4.5231, -4.9166, -4.5064, -4.3649, -4.7539, -4.904, -5.0793, -3.8031, -5.2158, -6.0784, -5.9728, -6.1458, -6.1794, -6.2174, -6.2541, -6.379, -6.5628, -6.6147, -6.6688, -6.6689, -6.6691, -6.7267, -6.7318, -6.7933, -6.7935, -6.7936, -6.7936, -6.7936, -6.7937, -6.8589, -6.859, -6.8591, -6.8593, -6.8593, -6.9294, -6.9297, -5.0122, -3.3138, -5.1045, -5.7319, -5.3114, -3.5998, -5.6081, -4.6356, -6.153, -5.6603, -3.842, -4.2293, -4.6914, -5.3291, -5.3061, -4.3012, -4.9859, -5.7643, -4.0875, -3.5298, -3.5615, -4.434, -4.8275, -4.0721, -5.1675, -3.887, -3.9672, -5.0813, -5.3919, -4.2097, -3.9505, -4.8725, -4.3482, -4.1827, -4.4247, -4.6551, -4.5099, -4.7534, -4.9102, -4.9124, -4.5268, -4.8303, -4.9564, -4.9553, -4.218, -5.5778, -5.6019, -5.7517, -5.8078, -5.8356, -5.8357, -6.0608, -6.1381, -6.1381, -6.2642, -5.9061, -6.3089, -6.3557, -6.409, -6.4097, -6.4607, -6.4607, -6.4608, -6.4609, -6.5154, -6.5783, -6.6396, -6.6397, -6.6398, -6.6402, -6.097, -5.2457, -6.7756, -6.858, -5.1865, -2.8069, -4.3412, -4.9503, -3.9283, -5.503, -4.9177, -4.4642, -4.4249, -4.8975, -4.0666, -5.7588, -3.4058, -4.6533, -5.2023, -4.6663, -3.2916, -3.9946, -4.2399, -2.886, -3.7552, -4.5152, -5.0609, -4.0509, -3.9826, -4.1027, -4.2615, -4.7409, -4.7233, -4.1828, -4.5456, -4.6982, -4.9147, -4.8887, -4.8983, -5.6681, -5.4645, -5.8361, -5.8388, -5.904, -5.9335, -6.0824, -6.1664, -6.3002, -5.5601, -4.5526, -6.3538, -6.4602, -6.518, -5.648, -6.5845, -5.3889, -6.7202, -6.7205, -6.0858, -6.8847, -6.8848, -6.885, -6.8857, -6.8878, -3.3499, -6.9744, -6.9748, -6.9754, -7.073, -5.3555, -4.5592, -4.3697, -4.9635, -4.704, -5.6881, -5.8233, -5.5437, -4.8612, -5.006, -5.323, -3.1971, -3.2043, -4.315, -4.8669, -4.8576, -3.6441, -3.5896, -3.4045, -4.3191, -5.3084, -3.4522, -5.4424, -4.1493, -5.0589, -4.5968, -5.105, -4.2931, -5.1011, -5.0568, -4.9532, -5.0625, -4.9029, -5.1107, -4.7965, -5.0095, -4.8967, -4.733, -4.8592, -5.0263, -4.9734, -5.3617, -5.4822, -5.5619, -5.7432, -5.8478, -5.9217, -6.0015, -6.1435, -6.1437, -6.2445, -6.2448, -1.9771, -6.2992, -6.3622, -6.4238, -6.424, -6.4242, -6.4893, -5.7679, -5.0699, -6.7241, -6.7243, -6.7244, -6.7253, -5.5258, -6.8136, -6.8152, -6.8224, -5.6315, -6.084, -4.8662, -2.9891, -5.0306, -5.9621, -5.5353, -4.5708, -5.2137, -5.3716, -2.2936, -4.5059, -5.377, -5.504, -4.9129, -3.5016, -3.7312, -4.0777, -4.8904, -5.0638, -4.4596, -3.7891, -4.3354, -4.195, -5.2119, -4.6902, -4.7371, -5.1926, -5.2417, -5.3836, -5.2392, -5.2028, -5.1921, -5.3144, -5.3043, -5.3224], \"loglift\": [30.0, 29.0, 28.0, 27.0, 26.0, 25.0, 24.0, 23.0, 22.0, 21.0, 20.0, 19.0, 18.0, 17.0, 16.0, 15.0, 14.0, 13.0, 12.0, 11.0, 10.0, 9.0, 8.0, 7.0, 6.0, 5.0, 4.0, 3.0, 2.0, 1.0, 1.5983, 1.5953, 1.5944, 1.5943, 1.5938, 1.592, 1.5918, 1.5822, 1.5794, 1.5769, 1.5724, 1.567, 1.5641, 1.5627, 1.5533, 1.5499, 1.5499, 1.5462, 1.5449, 1.5425, 1.5402, 1.5389, 1.5372, 1.5322, 1.5318, 1.5297, 1.5255, 1.5231, 1.5229, 1.5229, 1.5164, 1.4611, 1.4438, 1.3955, 1.2812, 1.2907, 1.3302, 1.3039, 1.3386, 1.2163, 1.1086, 1.275, 0.9956, 0.7493, 0.9998, 0.9693, 0.9517, 0.7531, 0.6988, -0.001, 0.8151, -0.1905, 0.3881, 0.2818, -0.1397, -0.1165, 0.3669, -0.7239, 0.2593, -0.2777, 2.0327, 2.0246, 2.0226, 2.019, 2.0093, 2.0075, 2.001, 1.9807, 1.9796, 1.9744, 1.9668, 1.9647, 1.9628, 1.9524, 1.9442, 1.9409, 1.9337, 1.9337, 1.9332, 1.9203, 1.9198, 1.9198, 1.9153, 1.9118, 1.9034, 1.8984, 1.8962, 1.896, 1.8959, 1.8896, 1.8746, 1.8662, 1.7077, 1.7919, 1.8495, 1.7581, 1.5486, 1.7341, 1.7653, 1.5108, 1.654, 1.6514, 1.6281, 1.4343, 1.4139, 1.4358, 1.0121, 0.8498, 1.6853, 0.9684, 0.8847, 1.1935, 0.4539, -0.1344, -0.7645, 0.111, 0.068, 0.3293, -0.9121, 0.5095, 2.1312, 2.1092, 2.1074, 2.0926, 2.0897, 2.0896, 2.0812, 2.0793, 2.0703, 2.0677, 2.0557, 2.0482, 2.0442, 2.0397, 2.0347, 2.0299, 2.0298, 2.0227, 2.0185, 2.0179, 2.0115, 2.0101, 2.0043, 2.0042, 1.9876, 1.9779, 1.9768, 1.9768, 1.9767, 1.9763, 1.9602, 1.9558, 1.8656, 1.7927, 1.8547, 1.6915, 1.6044, 1.8153, 1.3506, 1.8187, 1.6333, 1.3552, 1.2555, 1.7154, 1.1311, 0.7249, 1.4003, 0.6681, 0.343, 0.1905, 1.1007, 1.4796, 0.521, 0.8991, -0.3772, 0.3026, 0.1963, 0.2441, 0.0229, 0.1804, 0.3363, 0.0792, 0.2879, 0.9123, -0.0084, -0.1989, 0.6548, -0.5759, -0.209, 2.186, 2.177, 2.177, 2.1617, 2.1586, 2.1565, 2.1501, 2.1276, 2.1248, 2.1187, 2.1166, 2.1077, 2.1077, 2.1069, 2.1041, 2.0892, 2.0892, 2.0713, 2.0592, 2.0443, 2.0409, 2.0353, 2.0352, 2.0351, 2.0347, 2.0283, 2.024, 2.0239, 2.0238, 2.0237, 2.0172, 1.9887, 1.9898, 1.9417, 1.9562, 1.8268, 1.9632, 1.5965, 1.8511, 1.5233, 1.5017, 1.809, 0.8625, 1.1214, 1.3696, 1.6855, 1.0172, 0.9315, 1.7782, 0.9838, 0.8329, 0.7472, 0.9924, 0.9493, 1.1043, 0.3943, 0.6783, 0.343, 0.0726, 0.2767, 0.0968, -0.4791, -0.0999, 0.0233, -0.132, 2.2582, 2.2357, 2.2354, 2.2299, 2.2197, 2.1751, 2.1586, 2.1332, 2.1093, 2.1086, 2.1011, 2.1009, 2.0945, 2.0725, 2.0719, 2.0636, 2.0607, 2.0606, 2.0476, 2.0476, 2.0476, 2.0313, 2.0312, 2.0136, 2.0004, 1.9986, 1.9933, 1.9932, 1.993, 1.993, 1.9688, 1.9578, 1.944, 1.8576, 1.8608, 1.5944, 1.4498, 1.5498, 1.6122, 1.2291, 1.3461, 0.9629, 1.6148, 0.7278, 1.1536, 0.784, 1.2574, 1.4382, 0.8498, -0.1686, 0.3099, 0.534, 0.7823, 0.2206, -0.1069, -0.3944, -0.3105, 0.8599, 2.2677, 2.1976, 2.1844, 2.1807, 2.1781, 2.1749, 2.1712, 2.1673, 2.1504, 2.1303, 2.123, 2.1151, 2.1151, 2.115, 2.1062, 2.1054, 2.0954, 2.0953, 2.0953, 2.0953, 2.0953, 2.0953, 2.0841, 2.0841, 2.0841, 2.084, 2.084, 2.0714, 2.0713, 2.0669, 2.024, 2.0514, 2.057, 2.0339, 1.915, 2.0, 1.8772, 1.9989, 1.9164, 1.6005, 1.6583, 1.7334, 1.8139, 1.7494, 1.4793, 1.6182, 1.8468, 1.2719, 0.9991, 1.0032, 1.3261, 1.3998, 0.9884, 1.5499, 0.7859, 0.8134, 1.4837, 1.6056, 0.5159, 0.2367, 1.0667, 0.3972, 0.1768, 0.3857, 0.6864, 0.311, 0.6667, 0.9189, 0.9239, -1.033, -0.3349, 0.9803, -0.3618, 2.3971, 2.3713, 2.3697, 2.359, 2.3546, 2.3523, 2.3523, 2.3316, 2.3235, 2.3235, 2.309, 2.3057, 2.3034, 2.2974, 2.2902, 2.29, 2.2829, 2.2829, 2.2829, 2.2828, 2.2748, 2.265, 2.255, 2.255, 2.255, 2.2549, 2.2336, 2.2318, 2.2309, 2.2149, 2.1692, 1.92, 2.0342, 2.083, 1.9404, 2.1282, 2.0554, 1.9373, 1.912, 1.9733, 1.6323, 2.0902, 1.4196, 1.7157, 1.8588, 1.6181, 0.9664, 1.2717, 1.3365, 0.5822, 1.0112, 1.3481, 1.6069, 0.6945, 0.5128, 0.4815, 0.6389, 1.0192, 0.5429, -0.689, 0.0344, -0.0253, 0.4447, 0.2072, -1.1026, 2.3994, 2.3886, 2.386, 2.3858, 2.38, 2.3773, 2.3625, 2.3531, 2.3368, 2.3364, 2.3311, 2.3297, 2.3146, 2.3057, 2.305, 2.2951, 2.2845, 2.2714, 2.2714, 2.2602, 2.239, 2.239, 2.2389, 2.2387, 2.2381, 2.2294, 2.2194, 2.2193, 2.2191, 2.1963, 2.1408, 2.0781, 2.0326, 2.0571, 2.0105, 2.1106, 2.1201, 2.0719, 1.9778, 1.9918, 2.01, 1.5534, 1.5411, 1.759, 1.8187, 1.8053, 1.3741, 1.2783, 1.1889, 1.4925, 1.9573, 0.9074, 1.9377, 0.5763, 1.4378, 0.7448, 1.3978, -0.1059, 1.2786, 1.1565, 0.7866, 1.1116, 0.5396, 1.2619, 0.029, 0.8538, 0.3696, -0.9373, -1.3654, 0.6367, -0.4086, 2.6155, 2.6069, 2.6007, 2.5846, 2.5742, 2.5661, 2.557, 2.5388, 2.5387, 2.5244, 2.5243, 2.5174, 2.516, 2.506, 2.4956, 2.4955, 2.4955, 2.484, 2.4691, 2.4526, 2.4369, 2.4368, 2.4368, 2.4365, 2.4231, 2.4166, 2.4152, 2.4077, 2.4048, 2.3998, 2.3539, 2.277, 2.3533, 2.3572, 2.2973, 2.1484, 2.2124, 2.2331, 1.2001, 1.8598, 2.1391, 2.1702, 1.8294, 0.8579, 0.8623, 0.9405, 1.278, 1.3628, 0.5974, -0.3208, 0.3916, -0.3994, 1.2841, 0.0603, -0.0115, 0.5768, 0.5047, 1.3309, 0.2032, -0.1069, -0.6274, 0.7596, -0.2437, 0.3313]}, \"token.table\": {\"Topic\": [1, 2, 4, 6, 7, 8, 9, 9, 6, 8, 9, 3, 6, 4, 1, 2, 3, 4, 6, 7, 1, 3, 7, 8, 9, 3, 1, 3, 9, 5, 7, 9, 3, 7, 8, 1, 6, 1, 2, 6, 7, 8, 1, 2, 3, 4, 5, 6, 7, 8, 9, 4, 6, 8, 3, 1, 5, 5, 3, 4, 6, 7, 8, 1, 2, 7, 9, 2, 1, 2, 2, 7, 2, 7, 9, 4, 5, 8, 1, 3, 9, 3, 4, 4, 4, 6, 6, 5, 3, 8, 6, 7, 2, 3, 4, 7, 8, 9, 4, 4, 8, 9, 1, 3, 3, 6, 3, 9, 3, 5, 7, 8, 2, 5, 8, 4, 8, 9, 8, 3, 1, 9, 2, 6, 8, 1, 2, 3, 4, 5, 7, 8, 9, 8, 9, 1, 3, 4, 6, 1, 4, 6, 7, 8, 2, 4, 7, 4, 2, 7, 7, 2, 3, 5, 7, 8, 9, 2, 3, 6, 3, 3, 5, 8, 9, 7, 9, 3, 6, 1, 2, 3, 7, 8, 9, 6, 6, 1, 2, 3, 4, 6, 7, 1, 6, 8, 6, 4, 2, 8, 7, 4, 1, 4, 6, 4, 9, 4, 8, 9, 7, 8, 1, 3, 5, 6, 7, 8, 9, 1, 1, 2, 8, 3, 2, 3, 8, 9, 5, 4, 1, 2, 3, 4, 1, 3, 5, 7, 8, 1, 2, 3, 5, 9, 1, 2, 3, 4, 5, 6, 8, 6, 6, 6, 1, 2, 3, 4, 6, 7, 9, 3, 4, 1, 2, 3, 5, 8, 5, 4, 8, 1, 6, 7, 2, 3, 4, 6, 7, 8, 2, 9, 1, 5, 6, 7, 8, 9, 2, 4, 6, 9, 2, 8, 1, 6, 1, 2, 4, 1, 1, 3, 4, 5, 6, 9, 9, 2, 5, 9, 1, 3, 9, 7, 2, 9, 7, 9, 1, 2, 8, 5, 2, 4, 4, 7, 3, 3, 3, 1, 3, 5, 6, 7, 9, 5, 1, 2, 4, 6, 7, 2, 3, 6, 7, 8, 9, 2, 1, 2, 3, 4, 6, 7, 8, 9, 5, 7, 2, 3, 4, 5, 7, 8, 9, 8, 7, 7, 6, 2, 2, 9, 6, 1, 4, 5, 6, 9, 1, 2, 3, 4, 5, 8, 9, 1, 4, 6, 7, 8, 2, 8, 5, 3, 3, 4, 5, 7, 8, 8, 8, 1, 2, 7, 1, 2, 3, 4, 5, 6, 7, 8, 9, 5, 1, 3, 4, 5, 6, 7, 8, 1, 2, 3, 4, 5, 6, 7, 8, 9, 5, 7, 3, 5, 7, 9, 7, 7, 5, 3, 5, 7, 5, 3, 5, 1, 1, 2, 6, 7, 8, 3, 8, 5, 6, 4, 7, 7, 6, 2, 5, 6, 9, 1, 2, 6, 1, 2, 3, 9, 1, 4, 1, 6, 7, 6, 1, 2, 6, 4, 8, 9, 4, 5, 9, 3, 4, 7, 9, 3, 4, 5, 8, 9, 2, 3, 4, 5, 6, 7, 8, 9, 1, 3, 4, 5, 6, 8, 1, 3, 4, 2, 3, 5, 6, 7, 8, 9, 3, 5, 7, 8, 9, 2, 3, 5, 7, 9, 1, 8, 3, 4, 5, 1, 3, 5, 6, 7, 7, 9, 4, 2, 1, 2, 3, 4, 7, 2, 8, 7, 1, 6, 1, 2, 4, 6, 1, 8, 1, 1, 2, 3, 4, 6, 8, 1, 2, 4, 5, 7, 8, 1, 2, 3, 4, 5, 6, 7, 9, 1, 9, 4, 6, 1, 2, 3, 4, 5, 6, 7, 8, 8, 4, 2, 9, 4, 5, 7, 2, 2, 4, 5, 8, 9, 2, 3, 3, 8, 2, 7, 8, 9, 3, 4, 5, 6, 1, 5, 1, 6, 8, 1, 3, 4, 7, 8, 1, 4, 6, 4, 6, 9, 4, 9, 1, 2, 3, 4, 5, 6, 8, 9, 5, 3, 6, 1, 6, 8, 5, 2, 3, 3, 2, 3, 9, 2, 9, 1, 2, 3, 7, 8, 2, 5, 4, 5, 6, 7, 8, 7, 9, 4, 1, 2, 3, 6, 7, 8, 9, 1, 3, 5, 2, 7, 6, 4, 7, 2, 3, 5, 7, 2, 4, 8, 3, 2, 4, 6, 2, 4, 6, 8, 9, 7, 6, 1, 3, 4, 6, 7, 8, 8, 3, 8, 6, 3, 2, 6, 9, 7, 9, 6, 8, 2, 3, 4, 5, 6, 7, 8, 9, 4, 9, 4, 1, 2, 3, 4, 7, 2, 4, 7, 1, 8, 9, 7, 8, 3, 7, 5, 6, 7, 2, 8, 9, 1, 3, 4, 5, 6, 7, 8, 7, 2, 6, 1, 2, 3, 6, 7, 9, 3, 1, 3, 4, 6, 7, 8, 9, 1, 2, 7, 3, 7, 2, 2, 3, 4, 7, 9, 2, 4, 9, 2, 4, 6, 4, 8, 1, 5, 9, 2, 3, 4, 5, 7, 9, 3, 8, 2, 3, 5, 7, 8, 5, 7, 8, 6, 8, 9, 3, 3, 4, 9, 7, 1, 6, 2, 3, 8, 9, 1, 3, 1, 2, 6, 6, 1, 3, 4, 6, 7, 8, 1, 2, 3, 8, 9, 6, 1, 2, 3, 5, 6, 7, 8, 6, 1, 2, 3, 4, 5, 6, 8, 9, 1, 6, 8, 1, 2, 3, 4, 6, 7, 2, 3, 5, 6, 8, 9, 5, 8, 1, 3, 7, 8, 1, 2, 3, 4, 6, 8, 9, 6, 7, 9, 4, 9, 1, 3, 6, 8, 2, 4, 6, 8, 9, 7, 9, 4, 3, 7, 9, 5, 7, 8, 1, 8, 1, 6, 9, 1, 6, 1, 3, 6, 7, 9, 2, 1, 5, 1, 2, 3, 4, 6, 7, 2, 3, 4, 7, 8, 1, 3, 4, 8, 2, 1, 4, 1, 3, 2, 4, 4, 8, 9, 2, 3, 4, 5, 7, 8, 2, 3, 4, 6, 8, 9, 1, 6, 6, 1, 6, 8, 5, 6, 9, 1, 2, 9, 6, 1, 2, 3, 4, 6, 7, 8, 1, 2, 3, 4, 5, 6, 7, 1, 2, 3, 5, 6, 7, 8, 9, 1, 7, 4, 5, 9, 8, 2, 3, 6, 7, 8, 7, 5, 1, 3, 3, 3, 5, 7, 1, 2, 3, 8, 1, 2, 3, 7, 1, 2, 6, 7, 9, 1, 2, 3, 4, 5, 6, 7, 8, 9, 1, 2, 3, 5, 7, 9, 3, 4, 8, 3, 1, 2, 3, 4, 6, 7, 1, 3, 4, 5, 6, 7, 9, 1, 2, 1, 2, 3, 4, 5, 6, 7, 8, 9, 3, 7, 1, 3, 4, 7, 1, 2, 3, 4, 5, 6, 8, 1, 4, 8, 1, 2, 3, 8, 2, 6, 1, 2, 5, 6, 9, 9, 2, 3, 6, 8, 9, 1, 2, 3, 4, 5, 6, 8, 9, 4, 7, 3, 5, 7, 8, 1, 7], \"Freq\": [0.18156864114098614, 0.0680882404278698, 0.24965688156885593, 0.4766176829950886, 0.612294156793135, 0.2151303794138042, 0.16548490724138784, 0.8830093205784356, 0.1364300449110324, 0.2728600898220648, 0.5911968612811404, 0.9304745095150851, 0.8962813543590792, 0.937553803521625, 0.2757193715800884, 0.13341259915165568, 0.0800475594909934, 0.062259212937439315, 0.45360283711562926, 0.008894173276777044, 0.9824464618539771, 0.0622573409177514, 0.7159594205541411, 0.1556433522943785, 0.0622573409177514, 0.8660193899722769, 0.2755994502033442, 0.055119890040668834, 0.661438680488026, 0.02048913805955457, 0.9629894887990648, 0.8403406337741212, 0.24731055556282927, 0.049462111112565856, 0.692469555575922, 0.846161655519738, 0.15170228883820003, 0.19294626562027953, 0.3698136757722025, 0.016078855468356627, 0.12863084374685302, 0.2894193984304193, 0.2942101049879074, 0.00619389694711384, 0.1393626813100614, 0.11149014504804912, 0.04335727862979688, 0.1703321660456306, 0.01858169084134152, 0.14865352673073215, 0.06813286641825224, 0.25633185120930535, 0.12816592560465268, 0.6151964429023329, 0.9256880212322832, 0.9874922641073444, 0.8218019005869549, 0.840161214093165, 0.12636070738117863, 0.15163284885741435, 0.15163284885741435, 0.17374597264912062, 0.3917181928816537, 0.9580169210555264, 0.015966948684258773, 0.02395042302638816, 0.9331102105017032, 0.8748182793812336, 0.9709742287895564, 0.9094282730808207, 0.9480545534961226, 0.9089946759705227, 0.9563665682376837, 0.029202032617944542, 0.0073005081544861355, 0.4083413621904008, 0.06447495192480011, 0.5157996153984009, 0.9208240030673474, 0.15230876649565225, 0.8123134213101453, 0.1040475670646599, 0.8323805365172792, 0.9795171675328678, 0.1700954486156534, 0.7654295187704403, 0.873217392533373, 0.9855207324650198, 0.3142407939799404, 0.6703803604905395, 0.9104387490723344, 0.04552193745361672, 0.5852440050031997, 0.14631100125079993, 0.2303620019693446, 0.021791000186289353, 0.003113000026612765, 0.009339000079838294, 0.8455068905268731, 0.8456835623455968, 0.6960711227855281, 0.23202370759517602, 0.07673368883078836, 0.8440705771386721, 0.7904815889005274, 0.8964209969390305, 0.8660931958946888, 0.07873574508133535, 0.3927799008734828, 0.5314081011817708, 0.06931410015414402, 0.7889520870962274, 0.9662359517428851, 0.7908277395072868, 0.14378686172859761, 0.8514251259153239, 0.07740228417412036, 0.03870114208706018, 0.8934831103708266, 0.8972368708703667, 0.972252203780267, 0.8737246289532358, 0.2589744317351044, 0.6659342530331257, 0.05549452108609381, 0.09653942979485834, 0.05254677824277099, 0.16252840712298935, 0.0672109954268001, 0.513247601441019, 0.02932843436805823, 0.032994488664065506, 0.045214669650756434, 0.15553464132025635, 0.7776732066012818, 0.5679885248320246, 0.28935264472574834, 0.010716764619472161, 0.11788441081419376, 0.16556197318363558, 0.20041712543282203, 0.38340667474105083, 0.24398606574430506, 0.7569222066299636, 0.07124243616093315, 0.7836667977702646, 0.11873739360155525, 0.8784483268901571, 0.8558711563797892, 0.13372986818434207, 0.888951174158138, 0.28983273626080786, 0.06762763846085516, 0.07728872966954875, 0.33813819230427583, 0.19322182417387188, 0.028983273626080785, 0.5421567138129424, 0.4031421718096238, 0.048655089701161496, 0.9602334818043977, 0.20363668229831372, 0.014545477307022409, 0.78545577457921, 0.7841758165855038, 0.801014200525113, 0.8097165614455188, 0.7947053414462002, 0.1444918802629455, 0.016193087094223426, 0.3076686547902451, 0.11335160965956398, 0.21051013222490453, 0.3076686547902451, 0.048579261282670275, 0.7963530072330238, 0.8337971200739426, 0.13777988347289546, 0.1450314562872584, 0.181289320359073, 0.014503145628725839, 0.18854089317343592, 0.3335723494606943, 0.2864535023695397, 0.6047351716690282, 0.1273126677197954, 0.9052362794799443, 0.8010662340060005, 0.30735606542973737, 0.6454477374024485, 0.8608223148180734, 0.8709524687822895, 0.6745259173790564, 0.08259501029131303, 0.2340191958253869, 0.13276959263046068, 0.7966175557827639, 0.26769188895564083, 0.6692297223891022, 0.7840159699347797, 0.5441150084413264, 0.41608794763160256, 0.545653391100009, 0.03954010080434848, 0.07908020160869696, 0.05535614112608787, 0.05535614112608787, 0.1581604032173939, 0.07117218144782726, 0.9645976609133063, 0.060082983921369265, 0.3004149196068463, 0.6308713311743772, 0.8278566215195811, 0.7311607915246544, 0.03566638007437339, 0.12483233026030685, 0.08916595018593347, 0.888234798499248, 0.9057636107209577, 0.11851307677296549, 0.11851307677296549, 0.7505828195621148, 0.9106880200901246, 0.9597447819945232, 0.11516527187210883, 0.7485742671687075, 0.03199035329780801, 0.10236913055298563, 0.2898776602089922, 0.3447193797079907, 0.21936687799599408, 0.04700718814199874, 0.09401437628399748, 0.03662691266020975, 0.146507650640839, 0.054940368990314625, 0.03662691266020975, 0.2380749322913634, 0.16482110697094388, 0.34795567027199265, 0.8408768979832896, 0.7963529136246658, 0.844949443466012, 0.4230595698684015, 0.04113079151498348, 0.06757201463175858, 0.14395777030244217, 0.22621935333240914, 0.08519949670960864, 0.014689568398208386, 0.965174916540201, 0.8459946672292882, 0.4186481445870684, 0.14561674594332813, 0.018202093242916016, 0.05460627972874805, 0.3458397716154043, 0.8404495169929963, 0.8018630466798685, 0.9185942065305479, 0.7376181664152325, 0.2614342868307153, 0.8710822995782806, 0.1195497714541711, 0.2817958898562605, 0.1537068490125057, 0.11101050206458746, 0.14516757962292207, 0.1878639265708403, 0.8719146895718537, 0.9629401752418674, 0.13709682865419792, 0.37016143736633433, 0.05483873146167916, 0.17822587725045727, 0.27419365730839584, 0.8947270358621779, 0.11264335896795351, 0.5913776345817559, 0.14080419870994187, 0.14080419870994187, 0.8036928380636225, 0.10715904507514966, 0.7199396034457513, 0.2772912253554307, 0.897314404858683, 0.04570032453452329, 0.9368566529577275, 0.8934930268601982, 0.21087985020915964, 0.018607045606690558, 0.14885636485352446, 0.4031526548116287, 0.1984751531380326, 0.012404697071127038, 0.840133719572443, 0.9388376714114958, 0.780418735817026, 0.18581398471833954, 0.11817542767480198, 0.29543856918700495, 0.5908771383740099, 0.9142434247006654, 0.9749734195081443, 0.7799776112501985, 0.80092080229672, 0.8212089480341177, 0.13249075581049577, 0.2152974781920556, 0.6458924345761669, 0.866645040865031, 0.8719348547501214, 0.10463218257001457, 0.8722152472835731, 0.0918121312930077, 0.7869595163191814, 0.9239897473940465, 0.934454458704375, 0.5201850669119414, 0.030155656052866173, 0.24124524842292938, 0.09046696815859852, 0.02261674203964963, 0.09046696815859852, 0.8411483274338675, 0.2801732437750848, 0.0933910812583616, 0.116738851572952, 0.3677273824547988, 0.1342496793088948, 0.42348122798005833, 0.015124329570716369, 0.21174061399002916, 0.10587030699501458, 0.2419892731314619, 0.866453266429379, 0.8194941211146697, 0.14799335996324225, 0.12949418996783696, 0.35148422991270034, 0.10174543497472904, 0.06474709498391848, 0.05549750998621584, 0.08324626497932376, 0.08324626497932376, 0.8662741084691701, 0.8012835192229322, 0.1387248065698421, 0.09355859047733536, 0.2774496131396842, 0.22905723875485554, 0.23873571363182125, 0.003226158292321909, 0.019356949753931454, 0.8737216206538249, 0.760861531690254, 0.7178851689569179, 0.8406947127909964, 0.8534231277340282, 0.9309515244816345, 0.820986364587586, 0.8962197414095645, 0.1436946699586759, 0.06386429775941152, 0.27142326547749895, 0.06386429775941152, 0.43108400987602774, 0.6016669111511628, 0.01719048317574751, 0.13752386540598008, 0.025785724763621263, 0.03438096635149502, 0.06876193270299004, 0.1117381406423588, 0.02198677509959072, 0.19788097589631648, 0.13192065059754432, 0.13192065059754432, 0.5276826023901773, 0.11808897089242464, 0.8266227962469724, 0.7345706574587089, 0.8492226309572076, 0.5754258998226921, 0.2508266742816863, 0.00737725512593195, 0.16598824033346887, 0.9630795401852845, 0.8826918841123259, 0.810217291550415, 0.13505761450961903, 0.7563226412538666, 0.10804609160769524, 0.1735325186272845, 0.11388071534915546, 0.2386072131125162, 0.04519076005918867, 0.21510801788173808, 0.13014938897046338, 0.005422891207102641, 0.07592047689943697, 0.001807630402367547, 0.9956788192684456, 0.2213046640423557, 0.0245894071158173, 0.0491788142316346, 0.22950113308096146, 0.0245894071158173, 0.4426093280847114, 0.8105465712465121, 0.1704167367589256, 0.20180929353030663, 0.10763162321616354, 0.10763162321616354, 0.09866232128148324, 0.11660092515084383, 0.10763162321616354, 0.026907905804040885, 0.06278511354276206, 0.8405428796203359, 0.9334105749147628, 0.18901656242699902, 0.4882927862697475, 0.1732651822247491, 0.14176242182024926, 0.9546858670204336, 0.9435370677160632, 0.9169921454960469, 0.2513091378134663, 0.7371734709195013, 0.8234240980109265, 0.7839139092657187, 0.8592339596078934, 0.9171562105345384, 0.8955084058020603, 0.19526098267834335, 0.6608833259882391, 0.06008030236256719, 0.045060226771925393, 0.030040151181283593, 0.07808651888291696, 0.8589517077120865, 0.7346290148988092, 0.9331646843339583, 0.9062263592107787, 0.0849587211760105, 0.9103892920459261, 0.7529566557193371, 0.6686135987053684, 0.21768814841570136, 0.04664746037479314, 0.04664746037479314, 0.8597441267855629, 0.005340025632208465, 0.12816061517300315, 0.07338083437569325, 0.33021375469061964, 0.4769754234420061, 0.11007125156353988, 0.9894662901332238, 0.8012205598658693, 0.9757923663271975, 0.7963189550959465, 0.8482258970898416, 0.8406831865315524, 0.09621816761527806, 0.8178544247298635, 0.04810908380763903, 0.18441915128255465, 0.13831436346191597, 0.6454670294889412, 0.9667244091794149, 0.8400180990887439, 0.8211037218268111, 0.13329987989091252, 0.6786175703537365, 0.14541805079008638, 0.036354512697521595, 0.01192812477031263, 0.17892187155468944, 0.1669937467843768, 0.4890531155828178, 0.14313749724375155, 0.03932330257559963, 0.24904758297879762, 0.10486214020159901, 0.052431070100799504, 0.1704009778275984, 0.03932330257559963, 0.07864660515119926, 0.24904758297879762, 0.2777171801093288, 0.026875856139612464, 0.4300136982337994, 0.05375171227922493, 0.035834474852816614, 0.17021375555087892, 0.9032707985045042, 0.8027658344035884, 0.1337943057339314, 0.21990111687962932, 0.061572312726296215, 0.33424969765703655, 0.05277626805111104, 0.05277626805111104, 0.14953275947814795, 0.12314462545259243, 0.11474398003477394, 0.13024992328271637, 0.5954282207209891, 0.058922584342181214, 0.10233922543642, 0.6092304135647766, 0.06596762439873377, 0.0931307638570359, 0.2289464611485466, 0.0019402242470215815, 0.9714841545863692, 0.8698006104749764, 0.2966762834188927, 0.6922446613107497, 0.9331301798521783, 0.1554183785084563, 0.07770918925422815, 0.09713648656778519, 0.05828189194067111, 0.6119598653770467, 0.8251261837064585, 0.14561050300702208, 0.8786204059582569, 0.9883445479571059, 0.4495961340438076, 0.5421600439940033, 0.16113413357704362, 0.6445365343081745, 0.16113413357704362, 0.10721659573543733, 0.8577327658834987, 0.90589476232213, 0.9276754469957734, 0.05153752483309852, 0.7575578985275628, 0.023309473800848086, 0.1048926321038164, 0.1048926321038164, 0.8706829238330451, 0.9326704722582673, 0.8954851735258803, 0.17774408506376674, 0.1892114453904614, 0.12040728343029361, 0.13187464375698824, 0.20641248588050332, 0.17774408506376674, 0.20208375363227551, 0.06913391571630478, 0.2924896434151356, 0.00531799351663883, 0.31376161748169096, 0.12231385088269307, 0.19994357738180762, 0.05989499234344898, 0.0792727839839766, 0.0017616174218661464, 0.4439275903102689, 0.009688895820263806, 0.15590314183515397, 0.0493252878122521, 0.9745636269931389, 0.8584062483900591, 0.2679941534181631, 0.696784798887224, 0.2580848747870056, 0.30244321264102214, 0.044358337854016584, 0.09274925187658013, 0.07661894720239228, 0.10081440421367405, 0.052423490191110506, 0.06855379486529835, 0.7558096184824328, 0.9326121974281204, 0.16974437577175921, 0.7638496909729164, 0.7622768884680632, 0.07146345829388093, 0.14292691658776185, 0.8199036645104005, 0.9476253272482742, 0.06923439676901043, 0.13846879353802086, 0.06923439676901043, 0.6923439676901043, 0.9065013333633787, 0.7907301346827665, 0.7216779787786886, 0.2577421352781031, 0.1773526485668088, 0.661041690112651, 0.04836890415458422, 0.09673780830916844, 0.061967856689339684, 0.26852737898713863, 0.6609904713529566, 0.8407769312438729, 0.9219998943997453, 0.9848691959098097, 0.06947206739275724, 0.6252486065348152, 0.27788826957102897, 0.019318813843197034, 0.4443327183935317, 0.49262975300152434, 0.009659406921598517, 0.02897822076479555, 0.8073957511753336, 0.05110099690983124, 0.1396760582202054, 0.11263136826342839, 0.11263136826342839, 0.6757882095805703, 0.2651949100145576, 0.7071864267054869, 0.16425263584252342, 0.11069199371996143, 0.09283844634577411, 0.2999395958863471, 0.014282837899349862, 0.007141418949674931, 0.30351030536118456, 0.007141418949674931, 0.9738246071110137, 0.19055119260571765, 0.7622047704228706, 0.7189515040688054, 0.26703913008269914, 0.9285210390886572, 0.9817742066042966, 0.6997285140380949, 0.25779471569824547, 0.9586771087929168, 0.8640523868093741, 0.10372527282329118, 0.8298021825863294, 0.9796951743823584, 0.9247166987936638, 0.20307230238432847, 0.2538403779804106, 0.5076807559608212, 0.02538403779804106, 0.8107586318274875, 0.17686062400527364, 0.751657652022413, 0.03722052986556443, 0.521087418117902, 0.2977642389245154, 0.07444105973112886, 0.03722052986556443, 0.7973642215402205, 0.11390917450574578, 0.8708829171421084, 0.0545696821972351, 0.14551915252596026, 0.07275957626298013, 0.2910383050519205, 0.07275957626298013, 0.1091393643944702, 0.25465851692043046, 0.9752991707369979, 0.21125399268069553, 0.7041799756023185, 0.8852668266339172, 0.10538890793260919, 0.8183866232730891, 0.8488717739328332, 0.08488717739328332, 0.9299166966531605, 0.4899555709998193, 0.4355160631109505, 0.05443950788886881, 0.8717612410696353, 0.2786215236446403, 0.6686916567471368, 0.8490181658255693, 0.1801904621879375, 0.3003174369798958, 0.5105396428658229, 0.00989916112215022, 0.3266723170309573, 0.5345547005961119, 0.03959664448860088, 0.07919328897720176, 0.8009988452797095, 0.8907539027495537, 0.265052510471738, 0.4471087802907095, 0.09638273108063199, 0.06425515405375466, 0.09102813490948578, 0.03748217319802355, 0.9221436223429416, 0.928428515456342, 0.8938725020254246, 0.7963055471452423, 0.9007492587905432, 0.13253790290906045, 0.7952274174543627, 0.7841461982862232, 0.8956913435128498, 0.8095632565304565, 0.9580044030322168, 0.8825220348005163, 0.04613154801643507, 0.029849825187105047, 0.33377531800126553, 0.07598137320354012, 0.07055413226043011, 0.002713620471555004, 0.2767892880986104, 0.16281722829330025, 0.8324815185811411, 0.0832481518581141, 0.8477388788022249, 0.06488706127165587, 0.09084188578031822, 0.7007802617338834, 0.012977412254331175, 0.14275153479764294, 0.14073775239878883, 0.07036887619939441, 0.7036887619939441, 0.15239198581907637, 0.002457935255146393, 0.8455297277703592, 0.7734320629209658, 0.21484223970026828, 0.8119257831210616, 0.9089595879123669, 0.11320401768442508, 0.11320401768442508, 0.735826114948763, 0.1260167839520639, 0.6300839197603195, 0.21002797325343983, 0.15006582489450337, 0.22632878508679197, 0.09840381960295302, 0.27307059939819467, 0.07380286470221477, 0.14514563391435573, 0.031981241370959736, 0.8608313477343621, 0.978359365717171, 0.7562123783794796, 0.11213912096702736, 0.19223849308633262, 0.048059623271583155, 0.01601987442386105, 0.4805962327158315, 0.1281589953908884, 0.8589477990940134, 0.0634280604489184, 0.0317140302244592, 0.02537122417956736, 0.5074244835913472, 0.13954173298762046, 0.1458845390325123, 0.08245647858359391, 0.910742733520406, 0.03642970934081624, 0.03642970934081624, 0.9340599374499948, 0.9018468124422414, 0.8353019827594972, 0.7139552886331921, 0.09367498467882308, 0.16203240593093723, 0.007595269028012682, 0.020254050741367154, 0.7703525199387247, 0.12605768508088222, 0.0980448661740195, 0.6816751009883051, 0.2504112615875407, 0.06955868377431684, 0.8569456430520705, 0.8104207422027433, 0.9808534279153908, 0.8204903889058521, 0.9087464386163865, 0.005317368963515522, 0.026586844817577608, 0.037221582744608656, 0.11166474823382597, 0.14888633097843462, 0.6646711204394402, 0.9402918059577681, 0.7554694550229509, 0.11785456731513176, 0.039284855771710585, 0.66784254811908, 0.15713942308684234, 0.013094951923903529, 0.17612761280664774, 0.22015951600830969, 0.5724147416216052, 0.19637747557905985, 0.5891324267371795, 0.15710198046324786, 0.933890620885284, 0.11257073827419696, 0.15009431769892928, 0.7129480090699142, 0.823829150431663, 0.22123702307291326, 0.7743295807551964, 0.8201349483849603, 0.09052377672542215, 0.6336664370779551, 0.24894038599491095, 0.9533442763426645, 0.8985656084418396, 0.7630354906843593, 0.04162011767369232, 0.18035384325266673, 0.8408956050069728, 0.15590308720264026, 0.058463657700990095, 0.09743942950165016, 0.44822137570759074, 0.058463657700990095, 0.17539097310297028, 0.18665318675962772, 0.18665318675962772, 0.2375586013304353, 0.10181082914161513, 0.27149554437764034, 0.7964190147488321, 0.2814176204292188, 0.041691499322847235, 0.041691499322847235, 0.2501489959370834, 0.3022633700906424, 0.020845749661423617, 0.06253724898427085, 0.7961845546889924, 0.1133837990682988, 0.3559723924237288, 0.02109466029177652, 0.11865746414124294, 0.01582099521883239, 0.2795042488660389, 0.05537348326591337, 0.036915655510608915, 0.1055666819692097, 0.809344561763941, 0.07037778797947312, 0.5436787208047268, 0.08414075441025534, 0.12297494875345012, 0.04530656006706057, 0.14886441164891331, 0.05177892579092636, 0.07910431374042748, 0.2504969935113537, 0.06592026145035623, 0.2504969935113537, 0.2504969935113537, 0.07910431374042748, 0.8444223886810627, 0.9198673164733018, 0.12840194515535627, 0.7490113467395783, 0.04280064838511876, 0.08560129677023752, 0.2904752374008746, 0.07469363247451061, 0.04564610873442315, 0.04149646248583923, 0.04149646248583923, 0.3319716998867138, 0.17428514244052476, 0.4420857128517766, 0.11633834548730965, 0.4188180437543147, 0.8181574323773285, 0.1363595720628881, 0.7264510309569486, 0.039267623294970196, 0.23233343782857369, 0.8255822281950745, 0.5304508339330274, 0.29606558173006176, 0.061680329527096206, 0.08018442838522506, 0.030840164763548103, 0.8888930930679856, 0.840127463411738, 0.8452720073345273, 0.1513521432766837, 0.20180285770224493, 0.5549578586811735, 0.8463361404856354, 0.0930969754534199, 0.05078016842913813, 0.9842262908918219, 0.8880402004233431, 0.2170742345758521, 0.7768972605872602, 0.005712479857259266, 0.33283152915830316, 0.6656630583166063, 0.21818889578254458, 0.027273611972818072, 0.6954771053068609, 0.027273611972818072, 0.03409201496602259, 0.8353136878386552, 0.9618542266791377, 0.8827400494799493, 0.05291639041289945, 0.13229097603224863, 0.07937458561934918, 0.026458195206449726, 0.07937458561934918, 0.6349966849547934, 0.10048469837658172, 0.8541199362009446, 0.8008116783508332, 0.11567940979206585, 0.809755868544461, 0.027523506674497517, 0.09174502224832505, 0.4954231201409553, 0.3761545912181327, 0.9345223483841285, 0.16969181896157673, 0.7918951551540246, 0.2559984116362658, 0.7039956319997309, 0.8861437071567543, 0.9794906687394057, 0.9525292182170965, 0.885604213899959, 0.07380035115832992, 0.010754675656029847, 0.139810783528388, 0.5377337828014923, 0.14249945244239548, 0.14249945244239548, 0.026886689140074617, 0.2170379474958912, 0.3574742664638208, 0.2808726379358592, 0.0510677523519744, 0.0255338761759872, 0.0702181594839648, 0.4660868967817484, 0.5268808398402374, 0.9867676181218413, 0.032587969612341804, 0.8146992403085451, 0.13035187844936721, 0.9170315339988221, 0.8556751139118272, 0.8828377793105675, 0.08521148867113296, 0.894720631046896, 0.04260574433556648, 0.8906235747404608, 0.424610685158072, 0.18129444984277232, 0.019083626299239192, 0.2146907958664409, 0.07156359862214696, 0.062021785472527374, 0.02385453287404899, 0.20688856548133452, 0.15986843696284941, 0.028212077111091072, 0.16927246266654644, 0.17867648837024347, 0.25390869399981963, 0.860938239626729, 0.1397026273531144, 0.14605274677825594, 0.15557792591596828, 0.006350119425141563, 0.01905035827542469, 0.06350119425141564, 0.3968824640713477, 0.07302637338912797, 0.937824801793865, 0.04935920009441395, 0.6671700287659946, 0.20849063398937334, 0.125094380393624, 0.7553610687154856, 0.11858203718619799, 0.1524626192393974, 0.5759698949043902, 0.10164174615959827, 0.050820873079799135, 0.86077529851371, 0.85831665655841, 0.975175805313437, 0.7904910627128945, 0.8958155864374397, 0.6558934868112398, 0.30608362717857857, 0.9627682672043106, 0.5297093787336306, 0.3147548482330268, 0.09212337021454443, 0.06909252766090833, 0.4103713198080141, 0.08639396206484506, 0.0647954715486338, 0.4319698103242254, 0.013967924464804961, 0.7542679210994679, 0.06983962232402481, 0.1536471691128546, 0.9599761346346364, 0.16535087513081667, 0.020781803978190072, 0.14005128767910702, 0.2575136579906161, 0.08764499938627987, 0.03614226778815665, 0.043370721345787976, 0.021685360672893988, 0.22679273037068295, 0.015512746396826564, 0.15512746396826563, 0.015512746396826564, 0.031025492793653128, 0.5894843630794094, 0.18615295676191876, 0.0574151696263723, 0.8229507646446697, 0.1148303392527446, 0.9403748618484241, 0.058882596957934116, 0.22080973859225292, 0.014720649239483529, 0.044161947718450584, 0.2060890893527694, 0.44161947718450584, 0.4026039157920252, 0.15584667708078395, 0.04329074363355109, 0.021645371816775547, 0.277060759254727, 0.047619817996906205, 0.05194889236026132, 0.9385707959895072, 0.9793700546487936, 0.14236355264201703, 0.12942141149274275, 0.16393378789080748, 0.07333879984588755, 0.17687592904008176, 0.07333879984588755, 0.038826423447822826, 0.08196689394540374, 0.12510736444298465, 0.29311485248033103, 0.6741641607047614, 0.18519569907890646, 0.629665376868282, 0.11852524741050013, 0.06667045166840632, 0.07277600395001696, 0.18713829587147218, 0.19753486786433175, 0.08317257594287653, 0.08317257594287653, 0.2703108718143487, 0.10396571992859566, 0.9925548326845586, 0.9414415448948854, 0.042792797495222065, 0.2008351201416765, 0.18075160812750884, 0.5824218484108619, 0.7553423205966077, 0.9672693173730841, 0.9542556331717157, 0.04116495414802124, 0.02469897248881274, 0.8479980554492375, 0.05763093580722973, 0.008232990829604247, 0.7846392978356368, 0.19464545397135166, 0.27806493424478806, 0.41709740136718215, 0.06951623356119702, 0.041709740136718215, 0.1782536690515533, 0.023623980235748028, 0.11811990117874013, 0.11597226661185395, 0.07087194070724408, 0.1224151703125125, 0.20832055298795987, 0.16107259251646383, 0.8126095529860827, 0.16252191059721655, 0.19506100276146648, 0.3559007769682897, 0.35932289982375404, 0.0855530713866081, 0.9399770525556009, 0.04699885262778005], \"Term\": [\"ability\", \"ability\", \"ability\", \"ability\", \"access\", \"access\", \"access\", \"accessory\", \"account\", \"account\", \"account\", \"act\", \"action\", \"activity\", \"add\", \"add\", \"add\", \"add\", \"add\", \"add\", \"addition\", \"adult\", \"adult\", \"adult\", \"adult\", \"advantage\", \"advertise\", \"advertise\", \"advertise\", \"age\", \"age\", \"air\", \"alarm\", \"alarm\", \"alarm\", \"alexa\", \"alexa\", \"allow\", \"allow\", \"allow\", \"allow\", \"allow\", \"amazon\", \"amazon\", \"amazon\", \"amazon\", \"amazon\", \"amazon\", \"amazon\", \"amazon\", \"amazon\", \"android\", \"android\", \"android\", \"angle\", \"answer\", \"anticipate\", \"apartment\", \"app\", \"app\", \"app\", \"app\", \"app\", \"ask\", \"ask\", \"ask\", \"associate\", \"audio\", \"automation\", \"backlight\", \"bag\", \"basis\", \"battery\", \"battery\", \"battery\", \"beat\", \"beat\", \"beat\", \"become\", \"bed\", \"bed\", \"begin\", \"begin\", \"beginner\", \"believe\", \"believe\", \"benefit\", \"birthday\", \"bit\", \"bit\", \"bluetooth\", \"bluetooth\", \"book\", \"book\", \"book\", \"book\", \"book\", \"book\", \"boot\", \"bother\", \"box\", \"box\", \"boy\", \"boy\", \"boyfriend\", \"brainer\", \"brand\", \"brand\", \"break\", \"break\", \"break\", \"breeze\", \"brightness\", \"brother\", \"brother\", \"browse\", \"browse\", \"browse\", \"browser\", \"buck\", \"bulb\", \"bumper\", \"button\", \"button\", \"button\", \"buy\", \"buy\", \"buy\", \"buy\", \"buy\", \"buy\", \"buy\", \"buy\", \"buying\", \"buying\", \"call\", \"call\", \"call\", \"call\", \"camera\", \"camera\", \"camera\", \"camera\", \"camping\", \"card\", \"card\", \"card\", \"care\", \"carry\", \"carry\", \"cartoon\", \"case\", \"case\", \"case\", \"case\", \"case\", \"case\", \"charge\", \"charge\", \"charge\", \"charger\", \"child\", \"child\", \"child\", \"claim\", \"click\", \"coffee\", \"college\", \"college\", \"color\", \"color\", \"color\", \"color\", \"color\", \"color\", \"combination\", \"combine\", \"come\", \"come\", \"come\", \"come\", \"come\", \"come\", \"command\", \"command\", \"command\", \"communicate\", \"commute\", \"compare\", \"compare\", \"concept\", \"concern\", \"connect\", \"connect\", \"connect\", \"connectivity\", \"connectivity\", \"consider\", \"consider\", \"consumer\", \"content\", \"content\", \"control\", \"control\", \"control\", \"control\", \"control\", \"control\", \"control\", \"cook\", \"cost\", \"cost\", \"cost\", \"course\", \"cover\", \"cover\", \"cover\", \"cover\", \"crack\", \"credit\", \"customer\", \"customer\", \"customer\", \"damage\", \"date\", \"daughter\", \"daughter\", \"daughter\", \"daughter\", \"day\", \"day\", \"day\", \"day\", \"day\", \"deal\", \"deal\", \"deal\", \"deal\", \"deal\", \"deal\", \"deal\", \"deck\", \"decor\", \"desk\", \"device\", \"device\", \"device\", \"device\", \"device\", \"device\", \"device\", \"die\", \"dinner\", \"display\", \"display\", \"display\", \"display\", \"display\", \"distance\", \"distribute\", \"dollar\", \"dot\", \"dot\", \"downfall\", \"download\", \"download\", \"download\", \"download\", \"download\", \"download\", \"drain\", \"drawback\", \"drop\", \"drop\", \"drop\", \"drop\", \"drop\", \"e\", \"ease\", \"ease\", \"ease\", \"ease\", \"ebook\", \"ebook\", \"echo\", \"echo\", \"echos\", \"email\", \"email\", \"employee\", \"enjoy\", \"enjoy\", \"enjoy\", \"enjoy\", \"enjoy\", \"enjoy\", \"enjoye\", \"enlarge\", \"entertain\", \"entertain\", \"entertainment\", \"entertainment\", \"entertainment\", \"entry\", \"ereader\", \"evening\", \"exit\", \"expansion\", \"expect\", \"expect\", \"expect\", \"expense\", \"eye\", \"eye\", \"facebook\", \"facebook\", \"factory\", \"fail\", \"fall\", \"family\", \"family\", \"family\", \"family\", \"family\", \"family\", \"father\", \"feature\", \"feature\", \"feature\", \"feature\", \"feature\", \"feel\", \"feel\", \"feel\", \"feel\", \"feel\", \"fight\", \"filter\", \"find\", \"find\", \"find\", \"find\", \"find\", \"find\", \"find\", \"find\", \"fingertip\", \"finish\", \"fire\", \"fire\", \"fire\", \"fire\", \"fire\", \"fire\", \"fire\", \"flaw\", \"flight\", \"foam\", \"folder\", \"font\", \"format\", \"fraction\", \"frame\", \"friend\", \"friend\", \"friend\", \"friend\", \"friend\", \"fun\", \"fun\", \"fun\", \"fun\", \"fun\", \"fun\", \"fun\", \"function\", \"function\", \"function\", \"function\", \"function\", \"functionality\", \"functionality\", \"fundraiser\", \"future\", \"game\", \"game\", \"game\", \"game\", \"gaming\", \"garage\", \"gear\", \"generation\", \"generation\", \"generation\", \"get\", \"get\", \"get\", \"get\", \"get\", \"get\", \"get\", \"get\", \"get\", \"gift\", \"give\", \"give\", \"give\", \"give\", \"give\", \"give\", \"glitch\", \"go\", \"go\", \"go\", \"go\", \"go\", \"go\", \"go\", \"go\", \"go\", \"grandaughter\", \"grandchild\", \"granddaughter\", \"granddaughter\", \"granddaughter\", \"granddaughter\", \"grandkid\", \"grandma\", \"grandpa\", \"grandson\", \"grandson\", \"graphic\", \"group\", \"guarantee\", \"guest\", \"guy\", \"hand\", \"hand\", \"hand\", \"hand\", \"hand\", \"happen\", \"happen\", \"hassle\", \"hate\", \"hd\", \"hd\", \"hdx\", \"hearing\", \"hold\", \"hold\", \"hold\", \"hold\", \"home\", \"home\", \"home\", \"hour\", \"hour\", \"hour\", \"hour\", \"house\", \"household\", \"hub\", \"icon\", \"image\", \"impress\", \"improvement\", \"improvement\", \"improvement\", \"inch\", \"inch\", \"inch\", \"instruction\", \"intention\", \"interest\", \"internet\", \"internet\", \"internet\", \"internet\", \"ipad\", \"ipad\", \"ipad\", \"ipad\", \"ipad\", \"issue\", \"issue\", \"issue\", \"issue\", \"issue\", \"issue\", \"issue\", \"issue\", \"item\", \"item\", \"item\", \"item\", \"item\", \"item\", \"joke\", \"junk\", \"junk\", \"keep\", \"keep\", \"keep\", \"keep\", \"keep\", \"keep\", \"keep\", \"kid\", \"kid\", \"kid\", \"kid\", \"kid\", \"kindle\", \"kindle\", \"kindle\", \"kindle\", \"kindle\", \"kitchen\", \"lamp\", \"laptop\", \"laptop\", \"law\", \"learn\", \"learn\", \"learn\", \"learn\", \"learn\", \"level\", \"level\", \"lie\", \"life\", \"light\", \"light\", \"like\", \"like\", \"like\", \"limit\", \"limit\", \"limitation\", \"list\", \"list\", \"listen\", \"listen\", \"listen\", \"listen\", \"living\", \"locate\", \"log\", \"look\", \"look\", \"look\", \"look\", \"look\", \"look\", \"lot\", \"lot\", \"lot\", \"lot\", \"lot\", \"lot\", \"love\", \"love\", \"love\", \"love\", \"love\", \"love\", \"love\", \"love\", \"lyric\", \"m\", \"magazine\", \"magazine\", \"make\", \"make\", \"make\", \"make\", \"make\", \"make\", \"make\", \"make\", \"manual\", \"market\", \"meet\", \"meet\", \"memory\", \"memory\", \"memory\", \"mention\", \"mind\", \"mini\", \"mini\", \"mini\", \"mini\", \"miss\", \"mix\", \"mode\", \"mode\", \"model\", \"model\", \"model\", \"model\", \"mom\", \"mom\", \"mom\", \"monitoring\", \"morning\", \"mother\", \"move\", \"move\", \"move\", \"movie\", \"movie\", \"movie\", \"movie\", \"movie\", \"music\", \"music\", \"music\", \"name\", \"name\", \"name\", \"navigate\", \"navigate\", \"need\", \"need\", \"need\", \"need\", \"need\", \"need\", \"need\", \"need\", \"nephew\", \"netflix\", \"netflix\", \"news\", \"news\", \"nice\", \"niece\", \"night\", \"night\", \"nook\", \"note\", \"number\", \"number\", \"oasis\", \"occupy\", \"offer\", \"offer\", \"offer\", \"offer\", \"ok\", \"one\", \"one\", \"operate\", \"operate\", \"operate\", \"operate\", \"operate\", \"operating\", \"operating\", \"opinion\", \"option\", \"option\", \"option\", \"option\", \"option\", \"option\", \"option\", \"package\", \"pad\", \"pad\", \"page\", \"page\", \"pain\", \"paper\", \"paper\", \"paperwhite\", \"parent\", \"parent\", \"parent\", \"pdf\", \"performance\", \"performance\", \"pic\", \"pick\", \"pick\", \"pick\", \"picture\", \"picture\", \"picture\", \"picture\", \"picture\", \"pin\", \"planning\", \"play\", \"play\", \"play\", \"play\", \"play\", \"play\", \"playing\", \"playlist\", \"playstore\", \"pool\", \"port\", \"portability\", \"portability\", \"portable\", \"preloade\", \"present\", \"press\", \"prevent\", \"price\", \"price\", \"price\", \"price\", \"price\", \"price\", \"price\", \"price\", \"prime\", \"prime\", \"print\", \"problem\", \"problem\", \"problem\", \"problem\", \"problem\", \"processor\", \"processor\", \"processor\", \"product\", \"product\", \"product\", \"program\", \"program\", \"programming\", \"promise\", \"protect\", \"protect\", \"protect\", \"provide\", \"provide\", \"provide\", \"purchase\", \"purchase\", \"purchase\", \"purchase\", \"purchase\", \"purchase\", \"purchase\", \"purchasing\", \"purse\", \"push\", \"put\", \"put\", \"put\", \"put\", \"put\", \"put\", \"puzzle\", \"quality\", \"quality\", \"quality\", \"quality\", \"quality\", \"quality\", \"quality\", \"question\", \"question\", \"question\", \"quit\", \"ram\", \"rate\", \"read\", \"read\", \"read\", \"read\", \"read\", \"reader\", \"reader\", \"reader\", \"reading\", \"reading\", \"reading\", \"realize\", \"reboot\", \"recipe\", \"recipient\", \"recognition\", \"recommend\", \"recommend\", \"recommend\", \"recommend\", \"recommend\", \"recommend\", \"register\", \"repeat\", \"replace\", \"replace\", \"replace\", \"replace\", \"replace\", \"replacement\", \"replacement\", \"replacement\", \"require\", \"require\", \"require\", \"requirement\", \"resolution\", \"resolution\", \"resolution\", \"resolve\", \"respond\", \"respond\", \"restriction\", \"return\", \"return\", \"return\", \"ring\", \"road\", \"room\", \"room\", \"room\", \"root\", \"run\", \"run\", \"run\", \"run\", \"run\", \"run\", \"sale\", \"sale\", \"sale\", \"sale\", \"sale\", \"satisfy\", \"say\", \"say\", \"say\", \"say\", \"say\", \"say\", \"say\", \"scan\", \"screen\", \"screen\", \"screen\", \"screen\", \"screen\", \"screen\", \"screen\", \"screen\", \"security\", \"security\", \"security\", \"see\", \"see\", \"see\", \"see\", \"see\", \"see\", \"seem\", \"seem\", \"seem\", \"seem\", \"seem\", \"seem\", \"self\", \"sense\", \"service\", \"service\", \"service\", \"service\", \"set\", \"set\", \"set\", \"set\", \"set\", \"set\", \"set\", \"setup\", \"setup\", \"setup\", \"shop\", \"shop\", \"show\", \"show\", \"show\", \"siri\", \"size\", \"size\", \"size\", \"size\", \"size\", \"slot\", \"slow\", \"snap\", \"software\", \"software\", \"software\", \"son\", \"son\", \"son\", \"song\", \"sort\", \"sound\", \"sound\", \"sound\", \"speak\", \"speak\", \"speaker\", \"speaker\", \"speaker\", \"speaker\", \"speaker\", \"sport\", \"spot\", \"staff\", \"star\", \"star\", \"star\", \"star\", \"star\", \"star\", \"stay\", \"stay\", \"steal\", \"stock\", \"stock\", \"store\", \"store\", \"store\", \"store\", \"strain\", \"stream\", \"stream\", \"stuff\", \"stuff\", \"sunlight\", \"surf\", \"surfing\", \"tab\", \"tab\", \"tablet\", \"tablet\", \"tablet\", \"tablet\", \"tablet\", \"tablet\", \"take\", \"take\", \"take\", \"take\", \"take\", \"take\", \"talk\", \"talk\", \"tap\", \"technology\", \"technology\", \"technology\", \"teenager\", \"television\", \"term\", \"text\", \"text\", \"text\", \"thermostat\", \"thing\", \"thing\", \"thing\", \"thing\", \"thing\", \"thing\", \"thing\", \"think\", \"think\", \"think\", \"think\", \"think\", \"think\", \"thrill\", \"time\", \"time\", \"time\", \"time\", \"time\", \"time\", \"time\", \"time\", \"timer\", \"timer\", \"tool\", \"tool\", \"tool\", \"top\", \"touch\", \"touch\", \"touch\", \"touch\", \"touch\", \"touchscreen\", \"toy\", \"traffic\", \"trial\", \"trick\", \"trip\", \"trip\", \"trouble\", \"turn\", \"turn\", \"turn\", \"turn\", \"update\", \"update\", \"update\", \"update\", \"upgrade\", \"upgrade\", \"upgrade\", \"upgrade\", \"usage\", \"use\", \"use\", \"use\", \"use\", \"use\", \"use\", \"use\", \"use\", \"use\", \"user\", \"user\", \"user\", \"user\", \"user\", \"user\", \"value\", \"value\", \"value\", \"variety\", \"version\", \"version\", \"version\", \"version\", \"version\", \"version\", \"video\", \"video\", \"video\", \"video\", \"video\", \"video\", \"video\", \"volume\", \"voyage\", \"want\", \"want\", \"want\", \"want\", \"want\", \"want\", \"want\", \"want\", \"want\", \"warranty\", \"warranty\", \"watch\", \"watch\", \"watch\", \"watch\", \"way\", \"way\", \"way\", \"way\", \"way\", \"way\", \"way\", \"weather\", \"web\", \"web\", \"week\", \"week\", \"week\", \"weekend\", \"weight\", \"well\", \"wife\", \"wife\", \"wife\", \"wife\", \"wife\", \"wire\", \"wish\", \"wish\", \"wish\", \"wish\", \"wish\", \"work\", \"work\", \"work\", \"work\", \"work\", \"work\", \"work\", \"work\", \"world\", \"world\", \"year\", \"year\", \"year\", \"year\", \"youtube\", \"youtube\"]}, \"R\": 30, \"lambda.step\": 0.01, \"plot.opts\": {\"xlab\": \"PC1\", \"ylab\": \"PC2\"}, \"topic.order\": [6, 2, 7, 4, 9, 1, 3, 8, 5]};\n",
       "\n",
       "function LDAvis_load_lib(url, callback){\n",
       "  var s = document.createElement('script');\n",
       "  s.src = url;\n",
       "  s.async = true;\n",
       "  s.onreadystatechange = s.onload = callback;\n",
       "  s.onerror = function(){console.warn(\"failed to load library \" + url);};\n",
       "  document.getElementsByTagName(\"head\")[0].appendChild(s);\n",
       "}\n",
       "\n",
       "if(typeof(LDAvis) !== \"undefined\"){\n",
       "   // already loaded: just create the visualization\n",
       "   !function(LDAvis){\n",
       "       new LDAvis(\"#\" + \"ldavis_el1124028316680711045520733787\", ldavis_el1124028316680711045520733787_data);\n",
       "   }(LDAvis);\n",
       "}else if(typeof define === \"function\" && define.amd){\n",
       "   // require.js is available: use it to load d3/LDAvis\n",
       "   require.config({paths: {d3: \"https://d3js.org/d3.v5\"}});\n",
       "   require([\"d3\"], function(d3){\n",
       "      window.d3 = d3;\n",
       "      LDAvis_load_lib(\"https://cdn.jsdelivr.net/gh/bmabey/pyLDAvis@3.3.1/pyLDAvis/js/ldavis.v3.0.0.js\", function(){\n",
       "        new LDAvis(\"#\" + \"ldavis_el1124028316680711045520733787\", ldavis_el1124028316680711045520733787_data);\n",
       "      });\n",
       "    });\n",
       "}else{\n",
       "    // require.js not available: dynamically load d3 & LDAvis\n",
       "    LDAvis_load_lib(\"https://d3js.org/d3.v5.js\", function(){\n",
       "         LDAvis_load_lib(\"https://cdn.jsdelivr.net/gh/bmabey/pyLDAvis@3.3.1/pyLDAvis/js/ldavis.v3.0.0.js\", function(){\n",
       "                 new LDAvis(\"#\" + \"ldavis_el1124028316680711045520733787\", ldavis_el1124028316680711045520733787_data);\n",
       "            })\n",
       "         });\n",
       "}\n",
       "</script>"
      ],
      "text/plain": [
       "PreparedData(topic_coordinates=              x         y  topics  cluster       Freq\n",
       "topic                                                \n",
       "5     -0.181721  0.095093       1        1  19.986184\n",
       "1     -0.012631 -0.254411       2        1  12.952322\n",
       "6      0.061545 -0.025717       3        1  11.561675\n",
       "3     -0.018481 -0.042421       4        1  10.872198\n",
       "8      0.206353  0.102014       5        1  10.415210\n",
       "0     -0.234735  0.040141       6        1  10.251722\n",
       "2      0.137960 -0.039104       7        1   8.727011\n",
       "7     -0.013440 -0.025823       8        1   8.412974\n",
       "4      0.055149  0.150227       9        1   6.820704, topic_info=        Term         Freq        Total Category  logprob  loglift\n",
       "54   product   406.000000   406.000000  Default  30.0000  30.0000\n",
       "110     love  1135.000000  1135.000000  Default  29.0000  29.0000\n",
       "55       buy   818.000000   818.000000  Default  28.0000  28.0000\n",
       "46       use  1106.000000  1106.000000  Default  27.0000  27.0000\n",
       "121   kindle   515.000000   515.000000  Default  26.0000  26.0000\n",
       "..       ...          ...          ...      ...      ...      ...\n",
       "30        go    13.666496   222.982793   Topic9  -5.2028  -0.1069\n",
       "51    screen    13.813071   379.242893   Topic9  -5.1921  -0.6274\n",
       "101     ipad    12.222547    83.835474   Topic9  -5.3144   0.7596\n",
       "153    video    12.347486   230.996263   Topic9  -5.3043  -0.2437\n",
       "25       day    12.125525   127.640053   Topic9  -5.3224   0.3313\n",
       "\n",
       "[615 rows x 6 columns], token_table=      Topic      Freq     Term\n",
       "term                          \n",
       "108       1  0.181569  ability\n",
       "108       2  0.068088  ability\n",
       "108       4  0.249657  ability\n",
       "108       6  0.476618  ability\n",
       "0         7  0.612294   access\n",
       "...     ...       ...      ...\n",
       "89        5  0.355901     year\n",
       "89        7  0.359323     year\n",
       "89        8  0.085553     year\n",
       "368       1  0.939977  youtube\n",
       "368       7  0.046999  youtube\n",
       "\n",
       "[1117 rows x 3 columns], R=30, lambda_step=0.01, plot_opts={'xlab': 'PC1', 'ylab': 'PC2'}, topic_order=[6, 2, 7, 4, 9, 1, 3, 8, 5])"
      ]
     },
     "execution_count": 294,
     "metadata": {},
     "output_type": "execute_result"
    }
   ],
   "source": [
    "vis = pyLDAvis.gensim_models.prepare(best_lda_model, doc_term_mat, dct)\n",
    "vis"
   ]
  },
  {
   "cell_type": "markdown",
   "id": "bd0e09b8",
   "metadata": {},
   "source": [
    "`Displayed above we can see that the LDA algorithm dies a fair job separating the different topics`"
   ]
  },
  {
   "cell_type": "code",
   "execution_count": null,
   "id": "84c573c8",
   "metadata": {},
   "outputs": [],
   "source": []
  }
 ],
 "metadata": {
  "kernelspec": {
   "display_name": "Python 3 (ipykernel)",
   "language": "python",
   "name": "python3"
  },
  "language_info": {
   "codemirror_mode": {
    "name": "ipython",
    "version": 3
   },
   "file_extension": ".py",
   "mimetype": "text/x-python",
   "name": "python",
   "nbconvert_exporter": "python",
   "pygments_lexer": "ipython3",
   "version": "3.8.8"
  }
 },
 "nbformat": 4,
 "nbformat_minor": 5
}
